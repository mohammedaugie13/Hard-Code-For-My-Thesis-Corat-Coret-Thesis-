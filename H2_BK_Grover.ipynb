{
 "cells": [
  {
   "cell_type": "code",
   "execution_count": 1,
   "metadata": {},
   "outputs": [],
   "source": [
    "from pyquil.quil import Program\n",
    "import pyquil.api as api\n",
    "from pyquil.gates import *\n",
    "qvm = api.QVMConnection()\n",
    "from pyquil.api import get_qc"
   ]
  },
  {
   "cell_type": "code",
   "execution_count": 20,
   "metadata": {},
   "outputs": [],
   "source": [
    "def h2_bk(x,y):\n",
    "    return Program(X(0),X(1),H(0),RX(1.57,2),CNOT(0,1),CNOT(1,2),RZ(x,2),\n",
    "                  CNOT(1,2),CNOT(0,1),H(0),RX(-1.57,2),\n",
    "                  H(0),RX(1.57,2),CNOT(0,1),CNOT(1,2),CNOT(2,3),RZ(x,3),CNOT(2,3),CNOT(1,2),CNOT(0,1),H(0),RX(-1.57,2)\n",
    "                  ,H(0),RX(1.57,2),CNOT(0,2),RZ(x,2),CNOT(0,2),H(0),RX(-1.57,2),\n",
    "                  H(0),RX(1.57,2),CNOT(0,2),CNOT(2,3),RZ(x,3),CNOT(2,3),CNOT(0,2),H(0),RX(-1.57,2),\n",
    "                  RX(1.57,0),H(2),CNOT(0,1),CNOT(1,2),RZ(y,2),CNOT(1,2),CNOT(0,1),RX(-1.57,0),H(2)\n",
    "                  ,RX(1.57,0),H(2),CNOT(0,1),CNOT(1,2),CNOT(2,3),RZ(y,3),CNOT(2,3),CNOT(1,2),CNOT(0,1),RX(-1.57,0),H(2),\n",
    "                  RX(1.57,0),H(2),CNOT(0,2),RZ(y,2),CNOT(0,2),RX(-1.57,0),H(2),\n",
    "                  RX(1.57,0),H(2),CNOT(0,2),CNOT(2,3),RZ(y,3),CNOT(2,3),CNOT(0,2),RX(-1.57,0),H(2))"
   ]
  },
  {
   "cell_type": "code",
   "execution_count": 39,
   "metadata": {},
   "outputs": [],
   "source": [
    "def h2_bk1(x):\n",
    "    return Program(X(0),X(1),H(0),RX(1.57,2),CNOT(0,1),CNOT(1,2),RZ(x[0],2),\n",
    "                  CNOT(1,2),CNOT(0,1),H(0),RX(-1.57,2),\n",
    "                  H(0),RX(1.57,2),CNOT(0,1),CNOT(1,2),CNOT(2,3),RZ(x[0],3),CNOT(2,3),CNOT(1,2),CNOT(0,1),H(0),RX(-1.57,2)\n",
    "                  ,H(0),RX(1.57,2),CNOT(0,2),RZ(x[0],2),CNOT(0,2),H(0),RX(-1.57,2),\n",
    "                  H(0),RX(1.57,2),CNOT(0,2),CNOT(2,3),RZ(x[0],3),CNOT(2,3),CNOT(0,2),H(0),RX(-1.57,2),\n",
    "                  RX(1.57,0),H(2),CNOT(0,1),CNOT(1,2),RZ(x[1],2),CNOT(1,2),CNOT(0,1),RX(-1.57,0),H(2)\n",
    "                  ,RX(1.57,0),H(2),CNOT(0,1),CNOT(1,2),CNOT(2,3),RZ(x[1],3),CNOT(2,3),CNOT(1,2),CNOT(0,1),RX(-1.57,0),H(2),\n",
    "                  RX(1.57,0),H(2),CNOT(0,2),RZ(x[1],2),CNOT(0,2),RX(-1.57,0),H(2),\n",
    "                  RX(1.57,0),H(2),CNOT(0,2),CNOT(2,3),RZ(x[1],3),CNOT(2,3),CNOT(0,2),RX(-1.57,0),H(2))"
   ]
  },
  {
   "cell_type": "code",
   "execution_count": 21,
   "metadata": {},
   "outputs": [
    {
     "name": "stdout",
     "output_type": "stream",
     "text": [
      "X 0\n",
      "X 1\n",
      "H 0\n",
      "RX(1.57) 2\n",
      "CNOT 0 1\n",
      "CNOT 1 2\n",
      "RZ(1) 2\n",
      "CNOT 1 2\n",
      "CNOT 0 1\n",
      "H 0\n",
      "RX(-1.57) 2\n",
      "H 0\n",
      "RX(1.57) 2\n",
      "CNOT 0 1\n",
      "CNOT 1 2\n",
      "CNOT 2 3\n",
      "RZ(1) 3\n",
      "CNOT 2 3\n",
      "CNOT 1 2\n",
      "CNOT 0 1\n",
      "H 0\n",
      "RX(-1.57) 2\n",
      "H 0\n",
      "RX(1.57) 2\n",
      "CNOT 0 2\n",
      "RZ(1) 2\n",
      "CNOT 0 2\n",
      "H 0\n",
      "RX(-1.57) 2\n",
      "H 0\n",
      "RX(1.57) 2\n",
      "CNOT 0 2\n",
      "CNOT 2 3\n",
      "RZ(1) 3\n",
      "CNOT 2 3\n",
      "CNOT 0 2\n",
      "H 0\n",
      "RX(-1.57) 2\n",
      "RX(1.57) 0\n",
      "H 2\n",
      "CNOT 0 1\n",
      "CNOT 1 2\n",
      "RZ(2) 2\n",
      "CNOT 1 2\n",
      "CNOT 0 1\n",
      "RX(-1.57) 0\n",
      "H 2\n",
      "RX(1.57) 0\n",
      "H 2\n",
      "CNOT 0 1\n",
      "CNOT 1 2\n",
      "CNOT 2 3\n",
      "RZ(2) 3\n",
      "CNOT 2 3\n",
      "CNOT 1 2\n",
      "CNOT 0 1\n",
      "RX(-1.57) 0\n",
      "H 2\n",
      "RX(1.57) 0\n",
      "H 2\n",
      "CNOT 0 2\n",
      "RZ(2) 2\n",
      "CNOT 0 2\n",
      "RX(-1.57) 0\n",
      "H 2\n",
      "RX(1.57) 0\n",
      "H 2\n",
      "CNOT 0 2\n",
      "CNOT 2 3\n",
      "RZ(2) 3\n",
      "CNOT 2 3\n",
      "CNOT 0 2\n",
      "RX(-1.57) 0\n",
      "H 2\n",
      "\n"
     ]
    }
   ],
   "source": [
    "print(h2_bk(1,2))"
   ]
  },
  {
   "cell_type": "code",
   "execution_count": 40,
   "metadata": {},
   "outputs": [],
   "source": [
    "import numpy as np\n",
    "from openfermion.transforms import get_sparse_operator\n",
    "from openfermion.utils import pauli_exp_to_qasm\n",
    "from openfermion.ops import QubitOperator\n",
    "from openfermion.transforms import get_fermion_operator, jordan_wigner, bravyi_kitaev\n",
    "from pyscf import ci\n",
    "from pyscf import mp\n",
    "from openfermionpyscf import run_pyscf\n",
    "from openfermion.hamiltonians import MolecularData\n",
    "import os\n",
    "\n",
    "from numpy import array, concatenate, zeros\n",
    "from numpy.random import randn\n",
    "from scipy.optimize import minimize\n",
    "\n",
    "from openfermion.config import *\n",
    "\n",
    "from openfermion.hamiltonians import MolecularData\n",
    "from openfermion.transforms import jordan_wigner\n",
    "from openfermion.utils import uccsd_singlet_paramsize"
   ]
  },
  {
   "cell_type": "code",
   "execution_count": 41,
   "metadata": {},
   "outputs": [
    {
     "name": "stdout",
     "output_type": "stream",
     "text": [
      "-1.1372703406409188\n"
     ]
    }
   ],
   "source": [
    "geometry = [[\"H\", [0, 0, 0]],\n",
    "            [\"H\", [0, 0, 0.7414]]]\n",
    "basis = \"sto-3g\"\n",
    "multiplicity = 1\n",
    "charge = 0\n",
    "molecule = MolecularData(geometry, basis, multiplicity, charge)\n",
    "h2_molecule = run_pyscf(molecule, run_mp2=True, run_cisd=True, run_ccsd=True, run_fci=True)\n",
    "print(molecule.ccsd_energy)"
   ]
  },
  {
   "cell_type": "code",
   "execution_count": 52,
   "metadata": {},
   "outputs": [
    {
     "name": "stdout",
     "output_type": "stream",
     "text": [
      "(-0.09886396933545721+0j) [] +\n",
      "(0.04532220205287401+0j) [X0 Z1 X2] +\n",
      "(0.04532220205287401+0j) [X0 Z1 X2 Z3] +\n",
      "(0.04532220205287401+0j) [Y0 Z1 Y2] +\n",
      "(0.04532220205287401+0j) [Y0 Z1 Y2 Z3] +\n",
      "(0.17119774903432944+0j) [Z0] +\n",
      "(0.17119774903432936+0j) [Z0 Z1] +\n",
      "(0.165867024105892+0j) [Z0 Z1 Z2] +\n",
      "(0.165867024105892+0j) [Z0 Z1 Z2 Z3] +\n",
      "(0.120544822053018+0j) [Z0 Z2] +\n",
      "(0.120544822053018+0j) [Z0 Z2 Z3] +\n",
      "(0.16862219158920938+0j) [Z1] +\n",
      "(-0.22278593040418496+0j) [Z1 Z2 Z3] +\n",
      "(0.17434844185575687+0j) [Z1 Z3] +\n",
      "(-0.22278593040418498+0j) [Z2]\n",
      "(-0.09886396933545721+0j)*I + (0.17119774903432944+0j)*Z0 + (0.17119774903432936+0j)*Z0*Z1 + (-0.22278593040418498+0j)*Z2 + (-0.22278593040418496+0j)*Z1*Z2*Z3 + (0.16862219158920938+0j)*Z1 + (0.04532220205287401+0j)*Y0*Z1*Y2*Z3 + (0.04532220205287401+0j)*X0*Z1*X2 + (0.04532220205287401+0j)*X0*Z1*X2*Z3 + (0.04532220205287401+0j)*Y0*Z1*Y2 + (0.120544822053018+0j)*Z0*Z2 + (0.165867024105892+0j)*Z0*Z1*Z2*Z3 + (0.165867024105892+0j)*Z0*Z1*Z2 + (0.120544822053018+0j)*Z0*Z2*Z3 + (0.17434844185575687+0j)*Z1*Z3\n"
     ]
    }
   ],
   "source": [
    "import openfermionpyscf as ofpyscf\n",
    "from openfermion.ops import QubitOperator\n",
    "from forestopenfermion import pyquilpauli_to_qubitop, qubitop_to_pyquilpauli\n",
    "hamiltonian = ofpyscf.generate_molecular_hamiltonian(\n",
    "    geometry, basis, multiplicity, charge)\n",
    "hamiltonian_fermion=get_fermion_operator(hamiltonian)\n",
    "qubit_operator=bravyi_kitaev(hamiltonian_fermion)\n",
    "hamiltonian1=qubitop_to_pyquilpauli(qubit_operator)\n",
    "hamiltonian2=jordan_wigner(hamiltonian)\n",
    "qubit_operator2=qubitop_to_pyquilpauli(hamiltonian2)\n",
    "print(qubit_operator)\n",
    "print(hamiltonian1)"
   ]
  },
  {
   "cell_type": "code",
   "execution_count": 43,
   "metadata": {},
   "outputs": [],
   "source": [
    "from grove.pyvqe.vqe import VQE\n",
    "from scipy.optimize import minimize\n",
    "import numpy as np\n",
    "\n",
    "vqe_inst = VQE(minimizer=minimize,minimizer_kwargs={'method': 'nelder-mead'})"
   ]
  },
  {
   "cell_type": "code",
   "execution_count": 37,
   "metadata": {},
   "outputs": [
    {
     "name": "stdout",
     "output_type": "stream",
     "text": [
      "[-0.3511901986746755, -0.3511901986746755, -0.3511901986746755, -0.3511901986746755, -0.3511901986746755, -0.3511901986746755, -0.3511901986746755, -0.3511901986746755, -0.3511901986746755, -0.3511901986746755, -0.3511901986746755, -0.3511901986746755, -0.3511901986746755, -0.3511901986746755, -0.3511901986746755, -0.3511901986746755, -0.3511901986746755, -0.3511901986746755, -0.3511901986746755, -0.3511901986746755, -0.3511901986746755, -0.3511901986746755, -0.3511901986746755, -0.3511901986746755, -0.3511901986746755, -0.3511901986746755, -0.3511901986746755, -0.3511901986746755, -0.3511901986746755, -0.3511901986746755, -0.3511901986746755, -0.3511901986746755, -0.3511901986746755, -0.3511901986746755, -0.3511901986746755, -0.3511901986746755, -0.3511901986746755, -0.3511901986746755, -0.3511901986746755, -0.3511901986746755, -0.3511901986746755, -0.3511901986746755, -0.3511901986746755, -0.3511901986746755, -0.3511901986746755, -0.3511901986746755, -0.3511901986746755, -0.3511901986746755, -0.3511901986746755, -0.3511901986746755]\n"
     ]
    }
   ],
   "source": [
    "a = np.linspace(2, 2)\n",
    "b = np.linspace(2, 2)\n",
    "\n",
    "\n",
    "\n",
    "#hasil1=[vqe_inst.expectation(small_ansatz1(x,y), hamiltonian1, 1000, qvm) for x in range a]\n",
    "#print(hasil1)\n",
    "data = [vqe_inst.expectation(h2_bk(x,y), hamiltonian1, None, qvm)for x, y in zip(a, b)]\n",
    "#data2=vqe_inst.expectation(small_ansatz1(ag,bg), hamiltonian1, None, qvm)\n",
    "print(data)"
   ]
  },
  {
   "cell_type": "code",
   "execution_count": 53,
   "metadata": {},
   "outputs": [
    {
     "name": "stdout",
     "output_type": "stream",
     "text": [
      "WARNING: Fast method for expectation will be used. Noise\n",
      "                     models will be ineffective\n",
      "{'x': array([0., 0.]), 'fun': -1.116684387085339}\n"
     ]
    }
   ],
   "source": [
    "angle=[0,0]\n",
    "result = vqe_inst.vqe_run(h2_bk1, qubit_operator2, angle, None, qvm=qvm)\n",
    "print(result)"
   ]
  },
  {
   "cell_type": "code",
   "execution_count": null,
   "metadata": {},
   "outputs": [],
   "source": []
  }
 ],
 "metadata": {
  "kernelspec": {
   "display_name": "Python 3",
   "language": "python",
   "name": "python3"
  },
  "language_info": {
   "codemirror_mode": {
    "name": "ipython",
    "version": 3
   },
   "file_extension": ".py",
   "mimetype": "text/x-python",
   "name": "python",
   "nbconvert_exporter": "python",
   "pygments_lexer": "ipython3",
   "version": "3.6.8"
  }
 },
 "nbformat": 4,
 "nbformat_minor": 4
}
