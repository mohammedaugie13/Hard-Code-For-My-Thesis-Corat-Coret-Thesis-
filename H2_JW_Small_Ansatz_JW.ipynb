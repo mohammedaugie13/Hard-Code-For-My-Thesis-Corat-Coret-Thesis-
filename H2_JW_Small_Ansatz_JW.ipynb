{
 "cells": [
  {
   "cell_type": "code",
   "execution_count": 1,
   "metadata": {},
   "outputs": [],
   "source": [
    "import openfermionpyscf as ofpyscf\n",
    "import openfermion as of\n",
    "import cirq\n",
    "import openfermioncirq as ofc\n",
    "import numpy as np\n",
    "import pyscf"
   ]
  },
  {
   "cell_type": "code",
   "execution_count": 2,
   "metadata": {},
   "outputs": [
    {
     "name": "stdout",
     "output_type": "stream",
     "text": [
      "-0.0988639693354571 [] +\n",
      "-0.045322202052874 [X0 X1 Y2 Y3] +\n",
      "0.045322202052874 [X0 Y1 Y2 X3] +\n",
      "0.045322202052874 [Y0 X1 X2 Y3] +\n",
      "-0.045322202052874 [Y0 Y1 X2 X3] +\n",
      "0.17119774903432944 [Z0] +\n",
      "0.16862219158920938 [Z0 Z1] +\n",
      "0.120544822053018 [Z0 Z2] +\n",
      "0.165867024105892 [Z0 Z3] +\n",
      "0.17119774903432947 [Z1] +\n",
      "0.165867024105892 [Z1 Z2] +\n",
      "0.120544822053018 [Z1 Z3] +\n",
      "-0.22278593040418496 [Z2] +\n",
      "0.17434844185575687 [Z2 Z3] +\n",
      "-0.22278593040418496 [Z3]\n"
     ]
    }
   ],
   "source": [
    "from openfermion.transforms import get_fermion_operator, jordan_wigner, bravyi_kitaev\n",
    "geometry = [[\"H\", [0, 0, 0]],\n",
    "            [\"H\", [0, 0, 0.7414]]]\n",
    "basis = \"sto-3g\"\n",
    "multiplicity = 1\n",
    "charge = 0\n",
    "hamiltonian = ofpyscf.generate_molecular_hamiltonian(geometry, basis, multiplicity, charge)\n",
    "hamiltonian_jw = jordan_wigner(hamiltonian)\n",
    "print(hamiltonian_jw)"
   ]
  },
  {
   "cell_type": "code",
   "execution_count": 3,
   "metadata": {},
   "outputs": [],
   "source": [
    "from openfermion.hamiltonians import MolecularData\n",
    "molecule = MolecularData(geometry, basis, multiplicity, charge)\n",
    "h2_molecule = ofpyscf.run_pyscf(molecule, run_mp2=True, run_cisd=True, run_ccsd=True, run_fci=True)\n",
    "elektron=h2_molecule.n_electrons\n",
    "orbitals = h2_molecule.n_orbitals\n",
    "qubit= h2_molecule.n_qubits"
   ]
  },
  {
   "cell_type": "code",
   "execution_count": 4,
   "metadata": {},
   "outputs": [
    {
     "name": "stdout",
     "output_type": "stream",
     "text": [
      "-0.05677 [0^ 2 1^ 3] +\n",
      "-0.05677 [1^ 3 0^ 2] +\n",
      "0.05677 [2^ 0 3^ 1] +\n",
      "0.05677 [3^ 1 2^ 0]\n"
     ]
    }
   ],
   "source": [
    "from openfermion.utils import uccsd_singlet_generator\n",
    "initial_amplitudes = np.linspace(0,0.05677,2)\n",
    "#membuat ansatz UCCSD\n",
    "uccsd_fermion=uccsd_singlet_generator(initial_amplitudes,qubit,elektron)\n",
    "print(uccsd_fermion)"
   ]
  },
  {
   "cell_type": "code",
   "execution_count": 5,
   "metadata": {},
   "outputs": [
    {
     "name": "stdout",
     "output_type": "stream",
     "text": [
      "-0.0141925j [X0 X1 X2 Y3] +\n",
      "-0.0141925j [X0 X1 Y2 X3] +\n",
      "0.0141925j [X0 Y1 X2 X3] +\n",
      "-0.0141925j [X0 Y1 Y2 Y3] +\n",
      "0.0141925j [Y0 X1 X2 X3] +\n",
      "-0.0141925j [Y0 X1 Y2 Y3] +\n",
      "0.0141925j [Y0 Y1 X2 Y3] +\n",
      "0.0141925j [Y0 Y1 Y2 X3]\n"
     ]
    }
   ],
   "source": [
    "# ansatz dirubah dari fermion operator menjadi qubit operator\n",
    "uccsd_jw=jordan_wigner(uccsd_fermion)\n",
    "print(uccsd_jw)"
   ]
  },
  {
   "cell_type": "code",
   "execution_count": 6,
   "metadata": {},
   "outputs": [],
   "source": [
    "class MyAnsatz(ofc.VariationalAnsatz):\n",
    "\n",
    "    def params(self):\n",
    "        \"\"\"The parameters of the ansatz.\"\"\"\n",
    "        return [cirq.Symbol('theta_0')]\n",
    "\n",
    "    def operations(self, qubits):\n",
    "        \"\"\"Produce the operations of the ansatz circuit.\"\"\"\n",
    "        q0, q1, q2, q3 = qubits\n",
    "        yield cirq.H(q0), cirq.H(q1), cirq.H(q2)\n",
    "        yield cirq.XPowGate(exponent=-0.5).on(q3)\n",
    "\n",
    "        yield cirq.CNOT(q0, q1), cirq.CNOT(q1, q2), cirq.CNOT(q2, q3)\n",
    "        yield cirq.ZPowGate(exponent=cirq.Symbol('theta_0')).on(q3)\n",
    "        yield cirq.CNOT(q2, q3), cirq.CNOT(q1, q2), cirq.CNOT(q0, q1)\n",
    "\n",
    "        yield cirq.H(q0), cirq.H(q1), cirq.H(q2)\n",
    "        yield cirq.XPowGate(exponent=0.5).on(q3)\n",
    "\n",
    "    def _generate_qubits(self):\n",
    "        \"\"\"Produce qubits that can be used by the ansatz circuit.\"\"\"\n",
    "        return cirq.LineQubit.range(4)"
   ]
  },
  {
   "cell_type": "code",
   "execution_count": 7,
   "metadata": {},
   "outputs": [
    {
     "name": "stdout",
     "output_type": "stream",
     "text": [
      "0: ───H────────@───────────────────────────────────@───H───\n",
      "               │                                   │\n",
      "1: ───H────────X───@───────────────────────@───────X───H───\n",
      "                   │                       │\n",
      "2: ───H────────────X───@───────────────@───X───────H───────\n",
      "                       │               │\n",
      "3: ───X^-0.5───────────X───Z^theta_0───X───X^0.5───────────\n"
     ]
    }
   ],
   "source": [
    "ansatz = MyAnsatz()\n",
    "print(ansatz.circuit)"
   ]
  },
  {
   "cell_type": "code",
   "execution_count": 10,
   "metadata": {},
   "outputs": [
    {
     "name": "stdout",
     "output_type": "stream",
     "text": [
      "0: ───X───H────────@───────────────────────────────────@───H───\n",
      "                   │                                   │\n",
      "1: ───X───H────────X───@───────────────────────@───────X───H───\n",
      "                       │                       │\n",
      "2: ───────H────────────X───@───────────────@───X───────H───────\n",
      "                           │               │\n",
      "3: ───────X^-0.5───────────X───Z^theta_0───X───X^0.5───────────\n"
     ]
    }
   ],
   "source": [
    "\n",
    "# Define the objective function\n",
    "objective = ofc.HamiltonianObjective(hamiltonian_jw)\n",
    "\n",
    "# Create preparation circuit\n",
    "q0, q1, _, _ = ansatz.qubits\n",
    "preparation_circuit = cirq.Circuit.from_ops(cirq.X(q0), cirq.X(q1))\n",
    "\n",
    "# Create variational study\n",
    "study = ofc.VariationalStudy(\n",
    "    name='my_hydrogen_study',\n",
    "    ansatz=ansatz,\n",
    "    objective=objective,\n",
    "    preparation_circuit=preparation_circuit)\n",
    "\n",
    "print(study.circuit)"
   ]
  },
  {
   "cell_type": "code",
   "execution_count": 11,
   "metadata": {},
   "outputs": [
    {
     "name": "stdout",
     "output_type": "stream",
     "text": [
      "Value of initial guess: -1.1166843870853402\n",
      "Optimization terminated successfully.\n",
      "         Current function value: -1.137270\n",
      "         Iterations: 17\n",
      "         Function evaluations: 34\n",
      "Optimized value: -1.1372701732818402\n",
      "[0.072]\n"
     ]
    }
   ],
   "source": [
    "# Choose an initial guess\n",
    "initial_guess = [0.0]\n",
    "print('Value of initial guess: {}'.format(study.value_of(initial_guess)))\n",
    "\n",
    "# Choose an algorithm\n",
    "algorithm = ofc.optimization.ScipyOptimizationAlgorithm(\n",
    "    kwargs={'method': 'nelder-mead'},\n",
    "    options={'maxiter': 100,'disp':True})\n",
    "\n",
    "# Create OptimizationParams object\n",
    "optimization_params = ofc.optimization.OptimizationParams(\n",
    "    algorithm=algorithm,\n",
    "    initial_guess=initial_guess)\n",
    "\n",
    "# Run optimization\n",
    "result = study.optimize(optimization_params)\n",
    "print('Optimized value: {}'.format(result.optimal_value))\n",
    "print(result.optimal_parameters)"
   ]
  },
  {
   "cell_type": "code",
   "execution_count": 12,
   "metadata": {},
   "outputs": [
    {
     "name": "stdout",
     "output_type": "stream",
     "text": [
      "[-1.022097196868859, -1.0273732045432302, -1.032534337322288, -1.0375797465989374, -1.0425086027936483, -1.0473200954908573, -1.0520134335722156, -1.0565878453466704, -1.061042578677345, -1.065376901105211, -1.0695900999695165, -1.0736814825249683, -1.0776503760556302, -1.081496127985538, -1.0852181059859929, -1.0888156980795336, -1.092288312740559, -1.0956353789925861, -1.0988563465021353, -1.101950685669214, -1.1049178877143966, -1.1077574647624797, -1.1104689499226996, -1.1130518973654977, -1.1155058823958288, -1.1178305015229868, -1.1200253725269502, -1.122090134521227, -1.1240244480121913, -1.1258279949549068, -1.1275004788054177, -1.1290416245695074, -1.1304511788479163, -1.1317289098780043, -1.1328746075718577, -1.133888083550832, -1.1347691711765295, -1.1355177255781927, -1.1361336236765287, -1.136616764203943, -1.136967067721195, -1.1371844766304524, -1.137268955184769, -1.1372204894939566, -1.137039087526873, -1.1367247791101087, -1.1362776159230847, -1.1356976714895541, -1.1349850411655134, -1.1341398421235247]\n"
     ]
    }
   ],
   "source": [
    "import numpy as np\n",
    "E=[]\n",
    "thetas = np.linspace(-0.1,0.1,50)\n",
    "for t in thetas:\n",
    "    E.append(study.value_of([t]))\n",
    "print(E)"
   ]
  },
  {
   "cell_type": "code",
   "execution_count": 25,
   "metadata": {},
   "outputs": [
    {
     "ename": "NameError",
     "evalue": "name 'optimize' is not defined",
     "output_type": "error",
     "traceback": [
      "\u001b[0;31m---------------------------------------------------------------------------\u001b[0m",
      "\u001b[0;31mNameError\u001b[0m                                 Traceback (most recent call last)",
      "\u001b[0;32m<ipython-input-25-91800fc21011>\u001b[0m in \u001b[0;36m<module>\u001b[0;34m\u001b[0m\n\u001b[0;32m----> 1\u001b[0;31m \u001b[0mg\u001b[0m\u001b[0;34m=\u001b[0m\u001b[0mofc\u001b[0m\u001b[0;34m.\u001b[0m\u001b[0moptimization\u001b[0m\u001b[0;34m.\u001b[0m\u001b[0mOptimizationAlgorithm\u001b[0m\u001b[0;34m(\u001b[0m\u001b[0moptimize\u001b[0m\u001b[0;34m)\u001b[0m\u001b[0;34m\u001b[0m\u001b[0;34m\u001b[0m\u001b[0m\n\u001b[0m\u001b[1;32m      2\u001b[0m \u001b[0mg\u001b[0m\u001b[0;34m.\u001b[0m\u001b[0mfunction_values\u001b[0m\u001b[0;34m\u001b[0m\u001b[0;34m\u001b[0m\u001b[0m\n",
      "\u001b[0;31mNameError\u001b[0m: name 'optimize' is not defined"
     ]
    }
   ],
   "source": [
    "g=ofc.optimization.OptimizationAlgorithm(optimize)\n",
    "g.function_values"
   ]
  },
  {
   "cell_type": "code",
   "execution_count": 21,
   "metadata": {},
   "outputs": [
    {
     "data": {
      "text/plain": [
       "<matplotlib.collections.PathCollection at 0x7f1881c33f98>"
      ]
     },
     "execution_count": 21,
     "metadata": {},
     "output_type": "execute_result"
    },
    {
     "data": {
      "image/png": "[encoded data removed]",
      "text/plain": [
       "<Figure size 432x288 with 1 Axes>"
      ]
     },
     "metadata": {
      "needs_background": "light"
     },
     "output_type": "display_data"
    }
   ],
   "source": [
    "import matplotlib.pyplot as plt\n",
    "plt.figure()\n",
    "plt.grid\n",
    "plt.plot(thetas,E)\n",
    "plt.scatter(result.optimal_parameters,result.optimal_value,color='lightgreen',marker='*')"
   ]
  },
  {
   "cell_type": "code",
   "execution_count": 10,
   "metadata": {},
   "outputs": [
    {
     "name": "stdout",
     "output_type": "stream",
     "text": [
      "Value of initial guess: -1.1166843870853402\n",
      "Optimization terminated successfully.    (Exit mode 0)\n",
      "            Current function value: -1.1372701472322135\n",
      "            Iterations: 3\n",
      "            Function evaluations: 10\n",
      "            Gradient evaluations: 3\n",
      "Optimized value: -1.1372701472322135\n"
     ]
    }
   ],
   "source": [
    "# Choose an initial guess\n",
    "initial_guess = [0.0]\n",
    "print('Value of initial guess: {}'.format(study.value_of(initial_guess)))\n",
    "\n",
    "# Choose an algorithm\n",
    "algorithm = ofc.optimization.ScipyOptimizationAlgorithm(\n",
    "    kwargs={'method': 'SLSQP'},\n",
    "    options={'maxiter': 100,'disp':True})\n",
    "\n",
    "# Create OptimizationParams object\n",
    "optimization_params = ofc.optimization.OptimizationParams(\n",
    "    algorithm=algorithm,\n",
    "    initial_guess=initial_guess)\n",
    "\n",
    "# Run optimization\n",
    "result = study.optimize(optimization_params)\n",
    "print('Optimized value: {}'.format(result.optimal_value))"
   ]
  },
  {
   "cell_type": "code",
   "execution_count": 11,
   "metadata": {},
   "outputs": [
    {
     "name": "stdout",
     "output_type": "stream",
     "text": [
      "Value of initial guess: -1.1166843870853402\n",
      "Optimization terminated successfully.\n",
      "         Current function value: -1.137270\n",
      "         Iterations: 2\n",
      "         Function evaluations: 24\n",
      "Optimized value: -1.1372701746603915\n"
     ]
    }
   ],
   "source": [
    "# Choose an initial guess\n",
    "initial_guess = [0.0]\n",
    "print('Value of initial guess: {}'.format(study.value_of(initial_guess)))\n",
    "\n",
    "# Choose an algorithm\n",
    "algorithm = ofc.optimization.ScipyOptimizationAlgorithm(\n",
    "    kwargs={'method': 'Powell'},\n",
    "    options={'maxiter': 100,'disp':True})\n",
    "\n",
    "# Create OptimizationParams object\n",
    "optimization_params = ofc.optimization.OptimizationParams(\n",
    "    algorithm=algorithm,\n",
    "    initial_guess=initial_guess)\n",
    "\n",
    "# Run optimization\n",
    "result = study.optimize(optimization_params)\n",
    "print('Optimized value: {}'.format(result.optimal_value))"
   ]
  },
  {
   "cell_type": "code",
   "execution_count": null,
   "metadata": {},
   "outputs": [],
   "source": []
  }
 ],
 "metadata": {
  "kernelspec": {
   "display_name": "Python 3",
   "language": "python",
   "name": "python3"
  },
  "language_info": {
   "codemirror_mode": {
    "name": "ipython",
    "version": 3
   },
   "file_extension": ".py",
   "mimetype": "text/x-python",
   "name": "python",
   "nbconvert_exporter": "python",
   "pygments_lexer": "ipython3",
   "version": "3.6.8"
  }
 },
 "nbformat": 4,
 "nbformat_minor": 4
}
