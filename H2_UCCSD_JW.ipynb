{
 "cells": [
  {
   "cell_type": "code",
   "execution_count": 1,
   "metadata": {},
   "outputs": [],
   "source": [
    "import openfermionpyscf as ofpyscf\n",
    "import openfermion as of\n",
    "import cirq\n",
    "import openfermioncirq as ofc\n",
    "import numpy as np\n",
    "import pyscf"
   ]
  },
  {
   "cell_type": "code",
   "execution_count": 2,
   "metadata": {},
   "outputs": [
    {
     "name": "stdout",
     "output_type": "stream",
     "text": [
      "-0.0988639693354571 [] +\n",
      "-0.045322202052874 [X0 X1 Y2 Y3] +\n",
      "0.045322202052874 [X0 Y1 Y2 X3] +\n",
      "0.045322202052874 [Y0 X1 X2 Y3] +\n",
      "-0.045322202052874 [Y0 Y1 X2 X3] +\n",
      "0.17119774903432944 [Z0] +\n",
      "0.16862219158920938 [Z0 Z1] +\n",
      "0.120544822053018 [Z0 Z2] +\n",
      "0.165867024105892 [Z0 Z3] +\n",
      "0.17119774903432947 [Z1] +\n",
      "0.165867024105892 [Z1 Z2] +\n",
      "0.120544822053018 [Z1 Z3] +\n",
      "-0.22278593040418496 [Z2] +\n",
      "0.17434844185575687 [Z2 Z3] +\n",
      "-0.22278593040418496 [Z3]\n"
     ]
    }
   ],
   "source": [
    "from openfermion.transforms import get_fermion_operator, jordan_wigner, bravyi_kitaev\n",
    "geometry = [[\"H\", [0, 0, 0]],\n",
    "            [\"H\", [0, 0, 0.7414]]]\n",
    "basis = \"sto-3g\"\n",
    "multiplicity = 1\n",
    "charge = 0\n",
    "hamiltonian = ofpyscf.generate_molecular_hamiltonian(geometry, basis, multiplicity, charge)\n",
    "hamiltonian_jw = jordan_wigner(hamiltonian)\n",
    "print(hamiltonian_jw)"
   ]
  },
  {
   "cell_type": "code",
   "execution_count": 3,
   "metadata": {},
   "outputs": [],
   "source": [
    "from openfermion.hamiltonians import MolecularData\n",
    "molecule = MolecularData(geometry, basis, multiplicity, charge)\n",
    "h2_molecule = ofpyscf.run_pyscf(molecule, run_mp2=True, run_cisd=True, run_ccsd=True, run_fci=True)\n",
    "elektron=h2_molecule.n_electrons\n",
    "orbitals = h2_molecule.n_orbitals\n",
    "qubit= h2_molecule.n_qubits"
   ]
  },
  {
   "cell_type": "code",
   "execution_count": 5,
   "metadata": {},
   "outputs": [
    {
     "name": "stdout",
     "output_type": "stream",
     "text": [
      "-1.0 [0^ 2] +\n",
      "-2.0 [0^ 2 1^ 3] +\n",
      "-1.0 [1^ 3] +\n",
      "-2.0 [1^ 3 0^ 2] +\n",
      "1.0 [2^ 0] +\n",
      "2.0 [2^ 0 3^ 1] +\n",
      "1.0 [3^ 1] +\n",
      "2.0 [3^ 1 2^ 0]\n"
     ]
    }
   ],
   "source": [
    "from openfermion.utils import uccsd_singlet_generator\n",
    "#a = np.linspace(-0.04, 0.04, 2)\n",
    "#b = np.linspace(-0.03, 0.03, 2)\n",
    "\n",
    "#initial_amplitudes= np.meshgrid(a,b)\n",
    "initial_amplitudes = np.linspace(1,2,2)\n",
    "#membuat ansatz UCCSD\n",
    "uccsd_fermion=uccsd_singlet_generator(initial_amplitudes,qubit,elektron)\n",
    "print(uccsd_fermion)\n"
   ]
  },
  {
   "cell_type": "code",
   "execution_count": 5,
   "metadata": {},
   "outputs": [
    {
     "name": "stdout",
     "output_type": "stream",
     "text": [
      "-0.5j [X0 X1 X2 Y3] +\n",
      "-0.5j [X0 X1 Y2 X3] +\n",
      "0.5j [X0 Y1 X2 X3] +\n",
      "-0.5j [X0 Y1 Y2 Y3] +\n",
      "-0.5j [X0 Z1 Y2] +\n",
      "0.5j [Y0 X1 X2 X3] +\n",
      "-0.5j [Y0 X1 Y2 Y3] +\n",
      "0.5j [Y0 Y1 X2 Y3] +\n",
      "0.5j [Y0 Y1 Y2 X3] +\n",
      "0.5j [Y0 Z1 X2] +\n",
      "-0.5j [X1 Z2 Y3] +\n",
      "0.5j [Y1 Z2 X3]\n"
     ]
    }
   ],
   "source": [
    "# ansatz dirubah dari fermion operator menjadi qubit operator\n",
    "uccsd_jw=jordan_wigner(uccsd_fermion)\n",
    "\n",
    "print(uccsd_jw)"
   ]
  },
  {
   "cell_type": "code",
   "execution_count": 6,
   "metadata": {},
   "outputs": [],
   "source": [
    "#Membuat Sirkuit Ansatz /Fungsi Gelombang Coba \n",
    "class Ansatz(ofc.VariationalAnsatz):\n",
    "    def params(self):      \n",
    "        return [cirq.Symbol('theta_0'),cirq.Symbol('theta_1')]\n",
    "    def operations(self, qubits):    \n",
    "        q0, q1, q2, q3 = qubits\n",
    "       # yield cirq.H(q0),cirq.H(q1),cirq.H(q2)\n",
    "       # yield cirq.XPowGate(exponent=1.5707963267948966).on(q3)\n",
    "       # yield cirq.CNOT(q0,q1),cirq.CNOT(q1,q2),cirq.CNOT(q2,q3)\n",
    "       # yield cirq.ZPowGate(exponent=cirq.Symbol('theta_0')).on(q3)\n",
    "       # yield cirq.CNOT(q2,q3),cirq.CNOT(q1,q2),cirq.CNOT(q0,q1)\n",
    "       # yield cirq.H(q0),cirq.H(q1),cirq.H(q2)\n",
    "       # yield cirq.XPowGate(exponent=-1.5707963267948966).on(q3)\n",
    "        \n",
    "        #yield cirq.H(q0),cirq.H(q1)\n",
    "        #yield cirq.XPowGate(exponent=1.5707963267948966).on(q2)\n",
    "        #yield cirq.H(q3)\n",
    "        #yield cirq.CNOT(q0,q1),cirq.CNOT(q1,q2),cirq.CNOT(q2,q3)\n",
    "        #yield cirq.ZPowGate(exponent=cirq.Symbol('theta_0')).on(q3)\n",
    "        #yield cirq.CNOT(q2,q3),cirq.CNOT(q1,q2),cirq.CNOT(q0,q1)\n",
    "        #yield cirq.H(q0),cirq.H(q1)\n",
    "        #yield cirq.XPowGate(exponent=-1.5707963267948966).on(q2)\n",
    "        #yield cirq.H(q3)\n",
    "        \n",
    "       # yield cirq.H(q0)\n",
    "       # yield cirq.XPowGate(exponent=1.5707963267948966).on(q1)\n",
    "       # yield cirq.H(q2),cirq.H(q3)\n",
    "       # yield cirq.CNOT(q0,q1),cirq.CNOT(q1,q2),cirq.CNOT(q2,q3)\n",
    "       # yield cirq.ZPowGate(exponent=cirq.Symbol('theta_1')).on(q3)\n",
    "       # yield cirq.CNOT(q2,q3),cirq.CNOT(q1,q2),cirq.CNOT(q0,q1)\n",
    "       # yield cirq.H(q0)\n",
    "       # yield cirq.XPowGate(exponent=-1.5707963267948966).on(q1)\n",
    "        #yield cirq.H(q2),cirq.H(q3)\n",
    "        \n",
    "        #yield cirq.H(q0)\n",
    "        #yield cirq.XPowGate(exponent=1.5707963267948966).on(q1)\n",
    "        #yield cirq.XPowGate(exponent=1.5707963267948966).on(q2)\n",
    "        #yield cirq.XPowGate(exponent=1.5707963267948966).on(q3)\n",
    "        #yield cirq.CNOT(q0,q1),cirq.CNOT(q1,q2),cirq.CNOT(q2,q3)\n",
    "        #yield cirq.ZPowGate(exponent=cirq.Symbol('theta_0')).on(q3)\n",
    "        #yield cirq.CNOT(q2,q3),cirq.CNOT(q1,q2),cirq.CNOT(q0,q1)\n",
    "        #yield cirq.H(q0)\n",
    "        #yield cirq.XPowGate(exponent=-1.5707963267948966).on(q1)\n",
    "        #yield cirq.XPowGate(exponent=-1.5707963267948966).on(q2)\n",
    "        #yield cirq.XPowGate(exponent=-1.5707963267948966).on(q3)\n",
    "        \n",
    "        #yield cirq.XPowGate(exponent=1.5707963267948966).on(q0)\n",
    "        #yield cirq.H(q1),cirq.H(q2),cirq.H(q3)\n",
    "        #yield cirq.CNOT(q0,q1),cirq.CNOT(q1,q2),cirq.CNOT(q2,q3)\n",
    "        #yield cirq.ZPowGate(exponent=cirq.Symbol('theta_1')).on(q3)\n",
    "        #yield cirq.CNOT(q2,q3),cirq.CNOT(q1,q2),cirq.CNOT(q0,q1)\n",
    "        #yield cirq.XPowGate(exponent=-1.5707963267948966).on(q0)\n",
    "        #yield cirq.H(q1),cirq.H(q2),cirq.H(q3)\n",
    "        \n",
    "        \n",
    "       # yield cirq.XPowGate(exponent=1.5707963267948966).on(q0)\n",
    "        #yield cirq.H(q1)\n",
    "        #yield cirq.XPowGate(exponent=1.5707963267948966).on(q2)\n",
    "        #yield cirq.XPowGate(exponent=1.5707963267948966).on(q3)\n",
    "        #yield cirq.CNOT(q0,q1),cirq.CNOT(q1,q2),cirq.CNOT(q2,q3)\n",
    "        #yield cirq.ZPowGate(exponent=cirq.Symbol('theta_0')).on(q3)\n",
    "        #yield cirq.CNOT(q2,q3),cirq.CNOT(q1,q2),cirq.CNOT(q0,q1)\n",
    "        #yield cirq.XPowGate(exponent=-1.5707963267948966).on(q0)\n",
    "        #yield cirq.H(q1)\n",
    "        #yield cirq.XPowGate(exponent=-1.5707963267948966).on(q2)\n",
    "        #yield cirq.XPowGate(exponent=-1.5707963267948966).on(q3)\n",
    "        \n",
    "        #yield cirq.XPowGate(exponent=1.5707963267948966).on(q0)\n",
    "        #yield cirq.XPowGate(exponent=1.5707963267948966).on(q1)\n",
    "        #yield cirq.H(q2)\n",
    "        #yield cirq.XPowGate(exponent=1.5707963267948966).on(q3)\n",
    "        #yield cirq.CNOT(q0,q1),cirq.CNOT(q1,q2),cirq.CNOT(q2,q3)\n",
    "        #yield cirq.ZPowGate(exponent=cirq.Symbol('theta_1')).on(q3)\n",
    "        #yield cirq.CNOT(q2,q3),cirq.CNOT(q1,q2),cirq.CNOT(q0,q1)\n",
    "        #yield cirq.XPowGate(exponent=-1.5707963267948966).on(q0)\n",
    "        #yield cirq.XPowGate(exponent=-1.5707963267948966).on(q1)\n",
    "        #yield cirq.H(q2)\n",
    "        #yield cirq.XPowGate(exponent=-1.5707963267948966).on(q3)\n",
    "        \n",
    "        yield cirq.XPowGate(exponent=1.5707963267948966).on(q0)\n",
    "        yield cirq.XPowGate(exponent=1.5707963267948966).on(q1)\n",
    "        yield cirq.XPowGate(exponent=1.5707963267948966).on(q2)\n",
    "        yield cirq.H(q3)\n",
    "        yield cirq.CNOT(q0,q1),cirq.CNOT(q1,q2),cirq.CNOT(q2,q3)\n",
    "        yield cirq.ZPowGate(exponent=cirq.Symbol('theta_1')).on(q3)\n",
    "        yield cirq.CNOT(q2,q3),cirq.CNOT(q1,q2),cirq.CNOT(q0,q1)\n",
    "        yield cirq.XPowGate(exponent=-1.5707963267948966).on(q0)\n",
    "        yield cirq.XPowGate(exponent=-1.5707963267948966).on(q1)\n",
    "        yield cirq.XPowGate(exponent=-1.5707963267948966).on(q2)\n",
    "        yield cirq.H(q3)\n",
    "        \n",
    "        \n",
    "        \n",
    "        \n",
    "        \n",
    "        \n",
    "    def _generate_qubits(set):\n",
    "        return cirq.LineQubit.range(4)"
   ]
  },
  {
   "cell_type": "code",
   "execution_count": 7,
   "metadata": {},
   "outputs": [
    {
     "name": "stdout",
     "output_type": "stream",
     "text": [
      "0: ───X^(-3/7)───@───────────────────────────────@─────────X^(3/7)───\n",
      "                 │                               │\n",
      "1: ───X^(-3/7)───X───@───────────────────────@───X─────────X^(3/7)───\n",
      "                     │                       │\n",
      "2: ───X^(-3/7)───────X───@───────────────@───X───X^(3/7)─────────────\n",
      "                         │               │\n",
      "3: ───H──────────────────X───Z^theta_1───X───H───────────────────────\n"
     ]
    }
   ],
   "source": [
    "FungsiCoba=Ansatz()\n",
    "print(FungsiCoba.circuit)\n"
   ]
  },
  {
   "cell_type": "code",
   "execution_count": 9,
   "metadata": {},
   "outputs": [],
   "source": [
    "#mendeklarasikan Hamiltonan yang akan ditinjau\n",
    "objektif = ofc.HamiltonianObjective(hamiltonian_jw)\n",
    "\n",
    "#membuat keadaan referensi\n",
    "q0, q1, _, _ = FungsiCoba.qubits\n",
    "keadaan_refensi = cirq.Circuit.from_ops(cirq.X(q0), cirq.X(q1))\n",
    "\n",
    "\n",
    "study = ofc.VariationalStudy(\n",
    "    name='VQE JW Hidrogen',\n",
    "    ansatz=FungsiCoba,\n",
    "    objective=objektif,\n",
    "    preparation_circuit=keadaan_refensi)\n",
    "\n"
   ]
  },
  {
   "cell_type": "code",
   "execution_count": 42,
   "metadata": {},
   "outputs": [
    {
     "name": "stdout",
     "output_type": "stream",
     "text": [
      "Optimization terminated successfully.\n",
      "         Current function value: -1.136388\n",
      "         Iterations: 31\n",
      "         Function evaluations: 61\n",
      "[ 0.0097644  -0.00834586]\n",
      "[0. 0.]\n",
      "-1.1363882043260851\n"
     ]
    }
   ],
   "source": [
    "#optimasi\n",
    "algoritma = ofc.optimization.ScipyOptimizationAlgorithm(\n",
    "    kwargs={'method': 'nelder-mead'},\n",
    "    options={'maxiter': 100,'disp':True})\n",
    "\n",
    "\n",
    "optimization_params = ofc.optimization.OptimizationParams(\n",
    "    algorithm=algoritma,\n",
    "    initial_guess=FungsiCoba.default_initial_params())\n",
    "\n",
    "\n",
    "result = study.optimize(optimization_params)\n",
    "#print('Nilai optimum: {}'.format(result.optimal_value))\n",
    "#print(\"parameter optimasinya:\")\n",
    "print(result.optimal_parameters)\n",
    "print(FungsiCoba.default_initial_params())\n",
    "print(result.optimal_value)"
   ]
  },
  {
   "cell_type": "code",
   "execution_count": 11,
   "metadata": {},
   "outputs": [],
   "source": [
    "hasil=[]\n",
    "xx=np.linspace(-0.01,0.01,100)\n",
    "yy=np.linspace(-0.01,0.01,100)\n",
    "for x in xx:\n",
    "    for y in yy:\n",
    "        param=[x,y]\n",
    "        hasil+=[study.value_of(param)]"
   ]
  },
  {
   "cell_type": "code",
   "execution_count": 12,
   "metadata": {},
   "outputs": [],
   "source": [
    "z=np.array(hasil).reshape(100,100)\n",
    "c=z.transpose()"
   ]
  },
  {
   "cell_type": "code",
   "execution_count": 26,
   "metadata": {},
   "outputs": [],
   "source": [
    "from matplotlib import rc\n",
    "rc('font',**{'family':'sans-serif','sans-serif':['Helvetica']})\n",
    "## for Palatino and other serif fonts use:\n",
    "#rc('font',**{'family':'serif','serif':['Palatino']})\n",
    "rc('text', usetex=True)"
   ]
  },
  {
   "cell_type": "code",
   "execution_count": 27,
   "metadata": {},
   "outputs": [],
   "source": [
    "plt.rc('text', usetex=True)\n",
    "plt.rc('font', family='serif')"
   ]
  },
  {
   "cell_type": "code",
   "execution_count": 37,
   "metadata": {},
   "outputs": [
    {
     "data": {
      "text/plain": [
       "Text(0,0.5,'$\\\\theta_2$')"
      ]
     },
     "execution_count": 37,
     "metadata": {},
     "output_type": "execute_result"
    },
    {
     "data": {
      "image/png": "[encoded data removed]",
      "text/plain": [
       "<Figure size 720x720 with 2 Axes>"
      ]
     },
     "metadata": {
      "needs_background": "light"
     },
     "output_type": "display_data"
    }
   ],
   "source": [
    "import matplotlib.pyplot as plt\n",
    "plt.figure(figsize=(10,10))\n",
    "plt.imshow(c,cmap='Oranges',extent=[-0.015,0.015,-0.015,0.015])\n",
    "plt.colorbar()\n",
    "plt.scatter(0.0097644 ,-0.00834586,color='r')\n",
    "plt.grid()\n",
    "plt.xlabel(r'$\\theta_1$',fontsize=16)\n",
    "plt.ylabel(r'$\\theta_2$',fontsize=16)\n"
   ]
  },
  {
   "cell_type": "code",
   "execution_count": 14,
   "metadata": {},
   "outputs": [],
   "source": [
    "#mendeklarasikan Hamiltonan yang akan ditinjau\n",
    "objektif = ofc.HamiltonianObjective(hamiltonian_jw)\n",
    "\n",
    "#membuat keadaan referensi\n",
    "q0, q1, _, _ = FungsiCoba.qubits\n",
    "keadaan_refensi = cirq.Circuit.from_ops(cirq.X(q0), cirq.X(q1))\n",
    "\n",
    "\n",
    "study1 = ofc.VariationalStudy(\n",
    "    name='VQE JW Hidrogen',\n",
    "    ansatz=FungsiCoba,\n",
    "    objective=objektif,\n",
    "    preparation_circuit=keadaan_refensi)"
   ]
  },
  {
   "cell_type": "code",
   "execution_count": 15,
   "metadata": {},
   "outputs": [
    {
     "name": "stdout",
     "output_type": "stream",
     "text": [
      "Optimization terminated successfully.    (Exit mode 0)\n",
      "            Current function value: -1.1363881810313066\n",
      "            Iterations: 4\n",
      "            Function evaluations: 21\n",
      "            Gradient evaluations: 4\n",
      "Nilai optimum: -1.1363881810313066\n",
      "parameter optimasinya:\n",
      "[ 0.00974536 -0.00833692]\n"
     ]
    }
   ],
   "source": [
    "#optimasi\n",
    "algoritma = ofc.optimization.ScipyOptimizationAlgorithm(\n",
    "    kwargs={'method': 'SLSQP'},\n",
    "    options={'maxiter': 100,'disp':True})\n",
    "\n",
    "\n",
    "optimization_params = ofc.optimization.OptimizationParams(\n",
    "    algorithm=algoritma,\n",
    "    initial_guess=FungsiCoba.default_initial_params())\n",
    "\n",
    "\n",
    "result = study1.optimize(optimization_params)\n",
    "print('Nilai optimum: {}'.format(result.optimal_value))\n",
    "print(\"parameter optimasinya:\")\n",
    "print(result.optimal_parameters)"
   ]
  },
  {
   "cell_type": "code",
   "execution_count": 17,
   "metadata": {},
   "outputs": [],
   "source": [
    "hasil=[]\n",
    "xx=np.linspace(-0.01,0.01,100)\n",
    "yy=np.linspace(-0.01,0.01,100)\n",
    "for x in xx:\n",
    "    for y in yy:\n",
    "        param=[x,y]\n",
    "        hasil+=[study1.value_of(param)]"
   ]
  },
  {
   "cell_type": "code",
   "execution_count": 19,
   "metadata": {},
   "outputs": [],
   "source": [
    "SLQSP=np.array(hasil).reshape(100,100)\n",
    "SLQSP_hasil=SLQSP.transpose()"
   ]
  },
  {
   "cell_type": "code",
   "execution_count": 29,
   "metadata": {},
   "outputs": [
    {
     "data": {
      "text/plain": [
       "Text(0,0.5,'$\\\\theta_2$')"
      ]
     },
     "execution_count": 29,
     "metadata": {},
     "output_type": "execute_result"
    },
    {
     "data": {
      "image/png": "[encoded data removed]",
      "text/plain": [
       "<Figure size 720x720 with 2 Axes>"
      ]
     },
     "metadata": {
      "needs_background": "light"
     },
     "output_type": "display_data"
    }
   ],
   "source": [
    "import matplotlib.pyplot as plt\n",
    "plt.figure(figsize=(10,10))\n",
    "plt.imshow(SLQSP_hasil,cmap='Reds',extent=[-0.015,0.015,-0.015,0.015])\n",
    "plt.colorbar()\n",
    "plt.scatter(0.00974536, -0.00833692,color='r')\n",
    "plt.grid()\n",
    "plt.xlabel(r'$\\theta_1$',fontsize=16)\n",
    "plt.ylabel(r'$\\theta_2$',fontsize=16)"
   ]
  },
  {
   "cell_type": "code",
   "execution_count": 23,
   "metadata": {},
   "outputs": [],
   "source": [
    "#mendeklarasikan Hamiltonan yang akan ditinjau\n",
    "objektif = ofc.HamiltonianObjective(hamiltonian_jw)\n",
    "\n",
    "#membuat keadaan referensi\n",
    "q0, q1, _, _ = FungsiCoba.qubits\n",
    "keadaan_refensi = cirq.Circuit.from_ops(cirq.X(q0), cirq.X(q1))\n",
    "\n",
    "\n",
    "study2 = ofc.VariationalStudy(\n",
    "    name='VQE JW Hidrogen',\n",
    "    ansatz=FungsiCoba,\n",
    "    objective=objektif,\n",
    "    preparation_circuit=keadaan_refensi)"
   ]
  },
  {
   "cell_type": "code",
   "execution_count": 24,
   "metadata": {},
   "outputs": [
    {
     "name": "stdout",
     "output_type": "stream",
     "text": [
      "Optimization terminated successfully.\n",
      "         Current function value: -1.136225\n",
      "         Iterations: 2\n",
      "         Function evaluations: 57\n",
      "Nilai optimum: -1.136225170114503\n",
      "parameter optimasinya:\n",
      "[ 0.01757231 -0.00071635]\n"
     ]
    }
   ],
   "source": [
    "#optimasi\n",
    "algoritma = ofc.optimization.ScipyOptimizationAlgorithm(\n",
    "    kwargs={'method': 'Powell'},\n",
    "    options={'maxiter': 100,'disp':True})\n",
    "\n",
    "\n",
    "optimization_params = ofc.optimization.OptimizationParams(\n",
    "    algorithm=algoritma,\n",
    "    initial_guess=FungsiCoba.default_initial_params())\n",
    "\n",
    "\n",
    "result = study2.optimize(optimization_params)\n",
    "print('Nilai optimum: {}'.format(result.optimal_value))\n",
    "print(\"parameter optimasinya:\")\n",
    "print(result.optimal_parameters)"
   ]
  },
  {
   "cell_type": "code",
   "execution_count": 25,
   "metadata": {},
   "outputs": [],
   "source": [
    "hasil=[]\n",
    "xx=np.linspace(-0.01,0.01,100)\n",
    "yy=np.linspace(-0.01,0.01,100)\n",
    "for x in xx:\n",
    "    for y in yy:\n",
    "        param=[x,y]\n",
    "        hasil+=[study1.value_of(param)]"
   ]
  },
  {
   "cell_type": "code",
   "execution_count": 26,
   "metadata": {},
   "outputs": [],
   "source": [
    "Powell=np.array(hasil).reshape(100,100)\n",
    "POwell_hasil=Powell.transpose()"
   ]
  },
  {
   "cell_type": "code",
   "execution_count": 32,
   "metadata": {},
   "outputs": [
    {
     "data": {
      "text/plain": [
       "Text(0,0.5,'$\\\\theta_2$')"
      ]
     },
     "execution_count": 32,
     "metadata": {},
     "output_type": "execute_result"
    },
    {
     "data": {
      "image/png": "[encoded data removed]",
      "text/plain": [
       "<Figure size 576x576 with 2 Axes>"
      ]
     },
     "metadata": {
      "needs_background": "light"
     },
     "output_type": "display_data"
    }
   ],
   "source": [
    "import matplotlib.pyplot as plt\n",
    "plt.figure(figsize=(8,8))\n",
    "plt.imshow(SLQSP_hasil,cmap='Blues',extent=[-0.015,0.015,-0.015,0.015])\n",
    "plt.colorbar()\n",
    "plt.scatter(0.0097644 ,-0.00834586, marker='^',color='y')\n",
    "plt.grid()\n",
    "plt.xlabel(r'$\\theta_1$',fontsize=16)\n",
    "plt.ylabel(r'$\\theta_2$',fontsize=16)"
   ]
  },
  {
   "cell_type": "code",
   "execution_count": 19,
   "metadata": {},
   "outputs": [],
   "source": [
    "import numpy as np\n",
    "a = np.linspace(-0.0097644, 0.0097644)\n",
    "b = np.linspace(-0.00834586, 0.00834586)\n",
    "ag,bg=np.meshgrid(a,b)\n",
    "#hasil=[study.value_of([x,y]) for x, y in zip(ag, bg)]\n",
    "#hasil1=[study.value_of([x,y]) for x in a for y in b]\n"
   ]
  },
  {
   "cell_type": "code",
   "execution_count": 20,
   "metadata": {},
   "outputs": [
    {
     "ename": "NameError",
     "evalue": "name 'hasil1' is not defined",
     "output_type": "error",
     "traceback": [
      "\u001b[0;31m---------------------------------------------------------------------------\u001b[0m",
      "\u001b[0;31mNameError\u001b[0m                                 Traceback (most recent call last)",
      "\u001b[0;32m<ipython-input-20-2d8f8c2f2dcf>\u001b[0m in \u001b[0;36m<module>\u001b[0;34m\u001b[0m\n\u001b[0;32m----> 1\u001b[0;31m \u001b[0mg\u001b[0m\u001b[0;34m=\u001b[0m\u001b[0mnp\u001b[0m\u001b[0;34m.\u001b[0m\u001b[0marray\u001b[0m\u001b[0;34m(\u001b[0m\u001b[0mhasil1\u001b[0m\u001b[0;34m)\u001b[0m\u001b[0;34m\u001b[0m\u001b[0;34m\u001b[0m\u001b[0m\n\u001b[0m\u001b[1;32m      2\u001b[0m \u001b[0mprint\u001b[0m\u001b[0;34m(\u001b[0m\u001b[0ma\u001b[0m\u001b[0;34m)\u001b[0m\u001b[0;34m\u001b[0m\u001b[0;34m\u001b[0m\u001b[0m\n",
      "\u001b[0;31mNameError\u001b[0m: name 'hasil1' is not defined"
     ]
    }
   ],
   "source": [
    "g=np.array(hasil1)\n",
    "print(a)"
   ]
  },
  {
   "cell_type": "code",
   "execution_count": null,
   "metadata": {},
   "outputs": [],
   "source": [
    "#print(hasil1,file=open(\"h2_jw_3.txt\",\"a\"))"
   ]
  },
  {
   "cell_type": "code",
   "execution_count": null,
   "metadata": {},
   "outputs": [],
   "source": [
    "#print(hasil,file=open(\"h2_jw_1.txt\",\"a\"))"
   ]
  },
  {
   "cell_type": "code",
   "execution_count": null,
   "metadata": {},
   "outputs": [],
   "source": [
    "##Proses pembacaan data dari .txt\n",
    "data = open('./h2_jw_3.txt','r') #membaca input dalam satu folder\n",
    "data = data.read().split(',')\n",
    "\n",
    "##convert string ke float dalam array\n",
    "data = np.array(data, dtype=float)\n",
    "print(data)"
   ]
  },
  {
   "cell_type": "code",
   "execution_count": null,
   "metadata": {},
   "outputs": [],
   "source": [
    "data = np.expand_dims(data, axis=1)\n",
    "data.shape"
   ]
  },
  {
   "cell_type": "code",
   "execution_count": null,
   "metadata": {},
   "outputs": [],
   "source": [
    "#plot pemetaan heatmap\n",
    "import matplotlib.pyplot as plt\n",
    "\n",
    "plt.imshow(data, extent=[-0.02, 0.02,-0.02, 0.02]) #pemetaan heatmap data dengan bentangan 0-5\n",
    "plt.colorbar()    #agar keluar color barnya\n",
    "plt.clim(-1.13,-1.14)\n",
    "plt.scatter(0.0097644, -0.00834586)\n",
    "#plt.scatter(-0.00834586,0.0097644)\n",
    "#plt.savefig('./kemantenbaru.png')  #menyimpan gambar dalam satu folder\n",
    "plt.show()"
   ]
  },
  {
   "cell_type": "code",
   "execution_count": null,
   "metadata": {},
   "outputs": [],
   "source": [
    "from  openfermion . ops  import  InteractionOperator\n",
    "x,y,z=molecule.get_active_space_integrals(occupied_indices=[0,1],active_indices=[0,1])\n",
    "print(x)\n",
    "print(y)"
   ]
  },
  {
   "cell_type": "code",
   "execution_count": null,
   "metadata": {},
   "outputs": [],
   "source": [
    "from openfermion.transforms import get_sparse_operator\n",
    "h2_matrix=get_sparse_operator(hamiltonian_jw).todense()\n",
    "print(h2_matrix.shape)"
   ]
  },
  {
   "cell_type": "code",
   "execution_count": null,
   "metadata": {},
   "outputs": [],
   "source": [
    "import cirq\n",
    "import openfermioncirq as ofc\n",
    "from openfermion.hamiltonians import MolecularData\n",
    "from openfermionpyscf import run_pyscf\n",
    "\n",
    "\n",
    "h2_molecule=MolecularData(geometry,basis,multiplicity,charge)\n",
    "h2_molecule1 = run_pyscf(h2_molecule ,run_mp2=True ,run_cisd=True ,run_ccsd=True ,run_fci=True )\n",
    "hamiltonian =h2_molecule1.get_molecular_hamiltonian()\n",
    "qubits=cirq.LineQubit.range(4)\n",
    "circuit = cirq.Circuit.from_ops(ofc.simulate_trotter(qubits, hamiltonian, time=1.0,n_steps=1,order=0,\n",
    "                                                    algorithm=ofc.trotter.LOW_RANK,omit_final_swaps=True))\n",
    "cirq.merge_single_qubit_gates_into_phased_x_z(circuit)\n",
    "#print(circuit.to_text_diagram(use_unicode_characters=False))\n",
    "#hubbard_hamiltonian = of.get_diagonal_coulomb_hamiltonian(get_fermion_operator(hamiltonian))\n",
    "#ansatz = ofc.SwapNetworkTrotterAnsatz(hamiltonian,iterations=3)\n"
   ]
  },
  {
   "cell_type": "code",
   "execution_count": null,
   "metadata": {},
   "outputs": [],
   "source": []
  }
 ],
 "metadata": {
  "kernelspec": {
   "display_name": "Python 3",
   "language": "python",
   "name": "python3"
  },
  "language_info": {
   "codemirror_mode": {
    "name": "ipython",
    "version": 3
   },
   "file_extension": ".py",
   "mimetype": "text/x-python",
   "name": "python",
   "nbconvert_exporter": "python",
   "pygments_lexer": "ipython3",
   "version": "3.6.8"
  }
 },
 "nbformat": 4,
 "nbformat_minor": 4
}
