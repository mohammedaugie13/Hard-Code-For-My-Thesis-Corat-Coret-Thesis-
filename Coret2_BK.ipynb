{
 "cells": [
  {
   "cell_type": "code",
   "execution_count": 1,
   "metadata": {},
   "outputs": [],
   "source": [
    "from openfermion.ops import FermionOperator\n",
    "from openfermion.transforms import get_fermion_operator, jordan_wigner, bravyi_kitaev\n",
    "from openfermion.utils import pauli_exp_to_qasm\n",
    "from openfermion.ops import QubitOperator"
   ]
  },
  {
   "cell_type": "code",
   "execution_count": 2,
   "metadata": {},
   "outputs": [],
   "source": [
    "a_1=FermionOperator('2^ 0')\n",
    "a_2=FermionOperator('0^ 2')\n",
    "a_3=FermionOperator('2^ 1')\n",
    "a_4=FermionOperator('1^ 2')\n",
    "a_5=FermionOperator('3^ 0')\n",
    "a_6=FermionOperator('0^ 3')\n",
    "a_7=FermionOperator('3^ 1')\n",
    "a_8=FermionOperator('1^ 3')\n",
    "a_9=FermionOperator('4^ 0')\n",
    "a_10=FermionOperator('0^ 4')\n",
    "a_11=FermionOperator('4^ 1')\n",
    "a_12=FermionOperator('1^ 4')\n",
    "a_13=FermionOperator('5^ 0')\n",
    "a_14=FermionOperator('0^ 5')\n",
    "a_15=FermionOperator('5^ 1')\n",
    "a_16=FermionOperator(' 1^ 5')\n",
    "\n",
    "\n",
    "\n",
    "d_1=FermionOperator('2^ 3^ 0 1')\n",
    "d_2=FermionOperator('1^ 0^ 3 2')\n",
    "d_3=FermionOperator('3^ 2^ 1 0')\n",
    "d_4=FermionOperator('0^ 1^ 2 3')\n",
    "\n",
    "d_5=FermionOperator('4^ 5^ 0 1')\n",
    "d_6=FermionOperator('1^ 0^ 5 4')\n",
    "d_7=FermionOperator('5^ 4^ 1 0')\n",
    "d_8=FermionOperator('0^ 1^ 4 5')"
   ]
  },
  {
   "cell_type": "code",
   "execution_count": 3,
   "metadata": {},
   "outputs": [],
   "source": [
    "s1=1*(a_1-a_2)\n",
    "s2=1*(a_3-a_4)\n",
    "s3=1*(a_5-a_6)\n",
    "s4=1*(a_7-a_8)\n",
    "s5=1*(d_1-d_2)\n",
    "s6=1*(d_3-d_4)\n",
    "s7=1*(a_9-a_10)\n",
    "s8=1*(a_11-a_12)\n",
    "s9=1*(a_13-a_14)\n",
    "s10=1*(a_15-a_16)\n",
    "s11=1*(d_5-d_6)\n",
    "s12=1*(d_7-d_8)"
   ]
  },
  {
   "cell_type": "code",
   "execution_count": 4,
   "metadata": {},
   "outputs": [
    {
     "name": "stdout",
     "output_type": "stream",
     "text": [
      "0.5j [X0 Y1 X2] +\n",
      "0.5j [Y0 Y1 Y2]\n"
     ]
    }
   ],
   "source": [
    "suku1=bravyi_kitaev(s1)\n",
    "print(suku1)\n"
   ]
  },
  {
   "cell_type": "code",
   "execution_count": 5,
   "metadata": {},
   "outputs": [
    {
     "name": "stdout",
     "output_type": "stream",
     "text": [
      "H 0\n",
      "Rx 1.5707963267948966 1\n",
      "H 2\n",
      "CNOT 0 1\n",
      "CNOT 1 2\n",
      "Rz -0.5 2\n",
      "CNOT 1 2\n",
      "CNOT 0 1\n",
      "H 0\n",
      "Rx -1.5707963267948966 1\n",
      "H 2\n",
      "Rx 1.5707963267948966 0\n",
      "Rx 1.5707963267948966 1\n",
      "Rx 1.5707963267948966 2\n",
      "CNOT 0 1\n",
      "CNOT 1 2\n",
      "Rz 0.5 2\n",
      "CNOT 1 2\n",
      "CNOT 0 1\n",
      "Rx -1.5707963267948966 0\n",
      "Rx -1.5707963267948966 1\n",
      "Rx -1.5707963267948966 2\n"
     ]
    }
   ],
   "source": [
    "for line in pauli_exp_to_qasm ( [ QubitOperator ( 'X0 Y1 X2 ' , -0.5 ) ,QubitOperator ( ' Y0 Y1 Y2 ' , 0.5 ) ] ) :\n",
    "    print(line)"
   ]
  },
  {
   "cell_type": "code",
   "execution_count": 6,
   "metadata": {},
   "outputs": [
    {
     "name": "stdout",
     "output_type": "stream",
     "text": [
      "0.5j [Z0 Y1 X2] +\n",
      "-0.5j [X1 Y2]\n"
     ]
    }
   ],
   "source": [
    "suku2=bravyi_kitaev(s2)\n",
    "print(suku2)"
   ]
  },
  {
   "cell_type": "code",
   "execution_count": 7,
   "metadata": {},
   "outputs": [
    {
     "name": "stdout",
     "output_type": "stream",
     "text": [
      "Rx 1.5707963267948966 1\n",
      "H 2\n",
      "CNOT 0 1\n",
      "CNOT 1 2\n",
      "Rz 0.5 2\n",
      "CNOT 1 2\n",
      "CNOT 0 1\n",
      "Rx -1.5707963267948966 1\n",
      "H 2\n",
      "H 1\n",
      "Rx 1.5707963267948966 2\n",
      "CNOT 1 2\n",
      "Rz -0.5 2\n",
      "CNOT 1 2\n",
      "H 1\n",
      "Rx -1.5707963267948966 2\n"
     ]
    }
   ],
   "source": [
    "for line in pauli_exp_to_qasm ( [ QubitOperator ( 'Z0 Y1 X2 ' , 0.5 ) ,QubitOperator ( ' X1 Y2 ' , -0.5 ) ] ) :\n",
    "    print(line)"
   ]
  },
  {
   "cell_type": "code",
   "execution_count": 8,
   "metadata": {},
   "outputs": [
    {
     "name": "stdout",
     "output_type": "stream",
     "text": [
      "0.5j [X0 Y1 Z2] +\n",
      "-0.5j [Y0 X1 Z3]\n"
     ]
    }
   ],
   "source": [
    "suku3=bravyi_kitaev(s3)\n",
    "print(suku3)"
   ]
  },
  {
   "cell_type": "code",
   "execution_count": 9,
   "metadata": {},
   "outputs": [
    {
     "name": "stdout",
     "output_type": "stream",
     "text": [
      "H 0\n",
      "Rx 1.5707963267948966 1\n",
      "CNOT 0 1\n",
      "CNOT 1 2\n",
      "Rz 0.5 2\n",
      "CNOT 1 2\n",
      "CNOT 0 1\n",
      "H 0\n",
      "Rx -1.5707963267948966 1\n",
      "Rx 1.5707963267948966 0\n",
      "H 1\n",
      "CNOT 0 1\n",
      "CNOT 1 3\n",
      "Rz -0.5 3\n",
      "CNOT 1 3\n",
      "CNOT 0 1\n",
      "Rx -1.5707963267948966 0\n",
      "H 1\n"
     ]
    }
   ],
   "source": [
    "for line in pauli_exp_to_qasm ( [ QubitOperator ( 'X0 Y1 Z2 ' , 0.5 ) ,QubitOperator ( ' Y0 X1 Z3 ' , -0.5 ) ] ) :\n",
    "    print(line)"
   ]
  },
  {
   "cell_type": "code",
   "execution_count": 10,
   "metadata": {},
   "outputs": [
    {
     "name": "stdout",
     "output_type": "stream",
     "text": [
      "0.5j [Z0 Y1 Z2] +\n",
      "-0.5j [Y1 Z3]\n"
     ]
    }
   ],
   "source": [
    "suku4=bravyi_kitaev(s4)\n",
    "print(suku4)"
   ]
  },
  {
   "cell_type": "code",
   "execution_count": 11,
   "metadata": {},
   "outputs": [
    {
     "name": "stdout",
     "output_type": "stream",
     "text": [
      "Rx 1.5707963267948966 1\n",
      "CNOT 0 1\n",
      "CNOT 1 2\n",
      "Rz 0.5 2\n",
      "CNOT 1 2\n",
      "CNOT 0 1\n",
      "Rx -1.5707963267948966 1\n",
      "Rx 1.5707963267948966 1\n",
      "CNOT 1 3\n",
      "Rz -0.5 3\n",
      "CNOT 1 3\n",
      "Rx -1.5707963267948966 1\n"
     ]
    }
   ],
   "source": [
    "for line in pauli_exp_to_qasm ( [ QubitOperator ( 'Z0 Y1 Z2 ' , 0.5 ) ,QubitOperator ( ' Y1 Z3 ' , -0.5 ) ] ) :\n",
    "    print(line)"
   ]
  },
  {
   "cell_type": "code",
   "execution_count": 12,
   "metadata": {},
   "outputs": [
    {
     "name": "stdout",
     "output_type": "stream",
     "text": [
      "0.125j [X0 Z1 Y2] +\n",
      "0.125j [X0 Z1 Y2 Z3] +\n",
      "0.125j [X0 Y2] +\n",
      "0.125j [X0 Y2 Z3] +\n",
      "-0.125j [Y0 Z1 X2] +\n",
      "-0.125j [Y0 Z1 X2 Z3] +\n",
      "-0.125j [Y0 X2] +\n",
      "-0.125j [Y0 X2 Z3]\n"
     ]
    }
   ],
   "source": [
    "suku5=bravyi_kitaev(s5)\n",
    "print(suku5)"
   ]
  },
  {
   "cell_type": "code",
   "execution_count": 13,
   "metadata": {},
   "outputs": [
    {
     "name": "stdout",
     "output_type": "stream",
     "text": [
      "H 0\n",
      "Rx 1.5707963267948966 2\n",
      "CNOT 0 1\n",
      "CNOT 1 2\n",
      "Rz -0.5 2\n",
      "CNOT 1 2\n",
      "CNOT 0 1\n",
      "H 0\n",
      "Rx -1.5707963267948966 2\n",
      "H 0\n",
      "Rx 1.5707963267948966 2\n",
      "CNOT 0 1\n",
      "CNOT 1 2\n",
      "CNOT 2 3\n",
      "Rz 0.5 3\n",
      "CNOT 2 3\n",
      "CNOT 1 2\n",
      "CNOT 0 1\n",
      "H 0\n",
      "Rx -1.5707963267948966 2\n",
      "H 0\n",
      "Rx 1.5707963267948966 2\n",
      "CNOT 0 2\n",
      "Rz 0.5 2\n",
      "CNOT 0 2\n",
      "H 0\n",
      "Rx -1.5707963267948966 2\n",
      "H 0\n",
      "Rx 1.5707963267948966 2\n",
      "CNOT 0 2\n",
      "CNOT 2 3\n",
      "Rz 0.5 3\n",
      "CNOT 2 3\n",
      "CNOT 0 2\n",
      "H 0\n",
      "Rx -1.5707963267948966 2\n",
      "Rx 1.5707963267948966 0\n",
      "H 2\n",
      "CNOT 0 1\n",
      "CNOT 1 2\n",
      "Rz 0.5 2\n",
      "CNOT 1 2\n",
      "CNOT 0 1\n",
      "Rx -1.5707963267948966 0\n",
      "H 2\n",
      "Rx 1.5707963267948966 0\n",
      "H 2\n",
      "CNOT 0 1\n",
      "CNOT 1 2\n",
      "CNOT 2 3\n",
      "Rz 0.5 3\n",
      "CNOT 2 3\n",
      "CNOT 1 2\n",
      "CNOT 0 1\n",
      "Rx -1.5707963267948966 0\n",
      "H 2\n",
      "Rx 1.5707963267948966 0\n",
      "H 2\n",
      "CNOT 0 2\n",
      "Rz 0.5 2\n",
      "CNOT 0 2\n",
      "Rx -1.5707963267948966 0\n",
      "H 2\n",
      "Rx 1.5707963267948966 0\n",
      "H 2\n",
      "CNOT 0 2\n",
      "CNOT 2 3\n",
      "Rz 0.5 3\n",
      "CNOT 2 3\n",
      "CNOT 0 2\n",
      "Rx -1.5707963267948966 0\n",
      "H 2\n"
     ]
    }
   ],
   "source": [
    "for line in pauli_exp_to_qasm ( [ QubitOperator ( 'X0 Z1 Y2 ' , -0.5 ) ,QubitOperator ( 'X0 Z1 Y2 Z3 ' , 0.5 ), \n",
    "                                QubitOperator('X0 Y2',0.5), QubitOperator('X0 Y2 Z3',0.5), QubitOperator\n",
    "                                ('Y0 Z1 X2',0.5),QubitOperator('Y0 Z1 X2 Z3',0.5),QubitOperator('Y0 X2',0.5),\n",
    "                                QubitOperator('Y0 X2 Z3',0.5)] ) :\n",
    "    print(line)"
   ]
  },
  {
   "cell_type": "code",
   "execution_count": 14,
   "metadata": {},
   "outputs": [
    {
     "name": "stdout",
     "output_type": "stream",
     "text": [
      "0.125j [X0 Z1 Y2] +\n",
      "0.125j [X0 Z1 Y2 Z3] +\n",
      "0.125j [X0 Y2] +\n",
      "0.125j [X0 Y2 Z3] +\n",
      "-0.125j [Y0 Z1 X2] +\n",
      "-0.125j [Y0 Z1 X2 Z3] +\n",
      "-0.125j [Y0 X2] +\n",
      "-0.125j [Y0 X2 Z3]\n"
     ]
    }
   ],
   "source": [
    "suku6=bravyi_kitaev(s6)\n",
    "print(suku6)"
   ]
  },
  {
   "cell_type": "code",
   "execution_count": 15,
   "metadata": {},
   "outputs": [
    {
     "name": "stdout",
     "output_type": "stream",
     "text": [
      "H 0\n",
      "Rx 1.5707963267948966 2\n",
      "CNOT 0 1\n",
      "CNOT 1 2\n",
      "Rz -0.5 2\n",
      "CNOT 1 2\n",
      "CNOT 0 1\n",
      "H 0\n",
      "Rx -1.5707963267948966 2\n",
      "H 0\n",
      "Rx 1.5707963267948966 2\n",
      "CNOT 0 1\n",
      "CNOT 1 2\n",
      "CNOT 2 3\n",
      "Rz 0.5 3\n",
      "CNOT 2 3\n",
      "CNOT 1 2\n",
      "CNOT 0 1\n",
      "H 0\n",
      "Rx -1.5707963267948966 2\n",
      "H 0\n",
      "Rx 1.5707963267948966 2\n",
      "CNOT 0 2\n",
      "Rz 0.5 2\n",
      "CNOT 0 2\n",
      "H 0\n",
      "Rx -1.5707963267948966 2\n",
      "H 0\n",
      "Rx 1.5707963267948966 2\n",
      "CNOT 0 2\n",
      "CNOT 2 3\n",
      "Rz 0.5 3\n",
      "CNOT 2 3\n",
      "CNOT 0 2\n",
      "H 0\n",
      "Rx -1.5707963267948966 2\n",
      "Rx 1.5707963267948966 0\n",
      "H 2\n",
      "CNOT 0 1\n",
      "CNOT 1 2\n",
      "Rz 0.5 2\n",
      "CNOT 1 2\n",
      "CNOT 0 1\n",
      "Rx -1.5707963267948966 0\n",
      "H 2\n",
      "Rx 1.5707963267948966 0\n",
      "H 2\n",
      "CNOT 0 1\n",
      "CNOT 1 2\n",
      "CNOT 2 3\n",
      "Rz 0.5 3\n",
      "CNOT 2 3\n",
      "CNOT 1 2\n",
      "CNOT 0 1\n",
      "Rx -1.5707963267948966 0\n",
      "H 2\n",
      "Rx 1.5707963267948966 0\n",
      "H 2\n",
      "CNOT 0 2\n",
      "Rz 0.5 2\n",
      "CNOT 0 2\n",
      "Rx -1.5707963267948966 0\n",
      "H 2\n",
      "Rx 1.5707963267948966 0\n",
      "H 2\n",
      "CNOT 0 2\n",
      "CNOT 2 3\n",
      "Rz 0.5 3\n",
      "CNOT 2 3\n",
      "CNOT 0 2\n",
      "Rx -1.5707963267948966 0\n",
      "H 2\n"
     ]
    }
   ],
   "source": [
    "for line in pauli_exp_to_qasm ( [ QubitOperator ( 'X0 Z1 Y2 ' , -0.5 ) ,QubitOperator ( 'X0 Z1 Y2 Z3 ' , 0.5 ), \n",
    "                                QubitOperator('X0 Y2',0.5), QubitOperator('X0 Y2 Z3',0.5), QubitOperator\n",
    "                                ('Y0 Z1 X2',0.5),QubitOperator('Y0 Z1 X2 Z3',0.5),QubitOperator('Y0 X2',0.5),\n",
    "                                QubitOperator('Y0 X2 Z3',0.5)] ) :\n",
    "    print(line)"
   ]
  },
  {
   "cell_type": "code",
   "execution_count": null,
   "metadata": {},
   "outputs": [],
   "source": []
  },
  {
   "cell_type": "code",
   "execution_count": 16,
   "metadata": {},
   "outputs": [
    {
     "name": "stdout",
     "output_type": "stream",
     "text": [
      "0.5j [X0 X1 Y3 X4] +\n",
      "0.5j [Y0 X1 Y3 Y4]\n"
     ]
    }
   ],
   "source": [
    "suku7=bravyi_kitaev(s7)\n",
    "print(suku7)"
   ]
  },
  {
   "cell_type": "code",
   "execution_count": 18,
   "metadata": {},
   "outputs": [
    {
     "name": "stdout",
     "output_type": "stream",
     "text": [
      "H 0\n",
      "H 1\n",
      "Rx 1.5707963267948966 3\n",
      "H 4\n",
      "CNOT 0 1\n",
      "CNOT 1 3\n",
      "CNOT 3 4\n",
      "Rz 0.5 4\n",
      "CNOT 3 4\n",
      "CNOT 1 3\n",
      "CNOT 0 1\n",
      "H 0\n",
      "H 1\n",
      "Rx -1.5707963267948966 3\n",
      "H 4\n",
      "Rx 1.5707963267948966 0\n",
      "H 1\n",
      "Rx 1.5707963267948966 3\n",
      "Rx 1.5707963267948966 4\n",
      "CNOT 0 1\n",
      "CNOT 1 3\n",
      "CNOT 3 4\n",
      "Rz 0.5 4\n",
      "CNOT 3 4\n",
      "CNOT 1 3\n",
      "CNOT 0 1\n",
      "Rx -1.5707963267948966 0\n",
      "H 1\n",
      "Rx -1.5707963267948966 3\n",
      "Rx -1.5707963267948966 4\n"
     ]
    }
   ],
   "source": [
    "for line in pauli_exp_to_qasm ( [ QubitOperator ( 'X0 X1 Y3 X4' , 0.5 ) ,QubitOperator ( 'Y0 X1 Y3 Y4 ' , 0.5 ), \n",
    "                ] ) :\n",
    "    print(line)"
   ]
  },
  {
   "cell_type": "code",
   "execution_count": 19,
   "metadata": {},
   "outputs": [
    {
     "name": "stdout",
     "output_type": "stream",
     "text": [
      "0.5j [Z0 X1 Y3 X4] +\n",
      "0.5j [Y1 Y3 Y4]\n"
     ]
    }
   ],
   "source": [
    "suku8=bravyi_kitaev(s8)\n",
    "print(suku8)"
   ]
  },
  {
   "cell_type": "code",
   "execution_count": 20,
   "metadata": {},
   "outputs": [
    {
     "name": "stdout",
     "output_type": "stream",
     "text": [
      "H 1\n",
      "Rx 1.5707963267948966 3\n",
      "H 4\n",
      "CNOT 0 1\n",
      "CNOT 1 3\n",
      "CNOT 3 4\n",
      "Rz 0.5 4\n",
      "CNOT 3 4\n",
      "CNOT 1 3\n",
      "CNOT 0 1\n",
      "H 1\n",
      "Rx -1.5707963267948966 3\n",
      "H 4\n",
      "Rx 1.5707963267948966 1\n",
      "Rx 1.5707963267948966 3\n",
      "Rx 1.5707963267948966 4\n",
      "CNOT 1 3\n",
      "CNOT 3 4\n",
      "Rz 0.5 4\n",
      "CNOT 3 4\n",
      "CNOT 1 3\n",
      "Rx -1.5707963267948966 1\n",
      "Rx -1.5707963267948966 3\n",
      "Rx -1.5707963267948966 4\n"
     ]
    }
   ],
   "source": [
    "for line in pauli_exp_to_qasm ( [ QubitOperator ( 'Z0 X1 Y3 X4' , 0.5 ) ,QubitOperator ( 'Y1 Y3 Y4 ' , 0.5 ), \n",
    "                ] ) :\n",
    "    print(line)"
   ]
  },
  {
   "cell_type": "code",
   "execution_count": 21,
   "metadata": {},
   "outputs": [
    {
     "name": "stdout",
     "output_type": "stream",
     "text": [
      "0.5j [X0 X1 Y3 Z4 X5] +\n",
      "0.5j [Y0 X1 Y3 Y5]\n"
     ]
    }
   ],
   "source": [
    "suku9=bravyi_kitaev(s9)\n",
    "print(suku9)"
   ]
  },
  {
   "cell_type": "code",
   "execution_count": 22,
   "metadata": {},
   "outputs": [
    {
     "name": "stdout",
     "output_type": "stream",
     "text": [
      "H 0\n",
      "H 1\n",
      "Rx 1.5707963267948966 3\n",
      "H 5\n",
      "CNOT 0 1\n",
      "CNOT 1 3\n",
      "CNOT 3 4\n",
      "CNOT 4 5\n",
      "Rz 0.5 5\n",
      "CNOT 4 5\n",
      "CNOT 3 4\n",
      "CNOT 1 3\n",
      "CNOT 0 1\n",
      "H 0\n",
      "H 1\n",
      "Rx -1.5707963267948966 3\n",
      "H 5\n",
      "Rx 1.5707963267948966 0\n",
      "H 1\n",
      "Rx 1.5707963267948966 3\n",
      "Rx 1.5707963267948966 5\n",
      "CNOT 0 1\n",
      "CNOT 1 3\n",
      "CNOT 3 5\n",
      "Rz 0.5 5\n",
      "CNOT 3 5\n",
      "CNOT 1 3\n",
      "CNOT 0 1\n",
      "Rx -1.5707963267948966 0\n",
      "H 1\n",
      "Rx -1.5707963267948966 3\n",
      "Rx -1.5707963267948966 5\n"
     ]
    }
   ],
   "source": [
    "for line in pauli_exp_to_qasm ( [ QubitOperator ( 'X0 X1 Y3 Z4 X5' , 0.5 ) ,QubitOperator ( 'Y0 X1 Y3 Y5 ' , 0.5 ), \n",
    "                ] ) :\n",
    "    print(line)"
   ]
  },
  {
   "cell_type": "code",
   "execution_count": 23,
   "metadata": {},
   "outputs": [
    {
     "name": "stdout",
     "output_type": "stream",
     "text": [
      "0.5j [Z0 X1 Y3 Z4 X5] +\n",
      "0.5j [Y1 Y3 Y5]\n"
     ]
    }
   ],
   "source": [
    "suku10=bravyi_kitaev(s10)\n",
    "print(suku10)"
   ]
  },
  {
   "cell_type": "code",
   "execution_count": 24,
   "metadata": {},
   "outputs": [
    {
     "name": "stdout",
     "output_type": "stream",
     "text": [
      "H 1\n",
      "Rx 1.5707963267948966 3\n",
      "H 5\n",
      "CNOT 0 1\n",
      "CNOT 1 3\n",
      "CNOT 3 4\n",
      "CNOT 4 5\n",
      "Rz 0.5 5\n",
      "CNOT 4 5\n",
      "CNOT 3 4\n",
      "CNOT 1 3\n",
      "CNOT 0 1\n",
      "H 1\n",
      "Rx -1.5707963267948966 3\n",
      "H 5\n",
      "Rx 1.5707963267948966 1\n",
      "Rx 1.5707963267948966 3\n",
      "Rx 1.5707963267948966 5\n",
      "CNOT 1 3\n",
      "CNOT 3 5\n",
      "Rz 0.5 5\n",
      "CNOT 3 5\n",
      "CNOT 1 3\n",
      "Rx -1.5707963267948966 1\n",
      "Rx -1.5707963267948966 3\n",
      "Rx -1.5707963267948966 5\n"
     ]
    }
   ],
   "source": [
    "for line in pauli_exp_to_qasm ( [ QubitOperator ( 'Z0 X1 Y3 Z4 X5' , 0.5 ) ,QubitOperator ( 'Y1 Y3 Y5' , 0.5 ), \n",
    "                ] ) :\n",
    "    print(line)"
   ]
  },
  {
   "cell_type": "code",
   "execution_count": 25,
   "metadata": {},
   "outputs": [
    {
     "name": "stdout",
     "output_type": "stream",
     "text": [
      "0.125j [X0 Z1 Y4] +\n",
      "0.125j [X0 Z1 Y4 Z5] +\n",
      "0.125j [X0 Y4] +\n",
      "0.125j [X0 Y4 Z5] +\n",
      "-0.125j [Y0 Z1 X4] +\n",
      "-0.125j [Y0 Z1 X4 Z5] +\n",
      "-0.125j [Y0 X4] +\n",
      "-0.125j [Y0 X4 Z5]\n"
     ]
    }
   ],
   "source": [
    "suku11=bravyi_kitaev(s11)\n",
    "print(suku11)"
   ]
  },
  {
   "cell_type": "code",
   "execution_count": 26,
   "metadata": {},
   "outputs": [
    {
     "name": "stdout",
     "output_type": "stream",
     "text": [
      "H 0\n",
      "Rx 1.5707963267948966 4\n",
      "CNOT 0 1\n",
      "CNOT 1 4\n",
      "Rz -0.5 4\n",
      "CNOT 1 4\n",
      "CNOT 0 1\n",
      "H 0\n",
      "Rx -1.5707963267948966 4\n",
      "H 0\n",
      "Rx 1.5707963267948966 4\n",
      "CNOT 0 1\n",
      "CNOT 1 4\n",
      "CNOT 4 5\n",
      "Rz 0.5 5\n",
      "CNOT 4 5\n",
      "CNOT 1 4\n",
      "CNOT 0 1\n",
      "H 0\n",
      "Rx -1.5707963267948966 4\n",
      "H 0\n",
      "Rx 1.5707963267948966 4\n",
      "CNOT 0 4\n",
      "Rz 0.5 4\n",
      "CNOT 0 4\n",
      "H 0\n",
      "Rx -1.5707963267948966 4\n",
      "H 0\n",
      "Rx 1.5707963267948966 4\n",
      "CNOT 0 4\n",
      "CNOT 4 5\n",
      "Rz 0.5 5\n",
      "CNOT 4 5\n",
      "CNOT 0 4\n",
      "H 0\n",
      "Rx -1.5707963267948966 4\n",
      "Rx 1.5707963267948966 0\n",
      "H 4\n",
      "CNOT 0 1\n",
      "CNOT 1 4\n",
      "Rz 0.5 4\n",
      "CNOT 1 4\n",
      "CNOT 0 1\n",
      "Rx -1.5707963267948966 0\n",
      "H 4\n",
      "Rx 1.5707963267948966 0\n",
      "H 4\n",
      "CNOT 0 1\n",
      "CNOT 1 4\n",
      "CNOT 4 5\n",
      "Rz 0.5 5\n",
      "CNOT 4 5\n",
      "CNOT 1 4\n",
      "CNOT 0 1\n",
      "Rx -1.5707963267948966 0\n",
      "H 4\n",
      "Rx 1.5707963267948966 0\n",
      "H 4\n",
      "CNOT 0 4\n",
      "Rz 0.5 4\n",
      "CNOT 0 4\n",
      "Rx -1.5707963267948966 0\n",
      "H 4\n",
      "Rx 1.5707963267948966 0\n",
      "H 4\n",
      "CNOT 0 4\n",
      "CNOT 4 5\n",
      "Rz 0.5 5\n",
      "CNOT 4 5\n",
      "CNOT 0 4\n",
      "Rx -1.5707963267948966 0\n",
      "H 4\n"
     ]
    }
   ],
   "source": [
    "for line in pauli_exp_to_qasm ( [ QubitOperator ( 'X0 Z1 Y4' , -0.5 ) ,QubitOperator ( ' X0 Z1 Y4 Z5' , 0.5 ), \n",
    "                                QubitOperator('X0 Y4',0.5), QubitOperator('X0 Y4 Z5',0.5), QubitOperator\n",
    "                                ('Y0 Z1 X4',0.5),QubitOperator('Y0 Z1 X4 Z5',0.5),QubitOperator('Y0 X4',0.5),\n",
    "                                QubitOperator('Y0 X4 Z5',0.5)] ) :\n",
    "    print(line)"
   ]
  },
  {
   "cell_type": "code",
   "execution_count": null,
   "metadata": {},
   "outputs": [],
   "source": []
  }
 ],
 "metadata": {
  "kernelspec": {
   "display_name": "Python 3",
   "language": "python",
   "name": "python3"
  },
  "language_info": {
   "codemirror_mode": {
    "name": "ipython",
    "version": 3
   },
   "file_extension": ".py",
   "mimetype": "text/x-python",
   "name": "python",
   "nbconvert_exporter": "python",
   "pygments_lexer": "ipython3",
   "version": "3.6.8"
  }
 },
 "nbformat": 4,
 "nbformat_minor": 4
}
