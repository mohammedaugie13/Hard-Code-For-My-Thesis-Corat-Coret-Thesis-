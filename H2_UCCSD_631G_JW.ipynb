{
 "cells": [
  {
   "cell_type": "code",
   "execution_count": 4,
   "metadata": {},
   "outputs": [],
   "source": [
    "import numpy as np\n",
    "from openfermion.transforms import get_sparse_operator\n",
    "from openfermion.utils import pauli_exp_to_qasm\n",
    "from openfermion.ops import QubitOperator\n",
    "from openfermion.transforms import get_fermion_operator, jordan_wigner, bravyi_kitaev\n",
    "from pyscf import ci\n",
    "from pyscf import mp\n",
    "from openfermionpyscf import run_pyscf\n",
    "from openfermion.hamiltonians import MolecularData\n",
    "import os\n",
    "\n",
    "from numpy import array, concatenate, zeros\n",
    "from numpy.random import randn\n",
    "from scipy.optimize import minimize\n",
    "\n",
    "from openfermion.config import *\n",
    "\n",
    "from openfermion.hamiltonians import MolecularData\n",
    "from openfermion.transforms import jordan_wigner\n",
    "from openfermion.utils import uccsd_singlet_paramsize\n"
   ]
  },
  {
   "cell_type": "code",
   "execution_count": 6,
   "metadata": {},
   "outputs": [],
   "source": [
    "geometry = [[\"H\", [0, 0, 0]],\n",
    "            [\"H\", [0, 0, 0.7414]]]\n",
    "basis = \"6-31g\"\n",
    "multiplicity = 1\n",
    "charge = 0\n",
    "molecule = MolecularData(geometry, basis, multiplicity, charge)\n",
    "h2_molecule = run_pyscf(molecule, run_mp2=True, run_cisd=True, run_ccsd=True, run_fci=True)"
   ]
  },
  {
   "cell_type": "code",
   "execution_count": 7,
   "metadata": {},
   "outputs": [
    {
     "name": "stdout",
     "output_type": "stream",
     "text": [
      "8\n"
     ]
    }
   ],
   "source": [
    "orbitals = h2_molecule.n_orbitals\n",
    "qubit= h2_molecule.n_qubits\n",
    "elektron=h2_molecule.n_electrons\n",
    "print(qubit)"
   ]
  },
  {
   "cell_type": "code",
   "execution_count": 13,
   "metadata": {},
   "outputs": [
    {
     "name": "stdout",
     "output_type": "stream",
     "text": [
      "9\n",
      "-0.021288750000000002 [0^ 2 1^ 3] +\n",
      "-0.00709625 [0^ 4] +\n",
      "-0.042577500000000004 [0^ 4 0^ 2] +\n",
      "-0.042577500000000004 [0^ 4 1^ 3] +\n",
      "-0.028385 [0^ 4 1^ 5] +\n",
      "-0.0141925 [0^ 6] +\n",
      "-0.04967375 [0^ 6 0^ 2] +\n",
      "-0.05677 [0^ 6 0^ 4] +\n",
      "-0.04967375 [0^ 6 1^ 3] +\n",
      "-0.05677 [0^ 6 1^ 5] +\n",
      "-0.03548125 [0^ 6 1^ 7] +\n",
      "-0.021288750000000002 [1^ 3 0^ 2] +\n",
      "-0.00709625 [1^ 5] +\n",
      "-0.042577500000000004 [1^ 5 0^ 2] +\n",
      "-0.028385 [1^ 5 0^ 4] +\n",
      "-0.042577500000000004 [1^ 5 1^ 3] +\n",
      "-0.0141925 [1^ 7] +\n",
      "-0.04967375 [1^ 7 0^ 2] +\n",
      "-0.05677 [1^ 7 0^ 4] +\n",
      "-0.03548125 [1^ 7 0^ 6] +\n",
      "-0.04967375 [1^ 7 1^ 3] +\n",
      "-0.05677 [1^ 7 1^ 5] +\n",
      "0.021288750000000002 [2^ 0 3^ 1] +\n",
      "0.042577500000000004 [2^ 0 4^ 0] +\n",
      "0.042577500000000004 [2^ 0 5^ 1] +\n",
      "0.04967375 [2^ 0 6^ 0] +\n",
      "0.04967375 [2^ 0 7^ 1] +\n",
      "0.021288750000000002 [3^ 1 2^ 0] +\n",
      "0.042577500000000004 [3^ 1 4^ 0] +\n",
      "0.042577500000000004 [3^ 1 5^ 1] +\n",
      "0.04967375 [3^ 1 6^ 0] +\n",
      "0.04967375 [3^ 1 7^ 1] +\n",
      "0.00709625 [4^ 0] +\n",
      "0.028385 [4^ 0 5^ 1] +\n",
      "0.05677 [4^ 0 6^ 0] +\n",
      "0.05677 [4^ 0 7^ 1] +\n",
      "0.00709625 [5^ 1] +\n",
      "0.028385 [5^ 1 4^ 0] +\n",
      "0.05677 [5^ 1 6^ 0] +\n",
      "0.05677 [5^ 1 7^ 1] +\n",
      "0.0141925 [6^ 0] +\n",
      "0.03548125 [6^ 0 7^ 1] +\n",
      "0.0141925 [7^ 1] +\n",
      "0.03548125 [7^ 1 6^ 0]\n"
     ]
    }
   ],
   "source": [
    "from openfermion.utils import uccsd_singlet_generator, uccsd_generator, uccsd_singlet_paramsize\n",
    "initial_amplitudes = np.linspace(0,0.05677,9)\n",
    "uccsd_fermion=uccsd_singlet_generator(initial_amplitudes,qubit,elektron)\n",
    "parameter=uccsd_singlet_paramsize(qubit,elektron)\n",
    "print(parameter)\n",
    "print(uccsd_fermion)"
   ]
  },
  {
   "cell_type": "code",
   "execution_count": 14,
   "metadata": {},
   "outputs": [
    {
     "name": "stdout",
     "output_type": "stream",
     "text": [
      "-0.0053221875000000005j [X0 X1 X2 Y3] +\n",
      "-0.0053221875000000005j [X0 X1 X2 Z3 Z4 Y5] +\n",
      "-0.00620921875j [X0 X1 X2 Z3 Z4 Z5 Z6 Y7] +\n",
      "-0.0053221875000000005j [X0 X1 Y2 X3] +\n",
      "-0.0053221875000000005j [X0 X1 Y2 Z3 Z4 X5] +\n",
      "-0.00620921875j [X0 X1 Y2 Z3 Z4 Z5 Z6 X7] +\n",
      "0.0053221875000000005j [X0 X1 X3 Y4] +\n",
      "0.00620921875j [X0 X1 X3 Z4 Z5 Y6] +\n",
      "0.0053221875000000005j [X0 X1 Y3 X4] +\n",
      "0.00620921875j [X0 X1 Y3 Z4 Z5 X6] +\n",
      "-0.00709625j [X0 X1 X4 Y5] +\n",
      "-0.00709625j [X0 X1 X4 Z5 Z6 Y7] +\n",
      "-0.00709625j [X0 X1 Y4 X5] +\n",
      "-0.00709625j [X0 X1 Y4 Z5 Z6 X7] +\n",
      "0.00709625j [X0 X1 X5 Y6] +\n",
      "0.00709625j [X0 X1 Y5 X6] +\n",
      "-0.0088703125j [X0 X1 X6 Y7] +\n",
      "-0.0088703125j [X0 X1 Y6 X7] +\n",
      "0.0053221875000000005j [X0 Y1 X2 X3] +\n",
      "0.0053221875000000005j [X0 Y1 X2 Z3 Z4 X5] +\n",
      "0.00620921875j [X0 Y1 X2 Z3 Z4 Z5 Z6 X7] +\n",
      "-0.0053221875000000005j [X0 Y1 Y2 Y3] +\n",
      "-0.0053221875000000005j [X0 Y1 Y2 Z3 Z4 Y5] +\n",
      "-0.00620921875j [X0 Y1 Y2 Z3 Z4 Z5 Z6 Y7] +\n",
      "-0.0053221875000000005j [X0 Y1 X3 X4] +\n",
      "-0.00620921875j [X0 Y1 X3 Z4 Z5 X6] +\n",
      "0.0053221875000000005j [X0 Y1 Y3 Y4] +\n",
      "0.00620921875j [X0 Y1 Y3 Z4 Z5 Y6] +\n",
      "0.00709625j [X0 Y1 X4 X5] +\n",
      "0.00709625j [X0 Y1 X4 Z5 Z6 X7] +\n",
      "-0.00709625j [X0 Y1 Y4 Y5] +\n",
      "-0.00709625j [X0 Y1 Y4 Z5 Z6 Y7] +\n",
      "-0.00709625j [X0 Y1 X5 X6] +\n",
      "0.00709625j [X0 Y1 Y5 Y6] +\n",
      "0.0088703125j [X0 Y1 X6 X7] +\n",
      "-0.0088703125j [X0 Y1 Y6 Y7] +\n",
      "-0.003548125j [X0 Z1 Z2 Z3 Y4] +\n",
      "-0.00709625j [X0 Z1 Z2 Z3 Z4 Z5 Y6] +\n",
      "0.0053221875000000005j [Y0 X1 X2 X3] +\n",
      "0.0053221875000000005j [Y0 X1 X2 Z3 Z4 X5] +\n",
      "0.00620921875j [Y0 X1 X2 Z3 Z4 Z5 Z6 X7] +\n",
      "-0.0053221875000000005j [Y0 X1 Y2 Y3] +\n",
      "-0.0053221875000000005j [Y0 X1 Y2 Z3 Z4 Y5] +\n",
      "-0.00620921875j [Y0 X1 Y2 Z3 Z4 Z5 Z6 Y7] +\n",
      "-0.0053221875000000005j [Y0 X1 X3 X4] +\n",
      "-0.00620921875j [Y0 X1 X3 Z4 Z5 X6] +\n",
      "0.0053221875000000005j [Y0 X1 Y3 Y4] +\n",
      "0.00620921875j [Y0 X1 Y3 Z4 Z5 Y6] +\n",
      "0.00709625j [Y0 X1 X4 X5] +\n",
      "0.00709625j [Y0 X1 X4 Z5 Z6 X7] +\n",
      "-0.00709625j [Y0 X1 Y4 Y5] +\n",
      "-0.00709625j [Y0 X1 Y4 Z5 Z6 Y7] +\n",
      "-0.00709625j [Y0 X1 X5 X6] +\n",
      "0.00709625j [Y0 X1 Y5 Y6] +\n",
      "0.0088703125j [Y0 X1 X6 X7] +\n",
      "-0.0088703125j [Y0 X1 Y6 Y7] +\n",
      "0.0053221875000000005j [Y0 Y1 X2 Y3] +\n",
      "0.0053221875000000005j [Y0 Y1 X2 Z3 Z4 Y5] +\n",
      "0.00620921875j [Y0 Y1 X2 Z3 Z4 Z5 Z6 Y7] +\n",
      "0.0053221875000000005j [Y0 Y1 Y2 X3] +\n",
      "0.0053221875000000005j [Y0 Y1 Y2 Z3 Z4 X5] +\n",
      "0.00620921875j [Y0 Y1 Y2 Z3 Z4 Z5 Z6 X7] +\n",
      "-0.0053221875000000005j [Y0 Y1 X3 Y4] +\n",
      "-0.00620921875j [Y0 Y1 X3 Z4 Z5 Y6] +\n",
      "-0.0053221875000000005j [Y0 Y1 Y3 X4] +\n",
      "-0.00620921875j [Y0 Y1 Y3 Z4 Z5 X6] +\n",
      "0.00709625j [Y0 Y1 X4 Y5] +\n",
      "0.00709625j [Y0 Y1 X4 Z5 Z6 Y7] +\n",
      "0.00709625j [Y0 Y1 Y4 X5] +\n",
      "0.00709625j [Y0 Y1 Y4 Z5 Z6 X7] +\n",
      "-0.00709625j [Y0 Y1 X5 Y6] +\n",
      "-0.00709625j [Y0 Y1 Y5 X6] +\n",
      "0.0088703125j [Y0 Y1 X6 Y7] +\n",
      "0.0088703125j [Y0 Y1 Y6 X7] +\n",
      "0.003548125j [Y0 Z1 Z2 Z3 X4] +\n",
      "0.00709625j [Y0 Z1 Z2 Z3 Z4 Z5 X6] +\n",
      "-0.003548125j [X1 Z2 Z3 Z4 Y5] +\n",
      "-0.00709625j [X1 Z2 Z3 Z4 Z5 Z6 Y7] +\n",
      "0.003548125j [Y1 Z2 Z3 Z4 X5] +\n",
      "0.00709625j [Y1 Z2 Z3 Z4 Z5 Z6 X7]\n"
     ]
    }
   ],
   "source": [
    "uccsd_jw=jordan_wigner(uccsd_fermion)\n",
    "print(uccsd_jw)"
   ]
  },
  {
   "cell_type": "code",
   "execution_count": null,
   "metadata": {},
   "outputs": [],
   "source": []
  }
 ],
 "metadata": {
  "kernelspec": {
   "display_name": "Python 3",
   "language": "python",
   "name": "python3"
  },
  "language_info": {
   "codemirror_mode": {
    "name": "ipython",
    "version": 3
   },
   "file_extension": ".py",
   "mimetype": "text/x-python",
   "name": "python",
   "nbconvert_exporter": "python",
   "pygments_lexer": "ipython3",
   "version": "3.6.8"
  }
 },
 "nbformat": 4,
 "nbformat_minor": 4
}
