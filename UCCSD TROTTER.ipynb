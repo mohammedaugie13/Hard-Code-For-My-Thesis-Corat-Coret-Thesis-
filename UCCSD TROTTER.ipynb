{
 "cells": [
  {
   "cell_type": "code",
   "execution_count": 3,
   "metadata": {},
   "outputs": [],
   "source": [
    "from scipy.linalg import eigh\n",
    "from openfermion.transforms import get_sparse_operator\n",
    "from openfermion.utils import pauli_exp_to_qasm\n",
    "from openfermion.ops import QubitOperator\n",
    "from openfermion.transforms import get_fermion_operator, jordan_wigner, bravyi_kitaev\n",
    "from pyscf import ci\n",
    "from pyscf import mp\n",
    "from openfermionpyscf import run_pyscf\n",
    "from openfermion.hamiltonians import MolecularData\n",
    "\n",
    "\n",
    "from numpy import array, concatenate, zeros\n",
    "from numpy.random import randn\n",
    "from scipy.optimize import minimize\n",
    "\n",
    "from openfermion.config import *\n",
    "\n",
    "from openfermion.hamiltonians import MolecularData\n",
    "from openfermion.transforms import jordan_wigner\n",
    "from openfermion.utils import uccsd_singlet_paramsize\n",
    "\n"
   ]
  },
  {
   "cell_type": "code",
   "execution_count": 4,
   "metadata": {},
   "outputs": [
    {
     "data": {
      "text/plain": [
       "<openfermionpyscf._pyscf_molecular_data.PyscfMolecularData at 0x7fa629cec278>"
      ]
     },
     "execution_count": 4,
     "metadata": {},
     "output_type": "execute_result"
    }
   ],
   "source": [
    "#menentukan molekul yang akan ditinjau\n",
    "geometry = [[\"H\", [0, 0, 0]],\n",
    "            [\"H\", [0, 0, 0.7414]]]\n",
    "basis = \"sto-3g\"\n",
    "multiplicity = 1\n",
    "charge = 0\n",
    "molecule = MolecularData(geometry, basis, multiplicity, charge)\n",
    "h2_molecule = run_pyscf(molecule, run_mp2=True, run_cisd=True, run_ccsd=True, run_fci=True)\n",
    "h2_molecule"
   ]
  },
  {
   "cell_type": "code",
   "execution_count": 5,
   "metadata": {},
   "outputs": [],
   "source": [
    "#informasi-informasi dari molekul\n",
    "one_electron_integrals = h2_molecule.one_body_integrals\n",
    "two_electron_integrals = h2_molecule.two_body_integrals\n",
    "orbitals = h2_molecule.n_orbitals\n",
    "qubit= h2_molecule.n_qubits\n",
    "elektron=h2_molecule.n_electrons\n",
    "overlap=h2_molecule.overlap_integrals\n",
    "#asu=h2_molecule.ccsd_double_amps\n",
    "#print(qubit)\n",
    "#print(\"Energi Hartree=\", h2_molecule.hf_energy)\n",
    "#print(\"Energi FCI=\", h2_molecule.fci_energy)\n",
    "#print(\"Energi MP2=\", h2_molecule.mp2_energy)\n",
    "#print(\"koefisien h_pq=\",one_electron_integrals)\n",
    "#print(\"koefisien h_pqrs=\",two_electron_integrals)\n",
    "#print(\"orbitals =\",orbitals)\n",
    "#print(\"overlap=\",overlap)\n",
    "#print(elektron)"
   ]
  },
  {
   "cell_type": "code",
   "execution_count": 6,
   "metadata": {},
   "outputs": [
    {
     "name": "stdout",
     "output_type": "stream",
     "text": [
      "[0. 0. 0. 1.]\n"
     ]
    }
   ],
   "source": [
    "from openfermion.utils import jw_hartree_fock_state\n",
    "referensi=jw_hartree_fock_state(elektron,orbitals)\n",
    "print(referensi)"
   ]
  },
  {
   "cell_type": "code",
   "execution_count": 7,
   "metadata": {},
   "outputs": [],
   "source": [
    "#from openfermion.transforms import get_fermion_operator, jordan_wigner, bravyi_kitaev\n",
    "#print(h2_molecule.get_molecular_hamiltonian())\n",
    "#fermion=get_fermion_operator(h2_molecule.get_molecular_hamiltonian())\n",
    "#print(fermion)\n",
    "#jw=jordan_wigner(fermion)\n",
    "#print(jw)"
   ]
  },
  {
   "cell_type": "code",
   "execution_count": 8,
   "metadata": {},
   "outputs": [
    {
     "name": "stdout",
     "output_type": "stream",
     "text": [
      "2\n"
     ]
    }
   ],
   "source": [
    "print(uccsd_singlet_paramsize(h2_molecule.n_qubits,h2_molecule.n_electrons))"
   ]
  },
  {
   "cell_type": "code",
   "execution_count": 9,
   "metadata": {},
   "outputs": [
    {
     "name": "stdout",
     "output_type": "stream",
     "text": [
      "-0.05677 [0^ 2 1^ 3] +\n",
      "-0.05677 [1^ 3 0^ 2] +\n",
      "0.05677 [2^ 0 3^ 1] +\n",
      "0.05677 [3^ 1 2^ 0]\n"
     ]
    }
   ],
   "source": [
    "import numpy as np\n",
    "from openfermion.utils import uccsd_singlet_generator, uccsd_generator\n",
    "initial_amplitudes = np.linspace(0,0.05677,2)\n",
    "uccsd_fermion=uccsd_singlet_generator(initial_amplitudes,qubit,elektron)\n",
    "#b=uccsd_generator(initial_amplitudes,qubit,elektron)\n",
    "print(uccsd_fermion)"
   ]
  },
  {
   "cell_type": "code",
   "execution_count": null,
   "metadata": {},
   "outputs": [],
   "source": []
  },
  {
   "cell_type": "code",
   "execution_count": 1,
   "metadata": {},
   "outputs": [
    {
     "ename": "NameError",
     "evalue": "name 'jordan_wigner' is not defined",
     "output_type": "error",
     "traceback": [
      "\u001b[0;31m---------------------------------------------------------------------------\u001b[0m",
      "\u001b[0;31mNameError\u001b[0m                                 Traceback (most recent call last)",
      "\u001b[0;32m<ipython-input-1-f80c2b15029e>\u001b[0m in \u001b[0;36m<module>\u001b[0;34m\u001b[0m\n\u001b[0;32m----> 1\u001b[0;31m \u001b[0muccsd_jw\u001b[0m\u001b[0;34m=\u001b[0m\u001b[0mjordan_wigner\u001b[0m\u001b[0;34m(\u001b[0m\u001b[0muccsd_fermion\u001b[0m\u001b[0;34m)\u001b[0m\u001b[0;34m\u001b[0m\u001b[0;34m\u001b[0m\u001b[0m\n\u001b[0m\u001b[1;32m      2\u001b[0m \u001b[0mprint\u001b[0m\u001b[0;34m(\u001b[0m\u001b[0muccsd_jw\u001b[0m\u001b[0;34m)\u001b[0m\u001b[0;34m\u001b[0m\u001b[0;34m\u001b[0m\u001b[0m\n",
      "\u001b[0;31mNameError\u001b[0m: name 'jordan_wigner' is not defined"
     ]
    }
   ],
   "source": [
    "uccsd_jw=jordan_wigner(uccsd_fermion)\n",
    "print(uccsd_jw)\n"
   ]
  },
  {
   "cell_type": "code",
   "execution_count": 11,
   "metadata": {},
   "outputs": [
    {
     "name": "stdout",
     "output_type": "stream",
     "text": [
      "-0.0141925j [X0 Z1 Y2] +\n",
      "-0.0141925j [X0 Z1 Y2 Z3] +\n",
      "-0.0141925j [X0 Y2] +\n",
      "-0.0141925j [X0 Y2 Z3] +\n",
      "0.0141925j [Y0 Z1 X2] +\n",
      "0.0141925j [Y0 Z1 X2 Z3] +\n",
      "0.0141925j [Y0 X2] +\n",
      "0.0141925j [Y0 X2 Z3]\n"
     ]
    }
   ],
   "source": [
    "uccsd_bk=bravyi_kitaev(uccsd_fermion)\n",
    "print(uccsd_bk)"
   ]
  },
  {
   "cell_type": "code",
   "execution_count": 13,
   "metadata": {},
   "outputs": [
    {
     "name": "stdout",
     "output_type": "stream",
     "text": [
      "H 0\n",
      "Rx 1.5707963267948966 2\n",
      "CNOT 0 1\n",
      "CNOT 1 2\n",
      "Rz -0.0141925 2\n",
      "CNOT 1 2\n",
      "CNOT 0 1\n",
      "H 0\n",
      "Rx -1.5707963267948966 2\n",
      "H 0\n",
      "Rx 1.5707963267948966 2\n",
      "CNOT 0 1\n",
      "CNOT 1 2\n",
      "CNOT 2 3\n",
      "Rz -0.0141925 3\n",
      "CNOT 2 3\n",
      "CNOT 1 2\n",
      "CNOT 0 1\n",
      "H 0\n",
      "Rx -1.5707963267948966 2\n",
      "H 0\n",
      "Rx 1.5707963267948966 2\n",
      "CNOT 0 2\n",
      "Rz -0.0141925 2\n",
      "CNOT 0 2\n",
      "H 0\n",
      "Rx -1.5707963267948966 2\n",
      "H 0\n",
      "Rx 1.5707963267948966 2\n",
      "CNOT 0 2\n",
      "CNOT 2 3\n",
      "Rz -0.0 3\n",
      "CNOT 2 3\n",
      "CNOT 0 2\n",
      "H 0\n",
      "Rx -1.5707963267948966 2\n",
      "Rx 1.5707963267948966 0\n",
      "H 2\n",
      "CNOT 0 1\n",
      "CNOT 1 2\n",
      "Rz 0.0141925 2\n",
      "CNOT 1 2\n",
      "CNOT 0 1\n",
      "Rx -1.5707963267948966 0\n",
      "H 2\n",
      "Rx 1.5707963267948966 0\n",
      "H 2\n",
      "CNOT 0 1\n",
      "CNOT 1 2\n",
      "CNOT 2 3\n",
      "Rz 0.0141925 3\n",
      "CNOT 2 3\n",
      "CNOT 1 2\n",
      "CNOT 0 1\n",
      "Rx -1.5707963267948966 0\n",
      "H 2\n",
      "Rx 1.5707963267948966 0\n",
      "H 2\n",
      "CNOT 0 2\n",
      "Rz 0.0141925 2\n",
      "CNOT 0 2\n",
      "Rx -1.5707963267948966 0\n",
      "H 2\n",
      "Rx 1.5707963267948966 0\n",
      "H 2\n",
      "CNOT 0 2\n",
      "CNOT 2 3\n",
      "Rz 0.0141925 3\n",
      "CNOT 2 3\n",
      "CNOT 0 2\n",
      "Rx -1.5707963267948966 0\n",
      "H 2\n"
     ]
    }
   ],
   "source": [
    "from openfermion.ops import QubitOperator\n",
    "from openfermion.utils import pauli_exp_to_qasm\n",
    "for line in pauli_exp_to_qasm([QubitOperator('X0 Z1 Y2',-0.0141925),QubitOperator('X0 Z1 Y2 Z3',-0.0141925), QubitOperator('X0 Y2 ', -0.0141925), \n",
    "                              QubitOperator('X0 Y2 Z3',-0.0141925j),QubitOperator('Y0 Z1 X2', 0.0141925), QubitOperator('Y0 Z1 X2 Z3',0.0141925),\n",
    "                              QubitOperator('Y0 X2',0.0141925), QubitOperator('Y0 X2 Z3',0.0141925)]):\n",
    "    print(line)"
   ]
  },
  {
   "cell_type": "code",
   "execution_count": 95,
   "metadata": {},
   "outputs": [],
   "source": [
    "#membuat ansatz\n",
    "\n",
    "import openfermion as of\n",
    "import cirq\n",
    "import openfermioncirq as ofc\n",
    "import numpy as np\n",
    "class MyAnsatz(ofc.VariationalAnsatz):\n",
    "    def params(self):\n",
    "        '''Parameter of the ansatz'''\n",
    "        return [cirq.Symbol('theta_0'),cirq.Symbol('theta_1')]\n",
    "    def operations(self, qubits):\n",
    "        '''Ansatz Prosedur'''\n",
    "        q0, q1, q2, q3 = qubits\n",
    "        yield cirq.H(q0),cirq.H(q1),cirq.H(q2)\n",
    "        yield cirq.XPowGate(exponent=1.5707963267948966).on(q3)\n",
    "        yield cirq.CNOT(q0,q1),cirq.CNOT(q1,q2),cirq.CNOT(q2,q3)\n",
    "        yield cirq.ZPowGate(exponent=cirq.Symbol('theta_1')).on(q3)\n",
    "        yield cirq.CNOT(q2,q3),cirq.CNOT(q1,q2),cirq.CNOT(q0,q1)\n",
    "        yield cirq.H(q0),cirq.H(q1),cirq.H(q2)\n",
    "        yield cirq.XPowGate(exponent=-1.5707963267948966).on(q3)\n",
    "        \n",
    "        yield cirq.H(q0),cirq.H(q1)\n",
    "        yield cirq.XPowGate(exponent=1.5707963267948966).on(q2)\n",
    "        yield cirq.H(q3)\n",
    "        yield cirq.CNOT(q0,q1),cirq.CNOT(q1,q2),cirq.CNOT(q2,q3)\n",
    "        yield cirq.ZPowGate(exponent=cirq.Symbol('theta_1')).on(q3)\n",
    "        yield cirq.CNOT(q2,q3),cirq.CNOT(q1,q2),cirq.CNOT(q0,q1)\n",
    "        yield cirq.H(q0),cirq.H(q1)\n",
    "        yield cirq.XPowGate(exponent=-1.5707963267948966).on(q2)\n",
    "        yield cirq.H(q3)\n",
    "        \n",
    "        yield cirq.H(q0)\n",
    "        yield cirq.XPowGate(exponent=1.5707963267948966).on(q1)\n",
    "        yield cirq.H(q2),cirq.H(q3)\n",
    "        yield cirq.CNOT(q0,q1),cirq.CNOT(q1,q2),cirq.CNOT(q2,q3)\n",
    "        yield cirq.ZPowGate(exponent=cirq.Symbol('theta_0')).on(q3)\n",
    "        yield cirq.CNOT(q2,q3),cirq.CNOT(q1,q2),cirq.CNOT(q0,q1)\n",
    "        yield cirq.H(q0)\n",
    "        yield cirq.XPowGate(exponent=1.5707963267948966).on(q1)\n",
    "        yield cirq.H(q2),cirq.H(q3)\n",
    "        \n",
    "        yield cirq.H(q0)\n",
    "        yield cirq.XPowGate(exponent=1.5707963267948966).on(q1)\n",
    "        yield cirq.XPowGate(exponent=1.5707963267948966).on(q2)\n",
    "        yield cirq.XPowGate(exponent=1.5707963267948966).on(q3)\n",
    "        yield cirq.CNOT(q0,q1),cirq.CNOT(q1,q2),cirq.CNOT(q2,q3)\n",
    "        yield cirq.ZPowGate(exponent=cirq.Symbol('theta_1')).on(q3)\n",
    "        yield cirq.CNOT(q2,q3),cirq.CNOT(q1,q2),cirq.CNOT(q0,q1)\n",
    "        yield cirq.H(q0)\n",
    "        yield cirq.XPowGate(exponent=1.5707963267948966).on(q1)\n",
    "        yield cirq.XPowGate(exponent=1.5707963267948966).on(q2)\n",
    "        yield cirq.XPowGate(exponent=1.5707963267948966).on(q3)\n",
    "        \n",
    "        yield cirq.XPowGate(exponent=1.5707963267948966).on(q0)\n",
    "        yield cirq.H(q1),cirq.H(q2),cirq.H(q3)\n",
    "        yield cirq.CNOT(q0,q1),cirq.CNOT(q1,q2),cirq.CNOT(q2,q3)\n",
    "        yield cirq.ZPowGate(exponent=cirq.Symbol('theta_0')).on(q3)\n",
    "        yield cirq.CNOT(q2,q3),cirq.CNOT(q1,q2),cirq.CNOT(q0,q1)\n",
    "        yield cirq.XPowGate(exponent=1.5707963267948966).on(q0)\n",
    "        yield cirq.H(q1),cirq.H(q2),cirq.H(q3)\n",
    "        \n",
    "        \n",
    "        yield cirq.XPowGate(exponent=1.5707963267948966).on(q0)\n",
    "        yield cirq.H(q1)\n",
    "        yield cirq.XPowGate(exponent=1.5707963267948966).on(q2)\n",
    "        yield cirq.XPowGate(exponent=1.5707963267948966).on(q3)\n",
    "        yield cirq.CNOT(q0,q1),cirq.CNOT(q1,q2),cirq.CNOT(q2,q3)\n",
    "        yield cirq.ZPowGate(exponent=cirq.Symbol('theta_1')).on(q3)\n",
    "        yield cirq.CNOT(q2,q3),cirq.CNOT(q1,q2),cirq.CNOT(q0,q1)\n",
    "        yield cirq.XPowGate(exponent=1.5707963267948966).on(q0)\n",
    "        yield cirq.H(q1)\n",
    "        yield cirq.XPowGate(exponent=1.5707963267948966).on(q2)\n",
    "        yield cirq.XPowGate(exponent=1.5707963267948966).on(q3)\n",
    "        \n",
    "        yield cirq.XPowGate(exponent=1.5707963267948966).on(q0)\n",
    "        yield cirq.XPowGate(exponent=1.5707963267948966).on(q1)\n",
    "        yield cirq.H(q2)\n",
    "        yield cirq.XPowGate(exponent=1.5707963267948966).on(q3)\n",
    "        yield cirq.CNOT(q0,q1),cirq.CNOT(q1,q2),cirq.CNOT(q2,q3)\n",
    "        yield cirq.ZPowGate(exponent=cirq.Symbol('theta_0')).on(q3)\n",
    "        yield cirq.CNOT(q2,q3),cirq.CNOT(q1,q2),cirq.CNOT(q0,q1)\n",
    "        yield cirq.XPowGate(exponent=1.5707963267948966).on(q0)\n",
    "        yield cirq.XPowGate(exponent=1.5707963267948966).on(q1)\n",
    "        yield cirq.H(q2)\n",
    "        yield cirq.XPowGate(exponent=1.5707963267948966).on(q3)\n",
    "        \n",
    "        yield cirq.XPowGate(exponent=1.5707963267948966).on(q0)\n",
    "        yield cirq.XPowGate(exponent=1.5707963267948966).on(q1)\n",
    "        yield cirq.XPowGate(exponent=1.5707963267948966).on(q2)\n",
    "        yield cirq.H(q3)\n",
    "        yield cirq.CNOT(q0,q1),cirq.CNOT(q1,q2),cirq.CNOT(q2,q3)\n",
    "        yield cirq.ZPowGate(exponent=cirq.Symbol('theta_0')).on(q3)\n",
    "        yield cirq.CNOT(q2,q3),cirq.CNOT(q1,q2),cirq.CNOT(q0,q1)\n",
    "        yield cirq.XPowGate(exponent=1.5707963267948966).on(q0)\n",
    "        yield cirq.XPowGate(exponent=1.5707963267948966).on(q1)\n",
    "        yield cirq.XPowGate(exponent=1.5707963267948966).on(q2)\n",
    "        yield cirq.H(q3)\n",
    "        \n",
    "        \n",
    "        \n",
    "        \n",
    "        \n",
    "        \n",
    "    def _generate_qubits(set):\n",
    "        return cirq.LineQubit.range(4)"
   ]
  },
  {
   "cell_type": "code",
   "execution_count": 96,
   "metadata": {},
   "outputs": [
    {
     "name": "stdout",
     "output_type": "stream",
     "text": [
      "0: ───H──────────@─────────────────────────────────────@───H──────────H───@───────────────────────────────@─────────H───H──────────@───────────────────────────────@──────────H──────────H──────────@──────────────────────────────────────@──────────H──────────X^(-3/7)───@───────────────────────────────@──────────X^(-3/7)───X^(-3/7)───@──────────────────────────────────────@──────────X^(-3/7)───X^(-3/7)───@──────────────────────────────────────@───X^(-3/7)───X^(-3/7)───@───────────────────────────────@──────────X^(-3/7)───\n",
      "                 │                                     │                  │                               │                        │                               │                                │                                      │                                │                               │                                │                                      │                                │                                      │                         │                               │\n",
      "1: ───H──────────X───@───────────────────────@─────────X───H──────────H───X───@───────────────────────@───X─────────H───X^(-3/7)───X───@───────────────────────@───X──────────X^(-3/7)───X^(-3/7)───X───@───────────────────────@──────────X──────────X^(-3/7)───H──────────X───@───────────────────────@───X──────────H──────────H──────────X───@───────────────────────@──────────X──────────H──────────X^(-3/7)───X───@───────────────────────@──────────X───X^(-3/7)───X^(-3/7)───X───@───────────────────────@───X──────────X^(-3/7)───\n",
      "                     │                       │                                │                       │                                │                       │                                        │                       │                                               │                       │                                        │                       │                                               │                       │                                        │                       │\n",
      "2: ───H──────────────X───@───────────────@───X─────────H───X^(-3/7)───────────X───@───────────────@───X───X^(3/7)───H──────────────────X───@───────────────@───X───H──────────X^(-3/7)──────────────────X───@───────────────@───X──────────X^(-3/7)───H─────────────────────────X───@───────────────@───X───H──────────X^(-3/7)──────────────────X───@───────────────@───X──────────X^(-3/7)───H─────────────────────────X───@───────────────@───X──────────H───X^(-3/7)──────────────────X───@───────────────@───X───X^(-3/7)──────────────\n",
      "                         │               │                                        │               │                                        │               │                                                │               │                                                       │               │                                                │               │                                                       │               │                                                │               │\n",
      "3: ───X^(-3/7)───────────X───Z^theta_1───X───X^(3/7)───H──────────────────────────X───Z^theta_1───X───H───H────────────────────────────────X───Z^theta_0───X───H───X^(-3/7)─────────────────────────────────X───Z^theta_1───X───X^(-3/7)───H────────────────────────────────────────X───Z^theta_0───X───H───X^(-3/7)─────────────────────────────────X───Z^theta_1───X───X^(-3/7)───X^(-3/7)─────────────────────────────────X───Z^theta_0───X───X^(-3/7)───H─────────────────────────────────X───Z^theta_0───X───H─────────────────────────\n"
     ]
    }
   ],
   "source": [
    "ansatz=MyAnsatz()\n",
    "print(ansatz.circuit)"
   ]
  },
  {
   "cell_type": "code",
   "execution_count": 97,
   "metadata": {},
   "outputs": [],
   "source": [
    "import openfermionpyscf as ofpyscf\n",
    "geometry = [('H', (0.0, 0.0, 0.0)), ('H', (0.0, 0.0, 0.7414))]\n",
    "basis = 'sto-3g'\n",
    "multiplicity = 1\n",
    "charge = 0\n",
    "\n",
    "# Perform electronic structure calculations and\n",
    "# obtain Hamiltonian as an InteractionOperator\n",
    "hamiltonian = ofpyscf.generate_molecular_hamiltonian(\n",
    "    geometry, basis, multiplicity, charge)\n",
    "\n"
   ]
  },
  {
   "cell_type": "code",
   "execution_count": 108,
   "metadata": {},
   "outputs": [
    {
     "name": "stdout",
     "output_type": "stream",
     "text": [
      "0: ───────H──────────@─────────────────────────────────────@───H──────────H───@───────────────────────────────@─────────H───H──────────@───────────────────────────────@──────────H──────────H──────────@──────────────────────────────────────@──────────H──────────X^(-3/7)───@───────────────────────────────@──────────X^(-3/7)───X^(-3/7)───@──────────────────────────────────────@──────────X^(-3/7)───X^(-3/7)───@──────────────────────────────────────@───X^(-3/7)───X^(-3/7)───@───────────────────────────────@──────────X^(-3/7)───\n",
      "                     │                                     │                  │                               │                        │                               │                                │                                      │                                │                               │                                │                                      │                                │                                      │                         │                               │\n",
      "1: ───────H──────────X───@───────────────────────@─────────X───H──────────H───X───@───────────────────────@───X─────────H───X^(-3/7)───X───@───────────────────────@───X──────────X^(-3/7)───X^(-3/7)───X───@───────────────────────@──────────X──────────X^(-3/7)───H──────────X───@───────────────────────@───X──────────H──────────H──────────X───@───────────────────────@──────────X──────────H──────────X^(-3/7)───X───@───────────────────────@──────────X───X^(-3/7)───X^(-3/7)───X───@───────────────────────@───X──────────X^(-3/7)───\n",
      "                         │                       │                                │                       │                                │                       │                                        │                       │                                               │                       │                                        │                       │                                               │                       │                                        │                       │\n",
      "2: ───────H──────────────X───@───────────────@───X─────────H───X^(-3/7)───────────X───@───────────────@───X───X^(3/7)───H──────────────────X───@───────────────@───X───H──────────X^(-3/7)──────────────────X───@───────────────@───X──────────X^(-3/7)───H─────────────────────────X───@───────────────@───X───H──────────X^(-3/7)──────────────────X───@───────────────@───X──────────X^(-3/7)───H─────────────────────────X───@───────────────@───X──────────H───X^(-3/7)──────────────────X───@───────────────@───X───X^(-3/7)──────────────\n",
      "                             │               │                                        │               │                                        │               │                                                │               │                                                       │               │                                                │               │                                                       │               │                                                │               │\n",
      "3: ───X───X^(-3/7)───────────X───Z^theta_1───X───X^(3/7)───H──────────────────────────X───Z^theta_1───X───H───H────────────────────────────────X───Z^theta_0───X───H───X^(-3/7)─────────────────────────────────X───Z^theta_1───X───X^(-3/7)───H────────────────────────────────────────X───Z^theta_0───X───H───X^(-3/7)─────────────────────────────────X───Z^theta_1───X───X^(-3/7)───X^(-3/7)─────────────────────────────────X───Z^theta_0───X───X^(-3/7)───H─────────────────────────────────X───Z^theta_0───X───H─────────────────────────\n",
      "2\n",
      "[0. 0.]\n",
      "The energy of the default initial guess is -0.17207175963989718.\n"
     ]
    }
   ],
   "source": [
    "# Define the objective function\n",
    "objective = ofc.HamiltonianObjective(hamiltonian)\n",
    "\n",
    "# Create preparation circuit\n",
    "q0, q1, q2, q3 = ansatz.qubits\n",
    "preparation_circuit = cirq.Circuit.from_ops(cirq.X(q3))\n",
    "\n",
    "# Create variational study\n",
    "study = ofc.VariationalStudy(\n",
    "    name='my_hydrogen_study',\n",
    "    ansatz=ansatz,\n",
    "    objective=objective,\n",
    "    preparation_circuit=preparation_circuit)\n",
    "\n",
    "print(study.circuit)\n",
    "print(study.num_params)\n",
    "print(ansatz.default_initial_params())\n",
    "print(\"The energy of the default initial guess is {}.\".format(study.value_of(ansatz.default_initial_params())))"
   ]
  },
  {
   "cell_type": "code",
   "execution_count": 109,
   "metadata": {},
   "outputs": [
    {
     "name": "stdout",
     "output_type": "stream",
     "text": [
      "Optimized value: -0.3706695638982433\n",
      "Optimized parameters:\n",
      "[-0.1839796   0.03046497]\n"
     ]
    }
   ],
   "source": [
    "# Choose an initial guess\n",
    "#initial_guess =  np.linspace(0,0.05677,2)\n",
    "#print('Value of initial guess: {}'.format(study.value_of(initial_guess)))\n",
    "\n",
    "# Choose an algorithm\n",
    "algorithm = ofc.optimization.ScipyOptimizationAlgorithm(\n",
    "    kwargs={'method': 'COBYLA'},\n",
    "    options={'maxiter': 100})\n",
    "\n",
    "# Create OptimizationParams object\n",
    "optimization_params = ofc.optimization.OptimizationParams(\n",
    "    algorithm=algorithm,\n",
    "    initial_guess=ansatz.default_initial_params())\n",
    "\n",
    "# Run optimization\n",
    "result = study.optimize(optimization_params)\n",
    "print('Optimized value: {}'.format(result.optimal_value))\n",
    "print(\"Optimized parameters:\")\n",
    "print(result.optimal_parameters)"
   ]
  },
  {
   "cell_type": "code",
   "execution_count": 102,
   "metadata": {},
   "outputs": [
    {
     "name": "stdout",
     "output_type": "stream",
     "text": [
      "[0.      0.05677]\n",
      "-1.1372703406409186\n"
     ]
    }
   ],
   "source": [
    "print(np.linspace(0,0.05677,2))\n",
    "print(molecule.ccsd_energy)"
   ]
  },
  {
   "cell_type": "code",
   "execution_count": 79,
   "metadata": {},
   "outputs": [
    {
     "name": "stdout",
     "output_type": "stream",
     "text": [
      "H 0\n",
      "H 1\n",
      "H 2\n",
      "Rx 1.5707963267948966 3\n",
      "CNOT 0 1\n",
      "CNOT 1 2\n",
      "CNOT 2 3\n",
      "Rz -0.0141925 3\n",
      "CNOT 2 3\n",
      "CNOT 1 2\n",
      "CNOT 0 1\n",
      "H 0\n",
      "H 1\n",
      "H 2\n",
      "Rx -1.5707963267948966 3\n",
      "H 0\n",
      "H 1\n",
      "Rx 1.5707963267948966 2\n",
      "H 3\n",
      "CNOT 0 1\n",
      "CNOT 1 2\n",
      "CNOT 2 3\n",
      "Rz -0.0141925 3\n",
      "CNOT 2 3\n",
      "CNOT 1 2\n",
      "CNOT 0 1\n",
      "H 0\n",
      "H 1\n",
      "Rx -1.5707963267948966 2\n",
      "H 3\n",
      "H 0\n",
      "Rx 1.5707963267948966 1\n",
      "H 2\n",
      "H 3\n",
      "CNOT 0 1\n",
      "CNOT 1 2\n",
      "CNOT 2 3\n",
      "Rz 0.0141925 3\n",
      "CNOT 2 3\n",
      "CNOT 1 2\n",
      "CNOT 0 1\n",
      "H 0\n",
      "Rx -1.5707963267948966 1\n",
      "H 2\n",
      "H 3\n",
      "H 0\n",
      "Rx 1.5707963267948966 1\n",
      "Rx 1.5707963267948966 2\n",
      "Rx 1.5707963267948966 3\n",
      "CNOT 0 1\n",
      "CNOT 1 2\n",
      "CNOT 2 3\n",
      "Rz -0.0 3\n",
      "CNOT 2 3\n",
      "CNOT 1 2\n",
      "CNOT 0 1\n",
      "H 0\n",
      "Rx -1.5707963267948966 1\n",
      "Rx -1.5707963267948966 2\n",
      "Rx -1.5707963267948966 3\n",
      "Rx 1.5707963267948966 0\n",
      "H 1\n",
      "H 2\n",
      "H 3\n",
      "CNOT 0 1\n",
      "CNOT 1 2\n",
      "CNOT 2 3\n",
      "Rz 0.0141925 3\n",
      "CNOT 2 3\n",
      "CNOT 1 2\n",
      "CNOT 0 1\n",
      "Rx -1.5707963267948966 0\n",
      "H 1\n",
      "H 2\n",
      "H 3\n",
      "Rx 1.5707963267948966 0\n",
      "H 1\n",
      "Rx 1.5707963267948966 2\n",
      "Rx 1.5707963267948966 3\n",
      "CNOT 0 1\n",
      "CNOT 1 2\n",
      "CNOT 2 3\n",
      "Rz -0.0141925 3\n",
      "CNOT 2 3\n",
      "CNOT 1 2\n",
      "CNOT 0 1\n",
      "Rx -1.5707963267948966 0\n",
      "H 1\n",
      "Rx -1.5707963267948966 2\n",
      "Rx -1.5707963267948966 3\n",
      "Rx 1.5707963267948966 0\n",
      "Rx 1.5707963267948966 1\n",
      "H 2\n",
      "Rx 1.5707963267948966 3\n",
      "CNOT 0 1\n",
      "CNOT 1 2\n",
      "CNOT 2 3\n",
      "Rz 0.0141925 3\n",
      "CNOT 2 3\n",
      "CNOT 1 2\n",
      "CNOT 0 1\n",
      "Rx -1.5707963267948966 0\n",
      "Rx -1.5707963267948966 1\n",
      "H 2\n",
      "Rx -1.5707963267948966 3\n",
      "Rx 1.5707963267948966 0\n",
      "Rx 1.5707963267948966 1\n",
      "Rx 1.5707963267948966 2\n",
      "H 3\n",
      "CNOT 0 1\n",
      "CNOT 1 2\n",
      "CNOT 2 3\n",
      "Rz 0.0141925 3\n",
      "CNOT 2 3\n",
      "CNOT 1 2\n",
      "CNOT 0 1\n",
      "Rx -1.5707963267948966 0\n",
      "Rx -1.5707963267948966 1\n",
      "Rx -1.5707963267948966 2\n",
      "H 3\n"
     ]
    }
   ],
   "source": [
    "from openfermion.ops import QubitOperator\n",
    "from openfermion.utils import pauli_exp_to_qasm\n",
    "for line in pauli_exp_to_qasm([QubitOperator('X0 X1 X2 Y3',-0.0141925),QubitOperator('X0 X1 Y2 X3',-0.0141925), QubitOperator('X0 Y1 X2 X3', 0.0141925), \n",
    "                              QubitOperator('X0 Y1 Y2 Y3',-0.0141925j),QubitOperator('Y0 X1 X2 X3', 0.0141925), QubitOperator('Y0 X1 Y2 Y3',-0.0141925),\n",
    "                              QubitOperator('Y0 Y1 X2 Y3',0.0141925), QubitOperator('Y0 Y1 Y2 X3',0.0141925)]):\n",
    "    print(line)\n"
   ]
  },
  {
   "cell_type": "code",
   "execution_count": 107,
   "metadata": {},
   "outputs": [
    {
     "name": "stdout",
     "output_type": "stream",
     "text": [
      "2\n",
      "2\n",
      "4\n",
      "[0. 0. 0. 1.]\n"
     ]
    }
   ],
   "source": [
    "from openfermion.utils import jw_configuration_state, jw_hartree_fock_state\n",
    "print(molecule.n_orbitals)\n",
    "print(molecule.n_electrons)\n",
    "print(molecule.n_qubits)\n",
    "referensi=jw_hartree_fock_state(2,2)\n",
    "print(referensi)"
   ]
  },
  {
   "cell_type": "code",
   "execution_count": 23,
   "metadata": {},
   "outputs": [
    {
     "name": "stdout",
     "output_type": "stream",
     "text": [
      "0.7151043390810812 [] +\n",
      "-1.2533097866459773 [0^ 0] +\n",
      "0.3373779634072241 [0^ 0^ 0 0] +\n",
      "0.09060523100759854 [0^ 0^ 2 2] +\n",
      "0.3373779634072241 [0^ 1^ 1 0] +\n",
      "0.09060523100759854 [0^ 1^ 3 2] +\n",
      "0.09060523100759854 [0^ 2^ 0 2] +\n",
      "0.3318557006754069 [0^ 2^ 2 0] +\n",
      "0.09060523100759854 [0^ 3^ 1 2] +\n",
      "0.3318557006754069 [0^ 3^ 3 0] +\n",
      "0.3373779634072241 [1^ 0^ 0 1] +\n",
      "0.09060523100759854 [1^ 0^ 2 3] +\n",
      "-1.2533097866459773 [1^ 1] +\n",
      "0.3373779634072241 [1^ 1^ 1 1] +\n",
      "0.09060523100759854 [1^ 1^ 3 3] +\n",
      "0.09060523100759854 [1^ 2^ 0 3] +\n",
      "0.3318557006754069 [1^ 2^ 2 1] +\n",
      "0.09060523100759854 [1^ 3^ 1 3] +\n",
      "0.3318557006754069 [1^ 3^ 3 1] +\n",
      "0.3318557006754069 [2^ 0^ 0 2] +\n",
      "0.09060523100759854 [2^ 0^ 2 0] +\n",
      "0.3318557006754069 [2^ 1^ 1 2] +\n",
      "0.09060523100759854 [2^ 1^ 3 0] +\n",
      "-0.47506884877217576 [2^ 2] +\n",
      "0.09060523100759854 [2^ 2^ 0 0] +\n",
      "0.348825752245232 [2^ 2^ 2 2] +\n",
      "0.09060523100759854 [2^ 3^ 1 0] +\n",
      "0.348825752245232 [2^ 3^ 3 2] +\n",
      "0.3318557006754069 [3^ 0^ 0 3] +\n",
      "0.09060523100759854 [3^ 0^ 2 1] +\n",
      "0.3318557006754069 [3^ 1^ 1 3] +\n",
      "0.09060523100759854 [3^ 1^ 3 1] +\n",
      "0.09060523100759854 [3^ 2^ 0 1] +\n",
      "0.348825752245232 [3^ 2^ 2 3] +\n",
      "-0.47506884877217576 [3^ 3] +\n",
      "0.09060523100759854 [3^ 3^ 1 1] +\n",
      "0.348825752245232 [3^ 3^ 3 3]\n",
      "(-0.0970662681676283+0j) [] +\n",
      "(-0.04530261550379927+0j) [X0 X1 Y2 Y3] +\n",
      "(0.04530261550379927+0j) [X0 Y1 Y2 X3] +\n",
      "(0.04530261550379927+0j) [Y0 X1 X2 Y3] +\n",
      "(-0.04530261550379927+0j) [Y0 Y1 X2 X3] +\n",
      "(0.17141282644776895+0j) [Z0] +\n",
      "(0.16868898170361205+0j) [Z0 Z1] +\n",
      "(0.12062523483390417+0j) [Z0 Z2] +\n",
      "(0.16592785033770344+0j) [Z0 Z3] +\n",
      "(0.17141282644776898+0j) [Z1] +\n",
      "(0.16592785033770344+0j) [Z1 Z2] +\n",
      "(0.12062523483390417+0j) [Z1 Z3] +\n",
      "(-0.22343153690813572+0j) [Z2] +\n",
      "(0.174412876122616+0j) [Z2 Z3] +\n",
      "(-0.22343153690813572+0j) [Z3]\n"
     ]
    }
   ],
   "source": [
    "print(fermion)\n",
    "jw2=jordan_wigner(fermion)\n",
    "print(jw2)"
   ]
  },
  {
   "cell_type": "code",
   "execution_count": 24,
   "metadata": {},
   "outputs": [
    {
     "name": "stdout",
     "output_type": "stream",
     "text": [
      "H 0\n",
      "H 1\n",
      "Rx 1.5707963267948966 2\n",
      "Rx 1.5707963267948966 3\n",
      "CNOT 0 1\n",
      "CNOT 1 2\n",
      "CNOT 2 3\n",
      "Rz -0.045302615503799264 3\n",
      "CNOT 2 3\n",
      "CNOT 1 2\n",
      "CNOT 0 1\n",
      "H 0\n",
      "H 1\n",
      "Rx -1.5707963267948966 2\n",
      "Rx -1.5707963267948966 3\n"
     ]
    }
   ],
   "source": [
    "for line in pauli_exp_to_qasm([QubitOperator('X0 X1 Y2 Y3',-0.045302615503799264)]):\n",
    "    print(line)"
   ]
  },
  {
   "cell_type": "code",
   "execution_count": 20,
   "metadata": {},
   "outputs": [],
   "source": [
    "from openfermion.ops import InteractionOperator\n",
    "core_constat,  one_body_integrals, two_body_integrals = (molecule.get_active_space_integrals([0], [1]))\n",
    "active_space_hamiltonian= InteractionOperator(core_constat,one_body_integrals,two_body_integrals)"
   ]
  },
  {
   "cell_type": "code",
   "execution_count": 21,
   "metadata": {},
   "outputs": [
    {
     "name": "stdout",
     "output_type": "stream",
     "text": [
      "() -1.8318636464775062\n",
      "((0, 1), (0, 0)) 0.6711434919142547\n",
      "((0, 1), (0, 1), (0, 0), (0, 0)) 0.6976515044904635\n",
      "\n"
     ]
    }
   ],
   "source": [
    "print(active_space_hamiltonian)"
   ]
  },
  {
   "cell_type": "code",
   "execution_count": null,
   "metadata": {},
   "outputs": [],
   "source": []
  }
 ],
 "metadata": {
  "kernelspec": {
   "display_name": "Python 3",
   "language": "python",
   "name": "python3"
  },
  "language_info": {
   "codemirror_mode": {
    "name": "ipython",
    "version": 3
   },
   "file_extension": ".py",
   "mimetype": "text/x-python",
   "name": "python",
   "nbconvert_exporter": "python",
   "pygments_lexer": "ipython3",
   "version": "3.6.8"
  }
 },
 "nbformat": 4,
 "nbformat_minor": 4
}
