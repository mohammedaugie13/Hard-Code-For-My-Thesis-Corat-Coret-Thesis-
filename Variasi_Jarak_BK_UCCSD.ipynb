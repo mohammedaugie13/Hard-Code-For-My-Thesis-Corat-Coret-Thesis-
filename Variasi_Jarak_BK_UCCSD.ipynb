{
 "cells": [
  {
   "cell_type": "code",
   "execution_count": 1,
   "metadata": {},
   "outputs": [],
   "source": [
    "import openfermionpyscf as ofpyscf\n",
    "import openfermion as of\n",
    "import cirq\n",
    "import openfermioncirq as ofc\n",
    "import numpy as np\n",
    "import pyscf\n",
    "from openfermion.transforms import get_fermion_operator, jordan_wigner, bravyi_kitaev"
   ]
  },
  {
   "cell_type": "code",
   "execution_count": 2,
   "metadata": {},
   "outputs": [
    {
     "name": "stdout",
     "output_type": "stream",
     "text": [
      "0.7414\n"
     ]
    }
   ],
   "source": [
    "diatomic_bond_length = .7414\n",
    "geometry = [('H', (0., 0., 0.)), ('H', (0., 0., diatomic_bond_length))]\n",
    "basis = 'sto-3g'\n",
    "multiplicity = 1\n",
    "charge = 0\n",
    "description = str(diatomic_bond_length)\n",
    "print(description)"
   ]
  },
  {
   "cell_type": "code",
   "execution_count": 3,
   "metadata": {},
   "outputs": [
    {
     "name": "stdout",
     "output_type": "stream",
     "text": [
      "-1.1372703406409168\n"
     ]
    }
   ],
   "source": [
    "from openfermion.hamiltonians import MolecularData\n",
    "molecule = MolecularData(geometry, basis, multiplicity, charge)\n",
    "h2_molecule = ofpyscf.run_pyscf(molecule, run_mp2=True, run_cisd=True, run_ccsd=True, run_fci=True)\n",
    "elektron=h2_molecule.n_electrons\n",
    "orbitals = h2_molecule.n_orbitals\n",
    "qubit= h2_molecule.n_qubits\n",
    "print(h2_molecule.ccsd_energy)"
   ]
  },
  {
   "cell_type": "code",
   "execution_count": 4,
   "metadata": {},
   "outputs": [
    {
     "name": "stdout",
     "output_type": "stream",
     "text": [
      "-0.05677 [0^ 2 1^ 3] +\n",
      "-0.05677 [1^ 3 0^ 2] +\n",
      "0.05677 [2^ 0 3^ 1] +\n",
      "0.05677 [3^ 1 2^ 0]\n"
     ]
    }
   ],
   "source": [
    "from openfermion.utils import uccsd_singlet_generator\n",
    "initial_amplitudes = np.linspace(0,0.05677,2)\n",
    "#membuat ansatz UCCSD\n",
    "uccsd_fermion=uccsd_singlet_generator(initial_amplitudes,qubit,elektron)\n",
    "print(uccsd_fermion)"
   ]
  },
  {
   "cell_type": "code",
   "execution_count": 5,
   "metadata": {},
   "outputs": [
    {
     "name": "stdout",
     "output_type": "stream",
     "text": [
      "-0.0141925j [X0 Z1 Y2] +\n",
      "-0.0141925j [X0 Z1 Y2 Z3] +\n",
      "-0.0141925j [X0 Y2] +\n",
      "-0.0141925j [X0 Y2 Z3] +\n",
      "0.0141925j [Y0 Z1 X2] +\n",
      "0.0141925j [Y0 Z1 X2 Z3] +\n",
      "0.0141925j [Y0 X2] +\n",
      "0.0141925j [Y0 X2 Z3]\n"
     ]
    }
   ],
   "source": [
    "# ansatz dirubah dari fermion operator menjadi qubit operator\n",
    "uccsd_bk=bravyi_kitaev(uccsd_fermion)\n",
    "print(uccsd_bk)"
   ]
  },
  {
   "cell_type": "code",
   "execution_count": 6,
   "metadata": {},
   "outputs": [],
   "source": [
    "class Ansatz(ofc.VariationalAnsatz):\n",
    "    def params(self):\n",
    "        '''Parameter of the ansatz'''\n",
    "        return [cirq.Symbol('theta_0'),cirq.Symbol('theta_1')]\n",
    "    def operations(self, qubits):\n",
    "        '''Ansatz Prosedur'''\n",
    "        q0, q1, q2, q3 = qubits\n",
    "        yield cirq.H(q0)\n",
    "        yield cirq.XPowGate(exponent=1.5707963267948966).on(q2)\n",
    "        yield cirq.CNOT(q0,q1),cirq.CNOT(q1,q2)\n",
    "        yield cirq.ZPowGate(exponent=cirq.Symbol('theta_0')).on(q2)\n",
    "        yield cirq.CNOT(q1,q2),cirq.CNOT(q0,q1)\n",
    "        yield cirq.H(q0)\n",
    "        yield cirq.XPowGate(exponent=-1.5707963267948966).on(q2)\n",
    "         \n",
    "        yield cirq.H(q0)\n",
    "        yield cirq.XPowGate(exponent=1.5707963267948966).on(q2)\n",
    "        yield cirq.CNOT(q0,q1),cirq.CNOT(q1,q2),cirq.CNOT(q2,q3)\n",
    "        yield cirq.ZPowGate(exponent=cirq.Symbol('theta_0')).on(q3)\n",
    "        yield cirq.CNOT(q2,q3),cirq.CNOT(q1,q2),cirq.CNOT(q0,q1)\n",
    "        yield cirq.H(q0)\n",
    "        yield cirq.XPowGate(exponent=-1.5707963267948966).on(q2)\n",
    "        \n",
    "        yield cirq.H(q0)\n",
    "        yield cirq.XPowGate(exponent=1.5707963267948966).on(q2)\n",
    "        yield cirq.CNOT(q0,q2)\n",
    "        yield cirq.ZPowGate(exponent=cirq.Symbol('theta_0')).on(q2)\n",
    "        yield cirq.CNOT(q0,q2)\n",
    "        yield cirq.H(q0)\n",
    "        yield cirq.XPowGate(exponent=-1.5707963267948966).on(q2)\n",
    "        \n",
    "        yield cirq.H(q0)\n",
    "        yield cirq.XPowGate(exponent=1.5707963267948966).on(q2)\n",
    "        yield cirq.CNOT(q0,q2),cirq.CNOT(q2,q3)\n",
    "        yield cirq.ZPowGate(exponent=cirq.Symbol('theta_0')).on(q3)\n",
    "        yield cirq.CNOT(q2,q3),cirq.CNOT(q0,q2)\n",
    "        yield cirq.H(q0)\n",
    "        yield cirq.XPowGate(exponent=-1.5707963267948966).on(q2)\n",
    "        \n",
    "        \n",
    "        yield cirq.XPowGate(exponent=1.5707963267948966).on(q0)\n",
    "        yield cirq.H(q2)\n",
    "        yield cirq.CNOT(q0,q1),cirq.CNOT(q1,q2)\n",
    "        yield cirq.ZPowGate(exponent=cirq.Symbol('theta_1')).on(q2)\n",
    "        yield cirq.CNOT(q1,q2),cirq.CNOT(q0,q1)\n",
    "        yield cirq.XPowGate(exponent=-1.5707963267948966).on(q0)\n",
    "        yield cirq.H(q2)\n",
    "        \n",
    "        yield cirq.XPowGate(exponent=1.5707963267948966).on(q0)\n",
    "        yield cirq.H(q2)\n",
    "        yield cirq.CNOT(q0,q1),cirq.CNOT(q1,q2),cirq.CNOT(q2,q3)\n",
    "        yield cirq.ZPowGate(exponent=cirq.Symbol('theta_1')).on(q3)\n",
    "        yield cirq.CNOT(q2,q3),cirq.CNOT(q1,q2),cirq.CNOT(q0,q1)\n",
    "        yield cirq.XPowGate(exponent=-1.5707963267948966).on(q0)\n",
    "        yield cirq.H(q2)\n",
    "        \n",
    "        yield cirq.XPowGate(exponent=1.5707963267948966).on(q0)\n",
    "        yield cirq.H(q2)\n",
    "        yield cirq.CNOT(q0,q2)\n",
    "        yield cirq.ZPowGate(exponent=cirq.Symbol('theta_1')).on(q2)\n",
    "        yield cirq.CNOT(q0,q2)\n",
    "        yield cirq.XPowGate(exponent=-1.5707963267948966).on(q0)\n",
    "        yield cirq.H(q2)\n",
    "        \n",
    "        yield cirq.XPowGate(exponent=1.5707963267948966).on(q0)\n",
    "        yield cirq.H(q2)\n",
    "        yield cirq.CNOT(q0,q2),cirq.CNOT(q2,q3)\n",
    "        yield cirq.ZPowGate(exponent=cirq.Symbol('theta_1')).on(q3)\n",
    "        yield cirq.CNOT(q2,q3),cirq.CNOT(q0,q2)\n",
    "        yield cirq.XPowGate(exponent=-1.5707963267948966).on(q0)\n",
    "        yield cirq.H(q2)\n",
    "        \n",
    "        \n",
    "    def _generate_qubits(set):\n",
    "        return cirq.LineQubit.range(4)"
   ]
  },
  {
   "cell_type": "code",
   "execution_count": 7,
   "metadata": {},
   "outputs": [],
   "source": [
    "FungsiCoba=Ansatz()"
   ]
  },
  {
   "cell_type": "code",
   "execution_count": 8,
   "metadata": {},
   "outputs": [],
   "source": [
    "bond_length_interval = 0.1\n",
    "n_points = 25"
   ]
  },
  {
   "cell_type": "code",
   "execution_count": 12,
   "metadata": {},
   "outputs": [
    {
     "name": "stdout",
     "output_type": "stream",
     "text": [
      "Jarak Antar Atom= 0.3\n",
      "Energi CCSD=\n",
      "CCSD=. -0.6018037168042082\n",
      "Nilai optimum: 0.9968941071023125\n",
      "Jarak Antar Atom= 0.4\n",
      "Energi CCSD=\n",
      "CCSD=. -0.9141497080889696\n",
      "Nilai optimum: 0.4474495262936533\n",
      "Jarak Antar Atom= 0.5\n",
      "Energi CCSD=\n",
      "CCSD=. -1.05515979649697\n",
      "Nilai optimum: 0.09813011326929118\n",
      "Jarak Antar Atom= 0.6\n",
      "Energi CCSD=\n",
      "CCSD=. -1.1162860078288028\n",
      "Nilai optimum: -0.13722944850975655\n",
      "Jarak Antar Atom= 0.7\n",
      "Energi CCSD=\n",
      "CCSD=. -1.1361894542843936\n",
      "Nilai optimum: -0.29945247977832745\n",
      "Jarak Antar Atom= 0.8\n",
      "Energi CCSD=\n",
      "CCSD=. -1.1341476664304937\n",
      "Nilai optimum: -0.4125510184176939\n",
      "Jarak Antar Atom= 0.9\n",
      "Energi CCSD=\n",
      "CCSD=. -1.120560280971827\n",
      "Nilai optimum: -0.49227769859843035\n",
      "Jarak Antar Atom= 1.0\n",
      "Energi CCSD=\n",
      "CCSD=. -1.101150330871435\n",
      "Nilai optimum: -0.5490812095500988\n",
      "Jarak Antar Atom= 1.1\n",
      "Energi CCSD=\n",
      "CCSD=. -1.0791929438391945\n",
      "Nilai optimum: -0.5897374708646498\n",
      "Jarak Antar Atom= 1.2\n",
      "Energi CCSD=\n",
      "CCSD=. -1.0567407449167354\n",
      "Nilai optimum: -0.6186518778883673\n",
      "Jarak Antar Atom= 1.3\n",
      "Energi CCSD=\n",
      "CCSD=. -1.0351862642484724\n",
      "Nilai optimum: -0.6388194811317457\n",
      "Jarak Antar Atom= 1.4\n",
      "Energi CCSD=\n",
      "CCSD=. -1.0154682441838383\n",
      "Nilai optimum: -0.652405849903196\n",
      "Jarak Antar Atom= 1.5\n",
      "Energi CCSD=\n",
      "CCSD=. -0.9981493526444732\n",
      "Nilai optimum: -0.6610488453402227\n",
      "Jarak Antar Atom= 1.6\n",
      "Energi CCSD=\n",
      "CCSD=. -0.9834727288833649\n",
      "Nilai optimum: -0.6660105341529635\n",
      "Jarak Antar Atom= 1.7\n",
      "Energi CCSD=\n",
      "CCSD=. -0.9714266897613956\n",
      "Nilai optimum: -0.6682645948047753\n",
      "Jarak Antar Atom= 1.8\n",
      "Energi CCSD=\n",
      "CCSD=. -0.9618169564719969\n",
      "Nilai optimum: -0.6685579129965216\n",
      "Jarak Antar Atom= 1.9\n",
      "Energi CCSD=\n",
      "CCSD=. -0.9543388603371041\n",
      "Nilai optimum: -0.6674593055296173\n",
      "Jarak Antar Atom= 2.0\n",
      "Energi CCSD=\n",
      "CCSD=. -0.9486411200223283\n",
      "Nilai optimum: -0.6653988443211285\n",
      "Jarak Antar Atom= 2.1\n",
      "Energi CCSD=\n",
      "CCSD=. -0.9443746805427004\n",
      "Nilai optimum: -0.662699125925078\n",
      "Jarak Antar Atom= 2.2\n",
      "Energi CCSD=\n",
      "CCSD=. -0.9412240380526193\n",
      "Nilai optimum: -0.6595997790548943\n",
      "Jarak Antar Atom= 2.3\n",
      "Energi CCSD=\n",
      "CCSD=. -0.9389223873887634\n",
      "Nilai optimum: -0.6562765843778695\n",
      "Jarak Antar Atom= 2.4\n",
      "Energi CCSD=\n",
      "CCSD=. -0.937254952713349\n",
      "Nilai optimum: -0.6528564289510517\n",
      "Jarak Antar Atom= 2.5\n",
      "Energi CCSD=\n",
      "CCSD=. -0.9360549194460772\n",
      "Nilai optimum: -0.6494290407544866\n"
     ]
    },
    {
     "data": {
      "image/png": "[encoded data removed]",
      "text/plain": [
       "<Figure size 432x288 with 1 Axes>"
      ]
     },
     "metadata": {
      "needs_background": "light"
     },
     "output_type": "display_data"
    }
   ],
   "source": [
    "ccsd_energies = []\n",
    "hf_energies=[]\n",
    "vqe_uccsd_energies = []\n",
    "fci_energies=[]\n",
    "bond_lengths = []\n",
    "for point in range(3, n_points + 1):\n",
    "    bond_length = bond_length_interval * point\n",
    "    bond_lengths += [bond_length]\n",
    "    description = str(round(bond_length,2))\n",
    "    print(\"Jarak Antar Atom=\",description)\n",
    "    geometry = [('H', (0., 0., 0.)), ('H', (0., 0., bond_length))]\n",
    "    molecule1 = MolecularData(\n",
    "        geometry, basis, multiplicity, description=description)\n",
    "    molecule1.load()\n",
    "    hamiltonian = ofpyscf.generate_molecular_hamiltonian(geometry, basis, multiplicity, charge)\n",
    "    #print(hamiltonian)\n",
    "    hamiltonan_bk=bravyi_kitaev(get_fermion_operator(hamiltonian))\n",
    "    #print(\"H_JW=\",hamiltonan_jw)\n",
    "    #mendeklarasikan Hamiltonan yang akan ditinjau\n",
    "    objektif = ofc.HamiltonianObjective(hamiltonan_bk)\n",
    "\n",
    "    #membuat keadaan referensi\n",
    "    q0, q1, _, _ = FungsiCoba.qubits\n",
    "    keadaan_refensi = cirq.Circuit.from_ops(cirq.X(q0), cirq.X(q1))\n",
    "\n",
    "\n",
    "    study = ofc.VariationalStudy(name='VQE JW Hidrogen',ansatz=FungsiCoba,objective=objektif,preparation_circuit=keadaan_refensi)\n",
    "    #optimasi\n",
    "    algoritma = ofc.optimization.ScipyOptimizationAlgorithm(kwargs={'method': 'nelder-mead'},options={'maxiter': 100})\n",
    "\n",
    "\n",
    "    optimization_params = ofc.optimization.OptimizationParams(algorithm=algoritma,initial_guess=FungsiCoba.default_initial_params())\n",
    "    result = study.optimize(optimization_params)\n",
    "    print(\"Energi CCSD=\",)\n",
    "    print(\"CCSD=.\",molecule1.ccsd_energy)\n",
    "    print('Nilai optimum: {}'.format(result.optimal_value))\n",
    "    #print(\"parameter optimasinya:\")\n",
    "    #print(result.optimal_parameters)\n",
    "    ccsd_energies += [molecule1.ccsd_energy]\n",
    "    fci_energies += [molecule1.fci_energy]\n",
    "    hf_energies += [molecule1.hf_energy]\n",
    "    vqe_uccsd_energies += [result.optimal_value]\n",
    "import matplotlib.pyplot as plt\n",
    "%matplotlib inline\n",
    "\n",
    "plt.figure(0)\n",
    "plt.plot(bond_lengths, ccsd_energies, 'b-',label='Energi CCSD')\n",
    "plt.plot(bond_lengths, vqe_uccsd_energies, 'co',label='Energi UCCSD')\n",
    "plt.plot(bond_lengths, fci_energies,'g-->',label='Energi FCI')\n",
    "plt.plot(bond_lengths, hf_energies,'r^',label='Energi HF')\n",
    "plt.legend(loc='upper right')\n",
    "plt.grid()\n",
    "plt.ylabel('Energy in Hartree')\n",
    "plt.xlabel('Bond length in angstrom')\n",
    "plt.show()\n"
   ]
  },
  {
   "cell_type": "code",
   "execution_count": 13,
   "metadata": {},
   "outputs": [
    {
     "data": {
      "text/plain": [
       "<matplotlib.legend.Legend at 0x7f4b72228f28>"
      ]
     },
     "execution_count": 13,
     "metadata": {},
     "output_type": "execute_result"
    },
    {
     "data": {
      "image/png": "[encoded data removed]",
      "text/plain": [
       "<Figure size 432x288 with 1 Axes>"
      ]
     },
     "metadata": {
      "needs_background": "light"
     },
     "output_type": "display_data"
    }
   ],
   "source": [
    "plt.figure()\n",
    "plt.semilogy(bond_lengths,np.abs(np.subtract(fci_energies,hf_energies)),label='Energi HF')\n",
    "plt.semilogy(bond_lengths,np.abs(np.subtract(fci_energies,ccsd_energies)),label='Energi CCSD')\n",
    "plt.semilogy(bond_lengths,np.abs(np.subtract(fci_energies,vqe_uccsd_energies)),label='Energi UCCSD')\n",
    "plt.semilogy(bond_lengths,0.0016*np.ones([len(bond_lengths),1]),label='Chemical Accuracy',linestyle='-.',color='black')\n",
    "plt.xlabel('Jarak Antar Molekul (Angstrom)')\n",
    "plt.ylabel('Energi Eror Terhadap FCI (Hartree)')\n",
    "#plt.title('Error Terhadap FCI - Disassociation curve hydrogen molecule')\n",
    "plt.legend()"
   ]
  },
  {
   "cell_type": "code",
   "execution_count": null,
   "metadata": {},
   "outputs": [],
   "source": []
  }
 ],
 "metadata": {
  "kernelspec": {
   "display_name": "Python 3",
   "language": "python",
   "name": "python3"
  },
  "language_info": {
   "codemirror_mode": {
    "name": "ipython",
    "version": 3
   },
   "file_extension": ".py",
   "mimetype": "text/x-python",
   "name": "python",
   "nbconvert_exporter": "python",
   "pygments_lexer": "ipython3",
   "version": "3.6.8"
  }
 },
 "nbformat": 4,
 "nbformat_minor": 4
}
