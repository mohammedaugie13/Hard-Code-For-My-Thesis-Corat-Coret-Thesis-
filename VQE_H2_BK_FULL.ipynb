{
 "cells": [
  {
   "cell_type": "code",
   "execution_count": 1,
   "metadata": {},
   "outputs": [],
   "source": [
    "from pyquil.quil import Program\n",
    "import pyquil.api as api\n",
    "from pyquil.gates import *\n",
    "qvm = api.QVMConnection()\n",
    "from pyquil.api import get_qc"
   ]
  },
  {
   "cell_type": "code",
   "execution_count": 59,
   "metadata": {},
   "outputs": [],
   "source": [
    "def h2_bk(x):\n",
    "    #1\n",
    "    prog=Program()\n",
    "    prog+=X(0)\n",
    "    prog+=H(0)\n",
    "    prog+=RX(1.57,2)\n",
    "    prog+=CNOT(0,1)\n",
    "    prog+=CNOT(1,2)\n",
    "    prog+=RZ(x[0],2)\n",
    "    prog+=CNOT(1,2)\n",
    "    prog+=CNOT(0,1)\n",
    "    prog+=H(0)\n",
    "    prog+=RX(-1.57,2)\n",
    "    \n",
    "    #2\n",
    "    prog+=H(0)\n",
    "    prog+=RX(1.57,2)\n",
    "    prog+=CNOT(0,1)\n",
    "    prog+=CNOT(1,2)\n",
    "    prog+=CNOT(2,3)\n",
    "    prog+=RZ(x[0],2)\n",
    "    prog+=CNOT(2,3)\n",
    "    prog+=CNOT(1,2)\n",
    "    prog+=CNOT(0,1)\n",
    "    prog+=H(0)\n",
    "    prog+=RX(-1.57,2)\n",
    "    \n",
    "    #3\n",
    "    prog+=H(0)\n",
    "    prog+=RX(1.57,2)\n",
    "    prog+=CNOT(0,2)\n",
    "    prog+=RZ(x[0],2)\n",
    "    prog+=CNOT(0,2)\n",
    "    prog+=H(0)\n",
    "    prog+=RX(-1.57,2)\n",
    "    \n",
    "    #4\n",
    "    prog+=H(0)\n",
    "    prog+=RX(1.57,2)\n",
    "    prog+=CNOT(0,2)\n",
    "    prog+=CNOT(2,3)\n",
    "    prog+=RZ(x[0],3)\n",
    "    prog+=CNOT(2,3)\n",
    "    prog+=CNOT(0,2)\n",
    "    prog+=H(0)\n",
    "    prog+=RX(-1.57,2)\n",
    "    \n",
    "    #5\n",
    "    prog+=RX(1.57,0)\n",
    "    prog+=H(2)\n",
    "    prog+=CNOT(0,1)\n",
    "    prog+=CNOT(1,2)\n",
    "    prog+=RZ(x[1],2)\n",
    "    prog+=CNOT(1,2)\n",
    "    prog+=CNOT(0,1)\n",
    "    prog+=RX(-1.57,0)\n",
    "    prog+=H(2)\n",
    "    \n",
    "    #6\n",
    "    prog+=RX(1.57,0)\n",
    "    prog+=H(2)\n",
    "    prog+=CNOT(0,1)\n",
    "    prog+=CNOT(1,2)\n",
    "    prog+=CNOT(2,3)\n",
    "    prog+=RZ(x[1],3)\n",
    "    prog+=CNOT(2,3)\n",
    "    prog+=CNOT(1,2)\n",
    "    prog+=CNOT(0,1)\n",
    "    prog+=RX(-1.57,0)\n",
    "    prog+=H(2)\n",
    "    \n",
    "    \n",
    "    #7\n",
    "    prog+=RX(1.57,0)\n",
    "    prog+=H(2)\n",
    "    prog+=CNOT(0,2)\n",
    "    prog+=RZ(x[1],2)\n",
    "    prog+=CNOT(0,2)\n",
    "    prog+=RX(-1.57,0)\n",
    "    prog+=H(2)\n",
    "    \n",
    "    #8\n",
    "    prog+=RX(1.57,0)\n",
    "    prog+=H(2)\n",
    "    prog+=CNOT(0,2)\n",
    "    prog+=CNOT(2,3)\n",
    "    prog+=RZ(x[1],3)\n",
    "    prog+=CNOT(2,3)\n",
    "    prog+=CNOT(0,2)\n",
    "    prog+=RX(-1.57,0)\n",
    "    prog+=H(2)\n",
    "    \n",
    "    return prog"
   ]
  },
  {
   "cell_type": "code",
   "execution_count": 60,
   "metadata": {},
   "outputs": [
    {
     "name": "stdout",
     "output_type": "stream",
     "text": [
      "X 0\n",
      "H 0\n",
      "RX(1.57) 2\n",
      "CNOT 0 1\n",
      "CNOT 1 2\n",
      "RZ(0) 2\n",
      "CNOT 1 2\n",
      "CNOT 0 1\n",
      "H 0\n",
      "RX(-1.57) 2\n",
      "H 0\n",
      "RX(1.57) 2\n",
      "CNOT 0 1\n",
      "CNOT 1 2\n",
      "CNOT 2 3\n",
      "RZ(0) 2\n",
      "CNOT 2 3\n",
      "CNOT 1 2\n",
      "CNOT 0 1\n",
      "H 0\n",
      "RX(-1.57) 2\n",
      "H 0\n",
      "RX(1.57) 2\n",
      "CNOT 0 2\n",
      "RZ(0) 2\n",
      "CNOT 0 2\n",
      "H 0\n",
      "RX(-1.57) 2\n",
      "H 0\n",
      "RX(1.57) 2\n",
      "CNOT 0 2\n",
      "CNOT 2 3\n",
      "RZ(0) 3\n",
      "CNOT 2 3\n",
      "CNOT 0 2\n",
      "H 0\n",
      "RX(-1.57) 2\n",
      "RX(1.57) 0\n",
      "H 2\n",
      "CNOT 0 1\n",
      "CNOT 1 2\n",
      "RZ(0) 2\n",
      "CNOT 1 2\n",
      "CNOT 0 1\n",
      "RX(-1.57) 0\n",
      "H 2\n",
      "RX(1.57) 0\n",
      "H 2\n",
      "CNOT 0 1\n",
      "CNOT 1 2\n",
      "CNOT 2 3\n",
      "RZ(0) 3\n",
      "CNOT 2 3\n",
      "CNOT 1 2\n",
      "CNOT 0 1\n",
      "RX(-1.57) 0\n",
      "H 2\n",
      "RX(1.57) 0\n",
      "H 2\n",
      "CNOT 0 2\n",
      "RZ(0) 2\n",
      "CNOT 0 2\n",
      "RX(-1.57) 0\n",
      "H 2\n",
      "RX(1.57) 0\n",
      "H 2\n",
      "CNOT 0 2\n",
      "CNOT 2 3\n",
      "RZ(0) 3\n",
      "CNOT 2 3\n",
      "CNOT 0 2\n",
      "RX(-1.57) 0\n",
      "H 2\n",
      "\n"
     ]
    }
   ],
   "source": [
    "print(h2_bk([0.0,0.0]))"
   ]
  },
  {
   "cell_type": "code",
   "execution_count": 61,
   "metadata": {},
   "outputs": [],
   "source": [
    "import numpy as np\n",
    "from openfermion.transforms import get_sparse_operator\n",
    "from openfermion.utils import pauli_exp_to_qasm\n",
    "from openfermion.ops import QubitOperator\n",
    "from openfermion.transforms import get_fermion_operator, jordan_wigner, bravyi_kitaev\n",
    "from pyscf import ci\n",
    "from pyscf import mp\n",
    "from openfermionpyscf import run_pyscf\n",
    "from openfermion.hamiltonians import MolecularData\n",
    "import os\n",
    "\n",
    "from numpy import array, concatenate, zeros\n",
    "from numpy.random import randn\n",
    "from scipy.optimize import minimize\n",
    "\n",
    "from openfermion.config import *\n",
    "\n",
    "from openfermion.hamiltonians import MolecularData\n",
    "from openfermion.transforms import jordan_wigner\n",
    "from openfermion.utils import uccsd_singlet_paramsize"
   ]
  },
  {
   "cell_type": "code",
   "execution_count": 62,
   "metadata": {},
   "outputs": [],
   "source": [
    "geometry = [[\"H\", [0, 0, 0]],\n",
    "            [\"H\", [0, 0, 0.7414]]]\n",
    "basis = \"sto-3g\"\n",
    "multiplicity = 1\n",
    "charge = 0\n",
    "molecule = MolecularData(geometry, basis, multiplicity, charge)\n",
    "h2_molecule = run_pyscf(molecule, run_mp2=True, run_cisd=True, run_ccsd=True, run_fci=True)"
   ]
  },
  {
   "cell_type": "code",
   "execution_count": 63,
   "metadata": {},
   "outputs": [
    {
     "name": "stdout",
     "output_type": "stream",
     "text": [
      "(-0.09886396933545721+0j)*I + (0.17119774903432944+0j)*Z0 + (0.17119774903432936+0j)*Z0*Z1 + (-0.22278593040418498+0j)*Z2 + (-0.22278593040418496+0j)*Z1*Z2*Z3 + (0.16862219158920938+0j)*Z1 + (0.04532220205287401+0j)*Y0*Z1*Y2*Z3 + (0.04532220205287401+0j)*X0*Z1*X2 + (0.04532220205287401+0j)*X0*Z1*X2*Z3 + (0.04532220205287401+0j)*Y0*Z1*Y2 + (0.120544822053018+0j)*Z0*Z2 + (0.165867024105892+0j)*Z0*Z1*Z2*Z3 + (0.165867024105892+0j)*Z0*Z1*Z2 + (0.120544822053018+0j)*Z0*Z2*Z3 + (0.17434844185575687+0j)*Z1*Z3\n"
     ]
    }
   ],
   "source": [
    "import openfermionpyscf as ofpyscf\n",
    "from openfermion.ops import QubitOperator\n",
    "from forestopenfermion import pyquilpauli_to_qubitop, qubitop_to_pyquilpauli\n",
    "hamiltonian = ofpyscf.generate_molecular_hamiltonian(\n",
    "    geometry, basis, multiplicity, charge)\n",
    "qubit_operator=bravyi_kitaev(get_fermion_operator(hamiltonian))\n",
    "hamiltonian_bk=qubitop_to_pyquilpauli(qubit_operator)\n",
    "print(hamiltonian_bk)"
   ]
  },
  {
   "cell_type": "code",
   "execution_count": 64,
   "metadata": {},
   "outputs": [],
   "source": [
    "from grove.pyvqe.vqe import VQE\n",
    "from scipy.optimize import minimize\n",
    "import numpy as np\n",
    "\n",
    "vqe_inst = VQE(minimizer=minimize,minimizer_kwargs={'method': 'nelder-mead'})"
   ]
  },
  {
   "cell_type": "code",
   "execution_count": 94,
   "metadata": {},
   "outputs": [
    {
     "name": "stdout",
     "output_type": "stream",
     "text": [
      "WARNING: Fast method for expectation will be used. Noise\n",
      "                     models will be ineffective\n",
      "\tParameters: [-0.0005    0.000375] \n",
      "\tE => -1.1173140701232915\n",
      "\tParameters: [-0.00075    0.0009375] \n",
      "\tE => -1.1178901260506704\n",
      "\tParameters: [-0.001875    0.00146875] \n",
      "\tE => -1.119038572911919\n",
      "\tParameters: [-0.0029375   0.00285937] \n",
      "\tE => -1.1206758235237815\n",
      "\tParameters: [-0.00571875  0.00461719] \n",
      "\tE => -1.1235040663295404\n",
      "\tParameters: [-0.00923438  0.00827734] \n",
      "\tE => -1.1274403998567541\n",
      "\tParameters: [-0.01655469  0.01362305] \n",
      "\tE => -1.1327809972436886\n",
      "\tParameters: [-0.02724609  0.02361621] \n",
      "\tE => -1.1370620933098259\n",
      "\tParameters: [-0.02724609  0.02361621] \n",
      "\tE => -1.1369537533184864\n",
      "\tParameters: [-0.02724609  0.02361621] \n",
      "\tE => -1.1362027279674343\n",
      "\tParameters: [-0.02724609  0.02361621] \n",
      "\tE => -1.1370300285961474\n",
      "\tParameters: [-0.03092432  0.02616565] \n",
      "\tE => -1.1372681669365108\n",
      "\tParameters: [-0.03092432  0.02616565] \n",
      "\tE => -1.1372639878955544\n",
      "\tParameters: [-0.03092432  0.02616565] \n",
      "\tE => -1.1372312577201555\n",
      "\tParameters: [-0.03092432  0.02616565] \n",
      "\tE => -1.1372655692208786\n",
      "\tParameters: [-0.03065152  0.02629942] \n",
      "\tE => -1.1372690417672031\n",
      "\tParameters: [-0.03038279  0.02597297] \n",
      "\tE => -1.1372699602454888\n",
      "\tParameters: [-0.03038279  0.02597297] \n",
      "\tE => -1.1372695145231093\n",
      "\tParameters: [-0.03044896  0.02616963] \n",
      "\tE => -1.1372701196626944\n",
      "\tParameters: [-0.03044896  0.02616963] \n",
      "\tE => -1.1372701154040408\n",
      "\tParameters: [-0.03044584  0.02604229] \n",
      "\tE => -1.1372701522342832\n",
      "\tParameters: [-0.03044584  0.02604229] \n",
      "\tE => -1.1372701498785602\n",
      "\tParameters: [-0.03041743  0.02613497] \n",
      "\tE => -1.137270163704578\n",
      "{'x': array([-0.03041743,  0.02613497]), 'fun': -1.137270163704578, 'iteration_params': [array([-0.0005  ,  0.000375]), array([-0.00075  ,  0.0009375]), array([-0.001875  ,  0.00146875]), array([-0.0029375 ,  0.00285937]), array([-0.00571875,  0.00461719]), array([-0.00923438,  0.00827734]), array([-0.01655469,  0.01362305]), array([-0.02724609,  0.02361621]), array([-0.02724609,  0.02361621]), array([-0.02724609,  0.02361621]), array([-0.02724609,  0.02361621]), array([-0.03092432,  0.02616565]), array([-0.03092432,  0.02616565]), array([-0.03092432,  0.02616565]), array([-0.03092432,  0.02616565]), array([-0.03065152,  0.02629942]), array([-0.03038279,  0.02597297]), array([-0.03038279,  0.02597297]), array([-0.03044896,  0.02616963]), array([-0.03044896,  0.02616963]), array([-0.03044584,  0.02604229]), array([-0.03044584,  0.02604229]), array([-0.03041743,  0.02613497])], 'expectation_vals': [-1.1173140701232915, -1.1178901260506704, -1.119038572911919, -1.1206758235237815, -1.1235040663295404, -1.1274403998567541, -1.1327809972436886, -1.1370620933098259, -1.1369537533184864, -1.1362027279674343, -1.1370300285961474, -1.1372681669365108, -1.1372639878955544, -1.1372312577201555, -1.1372655692208786, -1.1372690417672031, -1.1372699602454888, -1.1372695145231093, -1.1372701196626944, -1.1372701154040408, -1.1372701522342832, -1.1372701498785602, -1.137270163704578]}\n"
     ]
    }
   ],
   "source": [
    "angle=[0.0,0.0]\n",
    "x = vqe_inst.vqe_run(h2_bk, hamiltonian_bk, angle, None, qvm=qvm,disp=print,return_all=True)\n",
    "print(x)"
   ]
  },
  {
   "cell_type": "code",
   "execution_count": 66,
   "metadata": {},
   "outputs": [],
   "source": [
    "import numpy as np\n",
    "thetas1=np.linspace(-0.05,0.05,100)\n",
    "thetas2=np.linspace(-0.05,0.05,100)\n",
    "\n",
    "E=[]\n",
    "for x in thetas1:\n",
    "    for y in thetas2:\n",
    "        param=[x,y]\n",
    "        E.append(vqe_inst.expectation(h2_bk(param), hamiltonian_bk, None, qvm))\n",
    "        "
   ]
  },
  {
   "cell_type": "code",
   "execution_count": 100,
   "metadata": {},
   "outputs": [],
   "source": [
    "E_nelder=np.array(E).reshape(100,100)\n",
    "E_nelder_mead=E_nelder.transpose()\n",
    "param_nelder=x.iteration_params\n",
    "x=np.array(param_nelder)\n",
    "t1=x[:,0]\n",
    "t2=x[:,1]"
   ]
  },
  {
   "cell_type": "code",
   "execution_count": 103,
   "metadata": {},
   "outputs": [],
   "source": [
    "from matplotlib import rc\n",
    "\n",
    "rc('font',**{'family':'sans-serif','sans-serif':['Helvetica']})\n",
    "## for Palatino and other serif fonts use:\n",
    "#rc('font',**{'family':'serif','serif':['Palatino']})\n",
    "rc('text', usetex=True)\n",
    "plt.rc('text', usetex=True)\n",
    "plt.rc('font', family='serif')"
   ]
  },
  {
   "cell_type": "code",
   "execution_count": 105,
   "metadata": {},
   "outputs": [
    {
     "data": {
      "text/plain": [
       "Text(0,0.5,'$\\\\theta_2$')"
      ]
     },
     "execution_count": 105,
     "metadata": {},
     "output_type": "execute_result"
    },
    {
     "data": {
      "image/png": "[encoded data removed]",
      "text/plain": [
       "<Figure size 720x720 with 2 Axes>"
      ]
     },
     "metadata": {
      "needs_background": "light"
     },
     "output_type": "display_data"
    }
   ],
   "source": [
    "import matplotlib.pyplot as plt\n",
    "plt.figure(figsize=(10,10))\n",
    "plt.imshow(E_nelder_mead,cmap='Blues',extent=[-0.05,0.05,-0.05,0.05])\n",
    "plt.colorbar()\n",
    "plt.plot(t1,t2,'g--*')\n",
    "plt.grid()\n",
    "plt.xlabel(r'$\\theta_1$',fontsize=16)\n",
    "plt.ylabel(r'$\\theta_2$',fontsize=16)"
   ]
  },
  {
   "cell_type": "code",
   "execution_count": 106,
   "metadata": {},
   "outputs": [],
   "source": [
    "vqe_inst1 = VQE(minimizer=minimize,minimizer_kwargs={'method': 'Powell'})"
   ]
  },
  {
   "cell_type": "code",
   "execution_count": 107,
   "metadata": {},
   "outputs": [
    {
     "name": "stdout",
     "output_type": "stream",
     "text": [
      "WARNING: Fast method for expectation will be used. Noise\n",
      "                     models will be ineffective\n",
      "\tParameters: [-5.65606208e-02 -2.65414045e-05] \n",
      "\tE => -1.1372701597055361\n",
      "\tParameters: [-5.65605881e-02 -2.65084657e-05] \n",
      "\tE => -1.1372701597060069\n"
     ]
    }
   ],
   "source": [
    "angle=[0.0,0.0]\n",
    "x = vqe_inst1.vqe_run(h2_bk, hamiltonian_bk, angle, None, qvm=qvm,disp=print,return_all=True)"
   ]
  },
  {
   "cell_type": "code",
   "execution_count": 109,
   "metadata": {},
   "outputs": [],
   "source": [
    "E=[]\n",
    "thetas1=np.linspace(-0.05,0.00003,100)\n",
    "thetas2=np.linspace(-0.05,0.00003,100)\n",
    "for x in thetas1:\n",
    "    for y in thetas2:\n",
    "        param=[x,y]\n",
    "        E.append(vqe_inst1.expectation(h2_bk(param), hamiltonian_bk, None, qvm))\n",
    "        "
   ]
  },
  {
   "cell_type": "code",
   "execution_count": 110,
   "metadata": {},
   "outputs": [],
   "source": [
    "E_pow=np.array(E).reshape(100,100)\n",
    "E_powell=E_pow.transpose()"
   ]
  },
  {
   "cell_type": "code",
   "execution_count": 111,
   "metadata": {},
   "outputs": [],
   "source": [
    "param_powell=[-5.65606208e-02]\n",
    "hasil_powell=[-2.65414045e-05]"
   ]
  },
  {
   "cell_type": "code",
   "execution_count": 117,
   "metadata": {},
   "outputs": [
    {
     "data": {
      "text/plain": [
       "Text(0,0.5,'$\\\\theta_2$')"
      ]
     },
     "execution_count": 117,
     "metadata": {},
     "output_type": "execute_result"
    },
    {
     "data": {
      "image/png": "[encoded data removed]",
      "text/plain": [
       "<Figure size 720x720 with 2 Axes>"
      ]
     },
     "metadata": {
      "needs_background": "light"
     },
     "output_type": "display_data"
    }
   ],
   "source": [
    "import matplotlib.pyplot as plt\n",
    "plt.figure(figsize=(10,10))\n",
    "plt.imshow(E_powell,cmap='Blues',extent=[-0.06,0.06,-0.06,0.06])\n",
    "plt.colorbar()\n",
    "plt.plot(param_powell,hasil_powell,'g--*')\n",
    "plt.scatter(-5.65605881e-02  ,-2.65084657e-05,marker='X')\n",
    "plt.text(-5.65605881e-02  ,-2.65084657e-05, '({}, {})'.format(-5.65605881e-02  ,-2.65084657e-05))\n",
    "plt.grid()\n",
    "plt.xlabel(r'$\\theta_1$',fontsize=16)\n",
    "plt.ylabel(r'$\\theta_2$',fontsize=16)"
   ]
  },
  {
   "cell_type": "code",
   "execution_count": 118,
   "metadata": {},
   "outputs": [],
   "source": [
    "vqe_inst2 = VQE(minimizer=minimize,minimizer_kwargs={'method': 'SLSQP'})"
   ]
  },
  {
   "cell_type": "code",
   "execution_count": 119,
   "metadata": {},
   "outputs": [
    {
     "name": "stdout",
     "output_type": "stream",
     "text": [
      "WARNING: Fast method for expectation will be used. Noise\n",
      "                     models will be ineffective\n",
      "\tParameters: [-0.72515514  0.72515489] \n",
      "\tE => -1.116684397890989\n",
      "\tParameters: [-0.02820851  0.02820817] \n",
      "\tE => -1.1337127290092097\n",
      "\tParameters: [-0.02820851  0.02820817] \n",
      "\tE => -1.1372700767578412\n",
      "{'x': array([-0.02820851,  0.02820817]), 'fun': -1.1372700767352169, 'iteration_params': [array([-0.02820851,  0.02820817]), array([-0.02820851,  0.02820817]), array([-0.02820851,  0.02820817])], 'expectation_vals': [-1.116684397890989, -1.1337127290092097, -1.1372700767578412]}\n"
     ]
    }
   ],
   "source": [
    "result_slsqp = vqe_inst2.vqe_run(h2_bk, hamiltonian_bk, angle, None, qvm=qvm,disp=print,return_all=True)\n",
    "print(result_slsqp)"
   ]
  },
  {
   "cell_type": "code",
   "execution_count": 121,
   "metadata": {},
   "outputs": [],
   "source": [
    "E=[]\n",
    "thetas1=np.linspace(-0.8,-0.03,100)\n",
    "thetas2=np.linspace(-0.8,-0.03,100)\n",
    "for x in thetas1:\n",
    "    for y in thetas2:\n",
    "        param=[x,y]\n",
    "        E.append(vqe_inst2.expectation(h2_bk(param), hamiltonian_bk, None, qvm))"
   ]
  },
  {
   "cell_type": "code",
   "execution_count": 122,
   "metadata": {},
   "outputs": [],
   "source": [
    "E_sls=np.array(E).reshape(100,100)\n",
    "E_slsqp=E_sls.transpose()"
   ]
  },
  {
   "cell_type": "code",
   "execution_count": 123,
   "metadata": {},
   "outputs": [],
   "source": [
    "param_slsqp=[-0.72515514,-0.02820851]\n",
    "hasil_slsqp=[0.72515489,0.02820817]"
   ]
  },
  {
   "cell_type": "code",
   "execution_count": 124,
   "metadata": {},
   "outputs": [
    {
     "data": {
      "text/plain": [
       "Text(0,0.5,'$\\\\theta_2$')"
      ]
     },
     "execution_count": 124,
     "metadata": {},
     "output_type": "execute_result"
    },
    {
     "data": {
      "image/png": "[encoded data removed]",
      "text/plain": [
       "<Figure size 720x720 with 2 Axes>"
      ]
     },
     "metadata": {
      "needs_background": "light"
     },
     "output_type": "display_data"
    }
   ],
   "source": [
    "import matplotlib.pyplot as plt\n",
    "plt.figure(figsize=(10,10))\n",
    "plt.imshow(E_slsqp,cmap='Blues',extent=[-0.8,0.8,-0.8,0.8])\n",
    "plt.colorbar()\n",
    "plt.plot(param_slsqp,hasil_slsqp,'g--*')\n",
    "plt.scatter(-0.02820851  ,0.02820817,marker='X')\n",
    "plt.text(-0.02820851  ,0.02820817, '({}, {})'.format(-0.02820851  ,0.02820817))\n",
    "plt.grid()\n",
    "plt.xlabel(r'$\\theta_1$',fontsize=16)\n",
    "plt.ylabel(r'$\\theta_2$',fontsize=16)"
   ]
  },
  {
   "cell_type": "code",
   "execution_count": null,
   "metadata": {},
   "outputs": [],
   "source": []
  }
 ],
 "metadata": {
  "kernelspec": {
   "display_name": "Python 3",
   "language": "python",
   "name": "python3"
  },
  "language_info": {
   "codemirror_mode": {
    "name": "ipython",
    "version": 3
   },
   "file_extension": ".py",
   "mimetype": "text/x-python",
   "name": "python",
   "nbconvert_exporter": "python",
   "pygments_lexer": "ipython3",
   "version": "3.6.8"
  }
 },
 "nbformat": 4,
 "nbformat_minor": 4
}
