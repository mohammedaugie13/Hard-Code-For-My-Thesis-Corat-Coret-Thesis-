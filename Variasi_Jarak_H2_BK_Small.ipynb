{
 "cells": [
  {
   "cell_type": "code",
   "execution_count": 1,
   "metadata": {},
   "outputs": [],
   "source": [
    "import openfermionpyscf as ofpyscf\n",
    "import openfermion as of\n",
    "import cirq\n",
    "import openfermioncirq as ofc\n",
    "import numpy as np\n",
    "import pyscf\n",
    "from openfermion.transforms import get_fermion_operator, jordan_wigner, bravyi_kitaev"
   ]
  },
  {
   "cell_type": "code",
   "execution_count": 2,
   "metadata": {},
   "outputs": [],
   "source": [
    "diatomic_bond_length = .7414\n",
    "geometry = [('H', (0., 0., 0.)), ('H', (0., 0., diatomic_bond_length))]\n",
    "basis = 'sto-3g'\n",
    "multiplicity = 1\n",
    "charge = 0\n",
    "description = str(diatomic_bond_length)"
   ]
  },
  {
   "cell_type": "code",
   "execution_count": 3,
   "metadata": {},
   "outputs": [],
   "source": [
    "from openfermion.hamiltonians import MolecularData\n",
    "molecule = MolecularData(geometry, basis, multiplicity, charge)\n",
    "h2_molecule = ofpyscf.run_pyscf(molecule, run_mp2=True, run_cisd=True, run_ccsd=True, run_fci=True)\n",
    "elektron=h2_molecule.n_electrons\n",
    "orbitals = h2_molecule.n_orbitals\n",
    "qubit= h2_molecule.n_qubits"
   ]
  },
  {
   "cell_type": "code",
   "execution_count": 4,
   "metadata": {},
   "outputs": [],
   "source": [
    "#Membuat Sirkuit Ansatz /Fungsi Gelombang Coba \n",
    "class Ansatz(ofc.VariationalAnsatz):\n",
    "    def params(self):      \n",
    "        return [cirq.Symbol('theta_0')]\n",
    "    def operations(self, qubits):    \n",
    "        q0, q1,q2,q3= qubits\n",
    "        yield cirq.XPowGate(exponent=1.5707963267948966).on(q0)\n",
    "        yield cirq.H(q2)\n",
    "        yield cirq.CNOT(q0,q2)\n",
    "        yield cirq.ZPowGate(exponent=cirq.Symbol('theta_0')).on(q2)\n",
    "        yield cirq.CNOT(q0,q2)\n",
    "        yield cirq.XPowGate(exponent=-1.5707963267948966).on(q0)\n",
    "        yield cirq.H(q2)\n",
    "        \n",
    "        \n",
    "        \n",
    "        \n",
    "        \n",
    "        \n",
    "        \n",
    "    def _generate_qubits(set):\n",
    "        return cirq.LineQubit.range(4)"
   ]
  },
  {
   "cell_type": "code",
   "execution_count": 5,
   "metadata": {},
   "outputs": [
    {
     "name": "stdout",
     "output_type": "stream",
     "text": [
      "0: ───X^(-3/7)───@───────────────@───X^(3/7)───\n",
      "                 │               │\n",
      "2: ───H──────────X───Z^theta_0───X───H─────────\n"
     ]
    }
   ],
   "source": [
    "FungsiCoba=Ansatz()\n",
    "print(FungsiCoba.circuit)"
   ]
  },
  {
   "cell_type": "code",
   "execution_count": 6,
   "metadata": {},
   "outputs": [],
   "source": [
    "from openfermion.hamiltonians import MolecularData\n",
    "\n",
    "# Set parameters to make a simple molecule.\n",
    "diatomic_bond_length = .7414\n",
    "geometry = [('H', (0., 0., 0.)), ('H', (0., 0., diatomic_bond_length))]\n",
    "basis = 'sto-3g'\n",
    "multiplicity = 1\n",
    "charge = 0\n",
    "description = str(diatomic_bond_length)"
   ]
  },
  {
   "cell_type": "code",
   "execution_count": 7,
   "metadata": {},
   "outputs": [],
   "source": [
    "bond_length_interval = 0.1\n",
    "n_points = 25"
   ]
  },
  {
   "cell_type": "code",
   "execution_count": 9,
   "metadata": {},
   "outputs": [
    {
     "name": "stdout",
     "output_type": "stream",
     "text": [
      "CCSD=. -0.6018037168042082\n",
      "Nilai optimum: -0.6013839176511854\n",
      "CCSD=. -0.9141497080889696\n",
      "Nilai optimum: -0.9136190055852353\n",
      "CCSD=. -1.05515979649697\n",
      "Nilai optimum: -1.0544783819321277\n",
      "CCSD=. -1.1162860078288028\n",
      "Nilai optimum: -1.115406621972759\n",
      "CCSD=. -1.1361894542843936\n",
      "Nilai optimum: -1.1350557408844852\n",
      "CCSD=. -1.1341476664304937\n",
      "Nilai optimum: -1.1326928096366158\n",
      "CCSD=. -1.120560280971827\n",
      "Nilai optimum: -1.1187046094893762\n",
      "CCSD=. -1.101150330871435\n",
      "Nilai optimum: -1.0987981855126996\n",
      "CCSD=. -1.0791929438391945\n",
      "Nilai optimum: -1.0762310495366445\n",
      "CCSD=. -1.0567407449167354\n",
      "Nilai optimum: -1.0530404556904907\n",
      "CCSD=. -1.0351862642484724\n",
      "Nilai optimum: -1.0306109703289963\n",
      "CCSD=. -1.0154682441838383\n",
      "Nilai optimum: -1.0098855789312784\n",
      "CCSD=. -0.9981493526444732\n",
      "Nilai optimum: -0.9914463207719473\n",
      "CCSD=. -0.9834727288833649\n",
      "Nilai optimum: -0.97557047537063\n",
      "CCSD=. -0.9714266897613956\n",
      "Nilai optimum: -0.9622909544363648\n",
      "CCSD=. -0.9618169564719969\n",
      "Nilai optimum: -0.9514612881763577\n",
      "CCSD=. -0.9543388603371041\n",
      "Nilai optimum: -0.9428200455839076\n",
      "CCSD=. -0.9486411200223283\n",
      "Nilai optimum: -0.9360488603949694\n",
      "CCSD=. -0.9443746805427004\n",
      "Nilai optimum: -0.9308189553318568\n",
      "CCSD=. -0.9412240380526193\n",
      "Nilai optimum: -0.9268232314636797\n",
      "CCSD=. -0.9389223873887634\n",
      "Nilai optimum: -0.9237941516286912\n",
      "CCSD=. -0.937254952713349\n",
      "Nilai optimum: -0.9215101578736503\n",
      "CCSD=. -0.9360549194460772\n",
      "Nilai optimum: -0.919794402058065\n"
     ]
    },
    {
     "data": {
      "image/png": "[encoded data removed]",
      "text/plain": [
       "<Figure size 432x288 with 1 Axes>"
      ]
     },
     "metadata": {
      "needs_background": "light"
     },
     "output_type": "display_data"
    }
   ],
   "source": [
    "ccsd_energies = []\n",
    "fci_energies=[]\n",
    "vqe_uccsd_energies = []\n",
    "bond_lengths = []\n",
    "for point in range(3, n_points + 1):\n",
    "    bond_length = bond_length_interval * point\n",
    "    bond_lengths += [bond_length]\n",
    "    description = str(round(bond_length,2))\n",
    "    #print(\"Jarak Antar Atom=\",description)\n",
    "    geometry = [('H', (0., 0., 0.)), ('H', (0., 0., bond_length))]\n",
    "    molecule1 = MolecularData(\n",
    "        geometry, basis, multiplicity, description=description)\n",
    "    molecule1.load()\n",
    "    hamiltonian = ofpyscf.generate_molecular_hamiltonian(geometry, basis, multiplicity, charge)\n",
    "    #print(hamiltonian)\n",
    "    hamiltonan_bk=bravyi_kitaev(get_fermion_operator(hamiltonian))\n",
    "    #print(\"H_JW=\",hamiltonan_jw)\n",
    "    #mendeklarasikan Hamiltonan yang akan ditinjau\n",
    "    objektif = ofc.HamiltonianObjective(hamiltonan_bk)\n",
    "\n",
    "    #membuat keadaan referensi\n",
    "    q0, q1, _, _ = FungsiCoba.qubits\n",
    "    keadaan_refensi = cirq.Circuit.from_ops(cirq.X(q0))\n",
    "\n",
    "\n",
    "    study = ofc.VariationalStudy(name='VQE BK Small Hydrogen',ansatz=FungsiCoba,objective=objektif,preparation_circuit=keadaan_refensi)\n",
    "    #optimasi\n",
    "    algoritma = ofc.optimization.ScipyOptimizationAlgorithm(kwargs={'method': 'nelder-mead'},options={'maxiter': 100})\n",
    "\n",
    "\n",
    "    optimization_params = ofc.optimization.OptimizationParams(algorithm=algoritma,initial_guess=FungsiCoba.default_initial_params())\n",
    "    result = study.optimize(optimization_params)\n",
    "    print(\"CCSD=.\",molecule1.ccsd_energy)\n",
    "    print('Nilai optimum: {}'.format(result.optimal_value))\n",
    "    #print(\"parameter optimasinya:\")\n",
    "    #print(result.optimal_parameters)\n",
    "    ccsd_energies += [molecule1.ccsd_energy]\n",
    "    fci_energies += [molecule1.fci_energy]\n",
    "    vqe_uccsd_energies += [result.optimal_value]\n",
    "import matplotlib.pyplot as plt\n",
    "%matplotlib inline\n",
    "plt.figure(0)\n",
    "plt.plot(bond_lengths, ccsd_energies, 'b-')\n",
    "plt.plot(bond_lengths, vqe_uccsd_energies, 'c^')\n",
    "plt.plot(bond_lengths, fci_energies,'ro')\n",
    "plt.grid()\n",
    "plt.ylabel('Energy in Hartree')\n",
    "plt.xlabel('Bond length in angstrom')\n",
    "plt.show()"
   ]
  },
  {
   "cell_type": "code",
   "execution_count": null,
   "metadata": {},
   "outputs": [],
   "source": []
  }
 ],
 "metadata": {
  "kernelspec": {
   "display_name": "Python 3",
   "language": "python",
   "name": "python3"
  },
  "language_info": {
   "codemirror_mode": {
    "name": "ipython",
    "version": 3
   },
   "file_extension": ".py",
   "mimetype": "text/x-python",
   "name": "python",
   "nbconvert_exporter": "python",
   "pygments_lexer": "ipython3",
   "version": "3.6.8"
  }
 },
 "nbformat": 4,
 "nbformat_minor": 4
}
