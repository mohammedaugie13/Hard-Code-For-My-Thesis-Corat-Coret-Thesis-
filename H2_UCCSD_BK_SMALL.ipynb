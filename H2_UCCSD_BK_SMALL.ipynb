{
 "cells": [
  {
   "cell_type": "code",
   "execution_count": 1,
   "metadata": {},
   "outputs": [],
   "source": [
    "import openfermionpyscf as ofpyscf\n",
    "import openfermion as of\n",
    "import cirq\n",
    "import openfermioncirq as ofc\n",
    "import numpy as np\n",
    "import pyscf"
   ]
  },
  {
   "cell_type": "code",
   "execution_count": 8,
   "metadata": {},
   "outputs": [
    {
     "name": "stdout",
     "output_type": "stream",
     "text": [
      "(-0.09886396933545713+0j) [] +\n",
      "(0.045322202052874+0j) [X0 X3] +\n",
      "(0.045322202052874+0j) [Y0 Z1 Z2 Y3] +\n",
      "(0.045322202052874+0j) [Y0 Y3] +\n",
      "(-0.045322202052874+0j) [Z0 X1 X2 Z3] +\n",
      "(-0.045322202052874+0j) [Z0 Y1 Y2 Z3] +\n",
      "(0.17119774903432944+0j) [Z0 Z1] +\n",
      "(0.241089644106036+0j) [Z0 Z1 Z2 Z3] +\n",
      "(0.17119774903432947+0j) [Z0 Z2] +\n",
      "(0.331734048211784+0j) [Z0 Z3] +\n",
      "(-0.045322202052874+0j) [Y1 Y2] +\n",
      "(0.34297063344496626+0j) [Z1 Z2] +\n",
      "(-0.22278593040418498+0j) [Z1 Z3] +\n",
      "(-0.22278593040418498+0j) [Z2 Z3]\n"
     ]
    }
   ],
   "source": [
    "from openfermion.transforms import get_fermion_operator, jordan_wigner, bravyi_kitaev, get_interaction_operator, bravyi_kitaev_fast\n",
    "geometry = [[\"H\", [0, 0, 0]],\n",
    "            [\"H\", [0, 0, 0.7414]]]\n",
    "basis = \"sto-3g\"\n",
    "multiplicity = 1\n",
    "charge = 0\n",
    "hamiltonian = ofpyscf.generate_molecular_hamiltonian(geometry, basis, multiplicity, charge)\n",
    "hamiltonian_bk = bravyi_kitaev(get_fermion_operator(hamiltonian))\n",
    "fermion= get_fermion_operator(hamiltonian)\n",
    "interaction= get_interaction_operator(fermion)\n",
    "bkf=bravyi_kitaev_fast(interaction)\n",
    "print(bkf)"
   ]
  },
  {
   "cell_type": "code",
   "execution_count": 3,
   "metadata": {},
   "outputs": [
    {
     "name": "stdout",
     "output_type": "stream",
     "text": [
      "Rx 1.5707963267948966 0\n",
      "H 2\n",
      "CNOT 0 2\n",
      "Rz 0.0 2\n",
      "CNOT 0 2\n",
      "Rx -1.5707963267948966 0\n",
      "H 2\n"
     ]
    }
   ],
   "source": [
    "from openfermion.ops import QubitOperator\n",
    "from openfermion.utils import pauli_exp_to_qasm\n",
    "for line in pauli_exp_to_qasm([QubitOperator('X2 Y0',0.0)]):\n",
    "    print(line)"
   ]
  },
  {
   "cell_type": "code",
   "execution_count": 17,
   "metadata": {},
   "outputs": [],
   "source": [
    "#Membuat Sirkuit Ansatz /Fungsi Gelombang Coba \n",
    "class Ansatz(ofc.VariationalAnsatz):\n",
    "    def params(self):      \n",
    "        return [cirq.Symbol('theta_0')]\n",
    "    def operations(self, qubits):    \n",
    "        q0, q1,q2,q3= qubits\n",
    "        yield cirq.XPowGate(exponent=1.5707963267948966).on(q0)\n",
    "        yield cirq.H(q2)\n",
    "        yield cirq.CNOT(q0,q2)\n",
    "        yield cirq.ZPowGate(exponent=cirq.Symbol('theta_0')).on(q2)\n",
    "        yield cirq.CNOT(q0,q2)\n",
    "        yield cirq.XPowGate(exponent=-1.5707963267948966).on(q0)\n",
    "        yield cirq.H(q2)\n",
    "        \n",
    "        \n",
    "        \n",
    "        \n",
    "        \n",
    "        \n",
    "        \n",
    "    def _generate_qubits(set):\n",
    "        return cirq.LineQubit.range(4)"
   ]
  },
  {
   "cell_type": "code",
   "execution_count": 18,
   "metadata": {},
   "outputs": [
    {
     "name": "stdout",
     "output_type": "stream",
     "text": [
      "0: ───X^(-3/7)───@───────────────@───X^(3/7)───\n",
      "                 │               │\n",
      "2: ───H──────────X───Z^theta_0───X───H─────────\n"
     ]
    }
   ],
   "source": [
    "FungsiCoba=Ansatz()\n",
    "print(FungsiCoba.circuit)"
   ]
  },
  {
   "cell_type": "code",
   "execution_count": 19,
   "metadata": {},
   "outputs": [],
   "source": [
    "#mendeklarasikan Hamiltonan yang akan ditinjau\n",
    "objektif = ofc.HamiltonianObjective(hamiltonian_bk)\n",
    "\n",
    "#membuat keadaan referensi\n",
    "q0,q1, _,_  = FungsiCoba.qubits\n",
    "keadaan_refensi = cirq.Circuit.from_ops(cirq.X(q0))\n",
    "\n",
    "\n",
    "study = ofc.VariationalStudy(\n",
    "    name='VQE JW Hidrogen',\n",
    "    ansatz=FungsiCoba,\n",
    "    objective=objektif,\n",
    "    preparation_circuit=keadaan_refensi)"
   ]
  },
  {
   "cell_type": "code",
   "execution_count": 20,
   "metadata": {},
   "outputs": [
    {
     "name": "stdout",
     "output_type": "stream",
     "text": [
      "0: ───X───X^(-3/7)───@───────────────@───X^(3/7)───\n",
      "                     │               │\n",
      "2: ───────H──────────X───Z^theta_0───X───H─────────\n"
     ]
    }
   ],
   "source": [
    "print(study.circuit)"
   ]
  },
  {
   "cell_type": "code",
   "execution_count": 21,
   "metadata": {},
   "outputs": [
    {
     "name": "stdout",
     "output_type": "stream",
     "text": [
      "[0.]\n"
     ]
    }
   ],
   "source": [
    "initial_guess=FungsiCoba.default_initial_params()\n",
    "print(initial_guess)"
   ]
  },
  {
   "cell_type": "code",
   "execution_count": 22,
   "metadata": {},
   "outputs": [
    {
     "name": "stdout",
     "output_type": "stream",
     "text": [
      "Optimization terminated successfully.    (Exit mode 0)\n",
      "            Current function value: -1.1360122619551216\n",
      "            Iterations: 3\n",
      "            Function evaluations: 10\n",
      "            Gradient evaluations: 3\n",
      "Nilai optimum: -1.1360122619551216\n",
      "parameter optimasinya:\n",
      "[-0.06923998]\n"
     ]
    }
   ],
   "source": [
    "#optimasi\n",
    "algoritma = ofc.optimization.ScipyOptimizationAlgorithm(\n",
    "    kwargs={'method': 'SLSQP'},\n",
    "    options={'maxiter': 100,'disp': True})\n",
    "\n",
    "\n",
    "optimization_params = ofc.optimization.OptimizationParams(\n",
    "    algorithm=algoritma,\n",
    "    initial_guess=FungsiCoba.default_initial_params())\n",
    "\n",
    "\n",
    "result = study.optimize(optimization_params)\n",
    "print('Nilai optimum: {}'.format(result.optimal_value))\n",
    "print(\"parameter optimasinya:\")\n",
    "print(result.optimal_parameters)"
   ]
  },
  {
   "cell_type": "code",
   "execution_count": 10,
   "metadata": {},
   "outputs": [
    {
     "name": "stdout",
     "output_type": "stream",
     "text": [
      "Optimization terminated successfully.\n",
      "         Current function value: -1.116684\n",
      "         Iterations: 3\n",
      "         Function evaluations: 6\n",
      "Nilai optimum: -1.1166843870853398\n",
      "parameter optimasinya:\n",
      "[0.]\n"
     ]
    }
   ],
   "source": [
    "#optimasi\n",
    "algoritma = ofc.optimization.ScipyOptimizationAlgorithm(\n",
    "    kwargs={'method': 'nelder-mead'},\n",
    "    options={'maxiter': 100,'disp': True})\n",
    "\n",
    "\n",
    "optimization_params = ofc.optimization.OptimizationParams(\n",
    "    algorithm=algoritma,\n",
    "    initial_guess=FungsiCoba.default_initial_params())\n",
    "\n",
    "\n",
    "result = study.optimize(optimization_params)\n",
    "print('Nilai optimum: {}'.format(result.optimal_value))\n",
    "print(\"parameter optimasinya:\")\n",
    "print(result.optimal_parameters)"
   ]
  },
  {
   "cell_type": "code",
   "execution_count": 66,
   "metadata": {},
   "outputs": [
    {
     "name": "stdout",
     "output_type": "stream",
     "text": [
      "Optimization terminated successfully.\n",
      "         Current function value: -1.136012\n",
      "         Iterations: 2\n",
      "         Function evaluations: 45\n",
      "Nilai optimum: -1.1360122825409535\n",
      "parameter optimasinya:\n",
      "-0.06931136471332987\n"
     ]
    }
   ],
   "source": [
    "#optimasi\n",
    "algoritma = ofc.optimization.ScipyOptimizationAlgorithm(\n",
    "    kwargs={'method': 'powell'},\n",
    "    options={'maxiter': 100,'disp': True})\n",
    "\n",
    "\n",
    "optimization_params = ofc.optimization.OptimizationParams(\n",
    "    algorithm=algoritma,\n",
    "    initial_guess=FungsiCoba.default_initial_params())\n",
    "\n",
    "\n",
    "result = study.optimize(optimization_params)\n",
    "print('Nilai optimum: {}'.format(result.optimal_value))\n",
    "print(\"parameter optimasinya:\")\n",
    "print(result.optimal_parameters)"
   ]
  },
  {
   "cell_type": "code",
   "execution_count": 65,
   "metadata": {},
   "outputs": [
    {
     "name": "stdout",
     "output_type": "stream",
     "text": [
      "Nilai optimum: -1.136012282540943\n",
      "parameter optimasinya:\n",
      "[-0.06931132]\n"
     ]
    }
   ],
   "source": [
    "#optimasi\n",
    "algoritma = ofc.optimization.ScipyOptimizationAlgorithm(\n",
    "    kwargs={'method': 'L-BFGS-B'},\n",
    "    options={'maxiter': 100,'disp': True})\n",
    "\n",
    "\n",
    "optimization_params = ofc.optimization.OptimizationParams(\n",
    "    algorithm=algoritma,\n",
    "    initial_guess=FungsiCoba.default_initial_params())\n",
    "\n",
    "\n",
    "result = study.optimize(optimization_params)\n",
    "print('Nilai optimum: {}'.format(result.optimal_value))\n",
    "print(\"parameter optimasinya:\")\n",
    "print(result.optimal_parameters)"
   ]
  },
  {
   "cell_type": "code",
   "execution_count": 12,
   "metadata": {},
   "outputs": [
    {
     "name": "stdout",
     "output_type": "stream",
     "text": [
      "Nilai optimum: -1.136012259559471\n",
      "parameter optimasinya:\n",
      "[-0.06923594]\n"
     ]
    }
   ],
   "source": [
    "algoritma = ofc.optimization.ScipyOptimizationAlgorithm(\n",
    "    kwargs={'method': 'COBYLA'},\n",
    "    uses_bounds=False)\n",
    "\n",
    "\n",
    "optimization_params = ofc.optimization.OptimizationParams(\n",
    "    algorithm=algoritma,\n",
    "    initial_guess=FungsiCoba.default_initial_params())\n",
    "\n",
    "\n",
    "result = study.optimize(optimization_params)\n",
    "print('Nilai optimum: {}'.format(result.optimal_value))\n",
    "print(\"parameter optimasinya:\")\n",
    "print(result.optimal_parameters)"
   ]
  },
  {
   "cell_type": "code",
   "execution_count": 19,
   "metadata": {},
   "outputs": [
    {
     "ename": "SyntaxError",
     "evalue": "invalid syntax (<ipython-input-19-113b0d40ffef>, line 2)",
     "output_type": "error",
     "traceback": [
      "\u001b[0;36m  File \u001b[0;32m\"<ipython-input-19-113b0d40ffef>\"\u001b[0;36m, line \u001b[0;32m2\u001b[0m\n\u001b[0;31m    print(scipy.optimize.show_options(solver='minimize',method='COBYLA' for 'minimize',disp=True))\u001b[0m\n\u001b[0m                                                                          ^\u001b[0m\n\u001b[0;31mSyntaxError\u001b[0m\u001b[0;31m:\u001b[0m invalid syntax\n"
     ]
    }
   ],
   "source": [
    "import scipy\n",
    "print(scipy.optimize.show_options(solver='minimize',method='COBYLA' for 'minimize',disp=True))"
   ]
  },
  {
   "cell_type": "code",
   "execution_count": null,
   "metadata": {},
   "outputs": [],
   "source": []
  }
 ],
 "metadata": {
  "kernelspec": {
   "display_name": "Python 3",
   "language": "python",
   "name": "python3"
  },
  "language_info": {
   "codemirror_mode": {
    "name": "ipython",
    "version": 3
   },
   "file_extension": ".py",
   "mimetype": "text/x-python",
   "name": "python",
   "nbconvert_exporter": "python",
   "pygments_lexer": "ipython3",
   "version": "3.6.8"
  }
 },
 "nbformat": 4,
 "nbformat_minor": 4
}
