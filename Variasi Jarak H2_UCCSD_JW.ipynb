{
 "cells": [
  {
   "cell_type": "code",
   "execution_count": 1,
   "metadata": {},
   "outputs": [],
   "source": [
    "import openfermionpyscf as ofpyscf\n",
    "import openfermion as of\n",
    "import cirq\n",
    "import openfermioncirq as ofc\n",
    "import numpy as np\n",
    "import pyscf\n",
    "from openfermion.transforms import get_fermion_operator, jordan_wigner, bravyi_kitaev"
   ]
  },
  {
   "cell_type": "code",
   "execution_count": 2,
   "metadata": {},
   "outputs": [],
   "source": [
    "diatomic_bond_length = .7414\n",
    "geometry = [('H', (0., 0., 0.)), ('H', (0., 0., diatomic_bond_length))]\n",
    "basis = 'sto-3g'\n",
    "multiplicity = 1\n",
    "charge = 0\n",
    "description = str(diatomic_bond_length)"
   ]
  },
  {
   "cell_type": "code",
   "execution_count": 3,
   "metadata": {},
   "outputs": [],
   "source": [
    "from openfermion.hamiltonians import MolecularData\n",
    "molecule = MolecularData(geometry, basis, multiplicity, charge)\n",
    "h2_molecule = ofpyscf.run_pyscf(molecule, run_mp2=True, run_cisd=True, run_ccsd=True, run_fci=True)\n",
    "elektron=h2_molecule.n_electrons\n",
    "orbitals = h2_molecule.n_orbitals\n",
    "qubit= h2_molecule.n_qubits"
   ]
  },
  {
   "cell_type": "code",
   "execution_count": 4,
   "metadata": {},
   "outputs": [
    {
     "name": "stdout",
     "output_type": "stream",
     "text": [
      "-0.05677 [0^ 2 1^ 3] +\n",
      "-0.05677 [1^ 3 0^ 2] +\n",
      "0.05677 [2^ 0 3^ 1] +\n",
      "0.05677 [3^ 1 2^ 0]\n"
     ]
    }
   ],
   "source": [
    "from openfermion.utils import uccsd_singlet_generator\n",
    "initial_amplitudes = np.linspace(0,0.05677,2)\n",
    "#membuat ansatz UCCSD\n",
    "uccsd_fermion=uccsd_singlet_generator(initial_amplitudes,qubit,elektron)\n",
    "print(uccsd_fermion)"
   ]
  },
  {
   "cell_type": "code",
   "execution_count": 5,
   "metadata": {},
   "outputs": [
    {
     "name": "stdout",
     "output_type": "stream",
     "text": [
      "-0.0141925j [X0 X1 X2 Y3] +\n",
      "-0.0141925j [X0 X1 Y2 X3] +\n",
      "0.0141925j [X0 Y1 X2 X3] +\n",
      "-0.0141925j [X0 Y1 Y2 Y3] +\n",
      "0.0141925j [Y0 X1 X2 X3] +\n",
      "-0.0141925j [Y0 X1 Y2 Y3] +\n",
      "0.0141925j [Y0 Y1 X2 Y3] +\n",
      "0.0141925j [Y0 Y1 Y2 X3]\n"
     ]
    }
   ],
   "source": [
    "# ansatz dirubah dari fermion operator menjadi qubit operator\n",
    "uccsd_jw=jordan_wigner(uccsd_fermion)\n",
    "print(uccsd_jw)"
   ]
  },
  {
   "cell_type": "code",
   "execution_count": 6,
   "metadata": {},
   "outputs": [],
   "source": [
    "#Membuat Sirkuit Ansatz /Fungsi Gelombang Coba \n",
    "class Ansatz(ofc.VariationalAnsatz):\n",
    "    def params(self):      \n",
    "        return [cirq.Symbol('theta_0'),cirq.Symbol('theta_1')]\n",
    "    def operations(self, qubits):    \n",
    "        q0, q1, q2, q3 = qubits\n",
    "        yield cirq.H(q0),cirq.H(q1),cirq.H(q2)\n",
    "        yield cirq.XPowGate(exponent=1.5707963267948966).on(q3)\n",
    "        yield cirq.CNOT(q0,q1),cirq.CNOT(q1,q2),cirq.CNOT(q2,q3)\n",
    "        yield cirq.ZPowGate(exponent=cirq.Symbol('theta_0')).on(q3)\n",
    "        yield cirq.CNOT(q2,q3),cirq.CNOT(q1,q2),cirq.CNOT(q0,q1)\n",
    "        yield cirq.H(q0),cirq.H(q1),cirq.H(q2)\n",
    "        yield cirq.XPowGate(exponent=-1.5707963267948966).on(q3)\n",
    "        \n",
    "        yield cirq.H(q0),cirq.H(q1)\n",
    "        yield cirq.XPowGate(exponent=1.5707963267948966).on(q2)\n",
    "        yield cirq.H(q3)\n",
    "        yield cirq.CNOT(q0,q1),cirq.CNOT(q1,q2),cirq.CNOT(q2,q3)\n",
    "        yield cirq.ZPowGate(exponent=cirq.Symbol('theta_0')).on(q3)\n",
    "        yield cirq.CNOT(q2,q3),cirq.CNOT(q1,q2),cirq.CNOT(q0,q1)\n",
    "        yield cirq.H(q0),cirq.H(q1)\n",
    "        yield cirq.XPowGate(exponent=-1.5707963267948966).on(q2)\n",
    "        yield cirq.H(q3)\n",
    "        \n",
    "        yield cirq.H(q0)\n",
    "        yield cirq.XPowGate(exponent=1.5707963267948966).on(q1)\n",
    "        yield cirq.H(q2),cirq.H(q3)\n",
    "        yield cirq.CNOT(q0,q1),cirq.CNOT(q1,q2),cirq.CNOT(q2,q3)\n",
    "        yield cirq.ZPowGate(exponent=cirq.Symbol('theta_1')).on(q3)\n",
    "        yield cirq.CNOT(q2,q3),cirq.CNOT(q1,q2),cirq.CNOT(q0,q1)\n",
    "        yield cirq.H(q0)\n",
    "        yield cirq.XPowGate(exponent=-1.5707963267948966).on(q1)\n",
    "        yield cirq.H(q2),cirq.H(q3)\n",
    "        \n",
    "        yield cirq.H(q0)\n",
    "        yield cirq.XPowGate(exponent=1.5707963267948966).on(q1)\n",
    "        yield cirq.XPowGate(exponent=1.5707963267948966).on(q2)\n",
    "        yield cirq.XPowGate(exponent=1.5707963267948966).on(q3)\n",
    "        yield cirq.CNOT(q0,q1),cirq.CNOT(q1,q2),cirq.CNOT(q2,q3)\n",
    "        yield cirq.ZPowGate(exponent=cirq.Symbol('theta_0')).on(q3)\n",
    "        yield cirq.CNOT(q2,q3),cirq.CNOT(q1,q2),cirq.CNOT(q0,q1)\n",
    "        yield cirq.H(q0)\n",
    "        yield cirq.XPowGate(exponent=-1.5707963267948966).on(q1)\n",
    "        yield cirq.XPowGate(exponent=-1.5707963267948966).on(q2)\n",
    "        yield cirq.XPowGate(exponent=-1.5707963267948966).on(q3)\n",
    "        \n",
    "        yield cirq.XPowGate(exponent=1.5707963267948966).on(q0)\n",
    "        yield cirq.H(q1),cirq.H(q2),cirq.H(q3)\n",
    "        yield cirq.CNOT(q0,q1),cirq.CNOT(q1,q2),cirq.CNOT(q2,q3)\n",
    "        yield cirq.ZPowGate(exponent=cirq.Symbol('theta_1')).on(q3)\n",
    "        yield cirq.CNOT(q2,q3),cirq.CNOT(q1,q2),cirq.CNOT(q0,q1)\n",
    "        yield cirq.XPowGate(exponent=-1.5707963267948966).on(q0)\n",
    "        yield cirq.H(q1),cirq.H(q2),cirq.H(q3)\n",
    "        \n",
    "        \n",
    "        yield cirq.XPowGate(exponent=1.5707963267948966).on(q0)\n",
    "        yield cirq.H(q1)\n",
    "        yield cirq.XPowGate(exponent=1.5707963267948966).on(q2)\n",
    "        yield cirq.XPowGate(exponent=1.5707963267948966).on(q3)\n",
    "        yield cirq.CNOT(q0,q1),cirq.CNOT(q1,q2),cirq.CNOT(q2,q3)\n",
    "        yield cirq.ZPowGate(exponent=cirq.Symbol('theta_0')).on(q3)\n",
    "        yield cirq.CNOT(q2,q3),cirq.CNOT(q1,q2),cirq.CNOT(q0,q1)\n",
    "        yield cirq.XPowGate(exponent=-1.5707963267948966).on(q0)\n",
    "        yield cirq.H(q1)\n",
    "        yield cirq.XPowGate(exponent=-1.5707963267948966).on(q2)\n",
    "        yield cirq.XPowGate(exponent=-1.5707963267948966).on(q3)\n",
    "        \n",
    "        yield cirq.XPowGate(exponent=1.5707963267948966).on(q0)\n",
    "        yield cirq.XPowGate(exponent=1.5707963267948966).on(q1)\n",
    "        yield cirq.H(q2)\n",
    "        yield cirq.XPowGate(exponent=1.5707963267948966).on(q3)\n",
    "        yield cirq.CNOT(q0,q1),cirq.CNOT(q1,q2),cirq.CNOT(q2,q3)\n",
    "        yield cirq.ZPowGate(exponent=cirq.Symbol('theta_1')).on(q3)\n",
    "        yield cirq.CNOT(q2,q3),cirq.CNOT(q1,q2),cirq.CNOT(q0,q1)\n",
    "        yield cirq.XPowGate(exponent=-1.5707963267948966).on(q0)\n",
    "        yield cirq.XPowGate(exponent=-1.5707963267948966).on(q1)\n",
    "        yield cirq.H(q2)\n",
    "        yield cirq.XPowGate(exponent=-1.5707963267948966).on(q3)\n",
    "        \n",
    "        yield cirq.XPowGate(exponent=1.5707963267948966).on(q0)\n",
    "        yield cirq.XPowGate(exponent=1.5707963267948966).on(q1)\n",
    "        yield cirq.XPowGate(exponent=1.5707963267948966).on(q2)\n",
    "        yield cirq.H(q3)\n",
    "        yield cirq.CNOT(q0,q1),cirq.CNOT(q1,q2),cirq.CNOT(q2,q3)\n",
    "        yield cirq.ZPowGate(exponent=cirq.Symbol('theta_1')).on(q3)\n",
    "        yield cirq.CNOT(q2,q3),cirq.CNOT(q1,q2),cirq.CNOT(q0,q1)\n",
    "        yield cirq.XPowGate(exponent=-1.5707963267948966).on(q0)\n",
    "        yield cirq.XPowGate(exponent=-1.5707963267948966).on(q1)\n",
    "        yield cirq.XPowGate(exponent=-1.5707963267948966).on(q2)\n",
    "        yield cirq.H(q3)\n",
    "        \n",
    "        \n",
    "        \n",
    "        \n",
    "        \n",
    "        \n",
    "    def _generate_qubits(set):\n",
    "        return cirq.LineQubit.range(4)"
   ]
  },
  {
   "cell_type": "code",
   "execution_count": 7,
   "metadata": {},
   "outputs": [],
   "source": [
    "FungsiCoba=Ansatz()"
   ]
  },
  {
   "cell_type": "code",
   "execution_count": 8,
   "metadata": {},
   "outputs": [],
   "source": [
    "from openfermion.hamiltonians import MolecularData\n",
    "\n",
    "# Set parameters to make a simple molecule.\n",
    "diatomic_bond_length = .7414\n",
    "geometry = [('H', (0., 0., 0.)), ('H', (0., 0., diatomic_bond_length))]\n",
    "basis = 'sto-3g'\n",
    "multiplicity = 1\n",
    "charge = 0\n",
    "description = str(diatomic_bond_length)"
   ]
  },
  {
   "cell_type": "code",
   "execution_count": 9,
   "metadata": {},
   "outputs": [],
   "source": [
    "bond_length_interval = 0.1\n",
    "n_points = 25"
   ]
  },
  {
   "cell_type": "code",
   "execution_count": 23,
   "metadata": {},
   "outputs": [
    {
     "data": {
      "image/png": "[encoded data removed]",
      "text/plain": [
       "<Figure size 432x288 with 1 Axes>"
      ]
     },
     "metadata": {
      "needs_background": "light"
     },
     "output_type": "display_data"
    }
   ],
   "source": [
    "ccsd_energies = []\n",
    "hf_energies=[]\n",
    "fci_energies=[]\n",
    "vqe_uccsd_energies = []\n",
    "bond_lengths = []\n",
    "for point in range(3, n_points + 1):\n",
    "    bond_length = bond_length_interval * point\n",
    "    bond_lengths += [bond_length]\n",
    "    description = str(round(bond_length,2))\n",
    "    #print(\"Jarak Antar Atom=\",description)\n",
    "    geometry = [('H', (0., 0., 0.)), ('H', (0., 0., bond_length))]\n",
    "    molecule1 = MolecularData(\n",
    "        geometry, basis, multiplicity, description=description)\n",
    "    molecule1.load()\n",
    "    hamiltonian = ofpyscf.generate_molecular_hamiltonian(geometry, basis, multiplicity, charge)\n",
    "    #print(hamiltonian)\n",
    "    hamiltonan_jw=jordan_wigner(hamiltonian)\n",
    "    #print(\"H_JW=\",hamiltonan_jw)\n",
    "    #mendeklarasikan Hamiltonan yang akan ditinjau\n",
    "    objektif = ofc.HamiltonianObjective(hamiltonan_jw)\n",
    "\n",
    "    #membuat keadaan referensi\n",
    "    q0, q1, _, _ = FungsiCoba.qubits\n",
    "    keadaan_refensi = cirq.Circuit.from_ops(cirq.X(q0), cirq.X(q1))\n",
    "\n",
    "\n",
    "    study = ofc.VariationalStudy(name='VQE JW Hidrogen',ansatz=FungsiCoba,objective=objektif,preparation_circuit=keadaan_refensi)\n",
    "    #optimasi\n",
    "    algoritma = ofc.optimization.ScipyOptimizationAlgorithm(kwargs={'method': 'nelder-mead'},options={'maxiter': 100})\n",
    "\n",
    "\n",
    "    optimization_params = ofc.optimization.OptimizationParams(algorithm=algoritma,initial_guess=FungsiCoba.default_initial_params())\n",
    "    result = study.optimize(optimization_params)\n",
    "    #print(\"CCSD=.\",molecule1.ccsd_energy)\n",
    "    #print('Nilai optimum: {}'.format(result.optimal_value))\n",
    "    #print(\"parameter optimasinya:\")\n",
    "    #print(result.optimal_parameters)\n",
    "    ccsd_energies += [molecule1.ccsd_energy]\n",
    "    fci_energies += [molecule1.fci_energy]\n",
    "    hf_energies += [molecule1.hf_energy]\n",
    "    vqe_uccsd_energies += [result.optimal_value]\n",
    "import matplotlib.pyplot as plt\n",
    "%matplotlib inline\n",
    "plt.figure(0)\n",
    "plt.plot(bond_lengths, ccsd_energies, 'b-',label='Energi CCSD')\n",
    "plt.plot(bond_lengths, vqe_uccsd_energies, 'co',label='Energi UCCSD')\n",
    "plt.plot(bond_lengths, fci_energies,'g-->',label='Energi FCI')\n",
    "plt.plot(bond_lengths, hf_energies,'r^',label='Energi HF')\n",
    "plt.legend(loc='lower right')\n",
    "plt.grid()\n",
    "plt.ylabel('Energy in Hartree')\n",
    "plt.xlabel('Bond length in angstrom')\n",
    "plt.show()"
   ]
  },
  {
   "cell_type": "code",
   "execution_count": 31,
   "metadata": {},
   "outputs": [
    {
     "data": {
      "text/plain": [
       "<matplotlib.legend.Legend at 0x7fa18f86f1d0>"
      ]
     },
     "execution_count": 31,
     "metadata": {},
     "output_type": "execute_result"
    },
    {
     "data": {
      "image/png": "[encoded data removed]",
      "text/plain": [
       "<Figure size 432x288 with 1 Axes>"
      ]
     },
     "metadata": {
      "needs_background": "light"
     },
     "output_type": "display_data"
    }
   ],
   "source": [
    "plt.figure()\n",
    "plt.semilogy(bond_lengths,np.abs(np.subtract(fci_energies,hf_energies)),label='Energi HF')\n",
    "plt.semilogy(bond_lengths,np.abs(np.subtract(fci_energies,ccsd_energies)),label='Energi CCSD')\n",
    "plt.semilogy(bond_lengths,np.abs(np.subtract(fci_energies,vqe_uccsd_energies)),label='Energi UCCSD')\n",
    "plt.semilogy(bond_lengths,0.0016*np.ones([len(bond_lengths),1]),label='Chemical Accuracy',linestyle='-.',color='black')\n",
    "plt.xlabel('Jarak Antar Molekul (Angstrom)')\n",
    "plt.ylabel('Energi Eror Terhadap FCI (Hartree)')\n",
    "#plt.title('Error Terhadap FCI - Disassociation curve hydrogen molecule')\n",
    "plt.legend()\n"
   ]
  },
  {
   "cell_type": "code",
   "execution_count": 30,
   "metadata": {},
   "outputs": [
    {
     "name": "stdout",
     "output_type": "stream",
     "text": [
      "[[0.0016]\n",
      " [0.0016]\n",
      " [0.0016]\n",
      " [0.0016]\n",
      " [0.0016]\n",
      " [0.0016]\n",
      " [0.0016]\n",
      " [0.0016]\n",
      " [0.0016]\n",
      " [0.0016]\n",
      " [0.0016]\n",
      " [0.0016]\n",
      " [0.0016]\n",
      " [0.0016]\n",
      " [0.0016]\n",
      " [0.0016]\n",
      " [0.0016]\n",
      " [0.0016]\n",
      " [0.0016]\n",
      " [0.0016]\n",
      " [0.0016]\n",
      " [0.0016]\n",
      " [0.0016]]\n"
     ]
    }
   ],
   "source": [
    "print(0.0016*np.ones([len(bond_lengths),1]))"
   ]
  },
  {
   "cell_type": "code",
   "execution_count": null,
   "metadata": {},
   "outputs": [],
   "source": []
  }
 ],
 "metadata": {
  "kernelspec": {
   "display_name": "Python 3",
   "language": "python",
   "name": "python3"
  },
  "language_info": {
   "codemirror_mode": {
    "name": "ipython",
    "version": 3
   },
   "file_extension": ".py",
   "mimetype": "text/x-python",
   "name": "python",
   "nbconvert_exporter": "python",
   "pygments_lexer": "ipython3",
   "version": "3.6.8"
  }
 },
 "nbformat": 4,
 "nbformat_minor": 4
}
