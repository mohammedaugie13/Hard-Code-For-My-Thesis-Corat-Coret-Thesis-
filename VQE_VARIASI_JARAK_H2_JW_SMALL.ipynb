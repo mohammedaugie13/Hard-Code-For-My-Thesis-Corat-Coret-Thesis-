{
 "cells": [
  {
   "cell_type": "code",
   "execution_count": 1,
   "metadata": {},
   "outputs": [],
   "source": [
    "from pyquil.quil import Program\n",
    "import pyquil.api as api\n",
    "from pyquil.gates import *\n",
    "qvm = api.QVMConnection()\n",
    "from pyquil.api import get_qc"
   ]
  },
  {
   "cell_type": "code",
   "execution_count": 17,
   "metadata": {},
   "outputs": [],
   "source": [
    "import openfermionpyscf as ofpyscf\n",
    "import openfermion as of\n",
    "from openfermion.transforms import *\n",
    "from openfermion.utils import *\n",
    "from openfermion.hamiltonians import MolecularData\n",
    "from openfermion.ops import QubitOperator\n",
    "from forestopenfermion import pyquilpauli_to_qubitop, qubitop_to_pyquilpauli\n",
    "import numpy as np\n",
    "import pyscf"
   ]
  },
  {
   "cell_type": "code",
   "execution_count": 40,
   "metadata": {},
   "outputs": [],
   "source": [
    "def h2_jw_small(x):\n",
    "    prog=Program()\n",
    "    prog+=X(0)\n",
    "    prog+=X(1)\n",
    "    prog+=H(0)\n",
    "    prog+=H(1)\n",
    "    prog+=H(2)\n",
    "    prog+=RX(1.57,3)\n",
    "    prog+=CNOT(0,1)\n",
    "    prog+=CNOT(1,2)\n",
    "    prog+=CNOT(2,3)\n",
    "    prog+=RZ(x[0],3)\n",
    "    prog+=CNOT(2,3)\n",
    "    prog+=CNOT(1,2)\n",
    "    prog+=CNOT(0,1)\n",
    "    prog+=H(0)\n",
    "    prog+=H(1)\n",
    "    prog+=H(2)\n",
    "    prog+=RX(-1.57,3)\n",
    "    return prog"
   ]
  },
  {
   "cell_type": "code",
   "execution_count": 41,
   "metadata": {},
   "outputs": [],
   "source": [
    "diatomic_bond_length = .7414\n",
    "geometry = [('H', (0., 0., 0.)), ('H', (0., 0., diatomic_bond_length))]\n",
    "basis = 'sto-3g'\n",
    "multiplicity = 1\n",
    "charge = 0\n",
    "description = str(diatomic_bond_length)"
   ]
  },
  {
   "cell_type": "code",
   "execution_count": 52,
   "metadata": {},
   "outputs": [],
   "source": [
    "from grove.pyvqe.vqe import VQE\n",
    "from scipy.optimize import minimize\n",
    "import numpy as np\n",
    "\n",
    "vqe_inst = VQE(minimizer=minimize,minimizer_kwargs={'method': 'nelder-mead'})"
   ]
  },
  {
   "cell_type": "code",
   "execution_count": 53,
   "metadata": {},
   "outputs": [],
   "source": [
    "bond_length_interval = 0.1\n",
    "n_points = 25"
   ]
  },
  {
   "cell_type": "code",
   "execution_count": 57,
   "metadata": {},
   "outputs": [
    {
     "name": "stdout",
     "output_type": "stream",
     "text": [
      "WARNING: Fast method for expectation will be used. Noise\n",
      "                     models will be ineffective\n",
      "WARNING: Fast method for expectation will be used. Noise\n",
      "                     models will be ineffective\n",
      "WARNING: Fast method for expectation will be used. Noise\n",
      "                     models will be ineffective\n",
      "WARNING: Fast method for expectation will be used. Noise\n",
      "                     models will be ineffective\n",
      "WARNING: Fast method for expectation will be used. Noise\n",
      "                     models will be ineffective\n",
      "WARNING: Fast method for expectation will be used. Noise\n",
      "                     models will be ineffective\n",
      "WARNING: Fast method for expectation will be used. Noise\n",
      "                     models will be ineffective\n",
      "WARNING: Fast method for expectation will be used. Noise\n",
      "                     models will be ineffective\n",
      "WARNING: Fast method for expectation will be used. Noise\n",
      "                     models will be ineffective\n",
      "WARNING: Fast method for expectation will be used. Noise\n",
      "                     models will be ineffective\n",
      "WARNING: Fast method for expectation will be used. Noise\n",
      "                     models will be ineffective\n",
      "WARNING: Fast method for expectation will be used. Noise\n",
      "                     models will be ineffective\n",
      "WARNING: Fast method for expectation will be used. Noise\n",
      "                     models will be ineffective\n",
      "WARNING: Fast method for expectation will be used. Noise\n",
      "                     models will be ineffective\n",
      "WARNING: Fast method for expectation will be used. Noise\n",
      "                     models will be ineffective\n",
      "WARNING: Fast method for expectation will be used. Noise\n",
      "                     models will be ineffective\n",
      "WARNING: Fast method for expectation will be used. Noise\n",
      "                     models will be ineffective\n",
      "WARNING: Fast method for expectation will be used. Noise\n",
      "                     models will be ineffective\n",
      "WARNING: Fast method for expectation will be used. Noise\n",
      "                     models will be ineffective\n",
      "WARNING: Fast method for expectation will be used. Noise\n",
      "                     models will be ineffective\n",
      "WARNING: Fast method for expectation will be used. Noise\n",
      "                     models will be ineffective\n",
      "WARNING: Fast method for expectation will be used. Noise\n",
      "                     models will be ineffective\n",
      "WARNING: Fast method for expectation will be used. Noise\n",
      "                     models will be ineffective\n"
     ]
    },
    {
     "data": {
      "image/png": "[encoded data removed]",
      "text/plain": [
       "<Figure size 432x288 with 1 Axes>"
      ]
     },
     "metadata": {
      "needs_background": "light"
     },
     "output_type": "display_data"
    }
   ],
   "source": [
    "ccsd_energies = []\n",
    "fci_energies=[]\n",
    "vqe_uccsd_energies = []\n",
    "bond_lengths = []\n",
    "hf_energies=[]\n",
    "E=[]\n",
    "for point in range(3, n_points + 1):\n",
    "    bond_length = bond_length_interval * point\n",
    "    bond_lengths += [bond_length]\n",
    "    description = str(round(bond_length,2))\n",
    "    #print(\"Jarak Antar Atom=\",description)\n",
    "    geometry = [('H', (0., 0., 0.)), ('H', (0., 0., bond_length))]\n",
    "    molecule1 = MolecularData(\n",
    "        geometry, basis, multiplicity, description=description)\n",
    "    molecule1.load()\n",
    "    hamiltonian = ofpyscf.generate_molecular_hamiltonian(geometry, basis, multiplicity, charge)\n",
    "    hamiltonan_jw=jordan_wigner(hamiltonian)\n",
    "    hamiltonian_jw_pauli=qubitop_to_pyquilpauli(hamiltonan_jw)\n",
    "    \n",
    "    x= vqe_inst.vqe_run(h2_jw_small, hamiltonian_jw_pauli, [0.0], None, qvm=qvm)\n",
    "    E.append(x.fun)\n",
    "    ccsd_energies += [molecule1.ccsd_energy]\n",
    "    fci_energies += [molecule1.fci_energy]\n",
    "    hf_energies += [molecule1.hf_energy]\n",
    "import matplotlib.pyplot as plt\n",
    "%matplotlib inline\n",
    "plt.figure(0)\n",
    "plt.plot(bond_lengths, ccsd_energies, 'b-')\n",
    "plt.plot(bond_lengths, E, 'co')\n",
    "plt.plot(bond_lengths, fci_energies,'rx')\n",
    "plt.grid()\n",
    "plt.ylabel('Energy in Hartree')\n",
    "plt.xlabel('Bond length in angstrom')\n",
    "plt.show()"
   ]
  },
  {
   "cell_type": "code",
   "execution_count": 58,
   "metadata": {},
   "outputs": [
    {
     "name": "stdout",
     "output_type": "stream",
     "text": [
      "[-0.6018037068478062, -0.9141496996252421, -1.0551597883876682, -1.1162859990306675, -1.1361894439308715, -1.134147653776741, -1.1205602649257242, -1.1011503099406479, -1.0791929195556291, -1.0567407148978265, -1.0351862280721238, -1.0154682029612714, -0.9981492985540914, -0.9834726648971104, -0.9714266149005435, -0.9618168701963352, -0.9543387627603569, -0.9486410129488401, -0.9443745747611647, -0.9412239209954634, -0.938922267704512, -0.9372548299865889, -0.9360547929901849]\n"
     ]
    }
   ],
   "source": [
    "print(E)"
   ]
  },
  {
   "cell_type": "code",
   "execution_count": 59,
   "metadata": {},
   "outputs": [
    {
     "data": {
      "text/plain": [
       "<matplotlib.legend.Legend at 0x7f6ff2fa5d30>"
      ]
     },
     "execution_count": 59,
     "metadata": {},
     "output_type": "execute_result"
    },
    {
     "data": {
      "image/png": "[encoded data removed]",
      "text/plain": [
       "<Figure size 432x288 with 1 Axes>"
      ]
     },
     "metadata": {
      "needs_background": "light"
     },
     "output_type": "display_data"
    }
   ],
   "source": [
    "import matplotlib.pyplot as plt\n",
    "plt.figure()\n",
    "plt.semilogy(bond_lengths,np.abs(np.subtract(fci_energies,hf_energies)),label='Energi HF')\n",
    "plt.semilogy(bond_lengths,np.abs(np.subtract(fci_energies,ccsd_energies)),label='Energi CCSD')\n",
    "plt.semilogy(bond_lengths,np.abs(np.subtract(fci_energies,E)),label='Energi UCCSD')\n",
    "plt.semilogy(bond_lengths,0.0016*np.ones([len(bond_lengths),1]),label='Chemical Accuracy',linestyle='-.',color='black')\n",
    "plt.xlabel('Jarak Antar Molekul (Angstrom)')\n",
    "plt.ylabel('Energi Eror Terhadap FCI (Hartree)')\n",
    "#plt.title('Error Terhadap FCI - Disassociation curve hydrogen molecule')\n",
    "plt.legend()"
   ]
  },
  {
   "cell_type": "code",
   "execution_count": null,
   "metadata": {},
   "outputs": [],
   "source": []
  }
 ],
 "metadata": {
  "kernelspec": {
   "display_name": "Python 3",
   "language": "python",
   "name": "python3"
  },
  "language_info": {
   "codemirror_mode": {
    "name": "ipython",
    "version": 3
   },
   "file_extension": ".py",
   "mimetype": "text/x-python",
   "name": "python",
   "nbconvert_exporter": "python",
   "pygments_lexer": "ipython3",
   "version": "3.6.8"
  }
 },
 "nbformat": 4,
 "nbformat_minor": 4
}
