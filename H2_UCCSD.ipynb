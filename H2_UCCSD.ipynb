{
 "cells": [
  {
   "cell_type": "code",
   "execution_count": 1,
   "metadata": {},
   "outputs": [],
   "source": [
    "import numpy as np\n",
    "from openfermion.transforms import get_sparse_operator\n",
    "from openfermion.utils import pauli_exp_to_qasm\n",
    "from openfermion.ops import QubitOperator\n",
    "from openfermion.transforms import get_fermion_operator, jordan_wigner, bravyi_kitaev\n",
    "from pyscf import ci\n",
    "from pyscf import mp\n",
    "from openfermionpyscf import run_pyscf\n",
    "from openfermion.hamiltonians import MolecularData\n",
    "import os\n",
    "\n",
    "from numpy import array, concatenate, zeros\n",
    "from numpy.random import randn\n",
    "from scipy.optimize import minimize\n",
    "\n",
    "from openfermion.config import *\n",
    "\n",
    "from openfermion.hamiltonians import MolecularData\n",
    "from openfermion.transforms import jordan_wigner\n",
    "from openfermion.utils import uccsd_singlet_paramsize\n"
   ]
  },
  {
   "cell_type": "code",
   "execution_count": 2,
   "metadata": {},
   "outputs": [],
   "source": [
    "geometry = [[\"H\", [0, 0, 0]],\n",
    "            [\"H\", [0, 0, 0.7414]]]\n",
    "basis = \"sto-3g\"\n",
    "multiplicity = 1\n",
    "charge = 0\n",
    "molecule = MolecularData(geometry, basis, multiplicity, charge)\n",
    "h2_molecule = run_pyscf(molecule, run_mp2=True, run_cisd=True, run_ccsd=True, run_fci=True)"
   ]
  },
  {
   "cell_type": "code",
   "execution_count": 3,
   "metadata": {},
   "outputs": [],
   "source": [
    "orbitals = h2_molecule.n_orbitals\n",
    "qubit= h2_molecule.n_qubits\n",
    "elektron=h2_molecule.n_electrons"
   ]
  },
  {
   "cell_type": "code",
   "execution_count": 4,
   "metadata": {},
   "outputs": [
    {
     "name": "stdout",
     "output_type": "stream",
     "text": [
      "-0.05677 [0^ 2 1^ 3] +\n",
      "-0.05677 [1^ 3 0^ 2] +\n",
      "0.05677 [2^ 0 3^ 1] +\n",
      "0.05677 [3^ 1 2^ 0]\n"
     ]
    }
   ],
   "source": [
    "from openfermion.utils import uccsd_singlet_generator, uccsd_generator\n",
    "initial_amplitudes = np.linspace(0,0.05677,2)\n",
    "uccsd_fermion=uccsd_singlet_generator(initial_amplitudes,qubit,elektron)\n",
    "#b=uccsd_generator(initial_amplitudes,qubit,elektron)\n",
    "print(uccsd_fermion)"
   ]
  },
  {
   "cell_type": "code",
   "execution_count": 5,
   "metadata": {},
   "outputs": [
    {
     "name": "stdout",
     "output_type": "stream",
     "text": [
      "-0.0141925j [X0 X1 X2 Y3] +\n",
      "-0.0141925j [X0 X1 Y2 X3] +\n",
      "0.0141925j [X0 Y1 X2 X3] +\n",
      "-0.0141925j [X0 Y1 Y2 Y3] +\n",
      "0.0141925j [Y0 X1 X2 X3] +\n",
      "-0.0141925j [Y0 X1 Y2 Y3] +\n",
      "0.0141925j [Y0 Y1 X2 Y3] +\n",
      "0.0141925j [Y0 Y1 Y2 X3]\n"
     ]
    }
   ],
   "source": [
    "uccsd_jw=jordan_wigner(uccsd_fermion)\n",
    "print(uccsd_jw)"
   ]
  },
  {
   "cell_type": "code",
   "execution_count": 6,
   "metadata": {},
   "outputs": [],
   "source": [
    "#membuat ansatz\n",
    "\n",
    "import openfermion as of\n",
    "import cirq\n",
    "import openfermioncirq as ofc\n",
    "import numpy as np\n",
    "class MyAnsatz(ofc.VariationalAnsatz):\n",
    "    def params(self):      \n",
    "        return [cirq.Symbol('theta_0'),cirq.Symbol('theta_1')]\n",
    "    def operations(self, qubits):    \n",
    "        q0, q1, q2, q3 = qubits\n",
    "        yield cirq.H(q0),cirq.H(q1),cirq.H(q2)\n",
    "        yield cirq.XPowGate(exponent=1.5707963267948966).on(q3)\n",
    "        yield cirq.CNOT(q0,q1),cirq.CNOT(q1,q2),cirq.CNOT(q2,q3)\n",
    "        yield cirq.ZPowGate(exponent=cirq.Symbol('theta_0')).on(q3)\n",
    "        yield cirq.CNOT(q2,q3),cirq.CNOT(q1,q2),cirq.CNOT(q0,q1)\n",
    "        yield cirq.H(q0),cirq.H(q1),cirq.H(q2)\n",
    "        yield cirq.XPowGate(exponent=-1.5707963267948966).on(q3)\n",
    "        \n",
    "        yield cirq.H(q0),cirq.H(q1)\n",
    "        yield cirq.XPowGate(exponent=1.5707963267948966).on(q2)\n",
    "        yield cirq.H(q3)\n",
    "        yield cirq.CNOT(q0,q1),cirq.CNOT(q1,q2),cirq.CNOT(q2,q3)\n",
    "        yield cirq.ZPowGate(exponent=cirq.Symbol('theta_0')).on(q3)\n",
    "        yield cirq.CNOT(q2,q3),cirq.CNOT(q1,q2),cirq.CNOT(q0,q1)\n",
    "        yield cirq.H(q0),cirq.H(q1)\n",
    "        yield cirq.XPowGate(exponent=-1.5707963267948966).on(q2)\n",
    "        yield cirq.H(q3)\n",
    "        \n",
    "        yield cirq.H(q0)\n",
    "        yield cirq.XPowGate(exponent=1.5707963267948966).on(q1)\n",
    "        yield cirq.H(q2),cirq.H(q3)\n",
    "        yield cirq.CNOT(q0,q1),cirq.CNOT(q1,q2),cirq.CNOT(q2,q3)\n",
    "        yield cirq.ZPowGate(exponent=cirq.Symbol('theta_1')).on(q3)\n",
    "        yield cirq.CNOT(q2,q3),cirq.CNOT(q1,q2),cirq.CNOT(q0,q1)\n",
    "        yield cirq.H(q0)\n",
    "        yield cirq.XPowGate(exponent=-1.5707963267948966).on(q1)\n",
    "        yield cirq.H(q2),cirq.H(q3)\n",
    "        \n",
    "        yield cirq.H(q0)\n",
    "        yield cirq.XPowGate(exponent=1.5707963267948966).on(q1)\n",
    "        yield cirq.XPowGate(exponent=1.5707963267948966).on(q2)\n",
    "        yield cirq.XPowGate(exponent=1.5707963267948966).on(q3)\n",
    "        yield cirq.CNOT(q0,q1),cirq.CNOT(q1,q2),cirq.CNOT(q2,q3)\n",
    "        yield cirq.ZPowGate(exponent=cirq.Symbol('theta_0')).on(q3)\n",
    "        yield cirq.CNOT(q2,q3),cirq.CNOT(q1,q2),cirq.CNOT(q0,q1)\n",
    "        yield cirq.H(q0)\n",
    "        yield cirq.XPowGate(exponent=-1.5707963267948966).on(q1)\n",
    "        yield cirq.XPowGate(exponent=-1.5707963267948966).on(q2)\n",
    "        yield cirq.XPowGate(exponent=-1.5707963267948966).on(q3)\n",
    "        \n",
    "        yield cirq.XPowGate(exponent=1.5707963267948966).on(q0)\n",
    "        yield cirq.H(q1),cirq.H(q2),cirq.H(q3)\n",
    "        yield cirq.CNOT(q0,q1),cirq.CNOT(q1,q2),cirq.CNOT(q2,q3)\n",
    "        yield cirq.ZPowGate(exponent=cirq.Symbol('theta_1')).on(q3)\n",
    "        yield cirq.CNOT(q2,q3),cirq.CNOT(q1,q2),cirq.CNOT(q0,q1)\n",
    "        yield cirq.XPowGate(exponent=-1.5707963267948966).on(q0)\n",
    "        yield cirq.H(q1),cirq.H(q2),cirq.H(q3)\n",
    "        \n",
    "        \n",
    "        yield cirq.XPowGate(exponent=1.5707963267948966).on(q0)\n",
    "        yield cirq.H(q1)\n",
    "        yield cirq.XPowGate(exponent=1.5707963267948966).on(q2)\n",
    "        yield cirq.XPowGate(exponent=1.5707963267948966).on(q3)\n",
    "        yield cirq.CNOT(q0,q1),cirq.CNOT(q1,q2),cirq.CNOT(q2,q3)\n",
    "        yield cirq.ZPowGate(exponent=cirq.Symbol('theta_0')).on(q3)\n",
    "        yield cirq.CNOT(q2,q3),cirq.CNOT(q1,q2),cirq.CNOT(q0,q1)\n",
    "        yield cirq.XPowGate(exponent=-1.5707963267948966).on(q0)\n",
    "        yield cirq.H(q1)\n",
    "        yield cirq.XPowGate(exponent=-1.5707963267948966).on(q2)\n",
    "        yield cirq.XPowGate(exponent=-1.5707963267948966).on(q3)\n",
    "        \n",
    "        yield cirq.XPowGate(exponent=1.5707963267948966).on(q0)\n",
    "        yield cirq.XPowGate(exponent=1.5707963267948966).on(q1)\n",
    "        yield cirq.H(q2)\n",
    "        yield cirq.XPowGate(exponent=1.5707963267948966).on(q3)\n",
    "        yield cirq.CNOT(q0,q1),cirq.CNOT(q1,q2),cirq.CNOT(q2,q3)\n",
    "        yield cirq.ZPowGate(exponent=cirq.Symbol('theta_1')).on(q3)\n",
    "        yield cirq.CNOT(q2,q3),cirq.CNOT(q1,q2),cirq.CNOT(q0,q1)\n",
    "        yield cirq.XPowGate(exponent=-1.5707963267948966).on(q0)\n",
    "        yield cirq.XPowGate(exponent=-1.5707963267948966).on(q1)\n",
    "        yield cirq.H(q2)\n",
    "        yield cirq.XPowGate(exponent=-1.5707963267948966).on(q3)\n",
    "        \n",
    "        yield cirq.XPowGate(exponent=1.5707963267948966).on(q0)\n",
    "        yield cirq.XPowGate(exponent=1.5707963267948966).on(q1)\n",
    "        yield cirq.XPowGate(exponent=1.5707963267948966).on(q2)\n",
    "        yield cirq.H(q3)\n",
    "        yield cirq.CNOT(q0,q1),cirq.CNOT(q1,q2),cirq.CNOT(q2,q3)\n",
    "        yield cirq.ZPowGate(exponent=cirq.Symbol('theta_1')).on(q3)\n",
    "        yield cirq.CNOT(q2,q3),cirq.CNOT(q1,q2),cirq.CNOT(q0,q1)\n",
    "        yield cirq.XPowGate(exponent=-1.5707963267948966).on(q0)\n",
    "        yield cirq.XPowGate(exponent=-1.5707963267948966).on(q1)\n",
    "        yield cirq.XPowGate(exponent=-1.5707963267948966).on(q2)\n",
    "        yield cirq.H(q3)\n",
    "        \n",
    "        \n",
    "        \n",
    "        \n",
    "        \n",
    "        \n",
    "    def _generate_qubits(set):\n",
    "        return cirq.LineQubit.range(4)"
   ]
  },
  {
   "cell_type": "code",
   "execution_count": 7,
   "metadata": {},
   "outputs": [],
   "source": [
    "ansatz=MyAnsatz()"
   ]
  },
  {
   "cell_type": "code",
   "execution_count": 9,
   "metadata": {},
   "outputs": [],
   "source": [
    "import openfermionpyscf as ofpyscf\n",
    "hamiltonian = ofpyscf.generate_molecular_hamiltonian(\n",
    "    geometry, basis, multiplicity, charge)\n",
    "hamiltonian_jw=jordan_wigner(hamiltonian)"
   ]
  },
  {
   "cell_type": "code",
   "execution_count": 14,
   "metadata": {},
   "outputs": [
    {
     "name": "stdout",
     "output_type": "stream",
     "text": [
      "2\n",
      "[0. 0.]\n"
     ]
    }
   ],
   "source": [
    "\n",
    "objective = ofc.HamiltonianObjective(hamiltonian_jw)\n",
    "\n",
    "\n",
    "q0, q1, _, _ = ansatz.qubits\n",
    "reference_circuit = cirq.Circuit.from_ops(cirq.X(q0), cirq.X(q1))\n",
    "\n",
    "\n",
    "study = ofc.VariationalStudy(\n",
    "    name='my_hydrogen_study',\n",
    "    ansatz=ansatz,\n",
    "    objective=objective,\n",
    "    preparation_circuit=reference_circuit)\n",
    "\n",
    "print(study.num_params)\n",
    "print(ansatz.default_initial_params())"
   ]
  },
  {
   "cell_type": "code",
   "execution_count": 21,
   "metadata": {},
   "outputs": [
    {
     "name": "stdout",
     "output_type": "stream",
     "text": [
      "[-1.1119007995939767, -1.1129281012426817, -1.113933709791527, -1.1149175969825313, -1.115879735177788, -1.1168200973602427, -1.1177386571344854, -1.118635388727489, -1.1195102669893622, -1.120363267394062, -1.1211943660400994, -1.1220035396512225, -1.122790765577086, -1.1235560217938951, -1.1242992869050417, -1.125020540141712, -1.1257197613634806, -1.1263969310588935, -1.1270520303460188, -1.1276850409729877, -1.1282959453185197, -1.1288847263924235, -1.1294513678360811, -1.1299958539229191, -1.1305181695588553, -1.131018300282727, -1.1314962322667077, -1.131951952316698, -1.132385447872701, -1.1327967070091853, -1.133185718435416, -1.1335524714957859, -1.133896956170105, -1.1342191630739005, -1.134519083458664, -1.134796709212122, -1.1350520328584417, -1.1352850475584577, -1.135495747109862, -1.1356841259473713, -1.135850179142895, -1.1359939024056545, -1.1361152920823234, -1.1362143451571132, -1.1362910592518607, -1.1363454326260922, -1.1363774641770674, -1.1363871534398091, -1.1363745005871095, -1.1363395064295254]\n",
      "[-0.01       -0.00959184 -0.00918367 -0.00877551 -0.00836735 -0.00795918\n",
      " -0.00755102 -0.00714286 -0.00673469 -0.00632653 -0.00591837 -0.0055102\n",
      " -0.00510204 -0.00469388 -0.00428571 -0.00387755 -0.00346939 -0.00306122\n",
      " -0.00265306 -0.0022449  -0.00183673 -0.00142857 -0.00102041 -0.00061224\n",
      " -0.00020408  0.00020408  0.00061224  0.00102041  0.00142857  0.00183673\n",
      "  0.0022449   0.00265306  0.00306122  0.00346939  0.00387755  0.00428571\n",
      "  0.00469388  0.00510204  0.0055102   0.00591837  0.00632653  0.00673469\n",
      "  0.00714286  0.00755102  0.00795918  0.00836735  0.00877551  0.00918367\n",
      "  0.00959184  0.01      ]\n"
     ]
    }
   ],
   "source": [
    "a = np.linspace(-0.01, 0.01)\n",
    "b = np.linspace(-0.008, -0.009)\n",
    "xg,yg=np.meshgrid(x,y)\n",
    "hasil=[study.value_of([x,y]) for x, y in zip(a, b)]\n",
    "print(hasil)\n",
    "print(a)"
   ]
  },
  {
   "cell_type": "code",
   "execution_count": 13,
   "metadata": {},
   "outputs": [
    {
     "name": "stdout",
     "output_type": "stream",
     "text": [
      "Nilai optimum: -1.1363882043260851\n",
      "parameter optimasinya:\n",
      "[ 0.0097644  -0.00834586]\n"
     ]
    }
   ],
   "source": [
    "algorithm = ofc.optimization.ScipyOptimizationAlgorithm(\n",
    "    kwargs={'method': 'nelder-mead'},\n",
    "    options={'maxiter': 1000})\n",
    "\n",
    "\n",
    "optimization_params = ofc.optimization.OptimizationParams(\n",
    "    algorithm=algorithm,\n",
    "    initial_guess=ansatz.default_initial_params())\n",
    "\n",
    "\n",
    "result = study.optimize(optimization_params)\n",
    "print('Nilai optimum: {}'.format(result.optimal_value))\n",
    "print(\"parameter optimasinya:\")\n",
    "print(result.optimal_parameters)"
   ]
  },
  {
   "cell_type": "code",
   "execution_count": 11,
   "metadata": {},
   "outputs": [
    {
     "name": "stdout",
     "output_type": "stream",
     "text": [
      "-1.1372703406409188\n"
     ]
    }
   ],
   "source": [
    "print(molecule.ccsd_energy)"
   ]
  },
  {
   "cell_type": "code",
   "execution_count": 14,
   "metadata": {},
   "outputs": [
    {
     "name": "stdout",
     "output_type": "stream",
     "text": [
      "-0.0988639693354571 [] +\n",
      "-0.045322202052874 [X0 X1 Y2 Y3] +\n",
      "0.045322202052874 [X0 Y1 Y2 X3] +\n",
      "0.045322202052874 [Y0 X1 X2 Y3] +\n",
      "-0.045322202052874 [Y0 Y1 X2 X3] +\n",
      "0.17119774903432944 [Z0] +\n",
      "0.16862219158920938 [Z0 Z1] +\n",
      "0.120544822053018 [Z0 Z2] +\n",
      "0.165867024105892 [Z0 Z3] +\n",
      "0.17119774903432947 [Z1] +\n",
      "0.165867024105892 [Z1 Z2] +\n",
      "0.120544822053018 [Z1 Z3] +\n",
      "-0.22278593040418496 [Z2] +\n",
      "0.17434844185575687 [Z2 Z3] +\n",
      "-0.22278593040418496 [Z3]\n"
     ]
    }
   ],
   "source": [
    "jw_hamiltonian=jordan_wigner(hamiltonian)\n",
    "print(jw_hamiltonian)\n",
    "\n",
    "\n"
   ]
  },
  {
   "cell_type": "code",
   "execution_count": 31,
   "metadata": {},
   "outputs": [
    {
     "name": "stdout",
     "output_type": "stream",
     "text": [
      "0.583218227476381\n"
     ]
    }
   ],
   "source": [
    "from openfermion.utils import error_bound, error_operator\n",
    "a=QubitOperator('')\n",
    "b=QubitOperator('X0 X1 Y2 Y3',-0.0988639693354571)\n",
    "c=QubitOperator('X0 Y1 Y2 X3',-0.045322202052874)\n",
    "d=QubitOperator('Y0 X1 X2 Y3',0.045322202052874)\n",
    "e=QubitOperator('Y0 Y1 X2 X3',0.045322202052874)\n",
    "f=QubitOperator('Z0',0.17119774903432944)\n",
    "g=QubitOperator('Z0 Z1',0.16862219158920938)\n",
    "h=QubitOperator('Z0 Z2',0.120544822053018)\n",
    "i=QubitOperator('Z1',0.17119774903432947)\n",
    "j=QubitOperator('Z1 Z2',0.165867024105892)\n",
    "k=QubitOperator('Z1 Z3',0.120544822053018)\n",
    "l=QubitOperator('Z2',-0.22278593040418496)\n",
    "m=QubitOperator('Z2 Z3',0.17434844185575687)\n",
    "n=QubitOperator('Z3',-0.22278593040418496)\n",
    "\n",
    "terms=[a,b,c,d,e,f,g,h,i,k,l,m,n]\n",
    "er=error_bound(terms,tight=False)\n",
    "print(er)"
   ]
  },
  {
   "cell_type": "code",
   "execution_count": 33,
   "metadata": {},
   "outputs": [
    {
     "name": "stdout",
     "output_type": "stream",
     "text": [
      "(0.0011928794631486436+0j) [X0 X1 X2 X3] +\n",
      "(-0.0026015144002038493+0j) [X0 X1 Y2 Y3] +\n",
      "(0.00037364593144043344+0j) [X0 Y1 X2 Y3] +\n",
      "(-0.0005119096890636866+0j) [X0 Y1 Y2 X3] +\n",
      "(0.0018733144139546731+0j) [Y0 X1 X2 Y3] +\n",
      "(0.0009877587934505533+0j) [Y0 X1 Y2 X3] +\n",
      "(0.00119261205150918+0j) [Y0 Y1 X2 X3] +\n",
      "(0.0002160228855460254+0j) [Y0 Y1 Y2 Y3] +\n",
      "(-0.0018800042226705014+0j) [Z0] +\n",
      "(-0.00022474682834517875+0j) [Z0 Z1 Z2] +\n",
      "(-0.001716412170817677+0j) [Z0 Z1 Z3] +\n",
      "(-0.00022474682834517875+0j) [Z0 Z2 Z3] +\n",
      "(6.115477649235432e-05+0j) [Z1] +\n",
      "(0.0017164121708176773+0j) [Z1 Z2 Z3] +\n",
      "(0.0019293005276117426+0j) [Z2] +\n",
      "(0.0004376351851392439+0j) [Z3]\n"
     ]
    }
   ],
   "source": [
    "err=error_operator(terms,series_order=2)\n",
    "print(err)"
   ]
  },
  {
   "cell_type": "code",
   "execution_count": 34,
   "metadata": {},
   "outputs": [
    {
     "name": "stdout",
     "output_type": "stream",
     "text": [
      "H 0\n",
      "H 1\n",
      "H 2\n",
      "Rx 1.5707963267948966 3\n",
      "CNOT 0 1\n",
      "CNOT 1 2\n",
      "CNOT 2 3\n",
      "Rz -0.0141925 3\n",
      "CNOT 2 3\n",
      "CNOT 1 2\n",
      "CNOT 0 1\n",
      "H 0\n",
      "H 1\n",
      "H 2\n",
      "Rx -1.5707963267948966 3\n",
      "H 0\n",
      "H 1\n",
      "Rx 1.5707963267948966 2\n",
      "H 3\n",
      "CNOT 0 1\n",
      "CNOT 1 2\n",
      "CNOT 2 3\n",
      "Rz -0.0141925 3\n",
      "CNOT 2 3\n",
      "CNOT 1 2\n",
      "CNOT 0 1\n",
      "H 0\n",
      "H 1\n",
      "Rx -1.5707963267948966 2\n",
      "H 3\n",
      "H 0\n",
      "Rx 1.5707963267948966 1\n",
      "H 2\n",
      "H 3\n",
      "CNOT 0 1\n",
      "CNOT 1 2\n",
      "CNOT 2 3\n",
      "Rz 0.0141925 3\n",
      "CNOT 2 3\n",
      "CNOT 1 2\n",
      "CNOT 0 1\n",
      "H 0\n",
      "Rx -1.5707963267948966 1\n",
      "H 2\n",
      "H 3\n",
      "H 0\n",
      "Rx 1.5707963267948966 1\n",
      "Rx 1.5707963267948966 2\n",
      "Rx 1.5707963267948966 3\n",
      "CNOT 0 1\n",
      "CNOT 1 2\n",
      "CNOT 2 3\n",
      "Rz -0.0 3\n",
      "CNOT 2 3\n",
      "CNOT 1 2\n",
      "CNOT 0 1\n",
      "H 0\n",
      "Rx -1.5707963267948966 1\n",
      "Rx -1.5707963267948966 2\n",
      "Rx -1.5707963267948966 3\n",
      "Rx 1.5707963267948966 0\n",
      "H 1\n",
      "H 2\n",
      "H 3\n",
      "CNOT 0 1\n",
      "CNOT 1 2\n",
      "CNOT 2 3\n",
      "Rz 0.0141925 3\n",
      "CNOT 2 3\n",
      "CNOT 1 2\n",
      "CNOT 0 1\n",
      "Rx -1.5707963267948966 0\n",
      "H 1\n",
      "H 2\n",
      "H 3\n",
      "Rx 1.5707963267948966 0\n",
      "H 1\n",
      "Rx 1.5707963267948966 2\n",
      "Rx 1.5707963267948966 3\n",
      "CNOT 0 1\n",
      "CNOT 1 2\n",
      "CNOT 2 3\n",
      "Rz -0.0141925 3\n",
      "CNOT 2 3\n",
      "CNOT 1 2\n",
      "CNOT 0 1\n",
      "Rx -1.5707963267948966 0\n",
      "H 1\n",
      "Rx -1.5707963267948966 2\n",
      "Rx -1.5707963267948966 3\n",
      "Rx 1.5707963267948966 0\n",
      "Rx 1.5707963267948966 1\n",
      "H 2\n",
      "Rx 1.5707963267948966 3\n",
      "CNOT 0 1\n",
      "CNOT 1 2\n",
      "CNOT 2 3\n",
      "Rz 0.0141925 3\n",
      "CNOT 2 3\n",
      "CNOT 1 2\n",
      "CNOT 0 1\n",
      "Rx -1.5707963267948966 0\n",
      "Rx -1.5707963267948966 1\n",
      "H 2\n",
      "Rx -1.5707963267948966 3\n",
      "Rx 1.5707963267948966 0\n",
      "Rx 1.5707963267948966 1\n",
      "Rx 1.5707963267948966 2\n",
      "H 3\n",
      "CNOT 0 1\n",
      "CNOT 1 2\n",
      "CNOT 2 3\n",
      "Rz 0.0141925 3\n",
      "CNOT 2 3\n",
      "CNOT 1 2\n",
      "CNOT 0 1\n",
      "Rx -1.5707963267948966 0\n",
      "Rx -1.5707963267948966 1\n",
      "Rx -1.5707963267948966 2\n",
      "H 3\n"
     ]
    }
   ],
   "source": [
    "from openfermion.ops import QubitOperator\n",
    "from openfermion.utils import pauli_exp_to_qasm\n",
    "for line in pauli_exp_to_qasm([QubitOperator('X0 X1 X2 Y3',-0.0141925),QubitOperator('X0 X1 Y2 X3',-0.0141925), QubitOperator('X0 Y1 X2 X3', 0.0141925), \n",
    "                              QubitOperator('X0 Y1 Y2 Y3',-0.0141925j),QubitOperator('Y0 X1 X2 X3', 0.0141925), QubitOperator('Y0 X1 Y2 Y3',-0.0141925),\n",
    "                              QubitOperator('Y0 Y1 X2 Y3',0.0141925), QubitOperator('Y0 Y1 Y2 X3',0.0141925)]):\n",
    "    print(line)\n"
   ]
  },
  {
   "cell_type": "code",
   "execution_count": null,
   "metadata": {},
   "outputs": [],
   "source": []
  }
 ],
 "metadata": {
  "kernelspec": {
   "display_name": "Python 3",
   "language": "python",
   "name": "python3"
  },
  "language_info": {
   "codemirror_mode": {
    "name": "ipython",
    "version": 3
   },
   "file_extension": ".py",
   "mimetype": "text/x-python",
   "name": "python",
   "nbconvert_exporter": "python",
   "pygments_lexer": "ipython3",
   "version": "3.6.8"
  }
 },
 "nbformat": 4,
 "nbformat_minor": 4
}
