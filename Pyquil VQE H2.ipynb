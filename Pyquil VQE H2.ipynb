{
 "cells": [
  {
   "cell_type": "code",
   "execution_count": 1,
   "metadata": {},
   "outputs": [],
   "source": [
    "from scipy.linalg import eigh\n",
    "from openfermion.transforms import get_sparse_operator\n",
    "from openfermion.utils import pauli_exp_to_qasm, uccsd_singlet_generator, uccsd_singlet_paramsize\n",
    "from openfermion.ops import QubitOperator\n",
    "from openfermion.transforms import get_fermion_operator, jordan_wigner, bravyi_kitaev\n",
    "from pyscf import ci\n",
    "from pyscf import mp\n",
    "from openfermionpyscf import run_pyscf\n",
    "from openfermion.hamiltonians import MolecularData\n",
    "from openfermionpsi4 import run_psi4\n",
    "import os\n"
   ]
  },
  {
   "cell_type": "code",
   "execution_count": 2,
   "metadata": {},
   "outputs": [],
   "source": [
    "#menentukan molekul yang akan ditinjau\n",
    "geometry = [[\"H\", [0, 0, 0]],\n",
    "            [\"H\", [0, 0, 0.74]]]\n",
    "basis = \"sto-3g\"\n",
    "multiplicity = 1\n",
    "charge = 0\n",
    "molecule = MolecularData(geometry, basis, multiplicity, charge)\n",
    "h2_molecule = run_pyscf(molecule, run_mp2=True, run_cisd=True, run_ccsd=True, run_fci=True)"
   ]
  },
  {
   "cell_type": "code",
   "execution_count": 3,
   "metadata": {},
   "outputs": [
    {
     "name": "stdout",
     "output_type": "stream",
     "text": [
      "0.7151043390810812 [] +\n",
      "-1.2533097866459773 [0^ 0] +\n",
      "0.3373779634072241 [0^ 0^ 0 0] +\n",
      "0.09060523100759854 [0^ 0^ 2 2] +\n",
      "0.3373779634072241 [0^ 1^ 1 0] +\n",
      "0.09060523100759854 [0^ 1^ 3 2] +\n",
      "0.09060523100759854 [0^ 2^ 0 2] +\n",
      "0.3318557006754069 [0^ 2^ 2 0] +\n",
      "0.09060523100759854 [0^ 3^ 1 2] +\n",
      "0.3318557006754069 [0^ 3^ 3 0] +\n",
      "0.3373779634072241 [1^ 0^ 0 1] +\n",
      "0.09060523100759854 [1^ 0^ 2 3] +\n",
      "-1.2533097866459773 [1^ 1] +\n",
      "0.3373779634072241 [1^ 1^ 1 1] +\n",
      "0.09060523100759854 [1^ 1^ 3 3] +\n",
      "0.09060523100759854 [1^ 2^ 0 3] +\n",
      "0.3318557006754069 [1^ 2^ 2 1] +\n",
      "0.09060523100759854 [1^ 3^ 1 3] +\n",
      "0.3318557006754069 [1^ 3^ 3 1] +\n",
      "0.3318557006754069 [2^ 0^ 0 2] +\n",
      "0.09060523100759854 [2^ 0^ 2 0] +\n",
      "0.3318557006754069 [2^ 1^ 1 2] +\n",
      "0.09060523100759854 [2^ 1^ 3 0] +\n",
      "-0.47506884877217576 [2^ 2] +\n",
      "0.09060523100759854 [2^ 2^ 0 0] +\n",
      "0.348825752245232 [2^ 2^ 2 2] +\n",
      "0.09060523100759854 [2^ 3^ 1 0] +\n",
      "0.348825752245232 [2^ 3^ 3 2] +\n",
      "0.3318557006754069 [3^ 0^ 0 3] +\n",
      "0.09060523100759854 [3^ 0^ 2 1] +\n",
      "0.3318557006754069 [3^ 1^ 1 3] +\n",
      "0.09060523100759854 [3^ 1^ 3 1] +\n",
      "0.09060523100759854 [3^ 2^ 0 1] +\n",
      "0.348825752245232 [3^ 2^ 2 3] +\n",
      "-0.47506884877217576 [3^ 3] +\n",
      "0.09060523100759854 [3^ 3^ 1 1] +\n",
      "0.348825752245232 [3^ 3^ 3 3]\n"
     ]
    }
   ],
   "source": [
    "import openfermion as of\n",
    "import openfermionpyscf as ofpyscf\n",
    "\n",
    "\n",
    "#mendeklarasikan molekul\n",
    "geometry = [('H', (0.0, 0.0, 0.0)), ('H', (0.0, 0.0, 0.74))]\n",
    "basis = 'sto-3g'\n",
    "multiplicity = 1\n",
    "charge = 0\n",
    "\n",
    "hamiltonian = ofpyscf.generate_molecular_hamiltonian(\n",
    "    geometry, basis, multiplicity, charge)\n",
    "\n",
    "#mengubah bentuk hamilton menjadi bentuk kuantisasi kedua\n",
    "hamiltonian_ferm_op = of.get_fermion_operator(hamiltonian)\n",
    "\n",
    "print(hamiltonian_ferm_op)"
   ]
  },
  {
   "cell_type": "code",
   "execution_count": 4,
   "metadata": {},
   "outputs": [
    {
     "name": "stdout",
     "output_type": "stream",
     "text": [
      "4\n",
      "2\n"
     ]
    }
   ],
   "source": [
    "qubit= h2_molecule.n_qubits\n",
    "electrons=h2_molecule.n_electrons\n",
    "print(qubit)\n",
    "print(electrons)"
   ]
  },
  {
   "cell_type": "code",
   "execution_count": 5,
   "metadata": {},
   "outputs": [
    {
     "name": "stdout",
     "output_type": "stream",
     "text": [
      "() 0.7151043390810812\n",
      "((0, 1), (0, 0)) -1.2533097866459773\n",
      "((1, 1), (1, 0)) -1.2533097866459773\n",
      "((2, 1), (2, 0)) -0.47506884877217576\n",
      "((3, 1), (3, 0)) -0.47506884877217576\n",
      "((0, 1), (0, 1), (0, 0), (0, 0)) 0.3373779634072241\n",
      "((0, 1), (0, 1), (2, 0), (2, 0)) 0.09060523100759854\n",
      "((0, 1), (1, 1), (1, 0), (0, 0)) 0.3373779634072241\n",
      "((0, 1), (1, 1), (3, 0), (2, 0)) 0.09060523100759854\n",
      "((0, 1), (2, 1), (0, 0), (2, 0)) 0.09060523100759854\n",
      "((0, 1), (2, 1), (2, 0), (0, 0)) 0.3318557006754069\n",
      "((0, 1), (3, 1), (1, 0), (2, 0)) 0.09060523100759854\n",
      "((0, 1), (3, 1), (3, 0), (0, 0)) 0.3318557006754069\n",
      "((1, 1), (0, 1), (0, 0), (1, 0)) 0.3373779634072241\n",
      "((1, 1), (0, 1), (2, 0), (3, 0)) 0.09060523100759854\n",
      "((1, 1), (1, 1), (1, 0), (1, 0)) 0.3373779634072241\n",
      "((1, 1), (1, 1), (3, 0), (3, 0)) 0.09060523100759854\n",
      "((1, 1), (2, 1), (0, 0), (3, 0)) 0.09060523100759854\n",
      "((1, 1), (2, 1), (2, 0), (1, 0)) 0.3318557006754069\n",
      "((1, 1), (3, 1), (1, 0), (3, 0)) 0.09060523100759854\n",
      "((1, 1), (3, 1), (3, 0), (1, 0)) 0.3318557006754069\n",
      "((2, 1), (0, 1), (0, 0), (2, 0)) 0.3318557006754069\n",
      "((2, 1), (0, 1), (2, 0), (0, 0)) 0.09060523100759854\n",
      "((2, 1), (1, 1), (1, 0), (2, 0)) 0.3318557006754069\n",
      "((2, 1), (1, 1), (3, 0), (0, 0)) 0.09060523100759854\n",
      "((2, 1), (2, 1), (0, 0), (0, 0)) 0.09060523100759854\n",
      "((2, 1), (2, 1), (2, 0), (2, 0)) 0.348825752245232\n",
      "((2, 1), (3, 1), (1, 0), (0, 0)) 0.09060523100759854\n",
      "((2, 1), (3, 1), (3, 0), (2, 0)) 0.348825752245232\n",
      "((3, 1), (0, 1), (0, 0), (3, 0)) 0.3318557006754069\n",
      "((3, 1), (0, 1), (2, 0), (1, 0)) 0.09060523100759854\n",
      "((3, 1), (1, 1), (1, 0), (3, 0)) 0.3318557006754069\n",
      "((3, 1), (1, 1), (3, 0), (1, 0)) 0.09060523100759854\n",
      "((3, 1), (2, 1), (0, 0), (1, 0)) 0.09060523100759854\n",
      "((3, 1), (2, 1), (2, 0), (3, 0)) 0.348825752245232\n",
      "((3, 1), (3, 1), (1, 0), (1, 0)) 0.09060523100759854\n",
      "((3, 1), (3, 1), (3, 0), (3, 0)) 0.348825752245232\n",
      "\n"
     ]
    }
   ],
   "source": [
    "hamiltonan=h2_molecule.get_molecular_hamiltonian()\n",
    "print(hamiltonan)"
   ]
  },
  {
   "cell_type": "code",
   "execution_count": 8,
   "metadata": {},
   "outputs": [
    {
     "name": "stdout",
     "output_type": "stream",
     "text": [
      "Jordan Wigner= -0.09706626816762856 [] +\n",
      "-0.04530261550379927 [X0 X1 Y2 Y3] +\n",
      "0.04530261550379927 [X0 Y1 Y2 X3] +\n",
      "0.04530261550379927 [Y0 X1 X2 Y3] +\n",
      "-0.04530261550379927 [Y0 Y1 X2 X3] +\n",
      "0.17141282644776898 [Z0] +\n",
      "0.16868898170361205 [Z0 Z1] +\n",
      "0.12062523483390417 [Z0 Z2] +\n",
      "0.16592785033770344 [Z0 Z3] +\n",
      "0.17141282644776903 [Z1] +\n",
      "0.16592785033770344 [Z1 Z2] +\n",
      "0.12062523483390417 [Z1 Z3] +\n",
      "-0.22343153690813572 [Z2] +\n",
      "0.174412876122616 [Z2 Z3] +\n",
      "-0.22343153690813572 [Z3]\n",
      "Bravyi-Kitaev= (-0.0970662681676283+0j) [] +\n",
      "(0.04530261550379927+0j) [X0 Z1 X2] +\n",
      "(0.04530261550379927+0j) [X0 Z1 X2 Z3] +\n",
      "(0.04530261550379927+0j) [Y0 Z1 Y2] +\n",
      "(0.04530261550379927+0j) [Y0 Z1 Y2 Z3] +\n",
      "(0.17141282644776895+0j) [Z0] +\n",
      "(0.17141282644776898+0j) [Z0 Z1] +\n",
      "(0.16592785033770344+0j) [Z0 Z1 Z2] +\n",
      "(0.16592785033770344+0j) [Z0 Z1 Z2 Z3] +\n",
      "(0.12062523483390417+0j) [Z0 Z2] +\n",
      "(0.12062523483390417+0j) [Z0 Z2 Z3] +\n",
      "(0.16868898170361205+0j) [Z1] +\n",
      "(-0.22343153690813572+0j) [Z1 Z2 Z3] +\n",
      "(0.174412876122616+0j) [Z1 Z3] +\n",
      "(-0.22343153690813572+0j) [Z2]\n"
     ]
    }
   ],
   "source": [
    "#Transformasi Jordan-Wigner\n",
    "JW_hamiltonian = jordan_wigner(h2_molecule.get_molecular_hamiltonian())\n",
    "BK_hamiltonian = bravyi_kitaev(get_fermion_operator(h2_molecule.get_molecular_hamiltonian()))\n",
    "print(\"Jordan Wigner=\",JW_hamiltonian)\n",
    "print(\"Bravyi-Kitaev=\",BK_hamiltonian)"
   ]
  },
  {
   "cell_type": "code",
   "execution_count": 6,
   "metadata": {},
   "outputs": [
    {
     "name": "stdout",
     "output_type": "stream",
     "text": [
      "0.7151043390810812 [] +\n",
      "-1.2533097866459773 [0^ 0] +\n",
      "0.3373779634072241 [0^ 0^ 0 0] +\n",
      "0.09060523100759854 [0^ 0^ 2 2] +\n",
      "0.3373779634072241 [0^ 1^ 1 0] +\n",
      "0.09060523100759854 [0^ 1^ 3 2] +\n",
      "0.09060523100759854 [0^ 2^ 0 2] +\n",
      "0.3318557006754069 [0^ 2^ 2 0] +\n",
      "0.09060523100759854 [0^ 3^ 1 2] +\n",
      "0.3318557006754069 [0^ 3^ 3 0] +\n",
      "0.3373779634072241 [1^ 0^ 0 1] +\n",
      "0.09060523100759854 [1^ 0^ 2 3] +\n",
      "-1.2533097866459773 [1^ 1] +\n",
      "0.3373779634072241 [1^ 1^ 1 1] +\n",
      "0.09060523100759854 [1^ 1^ 3 3] +\n",
      "0.09060523100759854 [1^ 2^ 0 3] +\n",
      "0.3318557006754069 [1^ 2^ 2 1] +\n",
      "0.09060523100759854 [1^ 3^ 1 3] +\n",
      "0.3318557006754069 [1^ 3^ 3 1] +\n",
      "0.3318557006754069 [2^ 0^ 0 2] +\n",
      "0.09060523100759854 [2^ 0^ 2 0] +\n",
      "0.3318557006754069 [2^ 1^ 1 2] +\n",
      "0.09060523100759854 [2^ 1^ 3 0] +\n",
      "-0.47506884877217576 [2^ 2] +\n",
      "0.09060523100759854 [2^ 2^ 0 0] +\n",
      "0.348825752245232 [2^ 2^ 2 2] +\n",
      "0.09060523100759854 [2^ 3^ 1 0] +\n",
      "0.348825752245232 [2^ 3^ 3 2] +\n",
      "0.3318557006754069 [3^ 0^ 0 3] +\n",
      "0.09060523100759854 [3^ 0^ 2 1] +\n",
      "0.3318557006754069 [3^ 1^ 1 3] +\n",
      "0.09060523100759854 [3^ 1^ 3 1] +\n",
      "0.09060523100759854 [3^ 2^ 0 1] +\n",
      "0.348825752245232 [3^ 2^ 2 3] +\n",
      "-0.47506884877217576 [3^ 3] +\n",
      "0.09060523100759854 [3^ 3^ 1 1] +\n",
      "0.348825752245232 [3^ 3^ 3 3]\n"
     ]
    }
   ],
   "source": [
    "hamiltonan_fermion=get_fermion_operator(h2_molecule.get_molecular_hamiltonian())\n",
    "print(hamiltonan_fermion)"
   ]
  },
  {
   "cell_type": "code",
   "execution_count": 66,
   "metadata": {},
   "outputs": [
    {
     "name": "stdout",
     "output_type": "stream",
     "text": [
      "[[ 0.71510434+0.j  0.        +0.j  0.        +0.j  0.        +0.j\n",
      "   0.        +0.j  0.        +0.j  0.        +0.j  0.        +0.j\n",
      "   0.        +0.j  0.        +0.j  0.        +0.j  0.        +0.j\n",
      "   0.        +0.j  0.        +0.j  0.        +0.j  0.        +0.j]\n",
      " [ 0.        +0.j  0.24003549+0.j  0.        +0.j  0.        +0.j\n",
      "   0.        +0.j  0.        +0.j  0.        +0.j  0.        +0.j\n",
      "   0.        +0.j  0.        +0.j  0.        +0.j  0.        +0.j\n",
      "   0.        +0.j  0.        +0.j  0.        +0.j  0.        +0.j]\n",
      " [ 0.        +0.j  0.        +0.j  0.24003549+0.j  0.        +0.j\n",
      "   0.        +0.j  0.        +0.j  0.        +0.j  0.        +0.j\n",
      "   0.        +0.j  0.        +0.j  0.        +0.j  0.        +0.j\n",
      "   0.        +0.j  0.        +0.j  0.        +0.j  0.        +0.j]\n",
      " [ 0.        +0.j  0.        +0.j  0.        +0.j  0.46261815+0.j\n",
      "   0.        +0.j  0.        +0.j  0.        +0.j  0.        +0.j\n",
      "   0.        +0.j  0.        +0.j  0.        +0.j  0.        +0.j\n",
      "   0.18121046+0.j  0.        +0.j  0.        +0.j  0.        +0.j]\n",
      " [ 0.        +0.j  0.        +0.j  0.        +0.j  0.        +0.j\n",
      "  -0.53820545+0.j  0.        +0.j  0.        +0.j  0.        +0.j\n",
      "   0.        +0.j  0.        +0.j  0.        +0.j  0.        +0.j\n",
      "   0.        +0.j  0.        +0.j  0.        +0.j  0.        +0.j]\n",
      " [ 0.        +0.j  0.        +0.j  0.        +0.j  0.        +0.j\n",
      "   0.        +0.j -0.53077336+0.j  0.        +0.j  0.        +0.j\n",
      "   0.        +0.j  0.        +0.j  0.        +0.j  0.        +0.j\n",
      "   0.        +0.j  0.        +0.j  0.        +0.j  0.        +0.j]\n",
      " [ 0.        +0.j  0.        +0.j  0.        +0.j  0.        +0.j\n",
      "   0.        +0.j  0.        +0.j -0.34956289+0.j  0.        +0.j\n",
      "   0.        +0.j -0.18121046+0.j  0.        +0.j  0.        +0.j\n",
      "   0.        +0.j  0.        +0.j  0.        +0.j  0.        +0.j]\n",
      " [ 0.        +0.j  0.        +0.j  0.        +0.j  0.        +0.j\n",
      "   0.        +0.j  0.        +0.j  0.        +0.j  0.3555207 +0.j\n",
      "   0.        +0.j  0.        +0.j  0.        +0.j  0.        +0.j\n",
      "   0.        +0.j  0.        +0.j  0.        +0.j  0.        +0.j]\n",
      " [ 0.        +0.j  0.        +0.j  0.        +0.j  0.        +0.j\n",
      "   0.        +0.j  0.        +0.j  0.        +0.j  0.        +0.j\n",
      "  -0.53820545+0.j  0.        +0.j  0.        +0.j  0.        +0.j\n",
      "   0.        +0.j  0.        +0.j  0.        +0.j  0.        +0.j]\n",
      " [ 0.        +0.j  0.        +0.j  0.        +0.j  0.        +0.j\n",
      "   0.        +0.j  0.        +0.j -0.18121046+0.j  0.        +0.j\n",
      "   0.        +0.j -0.34956289+0.j  0.        +0.j  0.        +0.j\n",
      "   0.        +0.j  0.        +0.j  0.        +0.j  0.        +0.j]\n",
      " [ 0.        +0.j  0.        +0.j  0.        +0.j  0.        +0.j\n",
      "   0.        +0.j  0.        +0.j  0.        +0.j  0.        +0.j\n",
      "   0.        +0.j  0.        +0.j -0.53077336+0.j  0.        +0.j\n",
      "   0.        +0.j  0.        +0.j  0.        +0.j  0.        +0.j]\n",
      " [ 0.        +0.j  0.        +0.j  0.        +0.j  0.        +0.j\n",
      "   0.        +0.j  0.        +0.j  0.        +0.j  0.        +0.j\n",
      "   0.        +0.j  0.        +0.j  0.        +0.j  0.3555207 +0.j\n",
      "   0.        +0.j  0.        +0.j  0.        +0.j  0.        +0.j]\n",
      " [ 0.        +0.j  0.        +0.j  0.        +0.j  0.18121046+0.j\n",
      "   0.        +0.j  0.        +0.j  0.        +0.j  0.        +0.j\n",
      "   0.        +0.j  0.        +0.j  0.        +0.j  0.        +0.j\n",
      "  -1.11675931+0.j  0.        +0.j  0.        +0.j  0.        +0.j]\n",
      " [ 0.        +0.j  0.        +0.j  0.        +0.j  0.        +0.j\n",
      "   0.        +0.j  0.        +0.j  0.        +0.j  0.        +0.j\n",
      "   0.        +0.j  0.        +0.j  0.        +0.j  0.        +0.j\n",
      "   0.        +0.j -0.44561582+0.j  0.        +0.j  0.        +0.j]\n",
      " [ 0.        +0.j  0.        +0.j  0.        +0.j  0.        +0.j\n",
      "   0.        +0.j  0.        +0.j  0.        +0.j  0.        +0.j\n",
      "   0.        +0.j  0.        +0.j  0.        +0.j  0.        +0.j\n",
      "   0.        +0.j  0.        +0.j -0.44561582+0.j  0.        +0.j]\n",
      " [ 0.        +0.j  0.        +0.j  0.        +0.j  0.        +0.j\n",
      "   0.        +0.j  0.        +0.j  0.        +0.j  0.        +0.j\n",
      "   0.        +0.j  0.        +0.j  0.        +0.j  0.        +0.j\n",
      "   0.        +0.j  0.        +0.j  0.        +0.j  0.92317918+0.j]]\n",
      "(16, 16)\n"
     ]
    }
   ],
   "source": [
    "h2_matrix=get_sparse_operator(qubit_hamiltonian1).todense()\n",
    "print(h2_matrix)\n",
    "print(h2_matrix.shape)"
   ]
  },
  {
   "cell_type": "code",
   "execution_count": 84,
   "metadata": {},
   "outputs": [
    {
     "name": "stdout",
     "output_type": "stream",
     "text": [
      "[[-1.11675931+0.j]]\n"
     ]
    }
   ],
   "source": [
    "a_1=np.array([0,1])\n",
    "a_2=np.array([0,1])\n",
    "a_3=np.array([1,0])\n",
    "a_4=np.array([1,0])\n",
    "b=np.kron(a_1,a_2)\n",
    "b_1=np.kron(b,a_3)\n",
    "b_2=np.kron(b_1,a_4)\n",
    "b_2t=np.transpose(b_2)\n",
    "c=np.matmul(h2_matrix,b_2)\n",
    "d=np.matmul(c,b_2t)\n",
    "print(d)"
   ]
  },
  {
   "cell_type": "code",
   "execution_count": 89,
   "metadata": {},
   "outputs": [
    {
     "name": "stdout",
     "output_type": "stream",
     "text": [
      "[[-0.34956289+0.j]]\n",
      "[[ 0.71510434+0.j  0.        +0.j  0.        +0.j  0.        +0.j\n",
      "   0.        +0.j  0.        +0.j  0.        +0.j  0.        +0.j\n",
      "   0.        +0.j  0.        +0.j  0.        +0.j  0.        +0.j\n",
      "   0.        +0.j  0.        +0.j  0.        +0.j  0.        +0.j]\n",
      " [ 0.        +0.j  0.24003549+0.j  0.        +0.j  0.        +0.j\n",
      "   0.        +0.j  0.        +0.j  0.        +0.j  0.        +0.j\n",
      "   0.        +0.j  0.        +0.j  0.        +0.j  0.        +0.j\n",
      "   0.        +0.j  0.        +0.j  0.        +0.j  0.        +0.j]\n",
      " [ 0.        +0.j  0.        +0.j  0.46261815+0.j  0.        +0.j\n",
      "   0.        +0.j  0.        +0.j  0.        +0.j  0.        +0.j\n",
      "   0.18121046+0.j  0.        +0.j  0.        +0.j  0.        +0.j\n",
      "   0.        +0.j  0.        +0.j  0.        +0.j  0.        +0.j]\n",
      " [ 0.        +0.j  0.        +0.j  0.        +0.j  0.24003549+0.j\n",
      "   0.        +0.j  0.        +0.j  0.        +0.j  0.        +0.j\n",
      "   0.        +0.j  0.        +0.j  0.        +0.j  0.        +0.j\n",
      "   0.        +0.j  0.        +0.j  0.        +0.j  0.        +0.j]\n",
      " [ 0.        +0.j  0.        +0.j  0.        +0.j  0.        +0.j\n",
      "  -0.53077336+0.j  0.        +0.j  0.        +0.j  0.        +0.j\n",
      "   0.        +0.j  0.        +0.j  0.        +0.j  0.        +0.j\n",
      "   0.        +0.j  0.        +0.j  0.        +0.j  0.        +0.j]\n",
      " [ 0.        +0.j  0.        +0.j  0.        +0.j  0.        +0.j\n",
      "   0.        +0.j -0.53820545+0.j  0.        +0.j  0.        +0.j\n",
      "   0.        +0.j  0.        +0.j  0.        +0.j  0.        +0.j\n",
      "   0.        +0.j  0.        +0.j  0.        +0.j  0.        +0.j]\n",
      " [ 0.        +0.j  0.        +0.j  0.        +0.j  0.        +0.j\n",
      "   0.        +0.j  0.        +0.j -0.34956289+0.j  0.        +0.j\n",
      "   0.        +0.j  0.        +0.j  0.        +0.j  0.        +0.j\n",
      "  -0.18121046+0.j  0.        +0.j  0.        +0.j  0.        +0.j]\n",
      " [ 0.        +0.j  0.        +0.j  0.        +0.j  0.        +0.j\n",
      "   0.        +0.j  0.        +0.j  0.        +0.j  0.3555207 +0.j\n",
      "   0.        +0.j  0.        +0.j  0.        +0.j  0.        +0.j\n",
      "   0.        +0.j  0.        +0.j  0.        +0.j  0.        +0.j]\n",
      " [ 0.        +0.j  0.        +0.j  0.18121046+0.j  0.        +0.j\n",
      "   0.        +0.j  0.        +0.j  0.        +0.j  0.        +0.j\n",
      "  -1.11675931+0.j  0.        +0.j  0.        +0.j  0.        +0.j\n",
      "   0.        +0.j  0.        +0.j  0.        +0.j  0.        +0.j]\n",
      " [ 0.        +0.j  0.        +0.j  0.        +0.j  0.        +0.j\n",
      "   0.        +0.j  0.        +0.j  0.        +0.j  0.        +0.j\n",
      "   0.        +0.j -0.44561582+0.j  0.        +0.j  0.        +0.j\n",
      "   0.        +0.j  0.        +0.j  0.        +0.j  0.        +0.j]\n",
      " [ 0.        +0.j  0.        +0.j  0.        +0.j  0.        +0.j\n",
      "   0.        +0.j  0.        +0.j  0.        +0.j  0.        +0.j\n",
      "   0.        +0.j  0.        +0.j  0.92317918+0.j  0.        +0.j\n",
      "   0.        +0.j  0.        +0.j  0.        +0.j  0.        +0.j]\n",
      " [ 0.        +0.j  0.        +0.j  0.        +0.j  0.        +0.j\n",
      "   0.        +0.j  0.        +0.j  0.        +0.j  0.        +0.j\n",
      "   0.        +0.j  0.        +0.j  0.        +0.j -0.44561582+0.j\n",
      "   0.        +0.j  0.        +0.j  0.        +0.j  0.        +0.j]\n",
      " [ 0.        +0.j  0.        +0.j  0.        +0.j  0.        +0.j\n",
      "   0.        +0.j  0.        +0.j -0.18121046+0.j  0.        +0.j\n",
      "   0.        +0.j  0.        +0.j  0.        +0.j  0.        +0.j\n",
      "  -0.34956289+0.j  0.        +0.j  0.        +0.j  0.        +0.j]\n",
      " [ 0.        +0.j  0.        +0.j  0.        +0.j  0.        +0.j\n",
      "   0.        +0.j  0.        +0.j  0.        +0.j  0.        +0.j\n",
      "   0.        +0.j  0.        +0.j  0.        +0.j  0.        +0.j\n",
      "   0.        +0.j -0.53820545+0.j  0.        +0.j  0.        +0.j]\n",
      " [ 0.        +0.j  0.        +0.j  0.        +0.j  0.        +0.j\n",
      "   0.        +0.j  0.        +0.j  0.        +0.j  0.        +0.j\n",
      "   0.        +0.j  0.        +0.j  0.        +0.j  0.        +0.j\n",
      "   0.        +0.j  0.        +0.j -0.53077336+0.j  0.        +0.j]\n",
      " [ 0.        +0.j  0.        +0.j  0.        +0.j  0.        +0.j\n",
      "   0.        +0.j  0.        +0.j  0.        +0.j  0.        +0.j\n",
      "   0.        +0.j  0.        +0.j  0.        +0.j  0.        +0.j\n",
      "   0.        +0.j  0.        +0.j  0.        +0.j  0.3555207 +0.j]]\n"
     ]
    },
    {
     "ename": "NameError",
     "evalue": "name 'array_to_bmatrix' is not defined",
     "output_type": "error",
     "traceback": [
      "\u001b[0;31m---------------------------------------------------------------------------\u001b[0m",
      "\u001b[0;31mNameError\u001b[0m                                 Traceback (most recent call last)",
      "\u001b[0;32m<ipython-input-89-e6361050717a>\u001b[0m in \u001b[0;36m<module>\u001b[0;34m\u001b[0m\n\u001b[1;32m      4\u001b[0m \u001b[0mprint\u001b[0m\u001b[0;34m(\u001b[0m\u001b[0md1\u001b[0m\u001b[0;34m)\u001b[0m\u001b[0;34m\u001b[0m\u001b[0;34m\u001b[0m\u001b[0m\n\u001b[1;32m      5\u001b[0m \u001b[0mprint\u001b[0m\u001b[0;34m(\u001b[0m\u001b[0mh2_matrixb\u001b[0m\u001b[0;34m)\u001b[0m\u001b[0;34m\u001b[0m\u001b[0;34m\u001b[0m\u001b[0m\n\u001b[0;32m----> 6\u001b[0;31m \u001b[0marray_to_bmatrix\u001b[0m\u001b[0;34m(\u001b[0m\u001b[0mb\u001b[0m\u001b[0;34m)\u001b[0m\u001b[0;34m\u001b[0m\u001b[0;34m\u001b[0m\u001b[0m\n\u001b[0m",
      "\u001b[0;31mNameError\u001b[0m: name 'array_to_bmatrix' is not defined"
     ]
    }
   ],
   "source": [
    "h2_matrixb=get_sparse_operator(qubit_hamiltonian2).todense()\n",
    "c1=np.matmul(h2_matrixb,b_2)\n",
    "d1=np.matmul(c1,b_2t)\n",
    "print(d1)\n",
    "print(h2_matrixb)"
   ]
  },
  {
   "cell_type": "code",
   "execution_count": 22,
   "metadata": {},
   "outputs": [
    {
     "name": "stdout",
     "output_type": "stream",
     "text": [
      "2\n"
     ]
    }
   ],
   "source": [
    "amplitude=uccsd_singlet_paramsize(qubit,electrons)\n",
    "print(a)"
   ]
  },
  {
   "cell_type": "code",
   "execution_count": 27,
   "metadata": {},
   "outputs": [
    {
     "name": "stdout",
     "output_type": "stream",
     "text": [
      "-0.05 [0^ 2 1^ 3] +\n",
      "-0.05 [1^ 3 0^ 2] +\n",
      "0.05 [2^ 0 3^ 1] +\n",
      "0.05 [3^ 1 2^ 0]\n"
     ]
    }
   ],
   "source": [
    "import numpy as np\n",
    "initial_amplitudes = np.linspace(0,0.05,2)\n",
    "uccsd=uccsd_singlet_generator(initial_amplitudes,qubit,electrons)\n"
   ]
  },
  {
   "cell_type": "code",
   "execution_count": 41,
   "metadata": {},
   "outputs": [
    {
     "name": "stdout",
     "output_type": "stream",
     "text": [
      "[ 7.55024831e-01-6.55696199e-01j -2.45326947e-17-1.96261557e-17j\n",
      " -2.77555756e-17-1.38777878e-17j -4.62223187e-33+4.90653893e-18j\n",
      "  3.92523115e-17+5.88784672e-17j  4.90653893e-18-1.54074396e-33j\n",
      "  0.00000000e+00-1.38777878e-17j  1.96261557e-17+3.43457725e-17j\n",
      " -5.55111512e-17-5.55111512e-17j -3.43457725e-17+0.00000000e+00j\n",
      " -2.77555756e-17+4.16333634e-17j  1.96261557e-17-4.90653893e-18j\n",
      "  3.92523115e-17-5.88784672e-17j -2.45326947e-17+1.96261557e-17j\n",
      "  1.11022302e-16+9.71445147e-17j  3.92523115e-17-1.12850395e-16j]\n",
      "X 0\n",
      "PHASE(0.09706626816762856) 0\n",
      "X 0\n",
      "PHASE(0.09706626816762856) 0\n",
      "RZ(0.342825652895538) 0\n",
      "RZ(0.34282565289553796) 1\n",
      "RZ(-0.4468630738162712) 2\n",
      "RZ(-0.4468630738162712) 3\n",
      "CNOT 0 1\n",
      "RZ(0.33737796340722415) 1\n",
      "CNOT 0 1\n",
      "CNOT 0 2\n",
      "RZ(0.24125046966780833) 2\n",
      "CNOT 0 2\n",
      "CNOT 0 3\n",
      "RZ(0.3318557006754068) 3\n",
      "CNOT 0 3\n",
      "CNOT 1 2\n",
      "RZ(0.3318557006754068) 2\n",
      "CNOT 1 2\n",
      "CNOT 1 3\n",
      "RZ(0.24125046966780833) 3\n",
      "CNOT 1 3\n",
      "CNOT 2 3\n",
      "RZ(0.34882575224523177) 3\n",
      "CNOT 2 3\n",
      "H 0\n",
      "H 1\n",
      "RX(pi/2) 2\n",
      "RX(pi/2) 3\n",
      "CNOT 0 1\n",
      "CNOT 1 2\n",
      "CNOT 2 3\n",
      "RZ(-0.09060523100759851) 3\n",
      "CNOT 2 3\n",
      "CNOT 1 2\n",
      "CNOT 0 1\n",
      "H 0\n",
      "H 1\n",
      "RX(-pi/2) 2\n",
      "RX(-pi/2) 3\n",
      "H 0\n",
      "RX(pi/2) 1\n",
      "RX(pi/2) 2\n",
      "H 3\n",
      "CNOT 0 1\n",
      "CNOT 1 2\n",
      "CNOT 2 3\n",
      "RZ(0.09060523100759851) 3\n",
      "CNOT 2 3\n",
      "CNOT 1 2\n",
      "CNOT 0 1\n",
      "H 0\n",
      "RX(-pi/2) 1\n",
      "RX(-pi/2) 2\n",
      "H 3\n",
      "RX(pi/2) 0\n",
      "H 1\n",
      "H 2\n",
      "RX(pi/2) 3\n",
      "CNOT 0 1\n",
      "CNOT 1 2\n",
      "CNOT 2 3\n",
      "RZ(0.09060523100759851) 3\n",
      "CNOT 2 3\n",
      "CNOT 1 2\n",
      "CNOT 0 1\n",
      "RX(-pi/2) 0\n",
      "H 1\n",
      "H 2\n",
      "RX(-pi/2) 3\n",
      "RX(pi/2) 0\n",
      "RX(pi/2) 1\n",
      "H 2\n",
      "H 3\n",
      "CNOT 0 1\n",
      "CNOT 1 2\n",
      "CNOT 2 3\n",
      "RZ(-0.09060523100759851) 3\n",
      "CNOT 2 3\n",
      "CNOT 1 2\n",
      "CNOT 0 1\n",
      "RX(-pi/2) 0\n",
      "RX(-pi/2) 1\n",
      "H 2\n",
      "H 3\n",
      "\n"
     ]
    }
   ],
   "source": [
    "from pyquil.quil import Program\n",
    "from forestopenfermion import exponentiate\n",
    "from pyquil.api import QVMConnection\n",
    "\n",
    "pyquil_program = exponentiate(qubit_hamiltonian1)\n",
    "#print(pyquil_program)\n",
    "\n",
    "qvm = QVMConnection()\n",
    "wf = qvm.wavefunction(pyquil_program)\n",
    "print(wf.amplitudes)\n"
   ]
  },
  {
   "cell_type": "code",
   "execution_count": 43,
   "metadata": {},
   "outputs": [],
   "source": [
    "from pyquil import Program, get_qc\n",
    "qc = get_qc(\"9q-square-qvm\")"
   ]
  },
  {
   "cell_type": "code",
   "execution_count": 46,
   "metadata": {},
   "outputs": [],
   "source": [
    "bitstrings = qc.run_and_measure(pyquil_program, trials=10)"
   ]
  },
  {
   "cell_type": "code",
   "execution_count": 47,
   "metadata": {},
   "outputs": [
    {
     "name": "stdout",
     "output_type": "stream",
     "text": [
      "0.0\n"
     ]
    }
   ],
   "source": [
    "print(np.mean(bitstrings[0]))"
   ]
  },
  {
   "cell_type": "code",
   "execution_count": 48,
   "metadata": {},
   "outputs": [
    {
     "name": "stdout",
     "output_type": "stream",
     "text": [
      "RY(0.2) 0\n",
      "\n"
     ]
    }
   ],
   "source": [
    "from pyquil import Program, get_qc\n",
    "from pyquil.gates import *\n",
    "\n",
    "def ansatz(theta):\n",
    "    program = Program()\n",
    "    program += RY(theta, 0)\n",
    "    return program\n",
    "\n",
    "print(ansatz(theta=0.2))\n"
   ]
  },
  {
   "cell_type": "code",
   "execution_count": 54,
   "metadata": {},
   "outputs": [],
   "source": [
    "import numpy as np\n",
    "#qc = get_qc(\"9q-square-qvm\")\n",
    "\n",
    "thetas = np.linspace(0, 2*np.pi, 21)\n",
    "results = []\n",
    "for theta in thetas:\n",
    "    program = ansatz(theta)\n",
    "    bitstrings = qc.run_and_measure(program, trials=1000)\n",
    "    results.append(np.mean(bitstrings[0]))"
   ]
  },
  {
   "cell_type": "code",
   "execution_count": 55,
   "metadata": {},
   "outputs": [
    {
     "data": {
      "image/png": "[encoded data removed]",
      "text/plain": [
       "<Figure size 432x288 with 1 Axes>"
      ]
     },
     "metadata": {
      "needs_background": "light"
     },
     "output_type": "display_data"
    }
   ],
   "source": [
    "%matplotlib inline\n",
    "from matplotlib import pyplot as plt\n",
    "\n",
    "plt.plot(thetas, results, 'o-')\n",
    "plt.xlabel(r'$\\theta$', fontsize=18)\n",
    "_ = plt.ylabel(r'$\\langle \\Psi(\\theta) | \\frac{1 - Z}{2} | \\Psi(\\theta) \\rangle$',\n",
    "               fontsize=18)\n"
   ]
  },
  {
   "cell_type": "code",
   "execution_count": 57,
   "metadata": {},
   "outputs": [
    {
     "name": "stdout",
     "output_type": "stream",
     "text": [
      "X 0\n",
      "X 1\n",
      "\n"
     ]
    }
   ],
   "source": [
    "from pyquil import Program\n",
    "from pyquil.gates import *\n",
    "awal= Program(\n",
    "    X(0),\n",
    "    X(1),\n",
    ")\n",
    "print(awal)"
   ]
  },
  {
   "cell_type": "code",
   "execution_count": 58,
   "metadata": {},
   "outputs": [],
   "source": [
    "b=qvm.wavefunction(awal)"
   ]
  },
  {
   "cell_type": "code",
   "execution_count": 59,
   "metadata": {},
   "outputs": [
    {
     "name": "stdout",
     "output_type": "stream",
     "text": [
      "(1+0j)|11>\n"
     ]
    }
   ],
   "source": [
    "print(b)"
   ]
  },
  {
   "cell_type": "code",
   "execution_count": null,
   "metadata": {},
   "outputs": [],
   "source": [
    "for observable in [z0, z1, xor]"
   ]
  }
 ],
 "metadata": {
  "kernelspec": {
   "display_name": "Python 3",
   "language": "python",
   "name": "python3"
  },
  "language_info": {
   "codemirror_mode": {
    "name": "ipython",
    "version": 3
   },
   "file_extension": ".py",
   "mimetype": "text/x-python",
   "name": "python",
   "nbconvert_exporter": "python",
   "pygments_lexer": "ipython3",
   "version": "3.6.8"
  }
 },
 "nbformat": 4,
 "nbformat_minor": 4
}
