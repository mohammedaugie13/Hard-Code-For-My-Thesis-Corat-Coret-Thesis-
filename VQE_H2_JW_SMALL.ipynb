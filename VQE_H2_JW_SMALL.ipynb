{
 "cells": [
  {
   "cell_type": "code",
   "execution_count": 1,
   "metadata": {},
   "outputs": [],
   "source": [
    "from pyquil.quil import Program\n",
    "import pyquil.api as api\n",
    "from pyquil.gates import *\n",
    "qvm = api.QVMConnection()\n",
    "from pyquil.api import get_qc\n"
   ]
  },
  {
   "cell_type": "code",
   "execution_count": 18,
   "metadata": {},
   "outputs": [],
   "source": [
    "def h2_jw_small(x):\n",
    "    prog=Program()\n",
    "    prog+=X(0)\n",
    "    prog+=X(3)\n",
    "    prog+=H(0)\n",
    "    prog+=H(1)\n",
    "    prog+=H(2)\n",
    "    prog+=RX(1.57,3)\n",
    "    prog+=CNOT(0,1)\n",
    "    prog+=CNOT(1,2)\n",
    "    prog+=CNOT(2,3)\n",
    "    prog+=RZ(x[0],3)\n",
    "    prog+=CNOT(2,3)\n",
    "    prog+=CNOT(1,2)\n",
    "    prog+=CNOT(0,1)\n",
    "    prog+=H(0)\n",
    "    prog+=H(1)\n",
    "    prog+=H(2)\n",
    "    prog+=RX(-1.57,3)\n",
    "    return prog"
   ]
  },
  {
   "cell_type": "code",
   "execution_count": 19,
   "metadata": {},
   "outputs": [
    {
     "name": "stdout",
     "output_type": "stream",
     "text": [
      "X 0\n",
      "X 3\n",
      "H 0\n",
      "H 1\n",
      "H 2\n",
      "RX(1.57) 3\n",
      "CNOT 0 1\n",
      "CNOT 1 2\n",
      "CNOT 2 3\n",
      "RZ(0) 3\n",
      "CNOT 2 3\n",
      "CNOT 1 2\n",
      "CNOT 0 1\n",
      "H 0\n",
      "H 1\n",
      "H 2\n",
      "RX(-1.57) 3\n",
      "\n"
     ]
    }
   ],
   "source": [
    "print(h2_jw_small([0]))"
   ]
  },
  {
   "cell_type": "code",
   "execution_count": 20,
   "metadata": {},
   "outputs": [],
   "source": [
    "import openfermionpyscf as ofpyscf\n",
    "import openfermion as of\n",
    "from openfermion.transforms import *\n",
    "from openfermion.utils import *\n",
    "from openfermion.hamiltonians import MolecularData\n",
    "import numpy as np\n",
    "import pyscf"
   ]
  },
  {
   "cell_type": "code",
   "execution_count": 21,
   "metadata": {},
   "outputs": [],
   "source": [
    "from openfermionpyscf import *\n",
    "geometry = [[\"H\", [0, 0, 0]],\n",
    "            [\"H\", [0, 0, 0.7414]]]\n",
    "basis = \"sto-3g\"\n",
    "multiplicity = 1\n",
    "charge = 0\n",
    "molecule = MolecularData(geometry, basis, multiplicity, charge)\n",
    "h2_molecule = run_pyscf(molecule, run_mp2=True, run_cisd=True, run_ccsd=True, run_fci=True)"
   ]
  },
  {
   "cell_type": "code",
   "execution_count": 22,
   "metadata": {},
   "outputs": [
    {
     "name": "stdout",
     "output_type": "stream",
     "text": [
      "-1.1372701746609022\n"
     ]
    }
   ],
   "source": [
    "print(molecule.fci_energy)"
   ]
  },
  {
   "cell_type": "code",
   "execution_count": 23,
   "metadata": {},
   "outputs": [
    {
     "name": "stdout",
     "output_type": "stream",
     "text": [
      "-0.0988639693354571 [] +\n",
      "-0.045322202052874 [X0 X1 Y2 Y3] +\n",
      "0.045322202052874 [X0 Y1 Y2 X3] +\n",
      "0.045322202052874 [Y0 X1 X2 Y3] +\n",
      "-0.045322202052874 [Y0 Y1 X2 X3] +\n",
      "0.17119774903432944 [Z0] +\n",
      "0.16862219158920938 [Z0 Z1] +\n",
      "0.120544822053018 [Z0 Z2] +\n",
      "0.165867024105892 [Z0 Z3] +\n",
      "0.17119774903432947 [Z1] +\n",
      "0.165867024105892 [Z1 Z2] +\n",
      "0.120544822053018 [Z1 Z3] +\n",
      "-0.22278593040418496 [Z2] +\n",
      "0.17434844185575687 [Z2 Z3] +\n",
      "-0.22278593040418496 [Z3]\n",
      "(-0.0988639693354571+0j)*I + (0.17119774903432944+0j)*Z0 + (0.17119774903432947+0j)*Z1 + (-0.22278593040418496+0j)*Z2 + (-0.22278593040418496+0j)*Z3 + (0.16862219158920938+0j)*Z0*Z1 + (0.120544822053018+0j)*Z0*Z2 + (0.165867024105892+0j)*Z0*Z3 + (0.165867024105892+0j)*Z1*Z2 + (0.120544822053018+0j)*Z1*Z3 + (0.17434844185575687+0j)*Z2*Z3 + (-0.045322202052874+0j)*X0*X1*Y2*Y3 + (0.045322202052874+0j)*X0*Y1*Y2*X3 + (0.045322202052874+0j)*Y0*X1*X2*Y3 + (-0.045322202052874+0j)*Y0*Y1*X2*X3\n"
     ]
    }
   ],
   "source": [
    "import openfermionpyscf as ofpyscf\n",
    "from openfermion.ops import QubitOperator\n",
    "from forestopenfermion import pyquilpauli_to_qubitop, qubitop_to_pyquilpauli\n",
    "hamiltonian = ofpyscf.generate_molecular_hamiltonian(\n",
    "    geometry, basis, multiplicity, charge)\n",
    "qubit_operator=jordan_wigner(hamiltonian)\n",
    "hamiltonian_jw_pauli=qubitop_to_pyquilpauli(qubit_operator)\n",
    "print(qubit_operator)\n",
    "print(hamiltonian_jw_pauli)"
   ]
  },
  {
   "cell_type": "code",
   "execution_count": 24,
   "metadata": {},
   "outputs": [],
   "source": [
    "from grove.pyvqe.vqe import VQE\n",
    "from scipy.optimize import minimize\n",
    "import numpy as np\n",
    "\n",
    "vqe_inst = VQE(minimizer=minimize,minimizer_kwargs={'method': 'nelder-mead'})"
   ]
  },
  {
   "cell_type": "code",
   "execution_count": 25,
   "metadata": {},
   "outputs": [
    {
     "name": "stdout",
     "output_type": "stream",
     "text": [
      "WARNING: Fast method for expectation will be used. Noise\n",
      "                     models will be ineffective\n",
      "\tParameters: [-0.0005] \n",
      "\tE => -0.3512808430462356\n",
      "\tParameters: [-0.0015] \n",
      "\tE => -0.3514621316985449\n",
      "\tParameters: [-0.0035] \n",
      "\tE => -0.3518247080054072\n",
      "\tParameters: [-0.0075] \n",
      "\tE => -0.3525498515520503\n",
      "\tParameters: [-0.0155] \n",
      "\tE => -0.35400006176944376\n",
      "\tParameters: [-0.0315] \n",
      "\tE => -0.3568998498691109\n",
      "\tParameters: [-0.0635] \n",
      "\tE => -0.36269429902280825\n",
      "\tParameters: [-0.1275] \n",
      "\tE => -0.37424193811574136\n",
      "\tParameters: [-0.2555] \n",
      "\tE => -0.39700715395633657\n",
      "\tParameters: [-0.5115] \n",
      "\tE => -0.4399284418328845\n",
      "\tParameters: [-1.0235] \n",
      "\tE => -0.5059988248656064\n",
      "\tParameters: [-1.5355] \n",
      "\tE => -0.5122671537621665\n",
      "\tParameters: [-1.5355] \n",
      "\tE => -0.5280812732451294\n",
      "\tParameters: [-1.5355] \n",
      "\tE => -0.5317002682492749\n",
      "\tParameters: [-1.5995] \n",
      "\tE => -0.5324040430545961\n",
      "\tParameters: [-1.5675] \n",
      "\tE => -0.5324777421237433\n",
      "\tParameters: [-1.5675] \n",
      "\tE => -0.532464095181484\n",
      "\tParameters: [-1.5675] \n",
      "\tE => -0.532476719797489\n",
      "\tParameters: [-1.5715] \n",
      "\tE => -0.5324786812683278\n",
      "\tParameters: [-1.5715] \n",
      "\tE => -0.532478574273112\n",
      "\tParameters: [-1.5705] \n",
      "\tE => -0.5324787184150838\n",
      "\tParameters: [-1.571] \n",
      "\tE => -0.5324787225027987\n",
      "\tParameters: [-1.57075] \n",
      "\tE => -0.5324787261242147\n",
      "\tParameters: [-1.57075] \n",
      "\tE => -0.532478725729825\n",
      "\tParameters: [-1.5708125] \n",
      "\tE => -0.5324787262810995\n",
      "{'x': array([-1.5708125]), 'fun': -0.5324787262810995, 'iteration_params': [array([-0.0005]), array([-0.0015]), array([-0.0035]), array([-0.0075]), array([-0.0155]), array([-0.0315]), array([-0.0635]), array([-0.1275]), array([-0.2555]), array([-0.5115]), array([-1.0235]), array([-1.5355]), array([-1.5355]), array([-1.5355]), array([-1.5995]), array([-1.5675]), array([-1.5675]), array([-1.5675]), array([-1.5715]), array([-1.5715]), array([-1.5705]), array([-1.571]), array([-1.57075]), array([-1.57075]), array([-1.5708125])], 'expectation_vals': [-0.3512808430462356, -0.3514621316985449, -0.3518247080054072, -0.3525498515520503, -0.35400006176944376, -0.3568998498691109, -0.36269429902280825, -0.37424193811574136, -0.39700715395633657, -0.4399284418328845, -0.5059988248656064, -0.5122671537621665, -0.5280812732451294, -0.5317002682492749, -0.5324040430545961, -0.5324777421237433, -0.532464095181484, -0.532476719797489, -0.5324786812683278, -0.532478574273112, -0.5324787184150838, -0.5324787225027987, -0.5324787261242147, -0.532478725729825, -0.5324787262810995]}\n"
     ]
    }
   ],
   "source": [
    "angle=[0.0]\n",
    "x = vqe_inst.vqe_run(h2_jw_small, hamiltonian_jw_pauli, angle, None, qvm=qvm,disp=print,return_all=True)\n",
    "print(x)"
   ]
  },
  {
   "cell_type": "code",
   "execution_count": 1,
   "metadata": {},
   "outputs": [],
   "source": [
    "import numpy as np\n",
    "\n",
    "thetas = np.linspace(-0.5,0.5,100)"
   ]
  },
  {
   "cell_type": "code",
   "execution_count": 2,
   "metadata": {},
   "outputs": [
    {
     "ename": "NameError",
     "evalue": "name 'vqe_inst' is not defined",
     "output_type": "error",
     "traceback": [
      "\u001b[0;31m---------------------------------------------------------------------------\u001b[0m",
      "\u001b[0;31mNameError\u001b[0m                                 Traceback (most recent call last)",
      "\u001b[0;32m<ipython-input-2-ab17e4f2630a>\u001b[0m in \u001b[0;36m<module>\u001b[0;34m\u001b[0m\n\u001b[0;32m----> 1\u001b[0;31m \u001b[0mE\u001b[0m \u001b[0;34m=\u001b[0m \u001b[0;34m[\u001b[0m\u001b[0mvqe_inst\u001b[0m\u001b[0;34m.\u001b[0m\u001b[0mexpectation\u001b[0m\u001b[0;34m(\u001b[0m\u001b[0mh2_jw_small\u001b[0m\u001b[0;34m(\u001b[0m\u001b[0;34m[\u001b[0m\u001b[0mparam\u001b[0m\u001b[0;34m]\u001b[0m\u001b[0;34m)\u001b[0m\u001b[0;34m,\u001b[0m\u001b[0mhamiltonian_jw_pauli\u001b[0m\u001b[0;34m,\u001b[0m \u001b[0;32mNone\u001b[0m \u001b[0;34m,\u001b[0m\u001b[0mqvm\u001b[0m\u001b[0;34m)\u001b[0m \u001b[0;32mfor\u001b[0m \u001b[0mparam\u001b[0m \u001b[0;32min\u001b[0m \u001b[0mthetas\u001b[0m\u001b[0;34m]\u001b[0m\u001b[0;34m\u001b[0m\u001b[0;34m\u001b[0m\u001b[0m\n\u001b[0m",
      "\u001b[0;32m<ipython-input-2-ab17e4f2630a>\u001b[0m in \u001b[0;36m<listcomp>\u001b[0;34m(.0)\u001b[0m\n\u001b[0;32m----> 1\u001b[0;31m \u001b[0mE\u001b[0m \u001b[0;34m=\u001b[0m \u001b[0;34m[\u001b[0m\u001b[0mvqe_inst\u001b[0m\u001b[0;34m.\u001b[0m\u001b[0mexpectation\u001b[0m\u001b[0;34m(\u001b[0m\u001b[0mh2_jw_small\u001b[0m\u001b[0;34m(\u001b[0m\u001b[0;34m[\u001b[0m\u001b[0mparam\u001b[0m\u001b[0;34m]\u001b[0m\u001b[0;34m)\u001b[0m\u001b[0;34m,\u001b[0m\u001b[0mhamiltonian_jw_pauli\u001b[0m\u001b[0;34m,\u001b[0m \u001b[0;32mNone\u001b[0m \u001b[0;34m,\u001b[0m\u001b[0mqvm\u001b[0m\u001b[0;34m)\u001b[0m \u001b[0;32mfor\u001b[0m \u001b[0mparam\u001b[0m \u001b[0;32min\u001b[0m \u001b[0mthetas\u001b[0m\u001b[0;34m]\u001b[0m\u001b[0;34m\u001b[0m\u001b[0;34m\u001b[0m\u001b[0m\n\u001b[0m",
      "\u001b[0;31mNameError\u001b[0m: name 'vqe_inst' is not defined"
     ]
    }
   ],
   "source": [
    "E = [vqe_inst.expectation(h2_jw_small([param]),hamiltonian_jw_pauli, None ,qvm) for param in thetas]"
   ]
  },
  {
   "cell_type": "code",
   "execution_count": 114,
   "metadata": {},
   "outputs": [],
   "source": [
    "param=x.iteration_params\n",
    "hasil=x.expectation_vals"
   ]
  },
  {
   "cell_type": "code",
   "execution_count": 111,
   "metadata": {},
   "outputs": [
    {
     "name": "stdout",
     "output_type": "stream",
     "text": [
      "[array([-0.0005]), array([-0.0015]), array([-0.0035]), array([-0.0075]), array([-0.0155]), array([-0.0315]), array([-0.0635]), array([-0.1275]), array([-0.2555]), array([-0.2555]), array([-0.2235]), array([-0.2235]), array([-0.2235]), array([-0.2275]), array([-0.2255]), array([-0.2265]), array([-0.226]), array([-0.22625]), array([-0.226125]), array([-0.226125])]\n"
     ]
    }
   ],
   "source": []
  },
  {
   "cell_type": "code",
   "execution_count": 189,
   "metadata": {},
   "outputs": [
    {
     "data": {
      "text/plain": [
       "[<matplotlib.lines.Line2D at 0x7f418eca5cf8>]"
      ]
     },
     "execution_count": 189,
     "metadata": {},
     "output_type": "execute_result"
    },
    {
     "data": {
      "text/plain": [
       "<Figure size 1440x1440 with 0 Axes>"
      ]
     },
     "metadata": {},
     "output_type": "display_data"
    },
    {
     "data": {
      "image/png": "[encoded data removed]",
      "text/plain": [
       "<Figure size 432x288 with 1 Axes>"
      ]
     },
     "metadata": {
      "needs_background": "light"
     },
     "output_type": "display_data"
    }
   ],
   "source": [
    "import matplotlib.pyplot as plt\n",
    "plt.figure(figsize=(20,20))\n",
    "plt.figure()\n",
    "plt.grid()\n",
    "plt.plot(thetas,E)\n",
    "plt.plot(param,hasil,'g--*')"
   ]
  },
  {
   "cell_type": "code",
   "execution_count": 190,
   "metadata": {},
   "outputs": [
    {
     "data": {
      "text/plain": [
       "Text(0,0.5,'E')"
      ]
     },
     "execution_count": 190,
     "metadata": {},
     "output_type": "execute_result"
    },
    {
     "data": {
      "image/png": "[encoded data removed]",
      "text/plain": [
       "<Figure size 432x288 with 2 Axes>"
      ]
     },
     "metadata": {
      "needs_background": "light"
     },
     "output_type": "display_data"
    }
   ],
   "source": [
    "fig, ax = plt.subplots()\n",
    "ax.plot(thetas, E,'c')\n",
    "ax.plot(param, hasil,'g--*')\n",
    "ax.grid()\n",
    "from mpl_toolkits.axes_grid1.inset_locator import zoomed_inset_axes\n",
    "axins = zoomed_inset_axes(ax, 2.0, loc=1) \n",
    "axins.plot(param, hasil,'g--*')\n",
    "axins.plot(thetas[20:55],E[20:55],'c')\n",
    "axins.grid()\n",
    "ax.set_xlabel('Theta')\n",
    "ax.set_ylabel('E')\n",
    "axins.set_xlabel('Theta')\n",
    "axins.set_ylabel('E')"
   ]
  },
  {
   "cell_type": "code",
   "execution_count": 124,
   "metadata": {},
   "outputs": [],
   "source": [
    "vqe_inst1 = VQE(minimizer=minimize,minimizer_kwargs={'method': 'Powell'})"
   ]
  },
  {
   "cell_type": "code",
   "execution_count": 141,
   "metadata": {},
   "outputs": [
    {
     "name": "stdout",
     "output_type": "stream",
     "text": [
      "WARNING: Fast method for expectation will be used. Noise\n",
      "                     models will be ineffective\n",
      "\tParameters: [-0.22712287] \n",
      "\tE => -1.137265872653807\n",
      "\tParameters: [-0.22613622] \n",
      "\tE => -1.1372701635211568\n"
     ]
    }
   ],
   "source": [
    "angle=[0.0]\n",
    "result_powell= vqe_inst1.vqe_run(h2_jw_small, hamiltonian_jw_pauli, angle, None, qvm=qvm,disp=print,return_all=True)\n"
   ]
  },
  {
   "cell_type": "code",
   "execution_count": 175,
   "metadata": {},
   "outputs": [],
   "source": [
    "thetas = np.linspace(-0.5,0.5,100)\n",
    "\n",
    "E_powell = [vqe_inst.expectation(h2_jw_small([param]),hamiltonian_jw_pauli, None ,qvm) for param in thetas]"
   ]
  },
  {
   "cell_type": "code",
   "execution_count": 176,
   "metadata": {},
   "outputs": [
    {
     "name": "stdout",
     "output_type": "stream",
     "text": [
      "[array([-0.22712287]), array([-0.22613622])]\n"
     ]
    }
   ],
   "source": [
    "param_powell=result_powell.iteration_params\n",
    "hasil_powell=result_powell.expectation_vals\n",
    "print(param_powell)"
   ]
  },
  {
   "cell_type": "code",
   "execution_count": 136,
   "metadata": {},
   "outputs": [
    {
     "data": {
      "text/plain": [
       "[<matplotlib.lines.Line2D at 0x7f4196b6ceb8>]"
      ]
     },
     "execution_count": 136,
     "metadata": {},
     "output_type": "execute_result"
    },
    {
     "data": {
      "text/plain": [
       "<Figure size 1440x1440 with 0 Axes>"
      ]
     },
     "metadata": {},
     "output_type": "display_data"
    },
    {
     "data": {
      "image/png": "[encoded data removed]",
      "text/plain": [
       "<Figure size 432x288 with 1 Axes>"
      ]
     },
     "metadata": {
      "needs_background": "light"
     },
     "output_type": "display_data"
    }
   ],
   "source": [
    "import matplotlib.pyplot as plt\n",
    "plt.figure(figsize=(20,20))\n",
    "plt.figure()\n",
    "plt.grid()\n",
    "plt.plot(thetas,E)\n",
    "plt.plot(param_powell,hasil_powell,'g--*')\n"
   ]
  },
  {
   "cell_type": "code",
   "execution_count": 173,
   "metadata": {},
   "outputs": [
    {
     "data": {
      "text/plain": [
       "Text(0,0.5,'E')"
      ]
     },
     "execution_count": 173,
     "metadata": {},
     "output_type": "execute_result"
    },
    {
     "data": {
      "image/png": "[encoded data removed]",
      "text/plain": [
       "<Figure size 432x288 with 2 Axes>"
      ]
     },
     "metadata": {
      "needs_background": "light"
     },
     "output_type": "display_data"
    }
   ],
   "source": [
    "fig, ax = plt.subplots()\n",
    "ax.plot(thetas, E_powell,'c')\n",
    "ax.plot(param_powell, hasil_powell,'g--*')\n",
    "ax.grid()\n",
    "from mpl_toolkits.axes_grid1.inset_locator import zoomed_inset_axes\n",
    "axins = zoomed_inset_axes(ax,2.5,loc=1) \n",
    "axins.plot(param_powell, hasil_powell,'g--*')\n",
    "axins.plot(thetas[20:49],E_powell[20:49],'c')\n",
    "axins.grid()\n",
    "ax.set_xlabel('Theta')\n",
    "ax.set_ylabel('E')\n",
    "axins.set_xlabel('Theta')\n",
    "axins.set_ylabel('E')"
   ]
  },
  {
   "cell_type": "code",
   "execution_count": 171,
   "metadata": {},
   "outputs": [
    {
     "data": {
      "text/plain": [
       "[<matplotlib.lines.Line2D at 0x7f41944f2128>]"
      ]
     },
     "execution_count": 171,
     "metadata": {},
     "output_type": "execute_result"
    },
    {
     "data": {
      "image/png": "[encoded data removed]",
      "text/plain": [
       "<Figure size 432x288 with 1 Axes>"
      ]
     },
     "metadata": {
      "needs_background": "light"
     },
     "output_type": "display_data"
    }
   ],
   "source": [
    "plt.plot(param_powell, hasil_powell,'g--*')"
   ]
  },
  {
   "cell_type": "code",
   "execution_count": 174,
   "metadata": {},
   "outputs": [],
   "source": [
    "vqe_inst2 = VQE(minimizer=minimize,minimizer_kwargs={'method': 'SLSQP'})"
   ]
  },
  {
   "cell_type": "code",
   "execution_count": 179,
   "metadata": {},
   "outputs": [
    {
     "name": "stdout",
     "output_type": "stream",
     "text": [
      "WARNING: Fast method for expectation will be used. Noise\n",
      "                     models will be ineffective\n",
      "\tParameters: [-0.18128878] \n",
      "\tE => -1.1166843843839254\n",
      "\tParameters: [-0.22659796] \n",
      "\tE => -1.1364571808919404\n",
      "\tParameters: [-0.22659796] \n",
      "\tE => -1.137270077369877\n",
      "{'x': array([-0.22659796]), 'fun': -1.1372700773643136, 'iteration_params': [array([-0.22659796]), array([-0.22659796]), array([-0.22659796])], 'expectation_vals': [-1.1166843843839254, -1.1364571808919404, -1.137270077369877]}\n"
     ]
    }
   ],
   "source": [
    "result_slsqp = vqe_inst2.vqe_run(h2_jw_small, hamiltonian_jw_pauli, angle, None, qvm=qvm,disp=print,return_all=True)\n",
    "print(result_slsqp)"
   ]
  },
  {
   "cell_type": "code",
   "execution_count": 191,
   "metadata": {},
   "outputs": [],
   "source": [
    "thetas = np.linspace(-0.5,0.5,100)\n",
    "\n",
    "E_slsqp = [vqe_inst2.expectation(h2_jw_small([param]),hamiltonian_jw_pauli, None ,qvm) for param in thetas]"
   ]
  },
  {
   "cell_type": "code",
   "execution_count": 192,
   "metadata": {},
   "outputs": [],
   "source": [
    "param_slsqp=result_slsqp.iteration_params\n",
    "hasil_slsqp=result_slsqp.expectation_vals"
   ]
  },
  {
   "cell_type": "code",
   "execution_count": 193,
   "metadata": {},
   "outputs": [
    {
     "data": {
      "text/plain": [
       "Text(0,0.5,'E')"
      ]
     },
     "execution_count": 193,
     "metadata": {},
     "output_type": "execute_result"
    },
    {
     "data": {
      "image/png": "[encoded data removed]",
      "text/plain": [
       "<Figure size 432x288 with 2 Axes>"
      ]
     },
     "metadata": {
      "needs_background": "light"
     },
     "output_type": "display_data"
    }
   ],
   "source": [
    "fig, ax = plt.subplots()\n",
    "ax.plot(thetas, E_slsqp,'c')\n",
    "ax.plot(param_slsqp, hasil_slsqp,'g--*')\n",
    "ax.grid()\n",
    "from mpl_toolkits.axes_grid1.inset_locator import zoomed_inset_axes\n",
    "axins = zoomed_inset_axes(ax, 2.5, loc=1) \n",
    "axins.plot(param_slsqp, hasil_slsqp,'g--*')\n",
    "axins.plot(thetas[19:49],E_slqp[19:49],'c')\n",
    "axins.grid()\n",
    "ax.set_xlabel('Theta')\n",
    "ax.set_ylabel('E')\n",
    "axins.set_xlabel('Theta')\n",
    "axins.set_ylabel('E')"
   ]
  },
  {
   "cell_type": "code",
   "execution_count": null,
   "metadata": {},
   "outputs": [],
   "source": []
  }
 ],
 "metadata": {
  "kernelspec": {
   "display_name": "Python 3",
   "language": "python",
   "name": "python3"
  },
  "language_info": {
   "codemirror_mode": {
    "name": "ipython",
    "version": 3
   },
   "file_extension": ".py",
   "mimetype": "text/x-python",
   "name": "python",
   "nbconvert_exporter": "python",
   "pygments_lexer": "ipython3",
   "version": "3.6.8"
  }
 },
 "nbformat": 4,
 "nbformat_minor": 4
}
