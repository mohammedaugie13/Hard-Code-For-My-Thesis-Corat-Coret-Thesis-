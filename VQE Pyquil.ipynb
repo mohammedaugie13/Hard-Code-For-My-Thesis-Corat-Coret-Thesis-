{
 "cells": [
  {
   "cell_type": "code",
   "execution_count": 1,
   "metadata": {},
   "outputs": [],
   "source": [
    "from pyquil.quil import Program\n",
    "import pyquil.api as api\n",
    "from pyquil.gates import *\n",
    "qvm=api.QVMConnection()"
   ]
  },
  {
   "cell_type": "code",
   "execution_count": 18,
   "metadata": {},
   "outputs": [
    {
     "name": "stdout",
     "output_type": "stream",
     "text": [
      "X 0\n",
      "X 1\n",
      "H 0\n",
      "H 1\n",
      "H 2\n",
      "RX(-0.5) 3\n",
      "CNOT 0 1\n",
      "CNOT 1 2\n",
      "CNOT 2 3\n",
      "RZ(0.01) 3\n",
      "CNOT 2 3\n",
      "CNOT 1 2\n",
      "CNOT 0 1\n",
      "H 2\n",
      "H 1\n",
      "H 0\n",
      "RX(0.5) 3\n",
      "\n"
     ]
    }
   ],
   "source": [
    "def small_ansatz(params):\n",
    "    return Program(X(0),X(1),H(0),H(1),H(2),RX(-0.5,3),CNOT(0,1),CNOT(1,2),\n",
    "                   CNOT(2,3),RZ(params[0],3),CNOT(2,3),CNOT(1,2),CNOT(0,1)\n",
    "                  ,H(2),H(1),H(0),RX(0.5,3))\n",
    "print(small_ansatz([0.01]))"
   ]
  },
  {
   "cell_type": "code",
   "execution_count": 19,
   "metadata": {},
   "outputs": [
    {
     "name": "stdout",
     "output_type": "stream",
     "text": [
      "(0.9999875+0j)|0011> + -0.0043878945j|0100> + (-0.0023971177+0j)|1100>\n"
     ]
    }
   ],
   "source": [
    "wf = qvm.wavefunction(small_ansatz([0.01]))\n",
    "print(wf)"
   ]
  },
  {
   "cell_type": "code",
   "execution_count": 20,
   "metadata": {},
   "outputs": [],
   "source": [
    "from openfermion.ops import QubitOperator\n",
    "from openfermion.transforms import get_fermion_operator, jordan_wigner, bravyi_kitaev\n",
    "from pyscf import ci\n",
    "from pyscf import mp\n",
    "from openfermionpyscf import run_pyscf\n",
    "from openfermion.hamiltonians import MolecularData"
   ]
  },
  {
   "cell_type": "code",
   "execution_count": 72,
   "metadata": {},
   "outputs": [],
   "source": [
    "#menentukan molekul yang akan ditinjau\n",
    "geometry = [[\"H\", [0, 0, 0]],\n",
    "            [\"H\", [0, 0, 0.74]]]\n",
    "basis = \"sto-3g\"\n",
    "multiplicity = 1\n",
    "charge = 0\n",
    "molecule = MolecularData(geometry, basis, multiplicity, charge)\n",
    "h2_molecule = run_pyscf(molecule, run_mp2=True, run_cisd=True, run_ccsd=True, run_fci=True)"
   ]
  },
  {
   "cell_type": "code",
   "execution_count": 73,
   "metadata": {},
   "outputs": [],
   "source": [
    "import openfermionpyscf as ofpyscf\n",
    "hamiltonian2 = ofpyscf.generate_molecular_hamiltonian(\n",
    "    geometry, basis, multiplicity, charge)"
   ]
  },
  {
   "cell_type": "code",
   "execution_count": 74,
   "metadata": {},
   "outputs": [
    {
     "name": "stdout",
     "output_type": "stream",
     "text": [
      "() 0.7151043390810812\n",
      "((0, 1), (0, 0)) -1.2533097866459773\n",
      "((1, 1), (1, 0)) -1.2533097866459773\n",
      "((2, 1), (2, 0)) -0.4750688487721757\n",
      "((3, 1), (3, 0)) -0.4750688487721757\n",
      "((0, 1), (0, 1), (0, 0), (0, 0)) 0.33737796340722415\n",
      "((0, 1), (0, 1), (2, 0), (2, 0)) 0.09060523100759851\n",
      "((0, 1), (1, 1), (1, 0), (0, 0)) 0.33737796340722415\n",
      "((0, 1), (1, 1), (3, 0), (2, 0)) 0.09060523100759851\n",
      "((0, 1), (2, 1), (0, 0), (2, 0)) 0.09060523100759851\n",
      "((0, 1), (2, 1), (2, 0), (0, 0)) 0.3318557006754069\n",
      "((0, 1), (3, 1), (1, 0), (2, 0)) 0.09060523100759851\n",
      "((0, 1), (3, 1), (3, 0), (0, 0)) 0.3318557006754069\n",
      "((1, 1), (0, 1), (0, 0), (1, 0)) 0.33737796340722415\n",
      "((1, 1), (0, 1), (2, 0), (3, 0)) 0.09060523100759851\n",
      "((1, 1), (1, 1), (1, 0), (1, 0)) 0.33737796340722415\n",
      "((1, 1), (1, 1), (3, 0), (3, 0)) 0.09060523100759851\n",
      "((1, 1), (2, 1), (0, 0), (3, 0)) 0.09060523100759851\n",
      "((1, 1), (2, 1), (2, 0), (1, 0)) 0.3318557006754069\n",
      "((1, 1), (3, 1), (1, 0), (3, 0)) 0.09060523100759851\n",
      "((1, 1), (3, 1), (3, 0), (1, 0)) 0.3318557006754069\n",
      "((2, 1), (0, 1), (0, 0), (2, 0)) 0.3318557006754068\n",
      "((2, 1), (0, 1), (2, 0), (0, 0)) 0.09060523100759851\n",
      "((2, 1), (1, 1), (1, 0), (2, 0)) 0.3318557006754068\n",
      "((2, 1), (1, 1), (3, 0), (0, 0)) 0.09060523100759851\n",
      "((2, 1), (2, 1), (0, 0), (0, 0)) 0.09060523100759851\n",
      "((2, 1), (2, 1), (2, 0), (2, 0)) 0.34882575224523177\n",
      "((2, 1), (3, 1), (1, 0), (0, 0)) 0.09060523100759851\n",
      "((2, 1), (3, 1), (3, 0), (2, 0)) 0.34882575224523177\n",
      "((3, 1), (0, 1), (0, 0), (3, 0)) 0.3318557006754068\n",
      "((3, 1), (0, 1), (2, 0), (1, 0)) 0.09060523100759851\n",
      "((3, 1), (1, 1), (1, 0), (3, 0)) 0.3318557006754068\n",
      "((3, 1), (1, 1), (3, 0), (1, 0)) 0.09060523100759851\n",
      "((3, 1), (2, 1), (0, 0), (1, 0)) 0.09060523100759851\n",
      "((3, 1), (2, 1), (2, 0), (3, 0)) 0.34882575224523177\n",
      "((3, 1), (3, 1), (1, 0), (1, 0)) 0.09060523100759851\n",
      "((3, 1), (3, 1), (3, 0), (3, 0)) 0.34882575224523177\n",
      "\n"
     ]
    }
   ],
   "source": [
    "print(h2_molecule.get_molecular_hamiltonian())"
   ]
  },
  {
   "cell_type": "code",
   "execution_count": 75,
   "metadata": {},
   "outputs": [
    {
     "name": "stdout",
     "output_type": "stream",
     "text": [
      "-0.09706626816762856 [] +\n",
      "-0.04530261550379926 [X0 X1 Y2 Y3] +\n",
      "0.04530261550379926 [X0 Y1 Y2 X3] +\n",
      "0.04530261550379926 [Y0 X1 X2 Y3] +\n",
      "-0.04530261550379926 [Y0 Y1 X2 X3] +\n",
      "0.171412826447769 [Z0] +\n",
      "0.16868898170361207 [Z0 Z1] +\n",
      "0.12062523483390417 [Z0 Z2] +\n",
      "0.1659278503377034 [Z0 Z3] +\n",
      "0.17141282644776898 [Z1] +\n",
      "0.1659278503377034 [Z1 Z2] +\n",
      "0.12062523483390417 [Z1 Z3] +\n",
      "-0.2234315369081356 [Z2] +\n",
      "0.17441287612261588 [Z2 Z3] +\n",
      "-0.2234315369081356 [Z3]\n"
     ]
    }
   ],
   "source": [
    "qubithamilton=jordan_wigner(hamiltonian2)\n",
    "print(qubithamilton)"
   ]
  },
  {
   "cell_type": "code",
   "execution_count": 76,
   "metadata": {},
   "outputs": [
    {
     "name": "stdout",
     "output_type": "stream",
     "text": [
      "Jordan Wigner= -0.09706626816762856 [] +\n",
      "-0.04530261550379926 [X0 X1 Y2 Y3] +\n",
      "0.04530261550379926 [X0 Y1 Y2 X3] +\n",
      "0.04530261550379926 [Y0 X1 X2 Y3] +\n",
      "-0.04530261550379926 [Y0 Y1 X2 X3] +\n",
      "0.171412826447769 [Z0] +\n",
      "0.16868898170361207 [Z0 Z1] +\n",
      "0.12062523483390417 [Z0 Z2] +\n",
      "0.1659278503377034 [Z0 Z3] +\n",
      "0.17141282644776898 [Z1] +\n",
      "0.1659278503377034 [Z1 Z2] +\n",
      "0.12062523483390417 [Z1 Z3] +\n",
      "-0.2234315369081356 [Z2] +\n",
      "0.17441287612261588 [Z2 Z3] +\n",
      "-0.2234315369081356 [Z3]\n",
      "Bravyi-Kitaev= (-0.09706626816762835+0j) [] +\n",
      "(0.045302615503799264+0j) [X0 Z1 X2] +\n",
      "(0.045302615503799264+0j) [X0 Z1 X2 Z3] +\n",
      "(0.045302615503799264+0j) [Y0 Z1 Y2] +\n",
      "(0.045302615503799264+0j) [Y0 Z1 Y2 Z3] +\n",
      "(0.1714128264477689+0j) [Z0] +\n",
      "(0.17141282644776892+0j) [Z0 Z1] +\n",
      "(0.1659278503377034+0j) [Z0 Z1 Z2] +\n",
      "(0.1659278503377034+0j) [Z0 Z1 Z2 Z3] +\n",
      "(0.12062523483390417+0j) [Z0 Z2] +\n",
      "(0.12062523483390417+0j) [Z0 Z2 Z3] +\n",
      "(0.16868898170361207+0j) [Z1] +\n",
      "(-0.2234315369081356+0j) [Z1 Z2 Z3] +\n",
      "(0.17441287612261588+0j) [Z1 Z3] +\n",
      "(-0.2234315369081356+0j) [Z2]\n"
     ]
    }
   ],
   "source": [
    "qubit_hamiltonian1 = jordan_wigner(h2_molecule.get_molecular_hamiltonian())\n",
    "qubit_hamiltonian2 = bravyi_kitaev(get_fermion_operator(h2_molecule.get_molecular_hamiltonian()))\n",
    "print(\"Jordan Wigner=\",qubit_hamiltonian1)\n",
    "print(\"Bravyi-Kitaev=\",qubit_hamiltonian2)"
   ]
  },
  {
   "cell_type": "code",
   "execution_count": 77,
   "metadata": {},
   "outputs": [
    {
     "name": "stdout",
     "output_type": "stream",
     "text": [
      "(-0.09706626816762856+0j)*I + (0.171412826447769+0j)*Z0 + (0.17141282644776898+0j)*Z1 + (-0.2234315369081356+0j)*Z2 + (-0.2234315369081356+0j)*Z3 + (0.16868898170361207+0j)*Z0*Z1 + (0.12062523483390417+0j)*Z0*Z2 + (0.1659278503377034+0j)*Z0*Z3 + (0.1659278503377034+0j)*Z1*Z2 + (0.12062523483390417+0j)*Z1*Z3 + (0.17441287612261588+0j)*Z2*Z3 + (-0.04530261550379926+0j)*X0*X1*Y2*Y3 + (0.04530261550379926+0j)*X0*Y1*Y2*X3 + (0.04530261550379926+0j)*Y0*X1*X2*Y3 + (-0.04530261550379926+0j)*Y0*Y1*X2*X3\n",
      "(-0.09706626816762835+0j)*I + (0.1714128264477689+0j)*Z0 + (0.17141282644776892+0j)*Z0*Z1 + (-0.2234315369081356+0j)*Z2 + (-0.2234315369081356+0j)*Z1*Z2*Z3 + (0.16868898170361207+0j)*Z1 + (0.045302615503799264+0j)*Y0*Z1*Y2*Z3 + (0.045302615503799264+0j)*X0*Z1*X2 + (0.045302615503799264+0j)*X0*Z1*X2*Z3 + (0.045302615503799264+0j)*Y0*Z1*Y2 + (0.12062523483390417+0j)*Z0*Z2 + (0.1659278503377034+0j)*Z0*Z1*Z2*Z3 + (0.1659278503377034+0j)*Z0*Z1*Z2 + (0.12062523483390417+0j)*Z0*Z2*Z3 + (0.17441287612261588+0j)*Z1*Z3\n"
     ]
    }
   ],
   "source": [
    "from forestopenfermion import pyquilpauli_to_qubitop, qubitop_to_pyquilpauli\n",
    "\n",
    "qubit_op=qubit_hamiltonian1\n",
    "qubit_op2=qubit_hamiltonian2\n",
    "pauli_term = qubitop_to_pyquilpauli(qubit_op)\n",
    "pauli_term1=qubitop_to_pyquilpauli(qubit_op2)\n",
    "print(pauli_term)\n",
    "print(pauli_term1)"
   ]
  },
  {
   "cell_type": "code",
   "execution_count": 78,
   "metadata": {},
   "outputs": [],
   "source": [
    "hamiltonian1=pauli_term\n",
    "hamiltonian3=pauli_term1"
   ]
  },
  {
   "cell_type": "code",
   "execution_count": 79,
   "metadata": {},
   "outputs": [],
   "source": [
    "from grove.pyvqe.vqe import VQE\n",
    "from scipy.optimize import minimize\n",
    "import numpy as np\n",
    "\n",
    "vqe_inst = VQE(minimizer=minimize,\n",
    "               minimizer_kwargs={'method': 'L-BFGS-B'})"
   ]
  },
  {
   "cell_type": "code",
   "execution_count": 80,
   "metadata": {},
   "outputs": [
    {
     "data": {
      "text/plain": [
       "-1.121184450469393"
      ]
     },
     "execution_count": 80,
     "metadata": {},
     "output_type": "execute_result"
    }
   ],
   "source": [
    "angle = 0.07198138\n",
    "vqe_inst.expectation(small_ansatz([angle]), hamiltonian1, None, qvm)"
   ]
  },
  {
   "cell_type": "code",
   "execution_count": 81,
   "metadata": {},
   "outputs": [
    {
     "data": {
      "text/plain": [
       "-0.3485775478139679"
      ]
     },
     "execution_count": 81,
     "metadata": {},
     "output_type": "execute_result"
    }
   ],
   "source": [
    "angle = 0.07198138\n",
    "vqe_inst.expectation(small_ansatz([angle]), hamiltonian3, None, qvm)"
   ]
  },
  {
   "cell_type": "code",
   "execution_count": 82,
   "metadata": {},
   "outputs": [
    {
     "data": {
      "image/png": "[encoded data removed]",
      "text/plain": [
       "<Figure size 432x288 with 1 Axes>"
      ]
     },
     "metadata": {
      "needs_background": "light"
     },
     "output_type": "display_data"
    }
   ],
   "source": [
    "angle_range = np.linspace(-0.5, 0.50, 1000)\n",
    "data = [vqe_inst.expectation(small_ansatz([angle]), hamiltonian1, None, qvm)\n",
    "        for angle in angle_range]\n",
    "\n",
    "import matplotlib.pyplot as plt\n",
    "plt.xlabel('Angle [radians]')\n",
    "plt.ylabel('Expectation value')\n",
    "plt.plot(angle_range, data)\n",
    "plt.show()"
   ]
  },
  {
   "cell_type": "code",
   "execution_count": 83,
   "metadata": {},
   "outputs": [
    {
     "name": "stdout",
     "output_type": "stream",
     "text": [
      "WARNING: Fast method for expectation will be used. Noise\n",
      "                     models will be ineffective\n",
      "{'x': array([0.12280083]), 'fun': -1.122099732838764}\n"
     ]
    }
   ],
   "source": [
    "initial_angle=[0.01]\n",
    "result = vqe_inst.vqe_run(small_ansatz, hamiltonian1, initial_angle, None, qvm=qvm)\n",
    "print(result)"
   ]
  },
  {
   "cell_type": "code",
   "execution_count": 84,
   "metadata": {},
   "outputs": [
    {
     "name": "stdout",
     "output_type": "stream",
     "text": [
      "WARNING: Fast method for expectation will be used. Noise\n",
      "                     models will be ineffective\n",
      "{'x': array([4.83653346e-09]), 'fun': -0.34956289498625737}\n"
     ]
    }
   ],
   "source": [
    "initial_angle=[0.01]\n",
    "result = vqe_inst.vqe_run(small_ansatz, hamiltonian3, initial_angle, None, qvm=qvm)\n",
    "print(result)"
   ]
  },
  {
   "cell_type": "code",
   "execution_count": 85,
   "metadata": {},
   "outputs": [
    {
     "name": "stdout",
     "output_type": "stream",
     "text": [
      "X 0\n",
      "PHASE(0.09706626816762856) 0\n",
      "X 0\n",
      "PHASE(0.09706626816762856) 0\n",
      "RZ(0.342825652895538) 0\n",
      "RZ(0.34282565289553796) 1\n",
      "RZ(-0.4468630738162712) 2\n",
      "RZ(-0.4468630738162712) 3\n",
      "CNOT 0 1\n",
      "RZ(0.33737796340722415) 1\n",
      "CNOT 0 1\n",
      "CNOT 0 2\n",
      "RZ(0.24125046966780833) 2\n",
      "CNOT 0 2\n",
      "CNOT 0 3\n",
      "RZ(0.3318557006754068) 3\n",
      "CNOT 0 3\n",
      "CNOT 1 2\n",
      "RZ(0.3318557006754068) 2\n",
      "CNOT 1 2\n",
      "CNOT 1 3\n",
      "RZ(0.24125046966780833) 3\n",
      "CNOT 1 3\n",
      "CNOT 2 3\n",
      "RZ(0.34882575224523177) 3\n",
      "CNOT 2 3\n",
      "H 0\n",
      "H 1\n",
      "RX(pi/2) 2\n",
      "RX(pi/2) 3\n",
      "CNOT 0 1\n",
      "CNOT 1 2\n",
      "CNOT 2 3\n",
      "RZ(-0.09060523100759851) 3\n",
      "CNOT 2 3\n",
      "CNOT 1 2\n",
      "CNOT 0 1\n",
      "H 0\n",
      "H 1\n",
      "RX(-pi/2) 2\n",
      "RX(-pi/2) 3\n",
      "H 0\n",
      "RX(pi/2) 1\n",
      "RX(pi/2) 2\n",
      "H 3\n",
      "CNOT 0 1\n",
      "CNOT 1 2\n",
      "CNOT 2 3\n",
      "RZ(0.09060523100759851) 3\n",
      "CNOT 2 3\n",
      "CNOT 1 2\n",
      "CNOT 0 1\n",
      "H 0\n",
      "RX(-pi/2) 1\n",
      "RX(-pi/2) 2\n",
      "H 3\n",
      "RX(pi/2) 0\n",
      "H 1\n",
      "H 2\n",
      "RX(pi/2) 3\n",
      "CNOT 0 1\n",
      "CNOT 1 2\n",
      "CNOT 2 3\n",
      "RZ(0.09060523100759851) 3\n",
      "CNOT 2 3\n",
      "CNOT 1 2\n",
      "CNOT 0 1\n",
      "RX(-pi/2) 0\n",
      "H 1\n",
      "H 2\n",
      "RX(-pi/2) 3\n",
      "RX(pi/2) 0\n",
      "RX(pi/2) 1\n",
      "H 2\n",
      "H 3\n",
      "CNOT 0 1\n",
      "CNOT 1 2\n",
      "CNOT 2 3\n",
      "RZ(-0.09060523100759851) 3\n",
      "CNOT 2 3\n",
      "CNOT 1 2\n",
      "CNOT 0 1\n",
      "RX(-pi/2) 0\n",
      "RX(-pi/2) 1\n",
      "H 2\n",
      "H 3\n",
      "\n"
     ]
    }
   ],
   "source": [
    "from forestopenfermion import exponentiate\n",
    "\n",
    "pyquil_program = exponentiate(qubit_hamiltonian1)\n",
    "print(pyquil_program)"
   ]
  },
  {
   "cell_type": "code",
   "execution_count": 92,
   "metadata": {},
   "outputs": [
    {
     "ename": "SyntaxError",
     "evalue": "invalid syntax (<ipython-input-92-20d3acfa34ae>, line 5)",
     "output_type": "error",
     "traceback": [
      "\u001b[0;36m  File \u001b[0;32m\"<ipython-input-92-20d3acfa34ae>\"\u001b[0;36m, line \u001b[0;32m5\u001b[0m\n\u001b[0;31m    asu=uccsd_singlet_generator(2.4.2)\u001b[0m\n\u001b[0m                                    ^\u001b[0m\n\u001b[0;31mSyntaxError\u001b[0m\u001b[0;31m:\u001b[0m invalid syntax\n"
     ]
    }
   ],
   "source": [
    "from openfermion.utils import trotterize_exp_qubop_to_qasm, uccsd_singlet_paramsize, uccsd_singlet_generator\n",
    "print(h2_molecule.n_qubits)\n",
    "print(h2_molecule.n_electrons)\n",
    "print(uccsd_singlet_paramsize(h2_molecule.n_qubits,h2_molecule.n_electrons))\n",
    "asu=uccsd_singlet_generator(2.4.2)"
   ]
  },
  {
   "cell_type": "code",
   "execution_count": null,
   "metadata": {},
   "outputs": [],
   "source": []
  },
  {
   "cell_type": "code",
   "execution_count": null,
   "metadata": {},
   "outputs": [],
   "source": []
  }
 ],
 "metadata": {
  "kernelspec": {
   "display_name": "Python 3",
   "language": "python",
   "name": "python3"
  },
  "language_info": {
   "codemirror_mode": {
    "name": "ipython",
    "version": 3
   },
   "file_extension": ".py",
   "mimetype": "text/x-python",
   "name": "python",
   "nbconvert_exporter": "python",
   "pygments_lexer": "ipython3",
   "version": "3.6.7"
  }
 },
 "nbformat": 4,
 "nbformat_minor": 2
}
