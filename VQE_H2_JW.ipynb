{
 "cells": [
  {
   "cell_type": "code",
   "execution_count": 1,
   "metadata": {},
   "outputs": [],
   "source": [
    "from pyquil.quil import Program\n",
    "import pyquil.api as api\n",
    "from pyquil.gates import *\n",
    "qvm = api.QVMConnection()\n",
    "from pyquil.api import get_qc\n"
   ]
  },
  {
   "cell_type": "code",
   "execution_count": 21,
   "metadata": {},
   "outputs": [],
   "source": [
    "def h2_jw(x):\n",
    "       #1\n",
    "    prog=Program()\n",
    "    prog+=X(0)\n",
    "    prog+=X(1)\n",
    "    prog+=H(0)\n",
    "    prog+=H(1)\n",
    "    prog+=H(2)\n",
    "    prog+=RX(1.57,3)\n",
    "    prog+=CNOT(0,1)\n",
    "    prog+=CNOT(1,2)\n",
    "    prog+=CNOT(2,3)\n",
    "    prog+=RZ(x[0],3)\n",
    "    prog+=CNOT(2,3)\n",
    "    prog+=CNOT(1,2)\n",
    "    prog+=CNOT(0,1)\n",
    "    prog+=H(0)\n",
    "    prog+=H(1)\n",
    "    prog+=H(2)\n",
    "    prog+=RX(-1.57,3)\n",
    "    #2\n",
    "    prog+=H(0)\n",
    "    prog+=H(1)\n",
    "    prog+=RX(1.57,2)\n",
    "    prog+=H(3)\n",
    "    prog+=CNOT(0,1)\n",
    "    prog+=CNOT(1,2)\n",
    "    prog+=CNOT(2,3)\n",
    "    prog+=RZ(x[0],3)\n",
    "    prog+=CNOT(2,3)\n",
    "    prog+=CNOT(1,2)\n",
    "    prog+=CNOT(0,1)\n",
    "    prog+=H(0)\n",
    "    prog+=H(1)\n",
    "    prog+=RX(-1.57,2)\n",
    "    prog+=H(3)\n",
    "    #3\n",
    "    prog+=H(0)\n",
    "    prog+=RX(1.57,1)\n",
    "    prog+=H(2)\n",
    "    prog+=H(3)\n",
    "    prog+=CNOT(0,1)\n",
    "    prog+=CNOT(1,2)\n",
    "    prog+=CNOT(2,3)\n",
    "    prog+=RZ(x[1],3)\n",
    "    prog+=CNOT(2,3)\n",
    "    prog+=CNOT(1,2)\n",
    "    prog+=CNOT(0,1)\n",
    "    prog+=H(0)\n",
    "    prog+=RX(-1.57,1)\n",
    "    prog+=H(2)\n",
    "    prog+=H(3)\n",
    "    \n",
    "    #4\n",
    "    prog+=H(0)\n",
    "    prog+=RX(1.57,1)\n",
    "    prog+=RX(1.57,2)\n",
    "    prog+=RX(1.57,3)\n",
    "    prog+=CNOT(0,1)\n",
    "    prog+=CNOT(1,2)\n",
    "    prog+=CNOT(2,3)\n",
    "    prog+=RZ(x[0],3)\n",
    "    prog+=CNOT(2,3)\n",
    "    prog+=CNOT(1,2)\n",
    "    prog+=CNOT(0,1)\n",
    "    prog+=H(0)\n",
    "    prog+=RX(-1.57,1)\n",
    "    prog+=RX(-1.57,2)\n",
    "    prog+=RX(-1.57,3)\n",
    "    \n",
    "    \n",
    "    #5\n",
    "    prog+=RX(1.57,0)\n",
    "    prog+=H(1)\n",
    "    prog+=H(2)\n",
    "    prog+=H(3)\n",
    "    prog+=CNOT(0,1)\n",
    "    prog+=CNOT(1,2)\n",
    "    prog+=CNOT(2,3)\n",
    "    prog+=RZ(x[1],3)\n",
    "    prog+=CNOT(2,3)\n",
    "    prog+=CNOT(1,2)\n",
    "    prog+=CNOT(0,1)\n",
    "    prog+=RX(-1.57,0)\n",
    "    prog+=H(1)\n",
    "    prog+=H(2)\n",
    "    prog+=H(3)\n",
    "    \n",
    "    #6\n",
    "    prog+=RX(1.57,0)\n",
    "    prog+=H(1)\n",
    "    prog+=RX(1.57,2)\n",
    "    prog+=RX(1.57,3)\n",
    "    prog+=CNOT(0,1)\n",
    "    prog+=CNOT(1,2)\n",
    "    prog+=CNOT(2,3)\n",
    "    prog+=RZ(x[0],3)\n",
    "    prog+=CNOT(2,3)\n",
    "    prog+=CNOT(1,2)\n",
    "    prog+=CNOT(0,1)\n",
    "    prog+=RX(-1.57,0)\n",
    "    prog+=H(1)\n",
    "    prog+=RX(-1.57,2)\n",
    "    prog+=RX(-1.57,3)\n",
    "    \n",
    "    #7\n",
    "    prog+=RX(1.57,0)\n",
    "    prog+=RX(1.57,1)\n",
    "    prog+=H(2)\n",
    "    prog+=RX(1.57,3)\n",
    "    prog+=CNOT(0,1)\n",
    "    prog+=CNOT(1,2)\n",
    "    prog+=CNOT(2,3)\n",
    "    prog+=RZ(x[1],3)\n",
    "    prog+=CNOT(2,3)\n",
    "    prog+=CNOT(1,2)\n",
    "    prog+=CNOT(0,1)\n",
    "    prog+=RX(-1.57,0)\n",
    "    prog+=RX(-1.57,1)\n",
    "    prog+=H(2)\n",
    "    prog+=RX(-1.57,3)\n",
    "    \n",
    "    #8\n",
    "    prog+=RX(1.57,0)\n",
    "    prog+=RX(1.57,1)\n",
    "    prog+=RX(1.57,2)\n",
    "    prog+=H(3)\n",
    "    prog+=CNOT(0,1)\n",
    "    prog+=CNOT(1,2)\n",
    "    prog+=CNOT(2,3)\n",
    "    prog+=RZ(x[1],3)\n",
    "    prog+=CNOT(2,3)\n",
    "    prog+=CNOT(1,2)\n",
    "    prog+=CNOT(0,1)\n",
    "    prog+=RX(-1.57,0)\n",
    "    prog+=RX(-1.57,1)\n",
    "    prog+=RX(-1.57,2)\n",
    "    prog+=H(3)\n",
    "    \n",
    "    return prog"
   ]
  },
  {
   "cell_type": "code",
   "execution_count": 22,
   "metadata": {},
   "outputs": [
    {
     "name": "stdout",
     "output_type": "stream",
     "text": [
      "X 0\n",
      "X 1\n",
      "H 0\n",
      "H 1\n",
      "H 2\n",
      "RX(1.57) 3\n",
      "CNOT 0 1\n",
      "CNOT 1 2\n",
      "CNOT 2 3\n",
      "RZ(0) 3\n",
      "CNOT 2 3\n",
      "CNOT 1 2\n",
      "CNOT 0 1\n",
      "H 0\n",
      "H 1\n",
      "H 2\n",
      "RX(-1.57) 3\n",
      "H 0\n",
      "H 1\n",
      "RX(1.57) 2\n",
      "H 3\n",
      "CNOT 0 1\n",
      "CNOT 1 2\n",
      "CNOT 2 3\n",
      "RZ(0) 3\n",
      "CNOT 2 3\n",
      "CNOT 1 2\n",
      "CNOT 0 1\n",
      "H 0\n",
      "H 1\n",
      "RX(-1.57) 2\n",
      "H 3\n",
      "H 0\n",
      "RX(1.57) 1\n",
      "H 2\n",
      "H 3\n",
      "CNOT 0 1\n",
      "CNOT 1 2\n",
      "CNOT 2 3\n",
      "RZ(0) 3\n",
      "CNOT 2 3\n",
      "CNOT 1 2\n",
      "CNOT 0 1\n",
      "H 0\n",
      "RX(-1.57) 1\n",
      "H 2\n",
      "H 3\n",
      "H 0\n",
      "RX(1.57) 1\n",
      "RX(1.57) 2\n",
      "RX(1.57) 3\n",
      "CNOT 0 1\n",
      "CNOT 1 2\n",
      "CNOT 2 3\n",
      "RZ(0) 3\n",
      "CNOT 2 3\n",
      "CNOT 1 2\n",
      "CNOT 0 1\n",
      "H 0\n",
      "RX(-1.57) 1\n",
      "RX(-1.57) 2\n",
      "RX(-1.57) 3\n",
      "RX(1.57) 0\n",
      "H 1\n",
      "H 2\n",
      "H 3\n",
      "CNOT 0 1\n",
      "CNOT 1 2\n",
      "CNOT 2 3\n",
      "RZ(0) 3\n",
      "CNOT 2 3\n",
      "CNOT 1 2\n",
      "CNOT 0 1\n",
      "RX(-1.57) 0\n",
      "H 1\n",
      "H 2\n",
      "H 3\n",
      "RX(1.57) 0\n",
      "H 1\n",
      "RX(1.57) 2\n",
      "RX(1.57) 3\n",
      "CNOT 0 1\n",
      "CNOT 1 2\n",
      "CNOT 2 3\n",
      "RZ(0) 3\n",
      "CNOT 2 3\n",
      "CNOT 1 2\n",
      "CNOT 0 1\n",
      "RX(-1.57) 0\n",
      "H 1\n",
      "RX(-1.57) 2\n",
      "RX(-1.57) 3\n",
      "RX(1.57) 0\n",
      "RX(1.57) 1\n",
      "H 2\n",
      "RX(1.57) 3\n",
      "CNOT 0 1\n",
      "CNOT 1 2\n",
      "CNOT 2 3\n",
      "RZ(0) 3\n",
      "CNOT 2 3\n",
      "CNOT 1 2\n",
      "CNOT 0 1\n",
      "RX(-1.57) 0\n",
      "RX(-1.57) 1\n",
      "H 2\n",
      "RX(-1.57) 3\n",
      "RX(1.57) 0\n",
      "RX(1.57) 1\n",
      "RX(1.57) 2\n",
      "H 3\n",
      "CNOT 0 1\n",
      "CNOT 1 2\n",
      "CNOT 2 3\n",
      "RZ(0) 3\n",
      "CNOT 2 3\n",
      "CNOT 1 2\n",
      "CNOT 0 1\n",
      "RX(-1.57) 0\n",
      "RX(-1.57) 1\n",
      "RX(-1.57) 2\n",
      "H 3\n",
      "\n"
     ]
    }
   ],
   "source": [
    "print(h2_jw([0,0]))"
   ]
  },
  {
   "cell_type": "code",
   "execution_count": 23,
   "metadata": {},
   "outputs": [],
   "source": [
    "import openfermionpyscf as ofpyscf\n",
    "import openfermion as of\n",
    "from openfermion.transforms import *\n",
    "from openfermion.utils import *\n",
    "from openfermion.hamiltonians import MolecularData\n",
    "import numpy as np\n",
    "import pyscf"
   ]
  },
  {
   "cell_type": "code",
   "execution_count": 24,
   "metadata": {},
   "outputs": [],
   "source": [
    "from openfermionpyscf import *\n",
    "geometry = [[\"H\", [0, 0, 0]],\n",
    "            [\"H\", [0, 0, 0.7414]]]\n",
    "basis = \"sto-3g\"\n",
    "multiplicity = 1\n",
    "charge = 0\n",
    "molecule = MolecularData(geometry, basis, multiplicity, charge)\n",
    "h2_molecule = run_pyscf(molecule, run_mp2=True, run_cisd=True, run_ccsd=True, run_fci=True)"
   ]
  },
  {
   "cell_type": "code",
   "execution_count": 25,
   "metadata": {},
   "outputs": [
    {
     "name": "stdout",
     "output_type": "stream",
     "text": [
      "-0.0988639693354571 [] +\n",
      "-0.045322202052874 [X0 X1 Y2 Y3] +\n",
      "0.045322202052874 [X0 Y1 Y2 X3] +\n",
      "0.045322202052874 [Y0 X1 X2 Y3] +\n",
      "-0.045322202052874 [Y0 Y1 X2 X3] +\n",
      "0.17119774903432944 [Z0] +\n",
      "0.16862219158920938 [Z0 Z1] +\n",
      "0.120544822053018 [Z0 Z2] +\n",
      "0.165867024105892 [Z0 Z3] +\n",
      "0.17119774903432947 [Z1] +\n",
      "0.165867024105892 [Z1 Z2] +\n",
      "0.120544822053018 [Z1 Z3] +\n",
      "-0.22278593040418496 [Z2] +\n",
      "0.17434844185575687 [Z2 Z3] +\n",
      "-0.22278593040418496 [Z3]\n",
      "(-0.0988639693354571+0j)*I + (0.17119774903432944+0j)*Z0 + (0.17119774903432947+0j)*Z1 + (-0.22278593040418496+0j)*Z2 + (-0.22278593040418496+0j)*Z3 + (0.16862219158920938+0j)*Z0*Z1 + (0.120544822053018+0j)*Z0*Z2 + (0.165867024105892+0j)*Z0*Z3 + (0.165867024105892+0j)*Z1*Z2 + (0.120544822053018+0j)*Z1*Z3 + (0.17434844185575687+0j)*Z2*Z3 + (-0.045322202052874+0j)*X0*X1*Y2*Y3 + (0.045322202052874+0j)*X0*Y1*Y2*X3 + (0.045322202052874+0j)*Y0*X1*X2*Y3 + (-0.045322202052874+0j)*Y0*Y1*X2*X3\n"
     ]
    }
   ],
   "source": [
    "import openfermionpyscf as ofpyscf\n",
    "from openfermion.ops import QubitOperator\n",
    "from forestopenfermion import pyquilpauli_to_qubitop, qubitop_to_pyquilpauli\n",
    "hamiltonian = ofpyscf.generate_molecular_hamiltonian(\n",
    "    geometry, basis, multiplicity, charge)\n",
    "qubit_operator=jordan_wigner(hamiltonian)\n",
    "hamiltonian_jw_pauli=qubitop_to_pyquilpauli(qubit_operator)\n",
    "print(qubit_operator)\n",
    "print(hamiltonian_jw_pauli)"
   ]
  },
  {
   "cell_type": "code",
   "execution_count": 26,
   "metadata": {},
   "outputs": [],
   "source": [
    "from grove.pyvqe.vqe import VQE\n",
    "from scipy.optimize import minimize\n",
    "import numpy as np\n",
    "\n",
    "vqe_inst = VQE(minimizer=minimize,minimizer_kwargs={'method': 'nelder-mead'})"
   ]
  },
  {
   "cell_type": "code",
   "execution_count": 94,
   "metadata": {},
   "outputs": [
    {
     "name": "stdout",
     "output_type": "stream",
     "text": [
      "WARNING: Fast method for expectation will be used. Noise\n",
      "                     models will be ineffective\n",
      "\tParameters: [-0.0005    0.000375] \n",
      "\tE => -1.1173140699244881\n",
      "\tParameters: [-0.00075    0.0009375] \n",
      "\tE => -1.1178901256715914\n",
      "\tParameters: [-0.001875    0.00146875] \n",
      "\tE => -1.1190385721778866\n",
      "\tParameters: [-0.0029375   0.00285937] \n",
      "\tE => -1.1206758222954014\n",
      "\tParameters: [-0.00571875  0.00461719] \n",
      "\tE => -1.1235040642864833\n",
      "\tParameters: [-0.00923438  0.00827734] \n",
      "\tE => -1.1274403967900934\n",
      "\tParameters: [-0.01655469  0.01362305] \n",
      "\tE => -1.132780993178703\n",
      "\tParameters: [-0.02724609  0.02361621] \n",
      "\tE => -1.137062089860996\n",
      "\tParameters: [-0.02724609  0.02361621] \n",
      "\tE => -1.136953751659048\n",
      "\tParameters: [-0.02724609  0.02361621] \n",
      "\tE => -1.1362027239860504\n",
      "\tParameters: [-0.02724609  0.02361621] \n",
      "\tE => -1.1370300251085224\n",
      "\tParameters: [-0.03092432  0.02616565] \n",
      "\tE => -1.1372681642329971\n",
      "\tParameters: [-0.03092432  0.02616565] \n",
      "\tE => -1.137263985249354\n",
      "\tParameters: [-0.03092432  0.02616565] \n",
      "\tE => -1.1372312546233936\n",
      "\tParameters: [-0.03092432  0.02616565] \n",
      "\tE => -1.1372655663262263\n",
      "\tParameters: [-0.03065152  0.02629942] \n",
      "\tE => -1.1372690390426092\n",
      "\tParameters: [-0.03038279  0.02597297] \n",
      "\tE => -1.137269957439606\n",
      "\tParameters: [-0.03038279  0.02597297] \n",
      "\tE => -1.1372695116971407\n",
      "\tParameters: [-0.03044896  0.02616963] \n",
      "\tE => -1.1372701168920267\n",
      "\tParameters: [-0.03044896  0.02616963] \n",
      "\tE => -1.1372701126347995\n",
      "\tParameters: [-0.03044584  0.02604229] \n",
      "\tE => -1.1372701494462962\n",
      "\tParameters: [-0.03044584  0.02604229] \n",
      "\tE => -1.1372701470892126\n",
      "\tParameters: [-0.03041743  0.02613497] \n",
      "\tE => -1.137270160924886\n"
     ]
    }
   ],
   "source": [
    "angle=[0.0,0.0]\n",
    "x = vqe_inst.vqe_run(h2_jw, hamiltonian_jw_pauli, angle, None, qvm=qvm,disp=print,return_all=True)\n"
   ]
  },
  {
   "cell_type": "code",
   "execution_count": 95,
   "metadata": {},
   "outputs": [
    {
     "name": "stdout",
     "output_type": "stream",
     "text": [
      "[0.000375   0.0009375  0.00146875 0.00285937 0.00461719 0.00827734\n",
      " 0.01362305 0.02361621 0.02361621 0.02361621 0.02361621 0.02616565\n",
      " 0.02616565 0.02616565 0.02616565 0.02629942 0.02597297 0.02597297\n",
      " 0.02616963 0.02616963 0.02604229 0.02604229 0.02613497]\n"
     ]
    }
   ],
   "source": [
    "E_nelder=np.array(E).reshape(100,100)\n",
    "E_nelder_mead=E_nelder.transpose()\n",
    "param_nelder=x.iteration_params\n",
    "hasil_nelder=x.expectation_vals\n",
    "x=np.array(param_nelder)[:,1]\n",
    "new_param=[-0.0005     -0.00075    -0.001875   -0.0029375  -0.00571875 -0.00923438\n",
    " -0.01655469 -0.02724609 -0.02724609 -0.02724609 -0.02724609 -0.03092432\n",
    " -0.03092432 -0.03092432 -0.03092432 -0.03065152 -0.03038279 -0.03038279\n",
    " -0.03044896 -0.03044896 -0.03044584 -0.03044584 -0.03041743]\n",
    "\n",
    "print(x)"
   ]
  },
  {
   "cell_type": "code",
   "execution_count": 98,
   "metadata": {},
   "outputs": [],
   "source": [
    "new_param=[-0.0005 ,    -0.00075 ,   -0.001875 ,  -0.0029375 , -0.00571875 ,-0.00923438,\n",
    " -0.01655469 ,-0.02724609 ,-0.02724609 ,-0.02724609 ,-0.02724609, -0.03092432,\n",
    " -0.03092432 ,-0.03092432 ,-0.03092432 ,-0.03065152 ,-0.03038279, -0.03038279,\n",
    " -0.03044896 ,-0.03044896 ,-0.03044584 ,-0.03044584 ]\n",
    "new_param1=[0.000375 ,  0.0009375 , 0.00146875, 0.00285937, 0.00461719, 0.00827734,\n",
    " 0.01362305, 0.02361621, 0.02361621, 0.02361621, 0.02361621, 0.02616565,\n",
    " 0.02616565, 0.02616565, 0.02616565, 0.02629942, 0.02597297, 0.02597297,\n",
    " 0.02616963, 0.02616963, 0.02604229, 0.02604229]"
   ]
  },
  {
   "cell_type": "code",
   "execution_count": 99,
   "metadata": {},
   "outputs": [],
   "source": [
    "from matplotlib import rc\n",
    "\n",
    "rc('font',**{'family':'sans-serif','sans-serif':['Helvetica']})\n",
    "## for Palatino and other serif fonts use:\n",
    "#rc('font',**{'family':'serif','serif':['Palatino']})\n",
    "rc('text', usetex=True)\n",
    "plt.rc('text', usetex=True)\n",
    "plt.rc('font', family='serif')"
   ]
  },
  {
   "cell_type": "code",
   "execution_count": null,
   "metadata": {},
   "outputs": [],
   "source": []
  },
  {
   "cell_type": "code",
   "execution_count": 112,
   "metadata": {},
   "outputs": [
    {
     "data": {
      "text/plain": [
       "Text(0,0.5,'$\\\\theta_2$')"
      ]
     },
     "execution_count": 112,
     "metadata": {},
     "output_type": "execute_result"
    },
    {
     "data": {
      "image/png": "[encoded data removed]",
      "text/plain": [
       "<Figure size 720x720 with 2 Axes>"
      ]
     },
     "metadata": {
      "needs_background": "light"
     },
     "output_type": "display_data"
    }
   ],
   "source": [
    "import matplotlib.pyplot as plt\n",
    "plt.figure(figsize=(10,10))\n",
    "plt.imshow(E_nelder_mead,cmap='Oranges',extent=[-0.06,0.06,-0.06,0.06])\n",
    "plt.colorbar()\n",
    "plt.plot(new_param,new_param1,'g--*')\n",
    "plt.scatter(-0.03041743  ,0.02613497,marker='X')\n",
    "plt.text(-0.03041743  ,0.02613497, '({}, {})'.format(-0.03041743  ,0.02613497))\n",
    "plt.grid()\n",
    "plt.xlabel(r'$\\theta_1$',fontsize=16)\n",
    "plt.ylabel(r'$\\theta_2$',fontsize=16)"
   ]
  },
  {
   "cell_type": "code",
   "execution_count": 114,
   "metadata": {},
   "outputs": [],
   "source": [
    "vqe_inst1 = VQE(minimizer=minimize,minimizer_kwargs={'method': 'Powell'})"
   ]
  },
  {
   "cell_type": "code",
   "execution_count": 116,
   "metadata": {},
   "outputs": [
    {
     "name": "stdout",
     "output_type": "stream",
     "text": [
      "WARNING: Fast method for expectation will be used. Noise\n",
      "                     models will be ineffective\n",
      "\tParameters: [-5.65606412e-02 -2.65629592e-05] \n",
      "\tE => -1.1372701606464057\n",
      "\tParameters: [-5.65606366e-02 -2.65580408e-05] \n",
      "\tE => -1.1372701606468636\n"
     ]
    }
   ],
   "source": [
    "angle=[0.0,0.0]\n",
    "x = vqe_inst1.vqe_run(h2_jw, hamiltonian_jw_pauli, angle, None, qvm=qvm,disp=print,return_all=True)"
   ]
  },
  {
   "cell_type": "code",
   "execution_count": 134,
   "metadata": {},
   "outputs": [],
   "source": [
    "E=[]\n",
    "thetas1=np.linspace(-0.05,0.00003,100)\n",
    "thetas2=np.linspace(-0.05,0.00003,100)\n",
    "for x in thetas1:\n",
    "    for y in thetas2:\n",
    "        param=[x,y]\n",
    "        E.append(vqe_inst1.expectation(h2_jw(param), hamiltonian_jw_pauli, None, qvm))\n",
    "        "
   ]
  },
  {
   "cell_type": "code",
   "execution_count": 135,
   "metadata": {},
   "outputs": [],
   "source": [
    "E_pow=np.array(E).reshape(100,100)\n",
    "E_powell=E_pow.transpose()"
   ]
  },
  {
   "cell_type": "code",
   "execution_count": 136,
   "metadata": {},
   "outputs": [],
   "source": [
    "param_powell=[-5.65606412e-02]\n",
    "hasil_powell=[-2.65629592e-05]"
   ]
  },
  {
   "cell_type": "code",
   "execution_count": 137,
   "metadata": {},
   "outputs": [
    {
     "data": {
      "text/plain": [
       "Text(0,0.5,'$\\\\theta_2$')"
      ]
     },
     "execution_count": 137,
     "metadata": {},
     "output_type": "execute_result"
    },
    {
     "data": {
      "image/png": "[encoded data removed]",
      "text/plain": [
       "<Figure size 720x720 with 2 Axes>"
      ]
     },
     "metadata": {
      "needs_background": "light"
     },
     "output_type": "display_data"
    }
   ],
   "source": [
    "import matplotlib.pyplot as plt\n",
    "plt.figure(figsize=(10,10))\n",
    "plt.imshow(E_powell,cmap='Oranges',extent=[-0.06,0.06,-0.06,0.06])\n",
    "plt.colorbar()\n",
    "plt.plot(param_powell,hasil_powell,'g--*')\n",
    "plt.scatter(-5.65606366e-02  ,-2.65580408e-05,marker='X')\n",
    "plt.text(-5.65606366e-02  ,-2.65580408e-05, '({}, {})'.format(-5.65606366e-02  ,-2.65580408e-05))\n",
    "plt.grid()\n",
    "plt.xlabel(r'$\\theta_1$',fontsize=16)\n",
    "plt.ylabel(r'$\\theta_2$',fontsize=16)"
   ]
  },
  {
   "cell_type": "code",
   "execution_count": null,
   "metadata": {},
   "outputs": [],
   "source": []
  },
  {
   "cell_type": "code",
   "execution_count": 131,
   "metadata": {},
   "outputs": [],
   "source": [
    "vqe_inst2 = VQE(minimizer=minimize,minimizer_kwargs={'method': 'SLSQP'})"
   ]
  },
  {
   "cell_type": "code",
   "execution_count": 133,
   "metadata": {},
   "outputs": [
    {
     "name": "stdout",
     "output_type": "stream",
     "text": [
      "WARNING: Fast method for expectation will be used. Noise\n",
      "                     models will be ineffective\n",
      "\tParameters: [-0.72515489  0.72515467] \n",
      "\tE => -1.1166843978909826\n",
      "\tParameters: [-0.02820848  0.02820821] \n",
      "\tE => -1.1337127354055059\n",
      "\tParameters: [-0.02820848  0.02820821] \n",
      "\tE => -1.1372700739835868\n",
      "{'x': array([-0.02820848,  0.02820821]), 'fun': -1.1372700739609618, 'iteration_params': [array([-0.02820848,  0.02820821]), array([-0.02820848,  0.02820821]), array([-0.02820848,  0.02820821])], 'expectation_vals': [-1.1166843978909826, -1.1337127354055059, -1.1372700739835868]}\n"
     ]
    }
   ],
   "source": [
    "result_slsqp = vqe_inst2.vqe_run(h2_jw, hamiltonian_jw_pauli, angle, None, qvm=qvm,disp=print,return_all=True)\n",
    "print(result_slsqp)"
   ]
  },
  {
   "cell_type": "code",
   "execution_count": 138,
   "metadata": {},
   "outputs": [],
   "source": [
    "E=[]\n",
    "thetas1=np.linspace(-0.8,-0.03,100)\n",
    "thetas2=np.linspace(-0.8,-0.03,100)\n",
    "for x in thetas1:\n",
    "    for y in thetas2:\n",
    "        param=[x,y]\n",
    "        E.append(vqe_inst2.expectation(h2_jw(param), hamiltonian_jw_pauli, None, qvm))"
   ]
  },
  {
   "cell_type": "code",
   "execution_count": 140,
   "metadata": {},
   "outputs": [],
   "source": [
    "E_sls=np.array(E).reshape(100,100)\n",
    "E_slsqp=E_sls.transpose()"
   ]
  },
  {
   "cell_type": "code",
   "execution_count": 141,
   "metadata": {},
   "outputs": [],
   "source": [
    "param_slsqp=[-0.72515489,-0.02820848]\n",
    "hasil_slsqp=[0.72515467,0.02820821]"
   ]
  },
  {
   "cell_type": "code",
   "execution_count": 144,
   "metadata": {},
   "outputs": [
    {
     "data": {
      "text/plain": [
       "Text(0,0.5,'$\\\\theta_2$')"
      ]
     },
     "execution_count": 144,
     "metadata": {},
     "output_type": "execute_result"
    },
    {
     "data": {
      "image/png": "[encoded data removed]",
      "text/plain": [
       "<Figure size 720x720 with 2 Axes>"
      ]
     },
     "metadata": {
      "needs_background": "light"
     },
     "output_type": "display_data"
    }
   ],
   "source": [
    "import matplotlib.pyplot as plt\n",
    "plt.figure(figsize=(10,10))\n",
    "plt.imshow(E_slsqp,cmap='Oranges',extent=[-0.8,0.8,-0.8,0.8])\n",
    "plt.colorbar()\n",
    "plt.plot(param_slsqp,hasil_slsqp,'g--*')\n",
    "plt.scatter(-0.02820848  ,0.02820821,marker='X')\n",
    "plt.text(-0.02820848  ,0.02820821, '({}, {})'.format(-0.02820848  ,0.02820821))\n",
    "plt.grid()\n",
    "plt.xlabel(r'$\\theta_1$',fontsize=16)\n",
    "plt.ylabel(r'$\\theta_2$',fontsize=16)"
   ]
  },
  {
   "cell_type": "code",
   "execution_count": null,
   "metadata": {},
   "outputs": [],
   "source": []
  }
 ],
 "metadata": {
  "kernelspec": {
   "display_name": "Python 3",
   "language": "python",
   "name": "python3"
  },
  "language_info": {
   "codemirror_mode": {
    "name": "ipython",
    "version": 3
   },
   "file_extension": ".py",
   "mimetype": "text/x-python",
   "name": "python",
   "nbconvert_exporter": "python",
   "pygments_lexer": "ipython3",
   "version": "3.6.8"
  }
 },
 "nbformat": 4,
 "nbformat_minor": 4
}
