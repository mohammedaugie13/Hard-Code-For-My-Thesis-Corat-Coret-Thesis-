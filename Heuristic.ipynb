{
 "cells": [
  {
   "cell_type": "code",
   "execution_count": 1,
   "metadata": {},
   "outputs": [],
   "source": [
    "import numpy as np\n",
    "\n",
    "from pyquil import Program\n",
    "from pyquil.quil import DefGate"
   ]
  },
  {
   "cell_type": "code",
   "execution_count": 16,
   "metadata": {},
   "outputs": [],
   "source": [
    "from pyquil.quil import Program\n",
    "import pyquil.api as api\n",
    "from pyquil.gates import *\n",
    "qvm = api.QVMConnection()\n",
    "from pyquil.api import get_qc"
   ]
  },
  {
   "cell_type": "code",
   "execution_count": 17,
   "metadata": {},
   "outputs": [],
   "source": [
    "from pyquil import Program\n",
    "from pyquil.parameters import Parameter, quil_sin, quil_cos,quil_exp\n",
    "from pyquil.quilbase import DefGate\n",
    "import numpy as np\n",
    "from pyquil.gates import *\n",
    "import math"
   ]
  },
  {
   "cell_type": "code",
   "execution_count": 44,
   "metadata": {},
   "outputs": [],
   "source": [
    "# Define the new gate from a matrix\n",
    "theta = Parameter('theta')\n",
    "phi = Parameter('phi')\n",
    "u1 = np.array([\n",
    "    [1, 0, 0, 0],\n",
    "    [0, quil_cos(theta), quil_exp(1j*phi)*quil_sin(theta), 0],\n",
    "    [0, 0, quil_exp(-1j*phi)*quil_sin(theta), -quil_cos(theta)],\n",
    "    [0, 0, 0, 1]\n",
    "])\n",
    "\n",
    "gate_definition = DefGate('U1', u1, [theta,phi])\n",
    "U1 = gate_definition.get_constructor()\n",
    "\n",
    "# Create our program and use the new parametric gate\n",
    "p = Program()\n",
    "p += gate_definition\n",
    "p += H(0)\n",
    "p += U1(0,1)(0, 1)"
   ]
  },
  {
   "cell_type": "code",
   "execution_count": 40,
   "metadata": {},
   "outputs": [],
   "source": [
    "from pyquil import Program\n",
    "from pyquil.parameters import Parameter, quil_sin, quil_cos\n",
    "from pyquil.quilbase import DefGate\n",
    "import numpy as np\n",
    "\n",
    "# Define the new gate from a matrix\n",
    "theta = Parameter('theta')\n",
    "crx = np.array([\n",
    "    [1, 0, 0, 0],\n",
    "    [0, 1, 0, 0],\n",
    "    [0, 0, quil_cos(theta / 2), -1j * quil_sin(theta / 2)],\n",
    "    [0, 0, -1j * quil_sin(theta / 2), quil_cos(theta / 2)]\n",
    "])\n",
    "\n",
    "gate_definition = DefGate('CRX', crx, [theta])\n",
    "CRX = gate_definition.get_constructor()\n",
    "\n",
    "# Create our program and use the new parametric gate\n"
   ]
  },
  {
   "cell_type": "code",
   "execution_count": 19,
   "metadata": {},
   "outputs": [
    {
     "name": "stdout",
     "output_type": "stream",
     "text": [
      "DEFGATE U1(%theta, %phi):\n",
      "    1, 0, 0, 0\n",
      "    0, COS(%theta), EXP(i*%phi)*SIN(%theta), 0\n",
      "    0, 0, EXP(-i*%phi)*SIN(%theta), -1*COS(%theta)\n",
      "    0, 0, 0, 1\n",
      "\n",
      "H 0\n",
      "U1(0,1) 0 1\n",
      "\n"
     ]
    }
   ],
   "source": [
    "print(p)"
   ]
  },
  {
   "cell_type": "code",
   "execution_count": 45,
   "metadata": {},
   "outputs": [],
   "source": [
    "def u1(x):\n",
    "    p=Program()\n",
    "    p+= gate_definition\n",
    "    p+=X(0)\n",
    "    p+=X(1)\n",
    "    p+=U1(x[0],x[1])(0,1)\n",
    "    p+=U1(x[2],x[3])(1,2)\n",
    "    p+=U1(x[4],x[5])(2,3)\n",
    "    \n",
    "    p+=U1(x[6],x[7])(0,1)\n",
    "    p+=U1(x[8],x[9])(1,2)\n",
    "    p+=U1(x[10],x[11])(2,3)\n",
    "    \n",
    "    p+=U1(x[12],x[13])(0,1)\n",
    "    p+=U1(x[14],x[15])(1,2)\n",
    "    p+=U1(x[16],x[17])(2,3)\n",
    "    \n",
    "    p+=U1(x[18],x[19])(0,1)\n",
    "    p+=U1(x[20],x[21])(1,2)\n",
    "    p+=U1(x[22],x[23])(2,3)\n",
    "    \n",
    "    \n",
    "    \n",
    "    return p"
   ]
  },
  {
   "cell_type": "code",
   "execution_count": 41,
   "metadata": {},
   "outputs": [],
   "source": [
    "def coba(x):\n",
    "    p = Program()\n",
    "    p += gate_definition\n",
    "    p += H(0)\n",
    "    p += CRX(np.pi/2)(1, 0)\n",
    "    \n",
    "    return p"
   ]
  },
  {
   "cell_type": "code",
   "execution_count": 21,
   "metadata": {},
   "outputs": [],
   "source": [
    "import openfermionpyscf as ofpyscf\n",
    "import openfermion as of\n",
    "from openfermion.transforms import *\n",
    "from openfermion.utils import *\n",
    "from openfermion.hamiltonians import MolecularData\n",
    "import numpy as np\n",
    "import pyscf"
   ]
  },
  {
   "cell_type": "code",
   "execution_count": 22,
   "metadata": {},
   "outputs": [],
   "source": [
    "from openfermionpyscf import *\n",
    "geometry = [[\"H\", [0, 0, 0]],\n",
    "            [\"H\", [0, 0, 0.7414]]]\n",
    "basis = \"sto-3g\"\n",
    "multiplicity = 1\n",
    "charge = 0\n",
    "molecule = MolecularData(geometry, basis, multiplicity, charge)\n",
    "h2_molecule = run_pyscf(molecule, run_mp2=True, run_cisd=True, run_ccsd=True, run_fci=True)"
   ]
  },
  {
   "cell_type": "code",
   "execution_count": 23,
   "metadata": {},
   "outputs": [
    {
     "name": "stdout",
     "output_type": "stream",
     "text": [
      "-0.0988639693354571 [] +\n",
      "-0.045322202052874 [X0 X1 Y2 Y3] +\n",
      "0.045322202052874 [X0 Y1 Y2 X3] +\n",
      "0.045322202052874 [Y0 X1 X2 Y3] +\n",
      "-0.045322202052874 [Y0 Y1 X2 X3] +\n",
      "0.17119774903432944 [Z0] +\n",
      "0.16862219158920938 [Z0 Z1] +\n",
      "0.120544822053018 [Z0 Z2] +\n",
      "0.165867024105892 [Z0 Z3] +\n",
      "0.17119774903432947 [Z1] +\n",
      "0.165867024105892 [Z1 Z2] +\n",
      "0.120544822053018 [Z1 Z3] +\n",
      "-0.22278593040418496 [Z2] +\n",
      "0.17434844185575687 [Z2 Z3] +\n",
      "-0.22278593040418496 [Z3]\n",
      "(-0.0988639693354571+0j)*I + (0.17119774903432944+0j)*Z0 + (0.17119774903432947+0j)*Z1 + (-0.22278593040418496+0j)*Z2 + (-0.22278593040418496+0j)*Z3 + (0.16862219158920938+0j)*Z0*Z1 + (0.120544822053018+0j)*Z0*Z2 + (0.165867024105892+0j)*Z0*Z3 + (0.165867024105892+0j)*Z1*Z2 + (0.120544822053018+0j)*Z1*Z3 + (0.17434844185575687+0j)*Z2*Z3 + (-0.045322202052874+0j)*X0*X1*Y2*Y3 + (0.045322202052874+0j)*X0*Y1*Y2*X3 + (0.045322202052874+0j)*Y0*X1*X2*Y3 + (-0.045322202052874+0j)*Y0*Y1*X2*X3\n"
     ]
    }
   ],
   "source": [
    "import openfermionpyscf as ofpyscf\n",
    "from openfermion.ops import QubitOperator\n",
    "from forestopenfermion import pyquilpauli_to_qubitop, qubitop_to_pyquilpauli\n",
    "hamiltonian = ofpyscf.generate_molecular_hamiltonian(\n",
    "    geometry, basis, multiplicity, charge)\n",
    "qubit_operator=jordan_wigner(hamiltonian)\n",
    "hamiltonian_jw_pauli=qubitop_to_pyquilpauli(qubit_operator)\n",
    "print(qubit_operator)\n",
    "print(hamiltonian_jw_pauli)"
   ]
  },
  {
   "cell_type": "code",
   "execution_count": 24,
   "metadata": {},
   "outputs": [],
   "source": [
    "from grove.pyvqe.vqe import VQE\n",
    "from scipy.optimize import minimize\n",
    "import numpy as np\n",
    "\n",
    "vqe_inst = VQE(minimizer=minimize,minimizer_kwargs={'method': 'COBYLA'})"
   ]
  },
  {
   "cell_type": "code",
   "execution_count": 54,
   "metadata": {},
   "outputs": [
    {
     "name": "stdout",
     "output_type": "stream",
     "text": [
      "WARNING: Fast method for expectation will be used. Noise\n",
      "                     models will be ineffective\n"
     ]
    }
   ],
   "source": [
    "angle=np.linspace(0,np.pi*2,24)\n",
    "x = vqe_inst.vqe_run(u1, hamiltonian_jw_pauli, angle, None, qvm=qvm)"
   ]
  },
  {
   "cell_type": "code",
   "execution_count": 55,
   "metadata": {},
   "outputs": [
    {
     "name": "stdout",
     "output_type": "stream",
     "text": [
      "{'x': array([3.13633313, 0.22936354, 1.56959182, 0.64249384, 1.56923617,\n",
      "       1.84663597, 1.95792871, 0.79014957, 1.17592186, 4.85033496,\n",
      "       1.54882998, 3.31244135, 1.99807799, 5.14465973, 5.32642922,\n",
      "       4.35201864, 4.73657379, 5.23828043, 5.38504912, 6.83969511,\n",
      "       5.57554049, 6.27977783, 7.76092059, 6.86450945]), 'fun': -12.411352057214696}\n"
     ]
    }
   ],
   "source": [
    "print(x)"
   ]
  },
  {
   "cell_type": "code",
   "execution_count": null,
   "metadata": {},
   "outputs": [],
   "source": []
  }
 ],
 "metadata": {
  "kernelspec": {
   "display_name": "Python 3",
   "language": "python",
   "name": "python3"
  },
  "language_info": {
   "codemirror_mode": {
    "name": "ipython",
    "version": 3
   },
   "file_extension": ".py",
   "mimetype": "text/x-python",
   "name": "python",
   "nbconvert_exporter": "python",
   "pygments_lexer": "ipython3",
   "version": "3.6.8"
  }
 },
 "nbformat": 4,
 "nbformat_minor": 4
}
