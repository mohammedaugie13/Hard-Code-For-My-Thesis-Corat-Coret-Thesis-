{
 "cells": [
  {
   "cell_type": "code",
   "execution_count": 1,
   "metadata": {},
   "outputs": [],
   "source": [
    "from pyquil.quil import Program\n",
    "import pyquil.api as api\n",
    "from pyquil.gates import *\n",
    "qvm = api.QVMConnection()\n",
    "from pyquil.api import get_qc\n",
    "\n",
    "\n"
   ]
  },
  {
   "cell_type": "code",
   "execution_count": 33,
   "metadata": {},
   "outputs": [
    {
     "name": "stdout",
     "output_type": "stream",
     "text": [
      "X 0\n",
      "X 1\n",
      "H 0\n",
      "H 1\n",
      "H 2\n",
      "RX(1.57) 3\n",
      "CNOT 0 1\n",
      "CNOT 1 2\n",
      "CNOT 2 3\n",
      "RZ(1.0) 3\n",
      "CNOT 2 3\n",
      "CNOT 1 2\n",
      "CNOT 0 1\n",
      "H 0\n",
      "H 1\n",
      "H 2\n",
      "RX(-1.57) 3\n",
      "H 0\n",
      "H 1\n",
      "RX(1.57) 2\n",
      "H 3\n",
      "CNOT 0 1\n",
      "CNOT 1 2\n",
      "CNOT 2 3\n",
      "RZ(1.0) 3\n",
      "CNOT 2 3\n",
      "CNOT 1 2\n",
      "CNOT 0 1\n",
      "H 0\n",
      "H 1\n",
      "RX(-1.57) 2\n",
      "H 3\n",
      "H 0\n",
      "RX(1.57) 1\n",
      "H 2\n",
      "H 3\n",
      "CNOT 0 1\n",
      "CNOT 1 2\n",
      "CNOT 2 3\n",
      "RZ(2.0) 3\n",
      "CNOT 2 3\n",
      "CNOT 1 2\n",
      "CNOT 0 1\n",
      "H 0\n",
      "RX(-1.57) 1\n",
      "H 2\n",
      "H 3\n",
      "H 0\n",
      "RX(1.57) 1\n",
      "RX(1.57) 2\n",
      "RX(1.57) 3\n",
      "CNOT 0 1\n",
      "CNOT 1 2\n",
      "CNOT 2 3\n",
      "RZ(1.0) 3\n",
      "CNOT 2 3\n",
      "CNOT 1 2\n",
      "CNOT 0 1\n",
      "H 0\n",
      "RX(-1.57) 1\n",
      "RX(-1.57) 2\n",
      "RX(-1.57) 3\n",
      "RX(1.57) 0\n",
      "H 1\n",
      "H 2\n",
      "H 3\n",
      "CNOT 0 1\n",
      "CNOT 1 2\n",
      "CNOT 2 3\n",
      "RZ(2.0) 3\n",
      "CNOT 2 3\n",
      "CNOT 1 2\n",
      "CNOT 0 1\n",
      "RX(-1.57) 0\n",
      "H 1\n",
      "H 2\n",
      "H 3\n",
      "RX(1.57) 0\n",
      "H 1\n",
      "RX(1.57) 2\n",
      "RX(1.57) 3\n",
      "CNOT 0 1\n",
      "CNOT 1 2\n",
      "CNOT 2 3\n",
      "RZ(1.0) 3\n",
      "CNOT 2 3\n",
      "CNOT 1 2\n",
      "CNOT 0 1\n",
      "RX(-1.57) 0\n",
      "H 1\n",
      "RX(-1.57) 2\n",
      "RX(-1.57) 3\n",
      "RX(1.57) 0\n",
      "RX(1.57) 1\n",
      "H 2\n",
      "RX(1.57) 3\n",
      "CNOT 0 1\n",
      "CNOT 1 2\n",
      "CNOT 2 3\n",
      "RZ(2.0) 3\n",
      "CNOT 2 3\n",
      "CNOT 1 2\n",
      "CNOT 0 1\n",
      "RX(-1.57) 0\n",
      "RX(-1.57) 1\n",
      "H 2\n",
      "RX(-1.57) 3\n",
      "RX(1.57) 0\n",
      "RX(1.57) 1\n",
      "RX(1.57) 2\n",
      "H 3\n",
      "CNOT 0 1\n",
      "CNOT 1 2\n",
      "CNOT 2 3\n",
      "RZ(2.0) 3\n",
      "CNOT 2 3\n",
      "CNOT 1 2\n",
      "CNOT 0 1\n",
      "RX(-1.57) 0\n",
      "RX(-1.57) 1\n",
      "RX(-1.57) 2\n",
      "H 3\n",
      "\n"
     ]
    }
   ],
   "source": [
    "def small_ansatz(params):\n",
    "    return Program(X(0),X(1),H(0),H(1),H(2),RX(1.57,3),CNOT(0,1),CNOT(1,2),CNOT(2,3),RZ(params[0],3),CNOT(2,3),CNOT(1,2),CNOT(0,1),H(0),\n",
    "                   H(1),H(2),RX(-1.57,3),\n",
    "                  H(0),H(1),RX(1.57,2),H(3),CNOT(0,1),CNOT(1,2),CNOT(2,3),RZ(params[0],3),CNOT(2,3),CNOT(1,2),CNOT(0,1),H(0),H(1),RX(-1.57,2)\n",
    "                   ,H(3),H(0),RX(1.57,1),H(2),H(3),CNOT(0,1),CNOT(1,2),CNOT(2,3),RZ(params[1],3),CNOT(2,3),CNOT(1,2),CNOT(0,1),\n",
    "                   H(0),RX(-1.57,1),H(2),H(3),\n",
    "                  H(0),RX(1.57,1),RX(1.57,2),RX(1.57,3),CNOT(0,1),CNOT(1,2),CNOT(2,3),RZ(params[0],3),CNOT(2,3),CNOT(1,2),CNOT(0,1),H(0),RX(-1.57,1)\n",
    "                  ,RX(-1.57,2),RX(-1.57,3),\n",
    "                  RX(1.57,0),H(1),H(2),H(3),CNOT(0,1),CNOT(1,2),CNOT(2,3),RZ(params[1],3),CNOT(2,3),CNOT(1,2),CNOT(0,1),RX(-1.57,0),H(1),H(2),H(3),\n",
    "                  RX(1.57,0),H(1),RX(1.57,2),RX(1.57,3),CNOT(0,1),CNOT(1,2),CNOT(2,3),RZ(params[0],3),CNOT(2,3),CNOT(1,2),CNOT(0,1),RX(-1.57,0),H(1),RX(-1.57,2),RX(-1.57,3),\n",
    "                  RX(1.57,0),RX(1.57,1),H(2),RX(1.57,3),CNOT(0,1),CNOT(1,2),CNOT(2,3),RZ(params[1],3),CNOT(2,3),CNOT(1,2),CNOT(0,1),RX(-1.57,0),RX(-1.57,1),H(2),RX(-1.57,3),\n",
    "                  RX(1.57,0),RX(1.57,1),RX(1.57,2),H(3),CNOT(0,1),CNOT(1,2),CNOT(2,3),RZ(params[1],3),CNOT(2,3),CNOT(1,2),CNOT(0,1),RX(-1.57,0),RX(-1.57,1),RX(-1.57,2),H(3))\n",
    "print(small_ansatz([1.0,2.0]))"
   ]
  },
  {
   "cell_type": "code",
   "execution_count": 34,
   "metadata": {},
   "outputs": [],
   "source": [
    "def hydrogen(x,y):\n",
    "    return Program(X(0),X(1),H(0),H(1),H(2),RX(1.57,3),CNOT(0,1),CNOT(1,2),CNOT(2,3),RZ(x,3),CNOT(2,3),CNOT(1,2),CNOT(0,1),H(0),\n",
    "                   H(1),H(2),RX(-1.57,3),\n",
    "                  H(0),H(1),RX(1.57,2),H(3),CNOT(0,1),CNOT(1,2),CNOT(2,3),RZ(x,3),CNOT(2,3),CNOT(1,2),CNOT(0,1),H(0),H(1),RX(-1.57,2)\n",
    "                   ,H(3),H(0),RX(1.57,1),H(2),H(3),CNOT(0,1),CNOT(1,2),CNOT(2,3),RZ(y,3),CNOT(2,3),CNOT(1,2),CNOT(0,1),\n",
    "                   H(0),RX(-1.57,1),H(2),H(3),\n",
    "                  H(0),RX(1.57,1),RX(1.57,2),RX(1.57,3),CNOT(0,1),CNOT(1,2),CNOT(2,3),RZ(x,3),CNOT(2,3),CNOT(1,2),CNOT(0,1),H(0),RX(-1.57,1)\n",
    "                  ,RX(-1.57,2),RX(-1.57,3),\n",
    "                  RX(1.57,0),H(1),H(2),H(3),CNOT(0,1),CNOT(1,2),CNOT(2,3),RZ(y,3),CNOT(2,3),CNOT(1,2),CNOT(0,1),RX(-1.57,0),H(1),H(2),H(3),\n",
    "                  RX(1.57,0),H(1),RX(1.57,2),RX(1.57,3),CNOT(0,1),CNOT(1,2),CNOT(2,3),RZ(x,3),CNOT(2,3),CNOT(1,2),CNOT(0,1),RX(-1.57,0),H(1),RX(-1.57,2),RX(-1.57,3),\n",
    "                  RX(1.57,0),RX(1.57,1),H(2),RX(1.57,3),CNOT(0,1),CNOT(1,2),CNOT(2,3),RZ(y,3),CNOT(2,3),CNOT(1,2),CNOT(0,1),RX(-1.57,0),RX(-1.57,1),H(2),RX(-1.57,3),\n",
    "                  RX(1.57,0),RX(1.57,1),RX(1.57,2),H(3),CNOT(0,1),CNOT(1,2),CNOT(2,3),RZ(y,3),CNOT(2,3),CNOT(1,2),CNOT(0,1),RX(-1.57,0),RX(-1.57,1),RX(-1.57,2),H(3))"
   ]
  },
  {
   "cell_type": "code",
   "execution_count": 35,
   "metadata": {},
   "outputs": [],
   "source": [
    "import numpy as np\n",
    "from openfermion.transforms import get_sparse_operator\n",
    "from openfermion.utils import pauli_exp_to_qasm\n",
    "from openfermion.ops import QubitOperator\n",
    "from openfermion.transforms import get_fermion_operator, jordan_wigner, bravyi_kitaev\n",
    "from pyscf import ci\n",
    "from pyscf import mp\n",
    "from openfermionpyscf import run_pyscf\n",
    "from openfermion.hamiltonians import MolecularData\n",
    "import os\n",
    "\n",
    "from numpy import array, concatenate, zeros\n",
    "from numpy.random import randn\n",
    "from scipy.optimize import minimize\n",
    "\n",
    "from openfermion.config import *\n",
    "\n",
    "from openfermion.hamiltonians import MolecularData\n",
    "from openfermion.transforms import jordan_wigner\n",
    "from openfermion.utils import uccsd_singlet_paramsize"
   ]
  },
  {
   "cell_type": "code",
   "execution_count": 36,
   "metadata": {},
   "outputs": [],
   "source": [
    "geometry = [[\"H\", [0, 0, 0]],\n",
    "            [\"H\", [0, 0, 0.7414]]]\n",
    "basis = \"sto-3g\"\n",
    "multiplicity = 1\n",
    "charge = 0\n",
    "molecule = MolecularData(geometry, basis, multiplicity, charge)\n",
    "h2_molecule = run_pyscf(molecule, run_mp2=True, run_cisd=True, run_ccsd=True, run_fci=True)\n"
   ]
  },
  {
   "cell_type": "code",
   "execution_count": 37,
   "metadata": {},
   "outputs": [
    {
     "name": "stdout",
     "output_type": "stream",
     "text": [
      "-0.0988639693354571 [] +\n",
      "-0.045322202052874 [X0 X1 Y2 Y3] +\n",
      "0.045322202052874 [X0 Y1 Y2 X3] +\n",
      "0.045322202052874 [Y0 X1 X2 Y3] +\n",
      "-0.045322202052874 [Y0 Y1 X2 X3] +\n",
      "0.17119774903432944 [Z0] +\n",
      "0.16862219158920938 [Z0 Z1] +\n",
      "0.120544822053018 [Z0 Z2] +\n",
      "0.165867024105892 [Z0 Z3] +\n",
      "0.17119774903432947 [Z1] +\n",
      "0.165867024105892 [Z1 Z2] +\n",
      "0.120544822053018 [Z1 Z3] +\n",
      "-0.22278593040418496 [Z2] +\n",
      "0.17434844185575687 [Z2 Z3] +\n",
      "-0.22278593040418496 [Z3]\n",
      "(-0.0988639693354571+0j)*I + (0.17119774903432944+0j)*Z0 + (0.17119774903432947+0j)*Z1 + (-0.22278593040418496+0j)*Z2 + (-0.22278593040418496+0j)*Z3 + (0.16862219158920938+0j)*Z0*Z1 + (0.120544822053018+0j)*Z0*Z2 + (0.165867024105892+0j)*Z0*Z3 + (0.165867024105892+0j)*Z1*Z2 + (0.120544822053018+0j)*Z1*Z3 + (0.17434844185575687+0j)*Z2*Z3 + (-0.045322202052874+0j)*X0*X1*Y2*Y3 + (0.045322202052874+0j)*X0*Y1*Y2*X3 + (0.045322202052874+0j)*Y0*X1*X2*Y3 + (-0.045322202052874+0j)*Y0*Y1*X2*X3\n"
     ]
    }
   ],
   "source": [
    "import openfermionpyscf as ofpyscf\n",
    "from openfermion.ops import QubitOperator\n",
    "from forestopenfermion import pyquilpauli_to_qubitop, qubitop_to_pyquilpauli\n",
    "hamiltonian = ofpyscf.generate_molecular_hamiltonian(\n",
    "    geometry, basis, multiplicity, charge)\n",
    "qubit_operator=jordan_wigner(hamiltonian)\n",
    "hamiltonian1=qubitop_to_pyquilpauli(qubit_operator)\n",
    "print(qubit_operator)\n",
    "print(hamiltonian1)"
   ]
  },
  {
   "cell_type": "code",
   "execution_count": 38,
   "metadata": {},
   "outputs": [],
   "source": [
    "def hydrogen(x,y):\n",
    "    return Program(X(0),X(1),H(0),H(1),H(2),RX(1.57,3),CNOT(0,1),CNOT(1,2),CNOT(2,3),RZ(x,3),CNOT(2,3),CNOT(1,2),CNOT(0,1),H(0),\n",
    "                   H(1),H(2),RX(-1.57,3),\n",
    "                  H(0),H(1),RX(1.57,2),H(3),CNOT(0,1),CNOT(1,2),CNOT(2,3),RZ(x,3),CNOT(2,3),CNOT(1,2),CNOT(0,1),H(0),H(1),RX(-1.57,2)\n",
    "                   ,H(3),H(0),RX(1.57,1),H(2),H(3),CNOT(0,1),CNOT(1,2),CNOT(2,3),RZ(y,3),CNOT(2,3),CNOT(1,2),CNOT(0,1),\n",
    "                   H(0),RX(-1.57,1),H(2),H(3),\n",
    "                  H(0),RX(1.57,1),RX(1.57,2),RX(1.57,3),CNOT(0,1),CNOT(1,2),CNOT(2,3),RZ(x,3),CNOT(2,3),CNOT(1,2),CNOT(0,1),H(0),RX(-1.57,1)\n",
    "                  ,RX(-1.57,2),RX(-1.57,3),\n",
    "                  RX(1.57,0),H(1),H(2),H(3),CNOT(0,1),CNOT(1,2),CNOT(2,3),RZ(y,3),CNOT(2,3),CNOT(1,2),CNOT(0,1),RX(-1.57,0),H(1),H(2),H(3),\n",
    "                  RX(1.57,0),H(1),RX(1.57,2),RX(1.57,3),CNOT(0,1),CNOT(1,2),CNOT(2,3),RZ(x,3),CNOT(2,3),CNOT(1,2),CNOT(0,1),RX(-1.57,0),H(1),RX(-1.57,2),RX(-1.57,3),\n",
    "                  RX(1.57,0),RX(1.57,1),H(2),RX(1.57,3),CNOT(0,1),CNOT(1,2),CNOT(2,3),RZ(y,3),CNOT(2,3),CNOT(1,2),CNOT(0,1),RX(-1.57,0),RX(-1.57,1),H(2),RX(-1.57,3),\n",
    "                  RX(1.57,0),RX(1.57,1),RX(1.57,2),H(3),CNOT(0,1),CNOT(1,2),CNOT(2,3),RZ(y,3),CNOT(2,3),CNOT(1,2),CNOT(0,1),RX(-1.57,0),RX(-1.57,1),RX(-1.57,2),H(3))"
   ]
  },
  {
   "cell_type": "code",
   "execution_count": 39,
   "metadata": {},
   "outputs": [],
   "source": [
    "from grove.pyvqe.vqe import VQE\n",
    "from scipy.optimize import minimize\n",
    "import numpy as np\n",
    "\n",
    "vqe_inst = VQE(minimizer=minimize,minimizer_kwargs={'method': 'nelder-mead'})\n",
    "\n",
    "def coba(x):\n",
    "    return Program(RX(x[0],0),RZ(x[1],1))"
   ]
  },
  {
   "cell_type": "code",
   "execution_count": 40,
   "metadata": {},
   "outputs": [
    {
     "name": "stdout",
     "output_type": "stream",
     "text": [
      "0.713753993687618\n",
      "0.713753993687618\n",
      "-0.1730821701096113\n",
      "-0.17308217010961133\n",
      "[array([[0., 2.],\n",
      "       [0., 2.]]), array([[0., 0.],\n",
      "       [2., 2.]])]\n"
     ]
    }
   ],
   "source": [
    "xx=np.linspace(0,2,2)\n",
    "yy=np.linspace(0,2,2)\n",
    "for x in xx:\n",
    "    for y in yy:\n",
    "        param=[x,y]\n",
    "        hasil=vqe_inst.expectation(coba(param), hamiltonian1, None, qvm) \n",
    "        print(hasil)\n",
    "z=np.meshgrid(xx,yy)\n",
    "print(z)"
   ]
  },
  {
   "cell_type": "code",
   "execution_count": 24,
   "metadata": {},
   "outputs": [
    {
     "ename": "NameError",
     "evalue": "name 'xx' is not defined",
     "output_type": "error",
     "traceback": [
      "\u001b[0;31m---------------------------------------------------------------------------\u001b[0m",
      "\u001b[0;31mNameError\u001b[0m                                 Traceback (most recent call last)",
      "\u001b[0;32m<ipython-input-24-8fbd336abd83>\u001b[0m in \u001b[0;36m<module>\u001b[0;34m\u001b[0m\n\u001b[0;32m----> 1\u001b[0;31m \u001b[0mhasil2\u001b[0m\u001b[0;34m=\u001b[0m\u001b[0;34m[\u001b[0m\u001b[0mvqe_inst\u001b[0m\u001b[0;34m.\u001b[0m\u001b[0mexpectation\u001b[0m\u001b[0;34m(\u001b[0m\u001b[0mcoba\u001b[0m\u001b[0;34m(\u001b[0m\u001b[0;34m[\u001b[0m\u001b[0mx\u001b[0m\u001b[0;34m,\u001b[0m\u001b[0my\u001b[0m\u001b[0;34m]\u001b[0m\u001b[0;34m)\u001b[0m\u001b[0;34m,\u001b[0m\u001b[0mhamiltonian1\u001b[0m\u001b[0;34m,\u001b[0m \u001b[0;32mNone\u001b[0m \u001b[0;34m,\u001b[0m\u001b[0mqvm\u001b[0m\u001b[0;34m)\u001b[0m \u001b[0;32mfor\u001b[0m \u001b[0mx\u001b[0m\u001b[0;34m,\u001b[0m\u001b[0my\u001b[0m \u001b[0;32min\u001b[0m \u001b[0mzip\u001b[0m\u001b[0;34m(\u001b[0m\u001b[0mxx\u001b[0m\u001b[0;34m,\u001b[0m\u001b[0myy\u001b[0m\u001b[0;34m)\u001b[0m\u001b[0;34m]\u001b[0m\u001b[0;34m\u001b[0m\u001b[0;34m\u001b[0m\u001b[0m\n\u001b[0m\u001b[1;32m      2\u001b[0m \u001b[0mprint\u001b[0m\u001b[0;34m(\u001b[0m\u001b[0mhasil2\u001b[0m\u001b[0;34m)\u001b[0m\u001b[0;34m\u001b[0m\u001b[0;34m\u001b[0m\u001b[0m\n",
      "\u001b[0;31mNameError\u001b[0m: name 'xx' is not defined"
     ]
    }
   ],
   "source": [
    "hasil2=[vqe_inst.expectation(coba([x,y]),hamiltonian1, None ,qvm) for x,y in zip(xx,yy)]\n",
    "print(hasil2)"
   ]
  },
  {
   "cell_type": "code",
   "execution_count": 55,
   "metadata": {},
   "outputs": [
    {
     "name": "stdout",
     "output_type": "stream",
     "text": [
      "[-1.1233037075331829, -1.1230583495272672, -1.1228108741477087, -1.1225612820541664, -1.1223095739119353, -1.1220557503919564, -1.121799812170811, -1.1215417599307143, -1.1212815943595154, -1.1210193161507023, -1.1207549260033858, -1.1204884246223206, -1.1202198127178749, -1.1199490910060528, -1.1196762602084747, -1.11940132105239, -1.1191242742706626, -1.1188451206017804, -1.1185638607898458, -1.1182804955845707, -1.1179950257412854, -1.1177074520209274, -1.1174177751900463, -1.11712599602079, -1.1168321152909202, -1.1165361337837936, -1.1162380522883708, -1.11593787159921, -1.1156355925164605, -1.1153312158458728, -1.1150247423987838, -1.114716172992122, -1.1144055084484, -1.1140927495957207, -1.1137778972677654, -1.1134609523037946, -1.1131419155486557, -1.1128207878527614, -1.1124975700721065, -1.1121722630682516, -1.1118448677083306, -1.1115153848650408, -1.1111838154166471, -1.1108501602469776, -1.1105144202454138, -1.1101765963069032, -1.109836689331942, -1.1094947002265818, -1.109150629902425, -1.1088044792766243]\n"
     ]
    }
   ],
   "source": [
    "a = np.linspace(-0.04, 0.04)\n",
    "b = np.linspace(-0.03, 0.03)\n",
    "\n",
    "\n",
    "\n",
    "#hasil1=[vqe_inst.expectation(small_ansatz1(x,y), hamiltonian1, 1000, qvm) for x in range a]\n",
    "#print(hasil1)\n",
    "data = [vqe_inst.expectation(small_ansatz1(x,y), hamiltonian1, None, qvm)for x, y in zip(a, b)]\n",
    "#data2=vqe_inst.expectation(small_ansatz1(ag,bg), hamiltonian1, None, qvm)\n",
    "print(data)"
   ]
  },
  {
   "cell_type": "code",
   "execution_count": 57,
   "metadata": {},
   "outputs": [
    {
     "ename": "AssertionError",
     "evalue": "Invalid parameter: array([-0.04      , -0.03919192, -0.03838384, -0.03757576, -0.03676768,\n       -0.0359596 , -0.03515152, -0.03434343, -0.03353535, -0.03272727,\n       -0.03191919, -0.03111111, -0.03030303, -0.02949495, -0.02868687,\n       -0.02787879, -0.02707071, -0.02626263, -0.02545455, -0.02464646,\n       -0.02383838, -0.0230303 , -0.02222222, -0.02141414, -0.02060606,\n       -0.01979798, -0.0189899 , -0.01818182, -0.01737374, -0.01656566,\n       -0.01575758, -0.01494949, -0.01414141, -0.01333333, -0.01252525,\n       -0.01171717, -0.01090909, -0.01010101, -0.00929293, -0.00848485,\n       -0.00767677, -0.00686869, -0.00606061, -0.00525253, -0.00444444,\n       -0.00363636, -0.00282828, -0.0020202 , -0.00121212, -0.00040404,\n        0.00040404,  0.00121212,  0.0020202 ,  0.00282828,  0.00363636,\n        0.00444444,  0.00525253,  0.00606061,  0.00686869,  0.00767677,\n        0.00848485,  0.00929293,  0.01010101,  0.01090909,  0.01171717,\n        0.01252525,  0.01333333,  0.01414141,  0.01494949,  0.01575758,\n        0.01656566,  0.01737374,  0.01818182,  0.0189899 ,  0.01979798,\n        0.02060606,  0.02141414,  0.02222222,  0.0230303 ,  0.02383838,\n        0.02464646,  0.02545455,  0.02626263,  0.02707071,  0.02787879,\n        0.02868687,  0.02949495,  0.03030303,  0.03111111,  0.03191919,\n        0.03272727,  0.03353535,  0.03434343,  0.03515152,  0.0359596 ,\n        0.03676768,  0.03757576,  0.03838384,  0.03919192,  0.04      ])",
     "output_type": "error",
     "traceback": [
      "\u001b[0;31m---------------------------------------------------------------------------\u001b[0m",
      "\u001b[0;31mAssertionError\u001b[0m                            Traceback (most recent call last)",
      "\u001b[0;32m<ipython-input-57-486248372022>\u001b[0m in \u001b[0;36m<module>\u001b[0;34m\u001b[0m\n\u001b[1;32m      4\u001b[0m \u001b[0mA\u001b[0m\u001b[0;34m,\u001b[0m\u001b[0mB\u001b[0m \u001b[0;34m=\u001b[0m \u001b[0mnp\u001b[0m\u001b[0;34m.\u001b[0m\u001b[0mmeshgrid\u001b[0m\u001b[0;34m(\u001b[0m\u001b[0ma\u001b[0m\u001b[0;34m,\u001b[0m\u001b[0mb\u001b[0m\u001b[0;34m)\u001b[0m\u001b[0;34m\u001b[0m\u001b[0;34m\u001b[0m\u001b[0m\n\u001b[1;32m      5\u001b[0m \u001b[0;34m\u001b[0m\u001b[0m\n\u001b[0;32m----> 6\u001b[0;31m \u001b[0mdata\u001b[0m \u001b[0;34m=\u001b[0m \u001b[0;34m[\u001b[0m\u001b[0mvqe_inst\u001b[0m\u001b[0;34m.\u001b[0m\u001b[0mexpectation\u001b[0m\u001b[0;34m(\u001b[0m\u001b[0msmall_ansatz1\u001b[0m\u001b[0;34m(\u001b[0m\u001b[0mx\u001b[0m\u001b[0;34m,\u001b[0m\u001b[0my\u001b[0m\u001b[0;34m)\u001b[0m\u001b[0;34m,\u001b[0m \u001b[0mhamiltonian1\u001b[0m\u001b[0;34m,\u001b[0m \u001b[0;32mNone\u001b[0m\u001b[0;34m,\u001b[0m \u001b[0mqvm\u001b[0m\u001b[0;34m)\u001b[0m \u001b[0;32mfor\u001b[0m \u001b[0mx\u001b[0m\u001b[0;34m,\u001b[0m \u001b[0my\u001b[0m\u001b[0;34m,\u001b[0m \u001b[0;32min\u001b[0m \u001b[0mzip\u001b[0m\u001b[0;34m(\u001b[0m\u001b[0mA\u001b[0m\u001b[0;34m,\u001b[0m\u001b[0mB\u001b[0m\u001b[0;34m)\u001b[0m\u001b[0;34m]\u001b[0m\u001b[0;34m\u001b[0m\u001b[0;34m\u001b[0m\u001b[0m\n\u001b[0m\u001b[1;32m      7\u001b[0m \u001b[0;34m\u001b[0m\u001b[0m\n\u001b[1;32m      8\u001b[0m \u001b[0mplt\u001b[0m\u001b[0;34m.\u001b[0m\u001b[0mimshow\u001b[0m\u001b[0;34m(\u001b[0m\u001b[0mdata\u001b[0m\u001b[0;34m,\u001b[0m \u001b[0mextent\u001b[0m\u001b[0;34m=\u001b[0m\u001b[0;34m[\u001b[0m\u001b[0;36m0\u001b[0m\u001b[0;34m,\u001b[0m\u001b[0;36m6\u001b[0m\u001b[0;34m,\u001b[0m\u001b[0;36m0\u001b[0m\u001b[0;34m,\u001b[0m\u001b[0;36m6\u001b[0m\u001b[0;34m]\u001b[0m\u001b[0;34m,\u001b[0m \u001b[0morigin\u001b[0m\u001b[0;34m=\u001b[0m\u001b[0;34m'lower'\u001b[0m\u001b[0;34m,\u001b[0m\u001b[0mcmap\u001b[0m\u001b[0;34m=\u001b[0m\u001b[0;34m'RdGy'\u001b[0m\u001b[0;34m)\u001b[0m\u001b[0;34m\u001b[0m\u001b[0;34m\u001b[0m\u001b[0m\n",
      "\u001b[0;32m<ipython-input-57-486248372022>\u001b[0m in \u001b[0;36m<listcomp>\u001b[0;34m(.0)\u001b[0m\n\u001b[1;32m      4\u001b[0m \u001b[0mA\u001b[0m\u001b[0;34m,\u001b[0m\u001b[0mB\u001b[0m \u001b[0;34m=\u001b[0m \u001b[0mnp\u001b[0m\u001b[0;34m.\u001b[0m\u001b[0mmeshgrid\u001b[0m\u001b[0;34m(\u001b[0m\u001b[0ma\u001b[0m\u001b[0;34m,\u001b[0m\u001b[0mb\u001b[0m\u001b[0;34m)\u001b[0m\u001b[0;34m\u001b[0m\u001b[0;34m\u001b[0m\u001b[0m\n\u001b[1;32m      5\u001b[0m \u001b[0;34m\u001b[0m\u001b[0m\n\u001b[0;32m----> 6\u001b[0;31m \u001b[0mdata\u001b[0m \u001b[0;34m=\u001b[0m \u001b[0;34m[\u001b[0m\u001b[0mvqe_inst\u001b[0m\u001b[0;34m.\u001b[0m\u001b[0mexpectation\u001b[0m\u001b[0;34m(\u001b[0m\u001b[0msmall_ansatz1\u001b[0m\u001b[0;34m(\u001b[0m\u001b[0mx\u001b[0m\u001b[0;34m,\u001b[0m\u001b[0my\u001b[0m\u001b[0;34m)\u001b[0m\u001b[0;34m,\u001b[0m \u001b[0mhamiltonian1\u001b[0m\u001b[0;34m,\u001b[0m \u001b[0;32mNone\u001b[0m\u001b[0;34m,\u001b[0m \u001b[0mqvm\u001b[0m\u001b[0;34m)\u001b[0m \u001b[0;32mfor\u001b[0m \u001b[0mx\u001b[0m\u001b[0;34m,\u001b[0m \u001b[0my\u001b[0m\u001b[0;34m,\u001b[0m \u001b[0;32min\u001b[0m \u001b[0mzip\u001b[0m\u001b[0;34m(\u001b[0m\u001b[0mA\u001b[0m\u001b[0;34m,\u001b[0m\u001b[0mB\u001b[0m\u001b[0;34m)\u001b[0m\u001b[0;34m]\u001b[0m\u001b[0;34m\u001b[0m\u001b[0;34m\u001b[0m\u001b[0m\n\u001b[0m\u001b[1;32m      7\u001b[0m \u001b[0;34m\u001b[0m\u001b[0m\n\u001b[1;32m      8\u001b[0m \u001b[0mplt\u001b[0m\u001b[0;34m.\u001b[0m\u001b[0mimshow\u001b[0m\u001b[0;34m(\u001b[0m\u001b[0mdata\u001b[0m\u001b[0;34m,\u001b[0m \u001b[0mextent\u001b[0m\u001b[0;34m=\u001b[0m\u001b[0;34m[\u001b[0m\u001b[0;36m0\u001b[0m\u001b[0;34m,\u001b[0m\u001b[0;36m6\u001b[0m\u001b[0;34m,\u001b[0m\u001b[0;36m0\u001b[0m\u001b[0;34m,\u001b[0m\u001b[0;36m6\u001b[0m\u001b[0;34m]\u001b[0m\u001b[0;34m,\u001b[0m \u001b[0morigin\u001b[0m\u001b[0;34m=\u001b[0m\u001b[0;34m'lower'\u001b[0m\u001b[0;34m,\u001b[0m\u001b[0mcmap\u001b[0m\u001b[0;34m=\u001b[0m\u001b[0;34m'RdGy'\u001b[0m\u001b[0;34m)\u001b[0m\u001b[0;34m\u001b[0m\u001b[0;34m\u001b[0m\u001b[0m\n",
      "\u001b[0;32m~/yes/envs/quantumlib/lib/python3.6/site-packages/grove/pyvqe/vqe.py\u001b[0m in \u001b[0;36mexpectation\u001b[0;34m(pyquil_prog, pauli_sum, samples, qvm)\u001b[0m\n\u001b[1;32m    235\u001b[0m \u001b[0;34m\u001b[0m\u001b[0m\n\u001b[1;32m    236\u001b[0m                 result_overlaps = qvm.expectation(pyquil_prog,\n\u001b[0;32m--> 237\u001b[0;31m                                                   operator_programs=operator_progs)\n\u001b[0m\u001b[1;32m    238\u001b[0m                 \u001b[0mresult_overlaps\u001b[0m \u001b[0;34m=\u001b[0m \u001b[0mlist\u001b[0m\u001b[0;34m(\u001b[0m\u001b[0mresult_overlaps\u001b[0m\u001b[0;34m)\u001b[0m\u001b[0;34m\u001b[0m\u001b[0;34m\u001b[0m\u001b[0m\n\u001b[1;32m    239\u001b[0m                 assert len(result_overlaps) == len(operator_progs), \"\"\"Somehow we\n",
      "\u001b[0;32m~/yes/envs/quantumlib/lib/python3.6/site-packages/pyquil/api/_error_reporting.py\u001b[0m in \u001b[0;36mwrapper\u001b[0;34m(*args, **kwargs)\u001b[0m\n\u001b[1;32m    236\u001b[0m             \u001b[0mglobal_error_context\u001b[0m\u001b[0;34m.\u001b[0m\u001b[0mlog\u001b[0m\u001b[0;34m[\u001b[0m\u001b[0mkey\u001b[0m\u001b[0;34m]\u001b[0m \u001b[0;34m=\u001b[0m \u001b[0mpre_entry\u001b[0m\u001b[0;34m\u001b[0m\u001b[0;34m\u001b[0m\u001b[0m\n\u001b[1;32m    237\u001b[0m \u001b[0;34m\u001b[0m\u001b[0m\n\u001b[0;32m--> 238\u001b[0;31m         \u001b[0mval\u001b[0m \u001b[0;34m=\u001b[0m \u001b[0mfunc\u001b[0m\u001b[0;34m(\u001b[0m\u001b[0;34m*\u001b[0m\u001b[0margs\u001b[0m\u001b[0;34m,\u001b[0m \u001b[0;34m**\u001b[0m\u001b[0mkwargs\u001b[0m\u001b[0;34m)\u001b[0m\u001b[0;34m\u001b[0m\u001b[0;34m\u001b[0m\u001b[0m\n\u001b[0m\u001b[1;32m    239\u001b[0m \u001b[0;34m\u001b[0m\u001b[0m\n\u001b[1;32m    240\u001b[0m         \u001b[0;31m# poke the return value of that call in\u001b[0m\u001b[0;34m\u001b[0m\u001b[0;34m\u001b[0m\u001b[0;34m\u001b[0m\u001b[0m\n",
      "\u001b[0;32m~/yes/envs/quantumlib/lib/python3.6/site-packages/pyquil/api/_qvm.py\u001b[0m in \u001b[0;36mexpectation\u001b[0;34m(self, prep_prog, operator_programs)\u001b[0m\n\u001b[1;32m    309\u001b[0m                 \"will be line-wise expectation values of the operator_programs.\", SyntaxWarning)\n\u001b[1;32m    310\u001b[0m \u001b[0;34m\u001b[0m\u001b[0m\n\u001b[0;32m--> 311\u001b[0;31m         \u001b[0mpayload\u001b[0m \u001b[0;34m=\u001b[0m \u001b[0mself\u001b[0m\u001b[0;34m.\u001b[0m\u001b[0m_expectation_payload\u001b[0m\u001b[0;34m(\u001b[0m\u001b[0mprep_prog\u001b[0m\u001b[0;34m,\u001b[0m \u001b[0moperator_programs\u001b[0m\u001b[0;34m)\u001b[0m\u001b[0;34m\u001b[0m\u001b[0;34m\u001b[0m\u001b[0m\n\u001b[0m\u001b[1;32m    312\u001b[0m         \u001b[0mresponse\u001b[0m \u001b[0;34m=\u001b[0m \u001b[0mpost_json\u001b[0m\u001b[0;34m(\u001b[0m\u001b[0mself\u001b[0m\u001b[0;34m.\u001b[0m\u001b[0msession\u001b[0m\u001b[0;34m,\u001b[0m \u001b[0mself\u001b[0m\u001b[0;34m.\u001b[0m\u001b[0msync_endpoint\u001b[0m \u001b[0;34m+\u001b[0m \u001b[0;34m\"/qvm\"\u001b[0m\u001b[0;34m,\u001b[0m \u001b[0mpayload\u001b[0m\u001b[0;34m)\u001b[0m\u001b[0;34m\u001b[0m\u001b[0;34m\u001b[0m\u001b[0m\n\u001b[1;32m    313\u001b[0m         \u001b[0;32mreturn\u001b[0m \u001b[0mresponse\u001b[0m\u001b[0;34m.\u001b[0m\u001b[0mjson\u001b[0m\u001b[0;34m(\u001b[0m\u001b[0;34m)\u001b[0m\u001b[0;34m\u001b[0m\u001b[0;34m\u001b[0m\u001b[0m\n",
      "\u001b[0;32m~/yes/envs/quantumlib/lib/python3.6/site-packages/pyquil/api/_qvm.py\u001b[0m in \u001b[0;36m_expectation_payload\u001b[0;34m(self, prep_prog, operator_programs)\u001b[0m\n\u001b[1;32m    357\u001b[0m \u001b[0;34m\u001b[0m\u001b[0m\n\u001b[1;32m    358\u001b[0m         payload = {'type': TYPE_EXPECTATION,\n\u001b[0;32m--> 359\u001b[0;31m                    \u001b[0;34m'state-preparation'\u001b[0m\u001b[0;34m:\u001b[0m \u001b[0mprep_prog\u001b[0m\u001b[0;34m.\u001b[0m\u001b[0mout\u001b[0m\u001b[0;34m(\u001b[0m\u001b[0;34m)\u001b[0m\u001b[0;34m,\u001b[0m\u001b[0;34m\u001b[0m\u001b[0;34m\u001b[0m\u001b[0m\n\u001b[0m\u001b[1;32m    360\u001b[0m                    'operators': [x.out() for x in operator_programs]}\n\u001b[1;32m    361\u001b[0m \u001b[0;34m\u001b[0m\u001b[0m\n",
      "\u001b[0;32m~/yes/envs/quantumlib/lib/python3.6/site-packages/pyquil/quil.py\u001b[0m in \u001b[0;36mout\u001b[0;34m(self)\u001b[0m\n\u001b[1;32m    489\u001b[0m             \u001b[0;34m(\u001b[0m\u001b[0mdg\u001b[0m\u001b[0;34m.\u001b[0m\u001b[0mout\u001b[0m\u001b[0;34m(\u001b[0m\u001b[0;34m)\u001b[0m \u001b[0;32mfor\u001b[0m \u001b[0mdg\u001b[0m \u001b[0;32min\u001b[0m \u001b[0mself\u001b[0m\u001b[0;34m.\u001b[0m\u001b[0m_defined_gates\u001b[0m\u001b[0;34m)\u001b[0m\u001b[0;34m,\u001b[0m\u001b[0;34m\u001b[0m\u001b[0;34m\u001b[0m\u001b[0m\n\u001b[1;32m    490\u001b[0m             \u001b[0;34m(\u001b[0m\u001b[0minstr\u001b[0m\u001b[0;34m.\u001b[0m\u001b[0mout\u001b[0m\u001b[0;34m(\u001b[0m\u001b[0;34m)\u001b[0m \u001b[0;32mfor\u001b[0m \u001b[0minstr\u001b[0m \u001b[0;32min\u001b[0m \u001b[0mself\u001b[0m\u001b[0;34m.\u001b[0m\u001b[0minstructions\u001b[0m\u001b[0;34m)\u001b[0m\u001b[0;34m,\u001b[0m\u001b[0;34m\u001b[0m\u001b[0;34m\u001b[0m\u001b[0m\n\u001b[0;32m--> 491\u001b[0;31m             \u001b[0;34m[\u001b[0m\u001b[0;34m''\u001b[0m\u001b[0;34m]\u001b[0m\u001b[0;34m,\u001b[0m\u001b[0;34m\u001b[0m\u001b[0;34m\u001b[0m\u001b[0m\n\u001b[0m\u001b[1;32m    492\u001b[0m         ))\n\u001b[1;32m    493\u001b[0m \u001b[0;34m\u001b[0m\u001b[0m\n",
      "\u001b[0;32m~/yes/envs/quantumlib/lib/python3.6/site-packages/pyquil/quil.py\u001b[0m in \u001b[0;36m<genexpr>\u001b[0;34m(.0)\u001b[0m\n\u001b[1;32m    488\u001b[0m         return '\\n'.join(itertools.chain(\n\u001b[1;32m    489\u001b[0m             \u001b[0;34m(\u001b[0m\u001b[0mdg\u001b[0m\u001b[0;34m.\u001b[0m\u001b[0mout\u001b[0m\u001b[0;34m(\u001b[0m\u001b[0;34m)\u001b[0m \u001b[0;32mfor\u001b[0m \u001b[0mdg\u001b[0m \u001b[0;32min\u001b[0m \u001b[0mself\u001b[0m\u001b[0;34m.\u001b[0m\u001b[0m_defined_gates\u001b[0m\u001b[0;34m)\u001b[0m\u001b[0;34m,\u001b[0m\u001b[0;34m\u001b[0m\u001b[0;34m\u001b[0m\u001b[0m\n\u001b[0;32m--> 490\u001b[0;31m             \u001b[0;34m(\u001b[0m\u001b[0minstr\u001b[0m\u001b[0;34m.\u001b[0m\u001b[0mout\u001b[0m\u001b[0;34m(\u001b[0m\u001b[0;34m)\u001b[0m \u001b[0;32mfor\u001b[0m \u001b[0minstr\u001b[0m \u001b[0;32min\u001b[0m \u001b[0mself\u001b[0m\u001b[0;34m.\u001b[0m\u001b[0minstructions\u001b[0m\u001b[0;34m)\u001b[0m\u001b[0;34m,\u001b[0m\u001b[0;34m\u001b[0m\u001b[0;34m\u001b[0m\u001b[0m\n\u001b[0m\u001b[1;32m    491\u001b[0m             \u001b[0;34m[\u001b[0m\u001b[0;34m''\u001b[0m\u001b[0;34m]\u001b[0m\u001b[0;34m,\u001b[0m\u001b[0;34m\u001b[0m\u001b[0;34m\u001b[0m\u001b[0m\n\u001b[1;32m    492\u001b[0m         ))\n",
      "\u001b[0;32m~/yes/envs/quantumlib/lib/python3.6/site-packages/pyquil/quilbase.py\u001b[0m in \u001b[0;36mout\u001b[0;34m(self)\u001b[0m\n\u001b[1;32m    118\u001b[0m             return \"{}{}{} {}\".format(\n\u001b[1;32m    119\u001b[0m                 \u001b[0;34m' '\u001b[0m\u001b[0;34m.\u001b[0m\u001b[0mjoin\u001b[0m\u001b[0;34m(\u001b[0m\u001b[0mself\u001b[0m\u001b[0;34m.\u001b[0m\u001b[0mmodifiers\u001b[0m\u001b[0;34m)\u001b[0m \u001b[0;34m+\u001b[0m \u001b[0;34m' '\u001b[0m \u001b[0;32mif\u001b[0m \u001b[0mself\u001b[0m\u001b[0;34m.\u001b[0m\u001b[0mmodifiers\u001b[0m \u001b[0;32melse\u001b[0m \u001b[0;34m''\u001b[0m\u001b[0;34m,\u001b[0m\u001b[0;34m\u001b[0m\u001b[0;34m\u001b[0m\u001b[0m\n\u001b[0;32m--> 120\u001b[0;31m                 \u001b[0mself\u001b[0m\u001b[0;34m.\u001b[0m\u001b[0mname\u001b[0m\u001b[0;34m,\u001b[0m \u001b[0m_format_params\u001b[0m\u001b[0;34m(\u001b[0m\u001b[0mself\u001b[0m\u001b[0;34m.\u001b[0m\u001b[0mparams\u001b[0m\u001b[0;34m)\u001b[0m\u001b[0;34m,\u001b[0m\u001b[0;34m\u001b[0m\u001b[0;34m\u001b[0m\u001b[0m\n\u001b[0m\u001b[1;32m    121\u001b[0m                 _format_qubits_out(self.qubits))\n\u001b[1;32m    122\u001b[0m         \u001b[0;32melse\u001b[0m\u001b[0;34m:\u001b[0m\u001b[0;34m\u001b[0m\u001b[0;34m\u001b[0m\u001b[0m\n",
      "\u001b[0;32m~/yes/envs/quantumlib/lib/python3.6/site-packages/pyquil/quilbase.py\u001b[0m in \u001b[0;36m_format_params\u001b[0;34m(params)\u001b[0m\n\u001b[1;32m     82\u001b[0m \u001b[0;34m\u001b[0m\u001b[0m\n\u001b[1;32m     83\u001b[0m \u001b[0;32mdef\u001b[0m \u001b[0m_format_params\u001b[0m\u001b[0;34m(\u001b[0m\u001b[0mparams\u001b[0m\u001b[0;34m)\u001b[0m\u001b[0;34m:\u001b[0m\u001b[0;34m\u001b[0m\u001b[0;34m\u001b[0m\u001b[0m\n\u001b[0;32m---> 84\u001b[0;31m     \u001b[0;32mreturn\u001b[0m \u001b[0;34m\"(\"\u001b[0m \u001b[0;34m+\u001b[0m \u001b[0;34m\",\"\u001b[0m\u001b[0;34m.\u001b[0m\u001b[0mjoin\u001b[0m\u001b[0;34m(\u001b[0m\u001b[0mformat_parameter\u001b[0m\u001b[0;34m(\u001b[0m\u001b[0mparam\u001b[0m\u001b[0;34m)\u001b[0m \u001b[0;32mfor\u001b[0m \u001b[0mparam\u001b[0m \u001b[0;32min\u001b[0m \u001b[0mparams\u001b[0m\u001b[0;34m)\u001b[0m \u001b[0;34m+\u001b[0m \u001b[0;34m\")\"\u001b[0m\u001b[0;34m\u001b[0m\u001b[0;34m\u001b[0m\u001b[0m\n\u001b[0m\u001b[1;32m     85\u001b[0m \u001b[0;34m\u001b[0m\u001b[0m\n\u001b[1;32m     86\u001b[0m \u001b[0;34m\u001b[0m\u001b[0m\n",
      "\u001b[0;32m~/yes/envs/quantumlib/lib/python3.6/site-packages/pyquil/quilbase.py\u001b[0m in \u001b[0;36m<genexpr>\u001b[0;34m(.0)\u001b[0m\n\u001b[1;32m     82\u001b[0m \u001b[0;34m\u001b[0m\u001b[0m\n\u001b[1;32m     83\u001b[0m \u001b[0;32mdef\u001b[0m \u001b[0m_format_params\u001b[0m\u001b[0;34m(\u001b[0m\u001b[0mparams\u001b[0m\u001b[0;34m)\u001b[0m\u001b[0;34m:\u001b[0m\u001b[0;34m\u001b[0m\u001b[0;34m\u001b[0m\u001b[0m\n\u001b[0;32m---> 84\u001b[0;31m     \u001b[0;32mreturn\u001b[0m \u001b[0;34m\"(\"\u001b[0m \u001b[0;34m+\u001b[0m \u001b[0;34m\",\"\u001b[0m\u001b[0;34m.\u001b[0m\u001b[0mjoin\u001b[0m\u001b[0;34m(\u001b[0m\u001b[0mformat_parameter\u001b[0m\u001b[0;34m(\u001b[0m\u001b[0mparam\u001b[0m\u001b[0;34m)\u001b[0m \u001b[0;32mfor\u001b[0m \u001b[0mparam\u001b[0m \u001b[0;32min\u001b[0m \u001b[0mparams\u001b[0m\u001b[0;34m)\u001b[0m \u001b[0;34m+\u001b[0m \u001b[0;34m\")\"\u001b[0m\u001b[0;34m\u001b[0m\u001b[0;34m\u001b[0m\u001b[0m\n\u001b[0m\u001b[1;32m     85\u001b[0m \u001b[0;34m\u001b[0m\u001b[0m\n\u001b[1;32m     86\u001b[0m \u001b[0;34m\u001b[0m\u001b[0m\n",
      "\u001b[0;32m~/yes/envs/quantumlib/lib/python3.6/site-packages/pyquil/quilatom.py\u001b[0m in \u001b[0;36mformat_parameter\u001b[0;34m(element)\u001b[0m\n\u001b[1;32m    234\u001b[0m     \u001b[0;32melif\u001b[0m \u001b[0misinstance\u001b[0m\u001b[0;34m(\u001b[0m\u001b[0melement\u001b[0m\u001b[0;34m,\u001b[0m \u001b[0mMemoryReference\u001b[0m\u001b[0;34m)\u001b[0m\u001b[0;34m:\u001b[0m\u001b[0;34m\u001b[0m\u001b[0;34m\u001b[0m\u001b[0m\n\u001b[1;32m    235\u001b[0m         \u001b[0;32mreturn\u001b[0m \u001b[0melement\u001b[0m\u001b[0;34m.\u001b[0m\u001b[0mout\u001b[0m\u001b[0;34m(\u001b[0m\u001b[0;34m)\u001b[0m\u001b[0;34m\u001b[0m\u001b[0;34m\u001b[0m\u001b[0m\n\u001b[0;32m--> 236\u001b[0;31m     \u001b[0;32massert\u001b[0m \u001b[0;32mFalse\u001b[0m\u001b[0;34m,\u001b[0m \u001b[0;34m\"Invalid parameter: %r\"\u001b[0m \u001b[0;34m%\u001b[0m \u001b[0melement\u001b[0m\u001b[0;34m\u001b[0m\u001b[0;34m\u001b[0m\u001b[0m\n\u001b[0m\u001b[1;32m    237\u001b[0m \u001b[0;34m\u001b[0m\u001b[0m\n\u001b[1;32m    238\u001b[0m \u001b[0;34m\u001b[0m\u001b[0m\n",
      "\u001b[0;31mAssertionError\u001b[0m: Invalid parameter: array([-0.04      , -0.03919192, -0.03838384, -0.03757576, -0.03676768,\n       -0.0359596 , -0.03515152, -0.03434343, -0.03353535, -0.03272727,\n       -0.03191919, -0.03111111, -0.03030303, -0.02949495, -0.02868687,\n       -0.02787879, -0.02707071, -0.02626263, -0.02545455, -0.02464646,\n       -0.02383838, -0.0230303 , -0.02222222, -0.02141414, -0.02060606,\n       -0.01979798, -0.0189899 , -0.01818182, -0.01737374, -0.01656566,\n       -0.01575758, -0.01494949, -0.01414141, -0.01333333, -0.01252525,\n       -0.01171717, -0.01090909, -0.01010101, -0.00929293, -0.00848485,\n       -0.00767677, -0.00686869, -0.00606061, -0.00525253, -0.00444444,\n       -0.00363636, -0.00282828, -0.0020202 , -0.00121212, -0.00040404,\n        0.00040404,  0.00121212,  0.0020202 ,  0.00282828,  0.00363636,\n        0.00444444,  0.00525253,  0.00606061,  0.00686869,  0.00767677,\n        0.00848485,  0.00929293,  0.01010101,  0.01090909,  0.01171717,\n        0.01252525,  0.01333333,  0.01414141,  0.01494949,  0.01575758,\n        0.01656566,  0.01737374,  0.01818182,  0.0189899 ,  0.01979798,\n        0.02060606,  0.02141414,  0.02222222,  0.0230303 ,  0.02383838,\n        0.02464646,  0.02545455,  0.02626263,  0.02707071,  0.02787879,\n        0.02868687,  0.02949495,  0.03030303,  0.03111111,  0.03191919,\n        0.03272727,  0.03353535,  0.03434343,  0.03515152,  0.0359596 ,\n        0.03676768,  0.03757576,  0.03838384,  0.03919192,  0.04      ])"
     ]
    }
   ],
   "source": [
    "a = np.linspace(-0.04, 0.04, 100)\n",
    "b = np.linspace(-0.03, 0.03, 100)\n",
    "\n",
    "A,B = np.meshgrid(a,b)\n",
    "\n",
    "data = [vqe_inst.expectation(small_ansatz1(x,y), hamiltonian1, None, qvm) for x, y, in zip(A,B)]\n",
    "\n",
    "plt.imshow(data, extent=[0,6,0,6], origin='lower',cmap='RdGy')\n",
    "\n",
    "plt.colorbar()\n",
    "\n",
    "plt.axis(aspect='image')\n",
    "\n",
    "plt.show()"
   ]
  },
  {
   "cell_type": "code",
   "execution_count": 56,
   "metadata": {},
   "outputs": [],
   "source": [
    "print(data,file=open(\"output.txt\",\"a\"))"
   ]
  },
  {
   "cell_type": "code",
   "execution_count": 156,
   "metadata": {},
   "outputs": [
    {
     "ename": "ValueError",
     "evalue": "cannot reshape array of size 100 into shape (50,50)",
     "output_type": "error",
     "traceback": [
      "\u001b[0;31m---------------------------------------------------------------------------\u001b[0m",
      "\u001b[0;31mValueError\u001b[0m                                Traceback (most recent call last)",
      "\u001b[0;32m<ipython-input-156-487453e7cff0>\u001b[0m in \u001b[0;36m<module>\u001b[0;34m\u001b[0m\n\u001b[1;32m      3\u001b[0m \u001b[0;34m\u001b[0m\u001b[0m\n\u001b[1;32m      4\u001b[0m \u001b[0mz1\u001b[0m\u001b[0;34m=\u001b[0m\u001b[0mz\u001b[0m\u001b[0;34m[\u001b[0m\u001b[0;34m:\u001b[0m\u001b[0;34m:\u001b[0m\u001b[0;34m-\u001b[0m\u001b[0;36m1\u001b[0m\u001b[0;34m]\u001b[0m\u001b[0;34m\u001b[0m\u001b[0;34m\u001b[0m\u001b[0m\n\u001b[0;32m----> 5\u001b[0;31m \u001b[0mdata_new\u001b[0m\u001b[0;34m=\u001b[0m\u001b[0mnp\u001b[0m\u001b[0;34m.\u001b[0m\u001b[0marray\u001b[0m\u001b[0;34m(\u001b[0m\u001b[0;34m[\u001b[0m\u001b[0mz\u001b[0m\u001b[0;34m,\u001b[0m\u001b[0mz1\u001b[0m\u001b[0;34m]\u001b[0m\u001b[0;34m)\u001b[0m\u001b[0;34m.\u001b[0m\u001b[0mreshape\u001b[0m\u001b[0;34m(\u001b[0m\u001b[0;36m50\u001b[0m\u001b[0;34m,\u001b[0m\u001b[0;36m50\u001b[0m\u001b[0;34m)\u001b[0m\u001b[0;34m\u001b[0m\u001b[0;34m\u001b[0m\u001b[0m\n\u001b[0m\u001b[1;32m      6\u001b[0m \u001b[0mprint\u001b[0m\u001b[0;34m(\u001b[0m\u001b[0mdata_new\u001b[0m\u001b[0;34m.\u001b[0m\u001b[0mshape\u001b[0m\u001b[0;34m)\u001b[0m\u001b[0;34m\u001b[0m\u001b[0;34m\u001b[0m\u001b[0m\n",
      "\u001b[0;31mValueError\u001b[0m: cannot reshape array of size 100 into shape (50,50)"
     ]
    }
   ],
   "source": [
    "import matplotlib.pyplot as plt\n",
    "from mpl_toolkits.mplot3d import Axes3D\n",
    "\n",
    "z1=z[::-1]\n",
    "data_new=np.array([z,z1])\n",
    "print(data_new.shape)\n"
   ]
  },
  {
   "cell_type": "code",
   "execution_count": null,
   "metadata": {},
   "outputs": [],
   "source": []
  },
  {
   "cell_type": "code",
   "execution_count": 9,
   "metadata": {},
   "outputs": [],
   "source": [
    "from grove.pyvqe.vqe import VQE\n",
    "from scipy.optimize import minimize\n",
    "import numpy as np\n",
    "\n",
    "vqe_inst = VQE(minimizer=minimize,minimizer_kwargs={'method': 'nelder-mead'})"
   ]
  },
  {
   "cell_type": "code",
   "execution_count": null,
   "metadata": {},
   "outputs": [],
   "source": []
  },
  {
   "cell_type": "code",
   "execution_count": null,
   "metadata": {},
   "outputs": [],
   "source": []
  },
  {
   "cell_type": "code",
   "execution_count": 9,
   "metadata": {},
   "outputs": [
    {
     "name": "stdout",
     "output_type": "stream",
     "text": [
      "[-1.1166843781525053, -1.1166843788653704, -1.1166843795487675, -1.116684380202674, -1.1166843808270597, -1.1166843814218863]\n"
     ]
    }
   ],
   "source": [
    "data = [vqe_inst.expectation(small_ansatz(angle), hamiltonian1, None, qvm)\n",
    "        for angle in angle2]\n",
    "print(data)"
   ]
  },
  {
   "cell_type": "code",
   "execution_count": 22,
   "metadata": {},
   "outputs": [
    {
     "name": "stdout",
     "output_type": "stream",
     "text": [
      "(100,)\n"
     ]
    }
   ],
   "source": [
    "angle=[0.0,0.0]\n",
    "u=[np.linspace(0.0, 0.15, 100), np.linspace(0.0, 0.15, 100)]\n",
    "x=np.array([-0.03041743,  0.02613497])\n",
    "z=np.array([0.        , 0.00151515, 0.0030303 , 0.00454545, 0.00606061,\n",
    "       0.00757576, 0.00909091, 0.01060606, 0.01212121, 0.01363636,\n",
    "       0.01515152, 0.01666667, 0.01818182, 0.01969697, 0.02121212,\n",
    "       0.02272727, 0.02424242, 0.02575758, 0.02727273, 0.02878788,\n",
    "       0.03030303, 0.03181818, 0.03333333, 0.03484848, 0.03636364,\n",
    "       0.03787879, 0.03939394, 0.04090909, 0.04242424, 0.04393939,\n",
    "       0.04545455, 0.0469697 , 0.04848485, 0.05      , 0.05151515,\n",
    "       0.0530303 , 0.05454545, 0.05606061, 0.05757576, 0.05909091,\n",
    "       0.06060606, 0.06212121, 0.06363636, 0.06515152, 0.06666667,\n",
    "       0.06818182, 0.06969697, 0.07121212, 0.07272727, 0.07424242,\n",
    "       0.07575758, 0.07727273, 0.07878788, 0.08030303, 0.08181818,\n",
    "       0.08333333, 0.08484848, 0.08636364, 0.08787879, 0.08939394,\n",
    "       0.09090909, 0.09242424, 0.09393939, 0.09545455, 0.0969697 ,\n",
    "       0.09848485, 0.1       , 0.10151515, 0.1030303 , 0.10454545,\n",
    "       0.10606061, 0.10757576, 0.10909091, 0.11060606, 0.11212121,\n",
    "       0.11363636, 0.11515152, 0.11666667, 0.11818182, 0.11969697,\n",
    "       0.12121212, 0.12272727, 0.12424242, 0.12575758, 0.12727273,\n",
    "       0.12878788, 0.13030303, 0.13181818, 0.13333333, 0.13484848,\n",
    "       0.13636364, 0.13787879, 0.13939394, 0.14090909, 0.14242424,\n",
    "       0.14393939, 0.14545455, 0.1469697 , 0.14848485, 0.15      ])\n",
    "print(z.shape)"
   ]
  },
  {
   "cell_type": "code",
   "execution_count": 13,
   "metadata": {},
   "outputs": [],
   "source": [
    "angle=[1.0,0.0]"
   ]
  },
  {
   "cell_type": "code",
   "execution_count": 23,
   "metadata": {},
   "outputs": [
    {
     "name": "stdout",
     "output_type": "stream",
     "text": [
      "WARNING: Fast method for expectation will be used. Noise\n",
      "                     models will be ineffective\n",
      "{'x': array([ 1.51164136, -0.00260224]), 'fun': -1.1372688090345515, 'iteration_params': [], 'expectation_vals': []}\n"
     ]
    }
   ],
   "source": [
    "result = vqe_inst.vqe_run(small_ansatz, hamiltonian1, angle, None, qvm=qvm, return_all=True)\n",
    "print(result)"
   ]
  },
  {
   "cell_type": "code",
   "execution_count": 70,
   "metadata": {},
   "outputs": [],
   "source": [
    "#hasil=vqe_inst.expectation(small_ansatz([angle]), hamiltonian, 10000, qvmre\n"
   ]
  },
  {
   "cell_type": "code",
   "execution_count": null,
   "metadata": {},
   "outputs": [],
   "source": []
  },
  {
   "cell_type": "code",
   "execution_count": null,
   "metadata": {},
   "outputs": [],
   "source": []
  },
  {
   "cell_type": "code",
   "execution_count": 12,
   "metadata": {},
   "outputs": [],
   "source": [
    "from openfermion.ops import QubitOperator\n",
    "from forestopenfermion import pyquilpauli_to_qubitop, qubitop_to_pyquilpauli"
   ]
  },
  {
   "cell_type": "code",
   "execution_count": 13,
   "metadata": {},
   "outputs": [
    {
     "name": "stdout",
     "output_type": "stream",
     "text": [
      "(1+0j)*X0*Y1*Z2\n",
      "(8+0j)*X1*Z3*Y5 + (1.5+0j)*Z2*Y4\n"
     ]
    }
   ],
   "source": [
    "qubit_op = QubitOperator('X0 Y1 Z2')\n",
    "pauli_term = qubitop_to_pyquilpauli(qubit_op)\n",
    "print(pauli_term)\n",
    "\n",
    "qubit_op_sum = QubitOperator('X1 Y5 Z3', coefficient=8) + QubitOperator('Y4 Z2', coefficient=1.5)\n",
    "pauli_term_sum = qubitop_to_pyquilpauli(qubit_op_sum)\n",
    "print(pauli_term_sum)"
   ]
  },
  {
   "cell_type": "code",
   "execution_count": 17,
   "metadata": {},
   "outputs": [
    {
     "name": "stdout",
     "output_type": "stream",
     "text": [
      "(-0.0988639693354571+0j)*I + (0.17119774903432944+0j)*Z0 + (0.17119774903432947+0j)*Z1 + (-0.22278593040418496+0j)*Z2 + (-0.22278593040418496+0j)*Z3 + (0.16862219158920938+0j)*Z0*Z1 + (0.120544822053018+0j)*Z0*Z2 + (0.165867024105892+0j)*Z0*Z3 + (0.165867024105892+0j)*Z1*Z2 + (0.120544822053018+0j)*Z1*Z3 + (0.17434844185575687+0j)*Z2*Z3 + (-0.045322202052874+0j)*X0*X1*Y2*Y3 + (0.045322202052874+0j)*X0*Y1*Y2*X3 + (0.045322202052874+0j)*Y0*X1*X2*Y3 + (-0.045322202052874+0j)*Y0*Y1*X2*X3\n"
     ]
    }
   ],
   "source": [
    "a=qubitop_to_pyquilpauli(qubit_operator)\n",
    "print(a)"
   ]
  },
  {
   "cell_type": "code",
   "execution_count": 18,
   "metadata": {},
   "outputs": [
    {
     "name": "stdout",
     "output_type": "stream",
     "text": [
      "True\n",
      "True\n"
     ]
    }
   ],
   "source": [
    "reversed_term = pyquilpauli_to_qubitop(pauli_term)\n",
    "print(reversed_term.isclose(qubit_op))  # should return True\n",
    "reversed_sum = pyquilpauli_to_qubitop(pauli_term_sum)\n",
    "print(reversed_sum.isclose(qubit_op_sum))"
   ]
  },
  {
   "cell_type": "code",
   "execution_count": 106,
   "metadata": {},
   "outputs": [
    {
     "name": "stdout",
     "output_type": "stream",
     "text": [
      "[-0.05       -0.04795918 -0.04591837 -0.04387755 -0.04183673 -0.03979592\n",
      " -0.0377551  -0.03571429 -0.03367347 -0.03163265 -0.02959184 -0.02755102\n",
      " -0.0255102  -0.02346939 -0.02142857 -0.01938776 -0.01734694 -0.01530612\n",
      " -0.01326531 -0.01122449 -0.00918367 -0.00714286 -0.00510204 -0.00306122\n",
      " -0.00102041  0.00102041  0.00306122  0.00510204  0.00714286  0.00918367\n",
      "  0.01122449  0.01326531  0.01530612  0.01734694  0.01938776  0.02142857\n",
      "  0.02346939  0.0255102   0.02755102  0.02959184  0.03163265  0.03367347\n",
      "  0.03571429  0.0377551   0.03979592  0.04183673  0.04387755  0.04591837\n",
      "  0.04795918  0.05      ]\n"
     ]
    }
   ],
   "source": [
    "x = np.linspace(-0.05, 0.05)\n",
    "y = np.linspace(-0.03, 0.03)\n",
    "xg, yg = np.meshgrid(x, y)\n"
   ]
  },
  {
   "cell_type": "code",
   "execution_count": null,
   "metadata": {},
   "outputs": [],
   "source": []
  },
  {
   "cell_type": "code",
   "execution_count": null,
   "metadata": {},
   "outputs": [],
   "source": []
  },
  {
   "cell_type": "code",
   "execution_count": null,
   "metadata": {},
   "outputs": [],
   "source": []
  }
 ],
 "metadata": {
  "kernelspec": {
   "display_name": "Python 3",
   "language": "python",
   "name": "python3"
  },
  "language_info": {
   "codemirror_mode": {
    "name": "ipython",
    "version": 3
   },
   "file_extension": ".py",
   "mimetype": "text/x-python",
   "name": "python",
   "nbconvert_exporter": "python",
   "pygments_lexer": "ipython3",
   "version": "3.6.8"
  }
 },
 "nbformat": 4,
 "nbformat_minor": 4
}
