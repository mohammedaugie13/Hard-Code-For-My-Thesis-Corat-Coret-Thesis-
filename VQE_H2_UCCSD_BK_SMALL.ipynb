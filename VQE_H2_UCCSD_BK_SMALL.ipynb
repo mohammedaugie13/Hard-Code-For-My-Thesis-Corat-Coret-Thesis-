{
 "cells": [
  {
   "cell_type": "code",
   "execution_count": 1,
   "metadata": {},
   "outputs": [],
   "source": [
    "from pyquil.quil import Program\n",
    "import pyquil.api as api\n",
    "from pyquil.gates import *\n",
    "qvm = api.QVMConnection()\n",
    "from pyquil.api import get_qc\n"
   ]
  },
  {
   "cell_type": "code",
   "execution_count": 2,
   "metadata": {},
   "outputs": [],
   "source": [
    "def small_ansatz(x):\n",
    "    return Program(X(0),RX(1.57,0),H(2),CNOT(0,2),RZ(x[0],2),CNOT(0,2),RX(-1.57,0),H(2),)"
   ]
  },
  {
   "cell_type": "code",
   "execution_count": 3,
   "metadata": {},
   "outputs": [
    {
     "name": "stdout",
     "output_type": "stream",
     "text": [
      "X 0\n",
      "RX(1.57) 0\n",
      "H 2\n",
      "CNOT 0 2\n",
      "RZ(1) 2\n",
      "CNOT 0 2\n",
      "RX(-1.57) 0\n",
      "H 2\n",
      "\n"
     ]
    }
   ],
   "source": [
    "print(small_ansatz([1]))"
   ]
  },
  {
   "cell_type": "code",
   "execution_count": 4,
   "metadata": {},
   "outputs": [],
   "source": [
    "import numpy as np\n",
    "from openfermion.transforms import get_sparse_operator\n",
    "from openfermion.utils import pauli_exp_to_qasm\n",
    "from openfermion.ops import QubitOperator\n",
    "from openfermion.transforms import get_fermion_operator, jordan_wigner, bravyi_kitaev\n",
    "from pyscf import ci\n",
    "from pyscf import mp\n",
    "from openfermionpyscf import run_pyscf\n",
    "from openfermion.hamiltonians import MolecularData\n",
    "import os\n",
    "\n",
    "from numpy import array, concatenate, zeros\n",
    "from numpy.random import randn\n",
    "from scipy.optimize import minimize\n",
    "\n",
    "from openfermion.config import *\n",
    "\n",
    "from openfermion.hamiltonians import MolecularData\n",
    "from openfermion.transforms import jordan_wigner\n",
    "from openfermion.utils import uccsd_singlet_paramsize"
   ]
  },
  {
   "cell_type": "code",
   "execution_count": 5,
   "metadata": {},
   "outputs": [
    {
     "name": "stdout",
     "output_type": "stream",
     "text": [
      "-1.1372703406409188\n"
     ]
    }
   ],
   "source": [
    "geometry = [[\"H\", [0, 0, 0]],\n",
    "            [\"H\", [0, 0, 0.7414]]]\n",
    "basis = \"sto-3g\"\n",
    "multiplicity = 1\n",
    "charge = 0\n",
    "molecule = MolecularData(geometry, basis, multiplicity, charge)\n",
    "h2_molecule = run_pyscf(molecule, run_mp2=True, run_cisd=True, run_ccsd=True, run_fci=True)\n",
    "print(molecule.ccsd_energy)"
   ]
  },
  {
   "cell_type": "code",
   "execution_count": 6,
   "metadata": {},
   "outputs": [
    {
     "name": "stdout",
     "output_type": "stream",
     "text": [
      "(-0.09886396933545721+0j)*I + (0.17119774903432944+0j)*Z0 + (0.17119774903432936+0j)*Z0*Z1 + (-0.22278593040418498+0j)*Z2 + (-0.22278593040418496+0j)*Z1*Z2*Z3 + (0.16862219158920938+0j)*Z1 + (0.04532220205287401+0j)*Y0*Z1*Y2*Z3 + (0.04532220205287401+0j)*X0*Z1*X2 + (0.04532220205287401+0j)*X0*Z1*X2*Z3 + (0.04532220205287401+0j)*Y0*Z1*Y2 + (0.120544822053018+0j)*Z0*Z2 + (0.165867024105892+0j)*Z0*Z1*Z2*Z3 + (0.165867024105892+0j)*Z0*Z1*Z2 + (0.120544822053018+0j)*Z0*Z2*Z3 + (0.17434844185575687+0j)*Z1*Z3\n"
     ]
    }
   ],
   "source": [
    "import openfermionpyscf as ofpyscf\n",
    "from openfermion.ops import QubitOperator\n",
    "from forestopenfermion import pyquilpauli_to_qubitop, qubitop_to_pyquilpauli\n",
    "hamiltonian = ofpyscf.generate_molecular_hamiltonian(\n",
    "    geometry, basis, multiplicity, charge)\n",
    "qubit_operator=bravyi_kitaev(get_fermion_operator(hamiltonian))\n",
    "hamiltonian1=qubitop_to_pyquilpauli(qubit_operator)\n",
    "#print(qubit_operator)\n",
    "print(hamiltonian1)"
   ]
  },
  {
   "cell_type": "code",
   "execution_count": 102,
   "metadata": {},
   "outputs": [],
   "source": [
    "from grove.pyvqe.vqe import VQE\n",
    "from scipy.optimize import minimize\n",
    "import numpy as np\n",
    "\n",
    "vqe_inst = VQE(minimizer=minimize,minimizer_kwargs={'method': 'nelder-mead'})\n"
   ]
  },
  {
   "cell_type": "code",
   "execution_count": 2,
   "metadata": {},
   "outputs": [
    {
     "ename": "NameError",
     "evalue": "name 'array' is not defined",
     "output_type": "error",
     "traceback": [
      "\u001b[0;31m---------------------------------------------------------------------------\u001b[0m",
      "\u001b[0;31mNameError\u001b[0m                                 Traceback (most recent call last)",
      "\u001b[0;32m<ipython-input-2-411b84d381ff>\u001b[0m in \u001b[0;36m<module>\u001b[0;34m\u001b[0m\n\u001b[0;32m----> 1\u001b[0;31m \u001b[0mo\u001b[0m\u001b[0;34m=\u001b[0m \u001b[0;34m[\u001b[0m\u001b[0marray\u001b[0m\u001b[0;34m(\u001b[0m\u001b[0;34m[\u001b[0m\u001b[0;36m0.00075\u001b[0m\u001b[0;34m]\u001b[0m\u001b[0;34m)\u001b[0m\u001b[0;34m,\u001b[0m \u001b[0marray\u001b[0m\u001b[0;34m(\u001b[0m\u001b[0;34m[\u001b[0m\u001b[0;36m0.00175\u001b[0m\u001b[0;34m]\u001b[0m\u001b[0;34m)\u001b[0m\u001b[0;34m,\u001b[0m \u001b[0marray\u001b[0m\u001b[0;34m(\u001b[0m\u001b[0;34m[\u001b[0m\u001b[0;36m0.00375\u001b[0m\u001b[0;34m]\u001b[0m\u001b[0;34m)\u001b[0m\u001b[0;34m,\u001b[0m \u001b[0marray\u001b[0m\u001b[0;34m(\u001b[0m\u001b[0;34m[\u001b[0m\u001b[0;36m0.00775\u001b[0m\u001b[0;34m]\u001b[0m\u001b[0;34m)\u001b[0m\u001b[0;34m,\u001b[0m \u001b[0marray\u001b[0m\u001b[0;34m(\u001b[0m\u001b[0;34m[\u001b[0m\u001b[0;36m0.01575\u001b[0m\u001b[0;34m]\u001b[0m\u001b[0;34m)\u001b[0m\u001b[0;34m,\u001b[0m \u001b[0marray\u001b[0m\u001b[0;34m(\u001b[0m\u001b[0;34m[\u001b[0m\u001b[0;36m0.03175\u001b[0m\u001b[0;34m]\u001b[0m\u001b[0;34m)\u001b[0m\u001b[0;34m,\u001b[0m \u001b[0marray\u001b[0m\u001b[0;34m(\u001b[0m\u001b[0;34m[\u001b[0m\u001b[0;36m0.06375\u001b[0m\u001b[0;34m]\u001b[0m\u001b[0;34m)\u001b[0m\u001b[0;34m,\u001b[0m \u001b[0marray\u001b[0m\u001b[0;34m(\u001b[0m\u001b[0;34m[\u001b[0m\u001b[0;36m0.12775\u001b[0m\u001b[0;34m]\u001b[0m\u001b[0;34m)\u001b[0m\u001b[0;34m,\u001b[0m \u001b[0marray\u001b[0m\u001b[0;34m(\u001b[0m\u001b[0;34m[\u001b[0m\u001b[0;36m0.25575\u001b[0m\u001b[0;34m]\u001b[0m\u001b[0;34m)\u001b[0m\u001b[0;34m,\u001b[0m \u001b[0marray\u001b[0m\u001b[0;34m(\u001b[0m\u001b[0;34m[\u001b[0m\u001b[0;36m0.25575\u001b[0m\u001b[0;34m]\u001b[0m\u001b[0;34m)\u001b[0m\u001b[0;34m,\u001b[0m \u001b[0marray\u001b[0m\u001b[0;34m(\u001b[0m\u001b[0;34m[\u001b[0m\u001b[0;36m0.22375\u001b[0m\u001b[0;34m]\u001b[0m\u001b[0;34m)\u001b[0m\u001b[0;34m,\u001b[0m \u001b[0marray\u001b[0m\u001b[0;34m(\u001b[0m\u001b[0;34m[\u001b[0m\u001b[0;36m0.22375\u001b[0m\u001b[0;34m]\u001b[0m\u001b[0;34m)\u001b[0m\u001b[0;34m,\u001b[0m \u001b[0marray\u001b[0m\u001b[0;34m(\u001b[0m\u001b[0;34m[\u001b[0m\u001b[0;36m0.22375\u001b[0m\u001b[0;34m]\u001b[0m\u001b[0;34m)\u001b[0m\u001b[0;34m,\u001b[0m \u001b[0marray\u001b[0m\u001b[0;34m(\u001b[0m\u001b[0;34m[\u001b[0m\u001b[0;36m0.22775\u001b[0m\u001b[0;34m]\u001b[0m\u001b[0;34m)\u001b[0m\u001b[0;34m,\u001b[0m \u001b[0marray\u001b[0m\u001b[0;34m(\u001b[0m\u001b[0;34m[\u001b[0m\u001b[0;36m0.22575\u001b[0m\u001b[0;34m]\u001b[0m\u001b[0;34m)\u001b[0m\u001b[0;34m,\u001b[0m \u001b[0marray\u001b[0m\u001b[0;34m(\u001b[0m\u001b[0;34m[\u001b[0m\u001b[0;36m0.22575\u001b[0m\u001b[0;34m]\u001b[0m\u001b[0;34m)\u001b[0m\u001b[0;34m,\u001b[0m \u001b[0marray\u001b[0m\u001b[0;34m(\u001b[0m\u001b[0;34m[\u001b[0m\u001b[0;36m0.22625\u001b[0m\u001b[0;34m]\u001b[0m\u001b[0;34m)\u001b[0m\u001b[0;34m,\u001b[0m \u001b[0marray\u001b[0m\u001b[0;34m(\u001b[0m\u001b[0;34m[\u001b[0m\u001b[0;36m0.22625\u001b[0m\u001b[0;34m]\u001b[0m\u001b[0;34m)\u001b[0m\u001b[0;34m,\u001b[0m \u001b[0marray\u001b[0m\u001b[0;34m(\u001b[0m\u001b[0;34m[\u001b[0m\u001b[0;36m0.226125\u001b[0m\u001b[0;34m]\u001b[0m\u001b[0;34m)\u001b[0m\u001b[0;34m,\u001b[0m \u001b[0marray\u001b[0m\u001b[0;34m(\u001b[0m\u001b[0;34m[\u001b[0m\u001b[0;36m0.226125\u001b[0m\u001b[0;34m]\u001b[0m\u001b[0;34m)\u001b[0m\u001b[0;34m]\u001b[0m\u001b[0;34m\u001b[0m\u001b[0;34m\u001b[0m\u001b[0m\n\u001b[0m",
      "\u001b[0;31mNameError\u001b[0m: name 'array' is not defined"
     ]
    }
   ],
   "source": [
    "o= [array([0.00075]), array([0.00175]), array([0.00375]), array([0.00775]), array([0.01575]), array([0.03175]), array([0.06375]), array([0.12775]), array([0.25575]), array([0.25575]), array([0.22375]), array([0.22375]), array([0.22375]), array([0.22775]), array([0.22575]), array([0.22575]), array([0.22625]), array([0.22625]), array([0.226125]), array([0.226125])]"
   ]
  },
  {
   "cell_type": "code",
   "execution_count": 175,
   "metadata": {},
   "outputs": [
    {
     "name": "stdout",
     "output_type": "stream",
     "text": [
      "(20, 1)\n"
     ]
    }
   ],
   "source": [
    "p=np.array(o)\n",
    "print(p.shape)"
   ]
  },
  {
   "cell_type": "code",
   "execution_count": 114,
   "metadata": {},
   "outputs": [],
   "source": [
    "v=[-1.1168201320197901, -1.1170004356622518, -1.1173586779171958, -1.1180656973083372, -1.1194418362877858, -1.122042211031527, -1.126633085971527, -1.1333599823132, -1.136915641532299, -1.1367921853353464, -1.1372678562076481, -1.137195231891083, -1.137257417208499, -1.1372691051172328, -1.137270097768333, -1.1372700057193117, -1.137270152812978, -1.1372701505579457, -1.1372701580022844, -1.137270156986837]"
   ]
  },
  {
   "cell_type": "code",
   "execution_count": null,
   "metadata": {},
   "outputs": [],
   "source": []
  },
  {
   "cell_type": "code",
   "execution_count": 103,
   "metadata": {},
   "outputs": [],
   "source": [
    "angle=[0]"
   ]
  },
  {
   "cell_type": "code",
   "execution_count": 111,
   "metadata": {},
   "outputs": [
    {
     "name": "stdout",
     "output_type": "stream",
     "text": [
      "WARNING: Fast method for expectation will be used. Noise\n",
      "                     models will be ineffective\n",
      "\tParameters: [0.00075] \n",
      "\tE => -1.1168201320197901\n",
      "\tParameters: [0.00175] \n",
      "\tE => -1.1170004356622518\n",
      "\tParameters: [0.00375] \n",
      "\tE => -1.1173586779171958\n",
      "\tParameters: [0.00775] \n",
      "\tE => -1.1180656973083372\n",
      "\tParameters: [0.01575] \n",
      "\tE => -1.1194418362877858\n",
      "\tParameters: [0.03175] \n",
      "\tE => -1.122042211031527\n",
      "\tParameters: [0.06375] \n",
      "\tE => -1.126633085971527\n",
      "\tParameters: [0.12775] \n",
      "\tE => -1.1333599823132\n",
      "\tParameters: [0.25575] \n",
      "\tE => -1.136915641532299\n",
      "\tParameters: [0.25575] \n",
      "\tE => -1.1367921853353464\n",
      "\tParameters: [0.22375] \n",
      "\tE => -1.1372678562076481\n",
      "\tParameters: [0.22375] \n",
      "\tE => -1.137195231891083\n",
      "\tParameters: [0.22375] \n",
      "\tE => -1.137257417208499\n",
      "\tParameters: [0.22775] \n",
      "\tE => -1.1372691051172328\n",
      "\tParameters: [0.22575] \n",
      "\tE => -1.137270097768333\n",
      "\tParameters: [0.22575] \n",
      "\tE => -1.1372700057193117\n",
      "\tParameters: [0.22625] \n",
      "\tE => -1.137270152812978\n",
      "\tParameters: [0.22625] \n",
      "\tE => -1.1372701505579457\n",
      "\tParameters: [0.226125] \n",
      "\tE => -1.1372701580022844\n",
      "\tParameters: [0.226125] \n",
      "\tE => -1.137270156986837\n",
      "{'x': array([0.226125]), 'fun': -1.1372701580022844, 'iteration_params': [array([0.00075]), array([0.00175]), array([0.00375]), array([0.00775]), array([0.01575]), array([0.03175]), array([0.06375]), array([0.12775]), array([0.25575]), array([0.25575]), array([0.22375]), array([0.22375]), array([0.22375]), array([0.22775]), array([0.22575]), array([0.22575]), array([0.22625]), array([0.22625]), array([0.226125]), array([0.226125])], 'expectation_vals': [-1.1168201320197901, -1.1170004356622518, -1.1173586779171958, -1.1180656973083372, -1.1194418362877858, -1.122042211031527, -1.126633085971527, -1.1333599823132, -1.136915641532299, -1.1367921853353464, -1.1372678562076481, -1.137195231891083, -1.137257417208499, -1.1372691051172328, -1.137270097768333, -1.1372700057193117, -1.137270152812978, -1.1372701505579457, -1.1372701580022844, -1.137270156986837]}\n"
     ]
    }
   ],
   "source": [
    "x = vqe_inst.vqe_run(small_ansatz, hamiltonian1, angle, None, qvm=qvm,disp=print,return_all=True)\n",
    "print(x)"
   ]
  },
  {
   "cell_type": "code",
   "execution_count": 153,
   "metadata": {},
   "outputs": [
    {
     "name": "stdout",
     "output_type": "stream",
     "text": [
      "[-1.1157587416675268, -1.1175899333849484, -1.1193406367497627, -1.121010673138515, -1.1225998721581647, -1.1241080716634715, -1.1255351177735367, -1.1268808648875062, -1.1281451756994243, -1.1293279212122422, -1.1304289807509842, -1.1314482419750527, -1.1323856008896984, -1.1332409618566235, -1.1340142376037443, -1.1347053492340937, -1.1353142262338722, -1.1358408064796413, -1.1362850362446615, -1.1366468702043744, -1.1369262714410302, -1.137123211447449, -1.1372376701299334, -1.137269635810316, -1.1372191052271552, -1.1370860835360608, -1.1368705843091755, -1.1365726295337857, -1.1361922496100796, -1.1357294833480445, -1.1351843779635078, -1.134556989073321, -1.1338473806896807, -1.1330556252136037, -1.1321818034275344, -1.1312260044871056, -1.1301883259120415, -1.1290688735762062, -1.127867761696805, -1.1265851128227267, -1.125221057822043, -1.1237757358686549, -1.1222492944280933, -1.1206418892424719, -1.1189536843145982, -1.1171848518912413, -1.1153355724455543, -1.1134060346586652, -1.1113964354004195, -1.109306979709303, -1.1071378807715115]\n",
      "[-0.00505051  0.00505051  0.01515152  0.02525253  0.03535354  0.04545455\n",
      "  0.05555556  0.06565657  0.07575758  0.08585859  0.0959596   0.10606061\n",
      "  0.11616162  0.12626263  0.13636364  0.14646465  0.15656566  0.16666667\n",
      "  0.17676768  0.18686869  0.1969697   0.20707071  0.21717172  0.22727273\n",
      "  0.23737374  0.24747475  0.25757576  0.26767677  0.27777778  0.28787879\n",
      "  0.2979798   0.30808081  0.31818182  0.32828283  0.33838384  0.34848485\n",
      "  0.35858586  0.36868687  0.37878788  0.38888889  0.3989899   0.40909091\n",
      "  0.41919192  0.42929293  0.43939394  0.44949495  0.45959596  0.46969697\n",
      "  0.47979798  0.48989899  0.5       ]\n"
     ]
    }
   ],
   "source": [
    "import numpy as np\n",
    "\n",
    "thetas = np.linspace(-0.5,0.5,100)\n",
    "\n",
    "E = [vqe_inst.expectation(small_ansatz([param]),hamiltonian1, None ,qvm) for param in thetas]\n",
    "        \n",
    "print(E[49:])        \n",
    "print(thetas[49:])"
   ]
  },
  {
   "cell_type": "code",
   "execution_count": 87,
   "metadata": {},
   "outputs": [
    {
     "name": "stdout",
     "output_type": "stream",
     "text": [
      "-1.13726963580781\n"
     ]
    }
   ],
   "source": [
    "a=vqe_inst.expectation(small_ansatz([0.22727273]),hamiltonian1, None ,qvm)\n",
    "print(a)"
   ]
  },
  {
   "cell_type": "code",
   "execution_count": 136,
   "metadata": {},
   "outputs": [
    {
     "data": {
      "text/plain": [
       "<matplotlib.collections.PathCollection at 0x7f175dbc6eb8>"
      ]
     },
     "execution_count": 136,
     "metadata": {},
     "output_type": "execute_result"
    },
    {
     "data": {
      "text/plain": [
       "<Figure size 1440x1440 with 0 Axes>"
      ]
     },
     "metadata": {},
     "output_type": "display_data"
    },
    {
     "data": {
      "image/png": "[encoded data removed]",
      "text/plain": [
       "<Figure size 432x288 with 1 Axes>"
      ]
     },
     "metadata": {
      "needs_background": "light"
     },
     "output_type": "display_data"
    }
   ],
   "source": [
    "param=[0.18128875,0.2265978,0.2265978]\n",
    "hasil=[-1.1166843897867527,-1.1364571773466592,-1.1372700718909914]\n",
    "\n",
    "import matplotlib.pyplot as plt\n",
    "plt.figure(figsize=(20,20))\n",
    "plt.figure()\n",
    "plt.grid()\n",
    "plt.plot(thetas,E)\n",
    "plt.plot(o,v,'g--*')\n",
    "plt.scatter(0.2265978,-1.1372700718909914,color='lightgreen',marker='X')"
   ]
  },
  {
   "cell_type": "code",
   "execution_count": 165,
   "metadata": {},
   "outputs": [
    {
     "data": {
      "text/plain": [
       "Text(0,0.5,'E')"
      ]
     },
     "execution_count": 165,
     "metadata": {},
     "output_type": "execute_result"
    },
    {
     "data": {
      "image/png": "[encoded data removed]",
      "text/plain": [
       "<Figure size 432x288 with 2 Axes>"
      ]
     },
     "metadata": {
      "needs_background": "light"
     },
     "output_type": "display_data"
    }
   ],
   "source": [
    "fig, ax = plt.subplots()\n",
    "ax.plot(thetas, E,'c')\n",
    "ax.plot(o, v,'g--*')\n",
    "ax.grid()\n",
    "from mpl_toolkits.axes_grid1.inset_locator import zoomed_inset_axes\n",
    "axins = zoomed_inset_axes(ax, 2.5, loc=1) \n",
    "axins.plot(o, v,'g--*')\n",
    "axins.plot(thetas[49:80],E[49:80],'c')\n",
    "axins.grid()\n",
    "ax.set_xlabel('Theta')\n",
    "ax.set_ylabel('E')\n",
    "axins.set_xlabel('Theta')\n",
    "axins.set_ylabel('E')"
   ]
  },
  {
   "cell_type": "code",
   "execution_count": 177,
   "metadata": {},
   "outputs": [],
   "source": [
    "vqe_inst1 = VQE(minimizer=minimize,minimizer_kwargs={'method': 'Powell'})"
   ]
  },
  {
   "cell_type": "code",
   "execution_count": 178,
   "metadata": {},
   "outputs": [
    {
     "name": "stdout",
     "output_type": "stream",
     "text": [
      "WARNING: Fast method for expectation will be used. Noise\n",
      "                     models will be ineffective\n",
      "\tParameters: [0.22603239] \n",
      "\tE => -1.137267898588231\n",
      "\tParameters: [0.22613614] \n",
      "\tE => -1.1372701580525986\n",
      "{'x': array(0.22613614), 'fun': array(-1.13727016), 'iteration_params': [array([0.22603239]), array([0.22613614])], 'expectation_vals': [-1.137267898588231, -1.1372701580525986]}\n"
     ]
    }
   ],
   "source": [
    "result_powell = vqe_inst1.vqe_run(small_ansatz, hamiltonian1, angle, None, qvm=qvm,disp=print,return_all=True)\n",
    "print(result_powell)"
   ]
  },
  {
   "cell_type": "code",
   "execution_count": 179,
   "metadata": {},
   "outputs": [],
   "source": [
    "thetas = np.linspace(-0.5,0.5,100)\n",
    "\n",
    "E_powell = [vqe_inst1.expectation(small_ansatz([param]),hamiltonian1, None ,qvm) for param in thetas]\n"
   ]
  },
  {
   "cell_type": "code",
   "execution_count": 181,
   "metadata": {},
   "outputs": [],
   "source": [
    "param=[array([0.22603239]), array([0.22613614])]\n",
    "hasil= [-1.137267898588231, -1.1372701580525986]"
   ]
  },
  {
   "cell_type": "code",
   "execution_count": 195,
   "metadata": {},
   "outputs": [
    {
     "data": {
      "text/plain": [
       "Text(0,0.5,'E')"
      ]
     },
     "execution_count": 195,
     "metadata": {},
     "output_type": "execute_result"
    },
    {
     "data": {
      "image/png": "[encoded data removed]",
      "text/plain": [
       "<Figure size 432x288 with 2 Axes>"
      ]
     },
     "metadata": {
      "needs_background": "light"
     },
     "output_type": "display_data"
    }
   ],
   "source": [
    "fig, ax = plt.subplots()\n",
    "ax.plot(thetas, E_powell,'c')\n",
    "ax.plot(param, hasil,'g--*')\n",
    "ax.grid()\n",
    "from mpl_toolkits.axes_grid1.inset_locator import zoomed_inset_axes\n",
    "axins = zoomed_inset_axes(ax, 2.5, loc=1) \n",
    "axins.plot(param, hasil,'g--*')\n",
    "axins.plot(thetas[49:80],E_powell[49:80],'c')\n",
    "axins.grid()\n",
    "ax.set_xlabel('Theta')\n",
    "ax.set_ylabel('E')\n",
    "axins.set_xlabel('Theta')\n",
    "axins.set_ylabel('E')"
   ]
  },
  {
   "cell_type": "code",
   "execution_count": 192,
   "metadata": {},
   "outputs": [],
   "source": [
    "vqe_inst2 = VQE(minimizer=minimize,minimizer_kwargs={'method': 'SLSQP'})"
   ]
  },
  {
   "cell_type": "code",
   "execution_count": 193,
   "metadata": {},
   "outputs": [
    {
     "name": "stdout",
     "output_type": "stream",
     "text": [
      "WARNING: Fast method for expectation will be used. Noise\n",
      "                     models will be ineffective\n",
      "\tParameters: [0.18128875] \n",
      "\tE => -1.1166843897867527\n",
      "\tParameters: [0.2265978] \n",
      "\tE => -1.1364571773466592\n",
      "\tParameters: [0.2265978] \n",
      "\tE => -1.1372700718909914\n",
      "{'x': array([0.2265978]), 'fun': -1.1372700718965538, 'iteration_params': [array([0.2265978]), array([0.2265978]), array([0.2265978])], 'expectation_vals': [-1.1166843897867527, -1.1364571773466592, -1.1372700718909914]}\n"
     ]
    }
   ],
   "source": [
    "result_slsqp = vqe_inst2.vqe_run(small_ansatz, hamiltonian1, angle, None, qvm=qvm,disp=print,return_all=True)\n",
    "print(result_slsqp)"
   ]
  },
  {
   "cell_type": "code",
   "execution_count": 198,
   "metadata": {},
   "outputs": [],
   "source": [
    "thetas = np.linspace(-0.5,0.5,100)\n",
    "\n",
    "E_slqp = [vqe_inst1.expectation(small_ansatz([param]),hamiltonian1, None ,qvm) for param in thetas]"
   ]
  },
  {
   "cell_type": "code",
   "execution_count": 199,
   "metadata": {},
   "outputs": [],
   "source": [
    "param1=[array([0.2265978]), array([0.2265978]), array([0.2265978])]\n",
    "hasil1=[-1.1166843897867527, -1.1364571773466592, -1.1372700718909914]"
   ]
  },
  {
   "cell_type": "code",
   "execution_count": 201,
   "metadata": {},
   "outputs": [
    {
     "data": {
      "text/plain": [
       "Text(0,0.5,'E')"
      ]
     },
     "execution_count": 201,
     "metadata": {},
     "output_type": "execute_result"
    },
    {
     "data": {
      "image/png": "[encoded data removed]",
      "text/plain": [
       "<Figure size 432x288 with 2 Axes>"
      ]
     },
     "metadata": {
      "needs_background": "light"
     },
     "output_type": "display_data"
    }
   ],
   "source": [
    "fig, ax = plt.subplots()\n",
    "ax.plot(thetas, E_slqp,'c')\n",
    "ax.plot(param1, hasil1,'g--*')\n",
    "ax.grid()\n",
    "from mpl_toolkits.axes_grid1.inset_locator import zoomed_inset_axes\n",
    "axins = zoomed_inset_axes(ax, 2.5, loc=1) \n",
    "axins.plot(param1, hasil1,'g--*')\n",
    "axins.plot(thetas[49:80],E_slqp[49:80],'c')\n",
    "axins.grid()\n",
    "ax.set_xlabel('Theta')\n",
    "ax.set_ylabel('E')\n",
    "axins.set_xlabel('Theta')\n",
    "axins.set_ylabel('E')"
   ]
  },
  {
   "cell_type": "code",
   "execution_count": null,
   "metadata": {},
   "outputs": [],
   "source": []
  }
 ],
 "metadata": {
  "kernelspec": {
   "display_name": "Python 3",
   "language": "python",
   "name": "python3"
  },
  "language_info": {
   "codemirror_mode": {
    "name": "ipython",
    "version": 3
   },
   "file_extension": ".py",
   "mimetype": "text/x-python",
   "name": "python",
   "nbconvert_exporter": "python",
   "pygments_lexer": "ipython3",
   "version": "3.6.8"
  }
 },
 "nbformat": 4,
 "nbformat_minor": 4
}
