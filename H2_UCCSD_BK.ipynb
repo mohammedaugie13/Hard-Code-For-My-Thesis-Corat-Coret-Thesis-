{
 "cells": [
  {
   "cell_type": "code",
   "execution_count": 1,
   "metadata": {},
   "outputs": [],
   "source": [
    "import numpy as np\n",
    "from openfermion.transforms import get_sparse_operator\n",
    "from openfermion.utils import pauli_exp_to_qasm\n",
    "from openfermion.ops import QubitOperator\n",
    "from openfermion.transforms import get_fermion_operator, jordan_wigner, bravyi_kitaev\n",
    "from pyscf import ci\n",
    "from pyscf import mp\n",
    "from openfermionpyscf import run_pyscf\n",
    "from openfermion.hamiltonians import MolecularData\n",
    "import os\n",
    "\n",
    "from numpy import array, concatenate, zeros\n",
    "from numpy.random import randn\n",
    "from scipy.optimize import minimize\n",
    "\n",
    "from openfermion.config import *\n",
    "\n",
    "from openfermion.hamiltonians import MolecularData\n",
    "from openfermion.transforms import jordan_wigner\n",
    "from openfermion.utils import uccsd_singlet_paramsize"
   ]
  },
  {
   "cell_type": "code",
   "execution_count": 2,
   "metadata": {},
   "outputs": [],
   "source": [
    "geometry = [[\"H\", [0, 0, 0]],\n",
    "            [\"H\", [0, 0, 0.7414]]]\n",
    "basis = \"sto-3g\"\n",
    "multiplicity = 1\n",
    "charge = 0\n",
    "molecule = MolecularData(geometry, basis, multiplicity, charge)\n",
    "h2_molecule = run_pyscf(molecule, run_mp2=True, run_cisd=True, run_ccsd=True, run_fci=True)"
   ]
  },
  {
   "cell_type": "code",
   "execution_count": 3,
   "metadata": {},
   "outputs": [],
   "source": [
    "orbitals = h2_molecule.n_orbitals\n",
    "qubit= h2_molecule.n_qubits\n",
    "elektron=h2_molecule.n_electrons"
   ]
  },
  {
   "cell_type": "code",
   "execution_count": 4,
   "metadata": {},
   "outputs": [
    {
     "name": "stdout",
     "output_type": "stream",
     "text": [
      "-0.05677 [0^ 2 1^ 3] +\n",
      "-0.05677 [1^ 3 0^ 2] +\n",
      "0.05677 [2^ 0 3^ 1] +\n",
      "0.05677 [3^ 1 2^ 0]\n"
     ]
    }
   ],
   "source": [
    "from openfermion.utils import uccsd_singlet_generator, uccsd_generator\n",
    "initial_amplitudes = np.linspace(0,0.05677,2)\n",
    "uccsd_fermion=uccsd_singlet_generator(initial_amplitudes,qubit,elektron)\n",
    "#b=uccsd_generator(initial_amplitudes,qubit,elektron)\n",
    "print(uccsd_fermion)"
   ]
  },
  {
   "cell_type": "code",
   "execution_count": 5,
   "metadata": {},
   "outputs": [
    {
     "name": "stdout",
     "output_type": "stream",
     "text": [
      "-0.0141925j [X0 Z1 Y2] +\n",
      "-0.0141925j [X0 Z1 Y2 Z3] +\n",
      "-0.0141925j [X0 Y2] +\n",
      "-0.0141925j [X0 Y2 Z3] +\n",
      "0.0141925j [Y0 Z1 X2] +\n",
      "0.0141925j [Y0 Z1 X2 Z3] +\n",
      "0.0141925j [Y0 X2] +\n",
      "0.0141925j [Y0 X2 Z3]\n"
     ]
    }
   ],
   "source": [
    "uccsd_bk=bravyi_kitaev(uccsd_fermion)\n",
    "print(uccsd_bk)"
   ]
  },
  {
   "cell_type": "code",
   "execution_count": 6,
   "metadata": {},
   "outputs": [],
   "source": [
    "import openfermion as of\n",
    "import cirq\n",
    "import openfermioncirq as ofc\n",
    "import numpy as np\n",
    "class MyAnsatz(ofc.VariationalAnsatz):\n",
    "    def params(self):\n",
    "        '''Parameter of the ansatz'''\n",
    "        return [cirq.Symbol('theta_0'),cirq.Symbol('theta_1')]\n",
    "    def operations(self, qubits):\n",
    "        '''Ansatz Prosedur'''\n",
    "        q0, q1, q2, q3 = qubits\n",
    "        yield cirq.H(q0)\n",
    "        yield cirq.XPowGate(exponent=1.5707963267948966).on(q2)\n",
    "        yield cirq.CNOT(q0,q1),cirq.CNOT(q1,q2)\n",
    "        yield cirq.ZPowGate(exponent=cirq.Symbol('theta_0')).on(q2)\n",
    "        yield cirq.CNOT(q1,q2),cirq.CNOT(q0,q1)\n",
    "        yield cirq.H(q0)\n",
    "        yield cirq.XPowGate(exponent=-1.5707963267948966).on(q2)\n",
    "         \n",
    "        yield cirq.H(q0)\n",
    "        yield cirq.XPowGate(exponent=1.5707963267948966).on(q2)\n",
    "        yield cirq.CNOT(q0,q1),cirq.CNOT(q1,q2),cirq.CNOT(q2,q3)\n",
    "        yield cirq.ZPowGate(exponent=cirq.Symbol('theta_0')).on(q3)\n",
    "        yield cirq.CNOT(q2,q3),cirq.CNOT(q1,q2),cirq.CNOT(q0,q1)\n",
    "        yield cirq.H(q0)\n",
    "        yield cirq.XPowGate(exponent=-1.5707963267948966).on(q2)\n",
    "        \n",
    "        yield cirq.H(q0)\n",
    "        yield cirq.XPowGate(exponent=1.5707963267948966).on(q2)\n",
    "        yield cirq.CNOT(q0,q2)\n",
    "        yield cirq.ZPowGate(exponent=cirq.Symbol('theta_0')).on(q2)\n",
    "        yield cirq.CNOT(q0,q2)\n",
    "        yield cirq.H(q0)\n",
    "        yield cirq.XPowGate(exponent=-1.5707963267948966).on(q2)\n",
    "        \n",
    "        yield cirq.H(q0)\n",
    "        yield cirq.XPowGate(exponent=1.5707963267948966).on(q2)\n",
    "        yield cirq.CNOT(q0,q2),cirq.CNOT(q2,q3)\n",
    "        yield cirq.ZPowGate(exponent=cirq.Symbol('theta_0')).on(q3)\n",
    "        yield cirq.CNOT(q2,q3),cirq.CNOT(q0,q2)\n",
    "        yield cirq.H(q0)\n",
    "        yield cirq.XPowGate(exponent=-1.5707963267948966).on(q2)\n",
    "        \n",
    "        \n",
    "        yield cirq.XPowGate(exponent=1.5707963267948966).on(q0)\n",
    "        yield cirq.H(q2)\n",
    "        yield cirq.CNOT(q0,q1),cirq.CNOT(q1,q2)\n",
    "        yield cirq.ZPowGate(exponent=cirq.Symbol('theta_1')).on(q2)\n",
    "        yield cirq.CNOT(q1,q2),cirq.CNOT(q0,q1)\n",
    "        yield cirq.XPowGate(exponent=-1.5707963267948966).on(q0)\n",
    "        yield cirq.H(q2)\n",
    "        \n",
    "        yield cirq.XPowGate(exponent=1.5707963267948966).on(q0)\n",
    "        yield cirq.H(q2)\n",
    "        yield cirq.CNOT(q0,q1),cirq.CNOT(q1,q2),cirq.CNOT(q2,q3)\n",
    "        yield cirq.ZPowGate(exponent=cirq.Symbol('theta_1')).on(q3)\n",
    "        yield cirq.CNOT(q2,q3),cirq.CNOT(q1,q2),cirq.CNOT(q0,q1)\n",
    "        yield cirq.XPowGate(exponent=-1.5707963267948966).on(q0)\n",
    "        yield cirq.H(q2)\n",
    "        \n",
    "        yield cirq.XPowGate(exponent=1.5707963267948966).on(q0)\n",
    "        yield cirq.H(q2)\n",
    "        yield cirq.CNOT(q0,q2)\n",
    "        yield cirq.ZPowGate(exponent=cirq.Symbol('theta_1')).on(q2)\n",
    "        yield cirq.CNOT(q0,q2)\n",
    "        yield cirq.XPowGate(exponent=-1.5707963267948966).on(q0)\n",
    "        yield cirq.H(q2)\n",
    "        \n",
    "        yield cirq.XPowGate(exponent=1.5707963267948966).on(q0)\n",
    "        yield cirq.H(q2)\n",
    "        yield cirq.CNOT(q0,q2),cirq.CNOT(q2,q3)\n",
    "        yield cirq.ZPowGate(exponent=cirq.Symbol('theta_1')).on(q3)\n",
    "        yield cirq.CNOT(q2,q3),cirq.CNOT(q0,q2)\n",
    "        yield cirq.XPowGate(exponent=-1.5707963267948966).on(q0)\n",
    "        yield cirq.H(q2)\n",
    "        \n",
    "        \n",
    "    def _generate_qubits(set):\n",
    "        return cirq.LineQubit.range(4)\n",
    "        "
   ]
  },
  {
   "cell_type": "code",
   "execution_count": 7,
   "metadata": {},
   "outputs": [
    {
     "name": "stdout",
     "output_type": "stream",
     "text": [
      "0: ───H──────────@───────────────────────@─────────H──────────H───@───────────────────────────────@─────────H──────────H───@───────────────@───H─────────H──────────@───────────────────────@───H─────────X^(-3/7)───@───────────────────────@───X^(3/7)───X^(-3/7)───@───────────────────────────────@───X^(3/7)───X^(-3/7)───@───────────────@───X^(3/7)───X^(-3/7)───@───────────────────────@───X^(3/7)───\n",
      "                 │                       │                        │                               │                        │               │                        │                       │                        │                       │                        │                               │                        │               │                        │                       │\n",
      "1: ──────────────X───@───────────────@───X────────────────────────X───@───────────────────────@───X────────────────────────┼───────────────┼────────────────────────┼───────────────────────┼────────────────────────X───@───────────────@───X────────────────────────X───@───────────────────────@───X────────────────────────┼───────────────┼────────────────────────┼───────────────────────┼─────────────\n",
      "                     │               │                                │                       │                            │               │                        │                       │                            │               │                                │                       │                            │               │                        │                       │\n",
      "2: ───X^(-3/7)───────X───Z^theta_0───X───X^(3/7)───X^(-3/7)───────────X───@───────────────@───X───X^(3/7)───X^(-3/7)───────X───Z^theta_0───X───X^(3/7)───X^(-3/7)───X───@───────────────@───X───X^(3/7)───H──────────────X───Z^theta_1───X───H───H────────────────────────X───@───────────────@───X───H───H────────────────────X───Z^theta_1───X───H─────────H──────────X───@───────────────@───X───H─────────\n",
      "                                                                          │               │                                                                             │               │                                                                                     │               │                                                                             │               │\n",
      "3: ───────────────────────────────────────────────────────────────────────X───Z^theta_0───X─────────────────────────────────────────────────────────────────────────────X───Z^theta_0───X─────────────────────────────────────────────────────────────────────────────────────X───Z^theta_1───X─────────────────────────────────────────────────────────────────────────────X───Z^theta_1───X─────────────────\n"
     ]
    }
   ],
   "source": [
    "ansatz=MyAnsatz()\n",
    "print(ansatz.circuit)"
   ]
  },
  {
   "cell_type": "code",
   "execution_count": 8,
   "metadata": {},
   "outputs": [],
   "source": [
    "import openfermionpyscf as ofpyscf\n",
    "from openfermion.transforms import get_fermion_operator, jordan_wigner, bravyi_kitaev\n",
    "geometry = [('H', (0.0, 0.0, 0.0)), ('H', (0.0, 0.0, 0.7414))]\n",
    "basis = 'sto-3g'\n",
    "multiplicity = 1\n",
    "charge = 0\n",
    "\n",
    "# Perform electronic structure calculations and\n",
    "# obtain Hamiltonian as an InteractionOperator\n",
    "hamiltonian = ofpyscf.generate_molecular_hamiltonian(\n",
    "    geometry, basis, multiplicity, charge)\n",
    "hamiltonian_bk=bravyi_kitaev(get_fermion_operator(hamiltonian))"
   ]
  },
  {
   "cell_type": "code",
   "execution_count": 9,
   "metadata": {},
   "outputs": [
    {
     "name": "stdout",
     "output_type": "stream",
     "text": [
      "2\n",
      "[0. 0.]\n"
     ]
    }
   ],
   "source": [
    "objective = ofc.HamiltonianObjective(hamiltonian_bk)\n",
    "\n",
    "\n",
    "q0, q1, _, _ = ansatz.qubits\n",
    "reference_circuit = cirq.Circuit.from_ops(cirq.X(q0), cirq.X(q1))\n",
    "\n",
    "\n",
    "study = ofc.VariationalStudy(\n",
    "    name='my_hydrogen_study',\n",
    "    ansatz=ansatz,\n",
    "    objective=objective,\n",
    "    preparation_circuit=reference_circuit)\n",
    "\n",
    "print(study.num_params)\n",
    "print(ansatz.default_initial_params())"
   ]
  },
  {
   "cell_type": "code",
   "execution_count": 10,
   "metadata": {},
   "outputs": [
    {
     "name": "stdout",
     "output_type": "stream",
     "text": [
      "Optimization terminated successfully.\n",
      "         Current function value: -0.351190\n",
      "         Iterations: 5\n",
      "         Function evaluations: 13\n",
      "Nilai optimum: -0.3511901986746766\n",
      "parameter optimasinya:\n",
      "[ 0.00025  -0.000125]\n"
     ]
    }
   ],
   "source": [
    "algorithm = ofc.optimization.ScipyOptimizationAlgorithm(\n",
    "    kwargs={'method': 'nelder-mead'},\n",
    "    options={'maxiter': 100,'disp':True})\n",
    "\n",
    "\n",
    "optimization_params = ofc.optimization.OptimizationParams(\n",
    "    algorithm=algorithm,\n",
    "    initial_guess=ansatz.default_initial_params())\n",
    "\n",
    "\n",
    "result = study.optimize(optimization_params)\n",
    "print('Nilai optimum: {}'.format(result.optimal_value))\n",
    "print(\"parameter optimasinya:\")\n",
    "print(result.optimal_parameters)"
   ]
  },
  {
   "cell_type": "code",
   "execution_count": 12,
   "metadata": {},
   "outputs": [
    {
     "name": "stdout",
     "output_type": "stream",
     "text": [
      "Optimization terminated successfully.    (Exit mode 0)\n",
      "            Current function value: -0.35119019867467627\n",
      "            Iterations: 1\n",
      "            Function evaluations: 4\n",
      "            Gradient evaluations: 1\n",
      "Nilai optimum: -0.35119019867467627\n",
      "parameter optimasinya:\n",
      "[0. 0.]\n"
     ]
    }
   ],
   "source": [
    "algorithm = ofc.optimization.ScipyOptimizationAlgorithm(\n",
    "    kwargs={'method': 'SLSQP'},\n",
    "    options={'maxiter': 100,'disp':True})\n",
    "\n",
    "\n",
    "optimization_params = ofc.optimization.OptimizationParams(\n",
    "    algorithm=algorithm,\n",
    "    initial_guess=ansatz.default_initial_params())\n",
    "\n",
    "\n",
    "result = study.optimize(optimization_params)\n",
    "print('Nilai optimum: {}'.format(result.optimal_value))\n",
    "print(\"parameter optimasinya:\")\n",
    "print(result.optimal_parameters)"
   ]
  },
  {
   "cell_type": "code",
   "execution_count": 13,
   "metadata": {},
   "outputs": [
    {
     "name": "stdout",
     "output_type": "stream",
     "text": [
      "Optimization terminated successfully.\n",
      "         Current function value: -0.351190\n",
      "         Iterations: 1\n",
      "         Function evaluations: 26\n",
      "Nilai optimum: -0.35119019867467677\n",
      "parameter optimasinya:\n",
      "[3.02903489 0.47213597]\n"
     ]
    }
   ],
   "source": [
    "algorithm = ofc.optimization.ScipyOptimizationAlgorithm(\n",
    "    kwargs={'method': 'powell'},\n",
    "    options={'maxiter': 100,'disp':True})\n",
    "\n",
    "\n",
    "optimization_params = ofc.optimization.OptimizationParams(\n",
    "    algorithm=algorithm,\n",
    "    initial_guess=ansatz.default_initial_params())\n",
    "\n",
    "\n",
    "result = study.optimize(optimization_params)\n",
    "print('Nilai optimum: {}'.format(result.optimal_value))\n",
    "print(\"parameter optimasinya:\")\n",
    "print(result.optimal_parameters)"
   ]
  },
  {
   "cell_type": "code",
   "execution_count": null,
   "metadata": {},
   "outputs": [],
   "source": []
  },
  {
   "cell_type": "code",
   "execution_count": null,
   "metadata": {},
   "outputs": [],
   "source": []
  },
  {
   "cell_type": "code",
   "execution_count": null,
   "metadata": {},
   "outputs": [],
   "source": []
  }
 ],
 "metadata": {
  "kernelspec": {
   "display_name": "Python 3",
   "language": "python",
   "name": "python3"
  },
  "language_info": {
   "codemirror_mode": {
    "name": "ipython",
    "version": 3
   },
   "file_extension": ".py",
   "mimetype": "text/x-python",
   "name": "python",
   "nbconvert_exporter": "python",
   "pygments_lexer": "ipython3",
   "version": "3.6.8"
  }
 },
 "nbformat": 4,
 "nbformat_minor": 4
}
