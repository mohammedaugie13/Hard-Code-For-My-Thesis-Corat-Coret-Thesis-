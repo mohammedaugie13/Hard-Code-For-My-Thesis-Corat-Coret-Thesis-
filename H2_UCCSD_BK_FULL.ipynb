{
 "cells": [
  {
   "cell_type": "code",
   "execution_count": 2,
   "metadata": {},
   "outputs": [],
   "source": [
    "import openfermionpyscf as ofpyscf\n",
    "import openfermion as of\n",
    "import cirq\n",
    "import openfermioncirq as ofc\n",
    "import numpy as np\n",
    "import pyscf"
   ]
  },
  {
   "cell_type": "code",
   "execution_count": 3,
   "metadata": {},
   "outputs": [],
   "source": [
    "from openfermion.transforms import get_fermion_operator, jordan_wigner, bravyi_kitaev\n",
    "geometry = [[\"H\", [0, 0, 0]],\n",
    "            [\"H\", [0, 0, 0.7414]]]\n",
    "basis = \"sto-3g\"\n",
    "multiplicity = 1\n",
    "charge = 0\n",
    "hamiltonian = ofpyscf.generate_molecular_hamiltonian(geometry, basis, multiplicity, charge)\n",
    "hamiltonian_bk=bravyi_kitaev(get_fermion_operator(hamiltonian))"
   ]
  },
  {
   "cell_type": "code",
   "execution_count": 4,
   "metadata": {},
   "outputs": [],
   "source": [
    "from openfermion.hamiltonians import MolecularData\n",
    "molecule = MolecularData(geometry, basis, multiplicity, charge)\n",
    "h2_molecule = ofpyscf.run_pyscf(molecule, run_mp2=True, run_cisd=True, run_ccsd=True, run_fci=True)\n",
    "elektron=h2_molecule.n_electrons\n",
    "orbitals = h2_molecule.n_orbitals\n",
    "qubit= h2_molecule.n_qubits"
   ]
  },
  {
   "cell_type": "code",
   "execution_count": 5,
   "metadata": {},
   "outputs": [
    {
     "name": "stdout",
     "output_type": "stream",
     "text": [
      "-0.05677 [0^ 2 1^ 3] +\n",
      "-0.05677 [1^ 3 0^ 2] +\n",
      "0.05677 [2^ 0 3^ 1] +\n",
      "0.05677 [3^ 1 2^ 0]\n"
     ]
    }
   ],
   "source": [
    "from openfermion.utils import uccsd_singlet_generator\n",
    "initial_amplitudes = np.linspace(0,0.05677,2)\n",
    "#membuat ansatz UCCSD\n",
    "uccsd_fermion=uccsd_singlet_generator(initial_amplitudes,qubit,elektron)\n",
    "print(uccsd_fermion)"
   ]
  },
  {
   "cell_type": "code",
   "execution_count": 6,
   "metadata": {},
   "outputs": [
    {
     "name": "stdout",
     "output_type": "stream",
     "text": [
      "-0.0141925j [X0 Z1 Y2] +\n",
      "-0.0141925j [X0 Z1 Y2 Z3] +\n",
      "-0.0141925j [X0 Y2] +\n",
      "-0.0141925j [X0 Y2 Z3] +\n",
      "0.0141925j [Y0 Z1 X2] +\n",
      "0.0141925j [Y0 Z1 X2 Z3] +\n",
      "0.0141925j [Y0 X2] +\n",
      "0.0141925j [Y0 X2 Z3]\n"
     ]
    }
   ],
   "source": [
    "# ansatz dirubah dari fermion operator menjadi qubit operator\n",
    "uccsd_bk=bravyi_kitaev(uccsd_fermion)\n",
    "print(uccsd_bk)"
   ]
  },
  {
   "cell_type": "code",
   "execution_count": 7,
   "metadata": {},
   "outputs": [],
   "source": [
    "class Ansatz(ofc.VariationalAnsatz):\n",
    "    def params(self):\n",
    "        '''Parameter of the ansatz'''\n",
    "        return [cirq.Symbol('theta_0'),cirq.Symbol('theta_1')]\n",
    "    def operations(self, qubits):\n",
    "        '''Ansatz Prosedur'''\n",
    "        q0, q1, q2, q3 = qubits\n",
    "        yield cirq.H(q0)\n",
    "        yield cirq.XPowGate(exponent=1.5707963267948966).on(q2)\n",
    "        yield cirq.CNOT(q0,q1),cirq.CNOT(q1,q2)\n",
    "        yield cirq.ZPowGate(exponent=cirq.Symbol('theta_0')).on(q2)\n",
    "        yield cirq.CNOT(q1,q2),cirq.CNOT(q0,q1)\n",
    "        yield cirq.H(q0)\n",
    "        yield cirq.XPowGate(exponent=-1.5707963267948966).on(q2)\n",
    "         \n",
    "        yield cirq.H(q0)\n",
    "        yield cirq.XPowGate(exponent=1.5707963267948966).on(q2)\n",
    "        yield cirq.CNOT(q0,q1),cirq.CNOT(q1,q2),cirq.CNOT(q2,q3)\n",
    "        yield cirq.ZPowGate(exponent=cirq.Symbol('theta_0')).on(q3)\n",
    "        yield cirq.CNOT(q2,q3),cirq.CNOT(q1,q2),cirq.CNOT(q0,q1)\n",
    "        yield cirq.H(q0)\n",
    "        yield cirq.XPowGate(exponent=-1.5707963267948966).on(q2)\n",
    "        \n",
    "        yield cirq.H(q0)\n",
    "        yield cirq.XPowGate(exponent=1.5707963267948966).on(q2)\n",
    "        yield cirq.CNOT(q0,q2)\n",
    "        yield cirq.ZPowGate(exponent=cirq.Symbol('theta_0')).on(q2)\n",
    "        yield cirq.CNOT(q0,q2)\n",
    "        yield cirq.H(q0)\n",
    "        yield cirq.XPowGate(exponent=-1.5707963267948966).on(q2)\n",
    "        \n",
    "        yield cirq.H(q0)\n",
    "        yield cirq.XPowGate(exponent=1.5707963267948966).on(q2)\n",
    "        yield cirq.CNOT(q0,q2),cirq.CNOT(q2,q3)\n",
    "        yield cirq.ZPowGate(exponent=cirq.Symbol('theta_0')).on(q3)\n",
    "        yield cirq.CNOT(q2,q3),cirq.CNOT(q0,q2)\n",
    "        yield cirq.H(q0)\n",
    "        yield cirq.XPowGate(exponent=-1.5707963267948966).on(q2)\n",
    "        \n",
    "        \n",
    "        yield cirq.XPowGate(exponent=1.5707963267948966).on(q0)\n",
    "        yield cirq.H(q2)\n",
    "        yield cirq.CNOT(q0,q1),cirq.CNOT(q1,q2)\n",
    "        yield cirq.ZPowGate(exponent=cirq.Symbol('theta_1')).on(q2)\n",
    "        yield cirq.CNOT(q1,q2),cirq.CNOT(q0,q1)\n",
    "        yield cirq.XPowGate(exponent=-1.5707963267948966).on(q0)\n",
    "        yield cirq.H(q2)\n",
    "        \n",
    "        yield cirq.XPowGate(exponent=1.5707963267948966).on(q0)\n",
    "        yield cirq.H(q2)\n",
    "        yield cirq.CNOT(q0,q1),cirq.CNOT(q1,q2),cirq.CNOT(q2,q3)\n",
    "        yield cirq.ZPowGate(exponent=cirq.Symbol('theta_1')).on(q3)\n",
    "        yield cirq.CNOT(q2,q3),cirq.CNOT(q1,q2),cirq.CNOT(q0,q1)\n",
    "        yield cirq.XPowGate(exponent=-1.5707963267948966).on(q0)\n",
    "        yield cirq.H(q2)\n",
    "        \n",
    "        yield cirq.XPowGate(exponent=1.5707963267948966).on(q0)\n",
    "        yield cirq.H(q2)\n",
    "        yield cirq.CNOT(q0,q2)\n",
    "        yield cirq.ZPowGate(exponent=cirq.Symbol('theta_1')).on(q2)\n",
    "        yield cirq.CNOT(q0,q2)\n",
    "        yield cirq.XPowGate(exponent=-1.5707963267948966).on(q0)\n",
    "        yield cirq.H(q2)\n",
    "        \n",
    "        yield cirq.XPowGate(exponent=1.5707963267948966).on(q0)\n",
    "        yield cirq.H(q2)\n",
    "        yield cirq.CNOT(q0,q2),cirq.CNOT(q2,q3)\n",
    "        yield cirq.ZPowGate(exponent=cirq.Symbol('theta_1')).on(q3)\n",
    "        yield cirq.CNOT(q2,q3),cirq.CNOT(q0,q2)\n",
    "        yield cirq.XPowGate(exponent=-1.5707963267948966).on(q0)\n",
    "        yield cirq.H(q2)\n",
    "        \n",
    "        \n",
    "    def _generate_qubits(set):\n",
    "        return cirq.LineQubit.range(4)"
   ]
  },
  {
   "cell_type": "code",
   "execution_count": 8,
   "metadata": {},
   "outputs": [
    {
     "name": "stdout",
     "output_type": "stream",
     "text": [
      "0: ───H──────────@───────────────────────@─────────H──────────H───@───────────────────────────────@─────────H──────────H───@───────────────@───H─────────H──────────@───────────────────────@───H─────────X^(-3/7)───@───────────────────────@───X^(3/7)───X^(-3/7)───@───────────────────────────────@───X^(3/7)───X^(-3/7)───@───────────────@───X^(3/7)───X^(-3/7)───@───────────────────────@───X^(3/7)───\n",
      "                 │                       │                        │                               │                        │               │                        │                       │                        │                       │                        │                               │                        │               │                        │                       │\n",
      "1: ──────────────X───@───────────────@───X────────────────────────X───@───────────────────────@───X────────────────────────┼───────────────┼────────────────────────┼───────────────────────┼────────────────────────X───@───────────────@───X────────────────────────X───@───────────────────────@───X────────────────────────┼───────────────┼────────────────────────┼───────────────────────┼─────────────\n",
      "                     │               │                                │                       │                            │               │                        │                       │                            │               │                                │                       │                            │               │                        │                       │\n",
      "2: ───X^(-3/7)───────X───Z^theta_0───X───X^(3/7)───X^(-3/7)───────────X───@───────────────@───X───X^(3/7)───X^(-3/7)───────X───Z^theta_0───X───X^(3/7)───X^(-3/7)───X───@───────────────@───X───X^(3/7)───H──────────────X───Z^theta_1───X───H───H────────────────────────X───@───────────────@───X───H───H────────────────────X───Z^theta_1───X───H─────────H──────────X───@───────────────@───X───H─────────\n",
      "                                                                          │               │                                                                             │               │                                                                                     │               │                                                                             │               │\n",
      "3: ───────────────────────────────────────────────────────────────────────X───Z^theta_0───X─────────────────────────────────────────────────────────────────────────────X───Z^theta_0───X─────────────────────────────────────────────────────────────────────────────────────X───Z^theta_1───X─────────────────────────────────────────────────────────────────────────────X───Z^theta_1───X─────────────────\n"
     ]
    }
   ],
   "source": [
    "FungsiCoba=Ansatz()\n",
    "print(FungsiCoba.circuit)"
   ]
  },
  {
   "cell_type": "code",
   "execution_count": 9,
   "metadata": {},
   "outputs": [],
   "source": [
    "#mendeklarasikan Hamiltonan yang akan ditinjau\n",
    "objektif = ofc.HamiltonianObjective(hamiltonian_bk)\n",
    "\n",
    "#membuat keadaan referensi\n",
    "q0, _, _, _ = FungsiCoba.qubits\n",
    "keadaan_refensi = cirq.Circuit.from_ops(cirq.X(q0))\n",
    "\n",
    "\n",
    "study = ofc.VariationalStudy(\n",
    "    name='VQE BK Hidrogen',\n",
    "    ansatz=FungsiCoba,\n",
    "    objective=objektif,\n",
    "    preparation_circuit=keadaan_refensi)\n"
   ]
  },
  {
   "cell_type": "code",
   "execution_count": 10,
   "metadata": {},
   "outputs": [
    {
     "name": "stdout",
     "output_type": "stream",
     "text": [
      "Optimization terminated successfully.\n",
      "         Current function value: -1.136586\n",
      "         Iterations: 32\n",
      "         Function evaluations: 60\n",
      "Nilai optimum: -1.136586132512037\n",
      "parameter optimasinya:\n",
      "[ 0.00946125 -0.00836228]\n"
     ]
    }
   ],
   "source": [
    "#optimasi\n",
    "algoritma = ofc.optimization.ScipyOptimizationAlgorithm(\n",
    "    kwargs={'method': 'nelder-mead'},\n",
    "    options={'maxiter': 100,'disp':True})\n",
    "\n",
    "\n",
    "optimization_params = ofc.optimization.OptimizationParams(\n",
    "    algorithm=algoritma,\n",
    "    initial_guess=FungsiCoba.default_initial_params())\n",
    "\n",
    "\n",
    "result = study.optimize(optimization_params)\n",
    "print('Nilai optimum: {}'.format(result.optimal_value))\n",
    "print(\"parameter optimasinya:\")\n",
    "print(result.optimal_parameters)\n"
   ]
  },
  {
   "cell_type": "code",
   "execution_count": null,
   "metadata": {},
   "outputs": [],
   "source": []
  },
  {
   "cell_type": "code",
   "execution_count": 45,
   "metadata": {},
   "outputs": [],
   "source": [
    "hasil=[]\n",
    "xx=np.linspace(-0.0003,0.0003,10)\n",
    "yy=np.linspace(-0.0003,0.0003,10)\n",
    "for x in xx:\n",
    "    for y in yy:\n",
    "        param=[x,y]\n",
    "        hasil+=[study.value_of(param)]\n",
    "\n"
   ]
  },
  {
   "cell_type": "code",
   "execution_count": 46,
   "metadata": {},
   "outputs": [],
   "source": [
    "z=np.array(hasil).reshape(10,10)"
   ]
  },
  {
   "cell_type": "code",
   "execution_count": 29,
   "metadata": {},
   "outputs": [
    {
     "name": "stdout",
     "output_type": "stream",
     "text": [
      "[[-0.3511902 -0.3511902 -0.3511902 ... -0.3511902 -0.3511902 -0.3511902]\n",
      " [-0.3511902 -0.3511902 -0.3511902 ... -0.3511902 -0.3511902 -0.3511902]\n",
      " [-0.3511902 -0.3511902 -0.3511902 ... -0.3511902 -0.3511902 -0.3511902]\n",
      " ...\n",
      " [-0.3511902 -0.3511902 -0.3511902 ... -0.3511902 -0.3511902 -0.3511902]\n",
      " [-0.3511902 -0.3511902 -0.3511902 ... -0.3511902 -0.3511902 -0.3511902]\n",
      " [-0.3511902 -0.3511902 -0.3511902 ... -0.3511902 -0.3511902 -0.3511902]]\n"
     ]
    }
   ],
   "source": [
    "t=z.transpose()\n",
    "print(t)"
   ]
  },
  {
   "cell_type": "code",
   "execution_count": 43,
   "metadata": {},
   "outputs": [
    {
     "data": {
      "text/plain": [
       "<matplotlib.colorbar.Colorbar at 0x7fa7eb577630>"
      ]
     },
     "execution_count": 43,
     "metadata": {},
     "output_type": "execute_result"
    },
    {
     "data": {
      "image/png": "[encoded data removed]",
      "text/plain": [
       "<Figure size 720x720 with 2 Axes>"
      ]
     },
     "metadata": {
      "needs_background": "light"
     },
     "output_type": "display_data"
    }
   ],
   "source": [
    "import matplotlib.pyplot as plt\n",
    "plt.figure(figsize=(10,10))\n",
    "#plt.imshow(t,cmap='Oranges',extent=[-0.0003,0.0003,-0.0003,0.0003])\n",
    "#plt.colorbar()\n",
    "plt.pcolor(xx, yy, t)\n",
    "plt.colorbar()\n",
    "#plt.scatter(0.00025 , -0.000125,marker='^',color='b')\n",
    "#plt.grid()\n",
    "#plt.xlabel(\"Theta_1\")\n",
    "#plt.ylabel(\"Theta_2\")"
   ]
  },
  {
   "cell_type": "code",
   "execution_count": null,
   "metadata": {},
   "outputs": [],
   "source": [
    "import matplotlib.pyplot as plt\n",
    "plt.figure()\n",
    "plt.imshow(t,cmap='Oranges', extent=[-1,1, -1,1])\n",
    "plt.colorbar()\n",
    "plt.scatter(0.00025 , -0.000125)\n",
    "plt.xlabel(\"Theta_1\")\n",
    "plt.ylabel(\"Theta_2\")"
   ]
  },
  {
   "cell_type": "code",
   "execution_count": null,
   "metadata": {},
   "outputs": [],
   "source": [
    "print(h2_molecule.ccsd_energy)"
   ]
  },
  {
   "cell_type": "code",
   "execution_count": null,
   "metadata": {},
   "outputs": [],
   "source": [
    "z=ofc.optimization.OptimizationResult(result.optimal_value,result.optimal_parameters)\n",
    "print(z)"
   ]
  },
  {
   "cell_type": "code",
   "execution_count": null,
   "metadata": {},
   "outputs": [],
   "source": [
    "print(z.num_evaluations)"
   ]
  },
  {
   "cell_type": "code",
   "execution_count": null,
   "metadata": {},
   "outputs": [],
   "source": [
    "x=ofc.optimization.OptimizationTrialResult(result.optimal_value,result.optimal_parameters)"
   ]
  },
  {
   "cell_type": "code",
   "execution_count": null,
   "metadata": {},
   "outputs": [],
   "source": []
  }
 ],
 "metadata": {
  "kernelspec": {
   "display_name": "Python 3",
   "language": "python",
   "name": "python3"
  },
  "language_info": {
   "codemirror_mode": {
    "name": "ipython",
    "version": 3
   },
   "file_extension": ".py",
   "mimetype": "text/x-python",
   "name": "python",
   "nbconvert_exporter": "python",
   "pygments_lexer": "ipython3",
   "version": "3.6.8"
  }
 },
 "nbformat": 4,
 "nbformat_minor": 4
}
