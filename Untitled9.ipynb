{
 "cells": [
  {
   "cell_type": "code",
   "execution_count": 1,
   "metadata": {},
   "outputs": [],
   "source": [
    "from pyquil.quil import Program\n",
    "import pyquil.api as api\n",
    "from pyquil.gates import *\n",
    "qvm = api.QVMConnection()\n",
    "from pyquil.api import get_qc\n"
   ]
  },
  {
   "cell_type": "code",
   "execution_count": 2,
   "metadata": {},
   "outputs": [],
   "source": [
    "from pyquil import Program, get_qc\n",
    "from pyquil.gates import *"
   ]
  },
  {
   "cell_type": "code",
   "execution_count": 4,
   "metadata": {},
   "outputs": [],
   "source": [
    "qc = get_qc(\"9q-square-qvm\")"
   ]
  },
  {
   "cell_type": "code",
   "execution_count": 17,
   "metadata": {},
   "outputs": [
    {
     "name": "stdout",
     "output_type": "stream",
     "text": [
      "DECLARE theta REAL[1]\n",
      "DECLARE ro INTEGER[4]\n",
      "X 0\n",
      "RX(1.57) 0\n",
      "H 2\n",
      "CNOT 0 2\n",
      "RZ(theta) 2\n",
      "CNOT 0 2\n",
      "RX(-1.57) 0\n",
      "H 2\n",
      "MEASURE 1 ro[0]\n",
      "MEASURE 0 ro[0]\n",
      "\n"
     ]
    }
   ],
   "source": [
    "def ansatz():\n",
    "    program = Program()\n",
    "    theta = program.declare('theta', memory_type='REAL')\n",
    "    ro = program.declare('ro', memory_type='INTEGER', memory_size=4)\n",
    "    program += X(0)\n",
    "    program += RX(1.57,0)\n",
    "    program += H(2)\n",
    "    program += CNOT(0,2)\n",
    "    program += RZ(theta,2)\n",
    "    program += CNOT(0,2)\n",
    "    program += RX(-1.57,0)\n",
    "    program += H(2)\n",
    "    program += MEASURE(1, ro[0])\n",
    "    program += MEASURE(0, ro[0])\n",
    "    return program\n",
    "\n",
    "print(ansatz())"
   ]
  },
  {
   "cell_type": "code",
   "execution_count": 18,
   "metadata": {},
   "outputs": [
    {
     "data": {
      "image/png": "[encoded data removed]",
      "text/plain": [
       "<Figure size 432x288 with 1 Axes>"
      ]
     },
     "metadata": {
      "needs_background": "light"
     },
     "output_type": "display_data"
    }
   ],
   "source": [
    "import numpy as np\n",
    "program = ansatz()  # look ma, no arguments!\n",
    "program.wrap_in_numshots_loop(shots=1000)\n",
    "executable = qc.compile(program)\n",
    "\n",
    "thetas = np.linspace(0, 6, 21)\n",
    "results = []\n",
    "for theta in thetas:\n",
    "    bitstrings = qc.run(executable, memory_map={'theta': [theta]})\n",
    "    results.append(np.mean(bitstrings))\n",
    "\n",
    "%matplotlib inline\n",
    "from matplotlib import pyplot as plt\n",
    "\n",
    "plt.plot(thetas, results, 'o-')\n",
    "plt.xlabel(r'$\\theta$', fontsize=18)\n",
    "_ = plt.ylabel(r'$\\langle \\Psi(\\theta) | \\frac{1 - Z}{2} | \\Psi(\\theta) \\rangle$', fontsize=18)"
   ]
  },
  {
   "cell_type": "code",
   "execution_count": 13,
   "metadata": {},
   "outputs": [
    {
     "name": "stdout",
     "output_type": "stream",
     "text": [
      "[1.0, 0.985, 0.912, 0.822, 0.691, 0.57, 0.409, 0.23, 0.128, 0.048, 0.007, 0.005, 0.049, 0.147, 0.263, 0.403, 0.542, 0.687, 0.803, 0.936, 0.982]\n"
     ]
    }
   ],
   "source": [
    "print(results)"
   ]
  },
  {
   "cell_type": "code",
   "execution_count": 16,
   "metadata": {},
   "outputs": [
    {
     "name": "stdout",
     "output_type": "stream",
     "text": [
      "[0.  0.3 0.6 0.9 1.2 1.5 1.8 2.1 2.4 2.7 3.  3.3 3.6 3.9 4.2 4.5 4.8 5.1\n",
      " 5.4 5.7 6. ]\n"
     ]
    }
   ],
   "source": [
    "print(thetas)"
   ]
  },
  {
   "cell_type": "code",
   "execution_count": null,
   "metadata": {},
   "outputs": [],
   "source": []
  }
 ],
 "metadata": {
  "kernelspec": {
   "display_name": "Python 3",
   "language": "python",
   "name": "python3"
  },
  "language_info": {
   "codemirror_mode": {
    "name": "ipython",
    "version": 3
   },
   "file_extension": ".py",
   "mimetype": "text/x-python",
   "name": "python",
   "nbconvert_exporter": "python",
   "pygments_lexer": "ipython3",
   "version": "3.6.8"
  }
 },
 "nbformat": 4,
 "nbformat_minor": 4
}
